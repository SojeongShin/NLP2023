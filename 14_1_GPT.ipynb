{
  "nbformat": 4,
  "nbformat_minor": 0,
  "metadata": {
    "colab": {
      "provenance": [],
      "gpuType": "T4",
      "include_colab_link": true
    },
    "kernelspec": {
      "name": "python3",
      "display_name": "Python 3"
    },
    "language_info": {
      "name": "python"
    },
    "accelerator": "GPU",
    "widgets": {
      "application/vnd.jupyter.widget-state+json": {
        "b315206092764f13b606da6b1ae2dfad": {
          "model_module": "@jupyter-widgets/controls",
          "model_name": "HBoxModel",
          "model_module_version": "1.5.0",
          "state": {
            "_dom_classes": [],
            "_model_module": "@jupyter-widgets/controls",
            "_model_module_version": "1.5.0",
            "_model_name": "HBoxModel",
            "_view_count": null,
            "_view_module": "@jupyter-widgets/controls",
            "_view_module_version": "1.5.0",
            "_view_name": "HBoxView",
            "box_style": "",
            "children": [
              "IPY_MODEL_077212b6923947a3a7697519b770a1cf",
              "IPY_MODEL_77684bcbba9344cb9933b27d2dc477c5",
              "IPY_MODEL_f30e0faca658426ea13c2a59f72d10b2"
            ],
            "layout": "IPY_MODEL_5e0b8cb2163d48b78f5a21bc748e2351"
          }
        },
        "077212b6923947a3a7697519b770a1cf": {
          "model_module": "@jupyter-widgets/controls",
          "model_name": "HTMLModel",
          "model_module_version": "1.5.0",
          "state": {
            "_dom_classes": [],
            "_model_module": "@jupyter-widgets/controls",
            "_model_module_version": "1.5.0",
            "_model_name": "HTMLModel",
            "_view_count": null,
            "_view_module": "@jupyter-widgets/controls",
            "_view_module_version": "1.5.0",
            "_view_name": "HTMLView",
            "description": "",
            "description_tooltip": null,
            "layout": "IPY_MODEL_469c1d3453e94d3b8f53e8f5b833a461",
            "placeholder": "​",
            "style": "IPY_MODEL_6929c2d96e8b404b90bde5476058855a",
            "value": "config.json: 100%"
          }
        },
        "77684bcbba9344cb9933b27d2dc477c5": {
          "model_module": "@jupyter-widgets/controls",
          "model_name": "FloatProgressModel",
          "model_module_version": "1.5.0",
          "state": {
            "_dom_classes": [],
            "_model_module": "@jupyter-widgets/controls",
            "_model_module_version": "1.5.0",
            "_model_name": "FloatProgressModel",
            "_view_count": null,
            "_view_module": "@jupyter-widgets/controls",
            "_view_module_version": "1.5.0",
            "_view_name": "ProgressView",
            "bar_style": "success",
            "description": "",
            "description_tooltip": null,
            "layout": "IPY_MODEL_0968346354514f55b44afcdbf882d285",
            "max": 1000,
            "min": 0,
            "orientation": "horizontal",
            "style": "IPY_MODEL_d2434928d6d84cb4ad6ac7686bccc035",
            "value": 1000
          }
        },
        "f30e0faca658426ea13c2a59f72d10b2": {
          "model_module": "@jupyter-widgets/controls",
          "model_name": "HTMLModel",
          "model_module_version": "1.5.0",
          "state": {
            "_dom_classes": [],
            "_model_module": "@jupyter-widgets/controls",
            "_model_module_version": "1.5.0",
            "_model_name": "HTMLModel",
            "_view_count": null,
            "_view_module": "@jupyter-widgets/controls",
            "_view_module_version": "1.5.0",
            "_view_name": "HTMLView",
            "description": "",
            "description_tooltip": null,
            "layout": "IPY_MODEL_2deb267c677f4902a8ca2946a2f464b1",
            "placeholder": "​",
            "style": "IPY_MODEL_d4898ea6563e428c919b5c2a42ac42fb",
            "value": " 1.00k/1.00k [00:00&lt;00:00, 14.9kB/s]"
          }
        },
        "5e0b8cb2163d48b78f5a21bc748e2351": {
          "model_module": "@jupyter-widgets/base",
          "model_name": "LayoutModel",
          "model_module_version": "1.2.0",
          "state": {
            "_model_module": "@jupyter-widgets/base",
            "_model_module_version": "1.2.0",
            "_model_name": "LayoutModel",
            "_view_count": null,
            "_view_module": "@jupyter-widgets/base",
            "_view_module_version": "1.2.0",
            "_view_name": "LayoutView",
            "align_content": null,
            "align_items": null,
            "align_self": null,
            "border": null,
            "bottom": null,
            "display": null,
            "flex": null,
            "flex_flow": null,
            "grid_area": null,
            "grid_auto_columns": null,
            "grid_auto_flow": null,
            "grid_auto_rows": null,
            "grid_column": null,
            "grid_gap": null,
            "grid_row": null,
            "grid_template_areas": null,
            "grid_template_columns": null,
            "grid_template_rows": null,
            "height": null,
            "justify_content": null,
            "justify_items": null,
            "left": null,
            "margin": null,
            "max_height": null,
            "max_width": null,
            "min_height": null,
            "min_width": null,
            "object_fit": null,
            "object_position": null,
            "order": null,
            "overflow": null,
            "overflow_x": null,
            "overflow_y": null,
            "padding": null,
            "right": null,
            "top": null,
            "visibility": null,
            "width": null
          }
        },
        "469c1d3453e94d3b8f53e8f5b833a461": {
          "model_module": "@jupyter-widgets/base",
          "model_name": "LayoutModel",
          "model_module_version": "1.2.0",
          "state": {
            "_model_module": "@jupyter-widgets/base",
            "_model_module_version": "1.2.0",
            "_model_name": "LayoutModel",
            "_view_count": null,
            "_view_module": "@jupyter-widgets/base",
            "_view_module_version": "1.2.0",
            "_view_name": "LayoutView",
            "align_content": null,
            "align_items": null,
            "align_self": null,
            "border": null,
            "bottom": null,
            "display": null,
            "flex": null,
            "flex_flow": null,
            "grid_area": null,
            "grid_auto_columns": null,
            "grid_auto_flow": null,
            "grid_auto_rows": null,
            "grid_column": null,
            "grid_gap": null,
            "grid_row": null,
            "grid_template_areas": null,
            "grid_template_columns": null,
            "grid_template_rows": null,
            "height": null,
            "justify_content": null,
            "justify_items": null,
            "left": null,
            "margin": null,
            "max_height": null,
            "max_width": null,
            "min_height": null,
            "min_width": null,
            "object_fit": null,
            "object_position": null,
            "order": null,
            "overflow": null,
            "overflow_x": null,
            "overflow_y": null,
            "padding": null,
            "right": null,
            "top": null,
            "visibility": null,
            "width": null
          }
        },
        "6929c2d96e8b404b90bde5476058855a": {
          "model_module": "@jupyter-widgets/controls",
          "model_name": "DescriptionStyleModel",
          "model_module_version": "1.5.0",
          "state": {
            "_model_module": "@jupyter-widgets/controls",
            "_model_module_version": "1.5.0",
            "_model_name": "DescriptionStyleModel",
            "_view_count": null,
            "_view_module": "@jupyter-widgets/base",
            "_view_module_version": "1.2.0",
            "_view_name": "StyleView",
            "description_width": ""
          }
        },
        "0968346354514f55b44afcdbf882d285": {
          "model_module": "@jupyter-widgets/base",
          "model_name": "LayoutModel",
          "model_module_version": "1.2.0",
          "state": {
            "_model_module": "@jupyter-widgets/base",
            "_model_module_version": "1.2.0",
            "_model_name": "LayoutModel",
            "_view_count": null,
            "_view_module": "@jupyter-widgets/base",
            "_view_module_version": "1.2.0",
            "_view_name": "LayoutView",
            "align_content": null,
            "align_items": null,
            "align_self": null,
            "border": null,
            "bottom": null,
            "display": null,
            "flex": null,
            "flex_flow": null,
            "grid_area": null,
            "grid_auto_columns": null,
            "grid_auto_flow": null,
            "grid_auto_rows": null,
            "grid_column": null,
            "grid_gap": null,
            "grid_row": null,
            "grid_template_areas": null,
            "grid_template_columns": null,
            "grid_template_rows": null,
            "height": null,
            "justify_content": null,
            "justify_items": null,
            "left": null,
            "margin": null,
            "max_height": null,
            "max_width": null,
            "min_height": null,
            "min_width": null,
            "object_fit": null,
            "object_position": null,
            "order": null,
            "overflow": null,
            "overflow_x": null,
            "overflow_y": null,
            "padding": null,
            "right": null,
            "top": null,
            "visibility": null,
            "width": null
          }
        },
        "d2434928d6d84cb4ad6ac7686bccc035": {
          "model_module": "@jupyter-widgets/controls",
          "model_name": "ProgressStyleModel",
          "model_module_version": "1.5.0",
          "state": {
            "_model_module": "@jupyter-widgets/controls",
            "_model_module_version": "1.5.0",
            "_model_name": "ProgressStyleModel",
            "_view_count": null,
            "_view_module": "@jupyter-widgets/base",
            "_view_module_version": "1.2.0",
            "_view_name": "StyleView",
            "bar_color": null,
            "description_width": ""
          }
        },
        "2deb267c677f4902a8ca2946a2f464b1": {
          "model_module": "@jupyter-widgets/base",
          "model_name": "LayoutModel",
          "model_module_version": "1.2.0",
          "state": {
            "_model_module": "@jupyter-widgets/base",
            "_model_module_version": "1.2.0",
            "_model_name": "LayoutModel",
            "_view_count": null,
            "_view_module": "@jupyter-widgets/base",
            "_view_module_version": "1.2.0",
            "_view_name": "LayoutView",
            "align_content": null,
            "align_items": null,
            "align_self": null,
            "border": null,
            "bottom": null,
            "display": null,
            "flex": null,
            "flex_flow": null,
            "grid_area": null,
            "grid_auto_columns": null,
            "grid_auto_flow": null,
            "grid_auto_rows": null,
            "grid_column": null,
            "grid_gap": null,
            "grid_row": null,
            "grid_template_areas": null,
            "grid_template_columns": null,
            "grid_template_rows": null,
            "height": null,
            "justify_content": null,
            "justify_items": null,
            "left": null,
            "margin": null,
            "max_height": null,
            "max_width": null,
            "min_height": null,
            "min_width": null,
            "object_fit": null,
            "object_position": null,
            "order": null,
            "overflow": null,
            "overflow_x": null,
            "overflow_y": null,
            "padding": null,
            "right": null,
            "top": null,
            "visibility": null,
            "width": null
          }
        },
        "d4898ea6563e428c919b5c2a42ac42fb": {
          "model_module": "@jupyter-widgets/controls",
          "model_name": "DescriptionStyleModel",
          "model_module_version": "1.5.0",
          "state": {
            "_model_module": "@jupyter-widgets/controls",
            "_model_module_version": "1.5.0",
            "_model_name": "DescriptionStyleModel",
            "_view_count": null,
            "_view_module": "@jupyter-widgets/base",
            "_view_module_version": "1.2.0",
            "_view_name": "StyleView",
            "description_width": ""
          }
        },
        "76bc2f6a8a904ba3af36e6b664f83024": {
          "model_module": "@jupyter-widgets/controls",
          "model_name": "HBoxModel",
          "model_module_version": "1.5.0",
          "state": {
            "_dom_classes": [],
            "_model_module": "@jupyter-widgets/controls",
            "_model_module_version": "1.5.0",
            "_model_name": "HBoxModel",
            "_view_count": null,
            "_view_module": "@jupyter-widgets/controls",
            "_view_module_version": "1.5.0",
            "_view_name": "HBoxView",
            "box_style": "",
            "children": [
              "IPY_MODEL_fa585ae9659d48c9b30526b4bc5105ea",
              "IPY_MODEL_6369d06751624fbd9cecc0a8ad25f44e",
              "IPY_MODEL_ce641c60de9f4c0eb908b6af83dc10d1"
            ],
            "layout": "IPY_MODEL_b680140b9dd74a1786a281c7f1c844ea"
          }
        },
        "fa585ae9659d48c9b30526b4bc5105ea": {
          "model_module": "@jupyter-widgets/controls",
          "model_name": "HTMLModel",
          "model_module_version": "1.5.0",
          "state": {
            "_dom_classes": [],
            "_model_module": "@jupyter-widgets/controls",
            "_model_module_version": "1.5.0",
            "_model_name": "HTMLModel",
            "_view_count": null,
            "_view_module": "@jupyter-widgets/controls",
            "_view_module_version": "1.5.0",
            "_view_name": "HTMLView",
            "description": "",
            "description_tooltip": null,
            "layout": "IPY_MODEL_750a320bfd6046ea879713414e7285d1",
            "placeholder": "​",
            "style": "IPY_MODEL_de126159c84244db8ea93670277fe2b6",
            "value": "tokenizer.json: 100%"
          }
        },
        "6369d06751624fbd9cecc0a8ad25f44e": {
          "model_module": "@jupyter-widgets/controls",
          "model_name": "FloatProgressModel",
          "model_module_version": "1.5.0",
          "state": {
            "_dom_classes": [],
            "_model_module": "@jupyter-widgets/controls",
            "_model_module_version": "1.5.0",
            "_model_name": "FloatProgressModel",
            "_view_count": null,
            "_view_module": "@jupyter-widgets/controls",
            "_view_module_version": "1.5.0",
            "_view_name": "ProgressView",
            "bar_style": "success",
            "description": "",
            "description_tooltip": null,
            "layout": "IPY_MODEL_3168b311310e408d8ef5565d1fa7d54c",
            "max": 2825034,
            "min": 0,
            "orientation": "horizontal",
            "style": "IPY_MODEL_db225bbd6a524c0bbd3227fc846455d7",
            "value": 2825034
          }
        },
        "ce641c60de9f4c0eb908b6af83dc10d1": {
          "model_module": "@jupyter-widgets/controls",
          "model_name": "HTMLModel",
          "model_module_version": "1.5.0",
          "state": {
            "_dom_classes": [],
            "_model_module": "@jupyter-widgets/controls",
            "_model_module_version": "1.5.0",
            "_model_name": "HTMLModel",
            "_view_count": null,
            "_view_module": "@jupyter-widgets/controls",
            "_view_module_version": "1.5.0",
            "_view_name": "HTMLView",
            "description": "",
            "description_tooltip": null,
            "layout": "IPY_MODEL_ec3544a5508c4b31b57e3634b9cb0939",
            "placeholder": "​",
            "style": "IPY_MODEL_cf0ec27fe0f6415785851554dc1d7a43",
            "value": " 2.83M/2.83M [00:01&lt;00:00, 2.40MB/s]"
          }
        },
        "b680140b9dd74a1786a281c7f1c844ea": {
          "model_module": "@jupyter-widgets/base",
          "model_name": "LayoutModel",
          "model_module_version": "1.2.0",
          "state": {
            "_model_module": "@jupyter-widgets/base",
            "_model_module_version": "1.2.0",
            "_model_name": "LayoutModel",
            "_view_count": null,
            "_view_module": "@jupyter-widgets/base",
            "_view_module_version": "1.2.0",
            "_view_name": "LayoutView",
            "align_content": null,
            "align_items": null,
            "align_self": null,
            "border": null,
            "bottom": null,
            "display": null,
            "flex": null,
            "flex_flow": null,
            "grid_area": null,
            "grid_auto_columns": null,
            "grid_auto_flow": null,
            "grid_auto_rows": null,
            "grid_column": null,
            "grid_gap": null,
            "grid_row": null,
            "grid_template_areas": null,
            "grid_template_columns": null,
            "grid_template_rows": null,
            "height": null,
            "justify_content": null,
            "justify_items": null,
            "left": null,
            "margin": null,
            "max_height": null,
            "max_width": null,
            "min_height": null,
            "min_width": null,
            "object_fit": null,
            "object_position": null,
            "order": null,
            "overflow": null,
            "overflow_x": null,
            "overflow_y": null,
            "padding": null,
            "right": null,
            "top": null,
            "visibility": null,
            "width": null
          }
        },
        "750a320bfd6046ea879713414e7285d1": {
          "model_module": "@jupyter-widgets/base",
          "model_name": "LayoutModel",
          "model_module_version": "1.2.0",
          "state": {
            "_model_module": "@jupyter-widgets/base",
            "_model_module_version": "1.2.0",
            "_model_name": "LayoutModel",
            "_view_count": null,
            "_view_module": "@jupyter-widgets/base",
            "_view_module_version": "1.2.0",
            "_view_name": "LayoutView",
            "align_content": null,
            "align_items": null,
            "align_self": null,
            "border": null,
            "bottom": null,
            "display": null,
            "flex": null,
            "flex_flow": null,
            "grid_area": null,
            "grid_auto_columns": null,
            "grid_auto_flow": null,
            "grid_auto_rows": null,
            "grid_column": null,
            "grid_gap": null,
            "grid_row": null,
            "grid_template_areas": null,
            "grid_template_columns": null,
            "grid_template_rows": null,
            "height": null,
            "justify_content": null,
            "justify_items": null,
            "left": null,
            "margin": null,
            "max_height": null,
            "max_width": null,
            "min_height": null,
            "min_width": null,
            "object_fit": null,
            "object_position": null,
            "order": null,
            "overflow": null,
            "overflow_x": null,
            "overflow_y": null,
            "padding": null,
            "right": null,
            "top": null,
            "visibility": null,
            "width": null
          }
        },
        "de126159c84244db8ea93670277fe2b6": {
          "model_module": "@jupyter-widgets/controls",
          "model_name": "DescriptionStyleModel",
          "model_module_version": "1.5.0",
          "state": {
            "_model_module": "@jupyter-widgets/controls",
            "_model_module_version": "1.5.0",
            "_model_name": "DescriptionStyleModel",
            "_view_count": null,
            "_view_module": "@jupyter-widgets/base",
            "_view_module_version": "1.2.0",
            "_view_name": "StyleView",
            "description_width": ""
          }
        },
        "3168b311310e408d8ef5565d1fa7d54c": {
          "model_module": "@jupyter-widgets/base",
          "model_name": "LayoutModel",
          "model_module_version": "1.2.0",
          "state": {
            "_model_module": "@jupyter-widgets/base",
            "_model_module_version": "1.2.0",
            "_model_name": "LayoutModel",
            "_view_count": null,
            "_view_module": "@jupyter-widgets/base",
            "_view_module_version": "1.2.0",
            "_view_name": "LayoutView",
            "align_content": null,
            "align_items": null,
            "align_self": null,
            "border": null,
            "bottom": null,
            "display": null,
            "flex": null,
            "flex_flow": null,
            "grid_area": null,
            "grid_auto_columns": null,
            "grid_auto_flow": null,
            "grid_auto_rows": null,
            "grid_column": null,
            "grid_gap": null,
            "grid_row": null,
            "grid_template_areas": null,
            "grid_template_columns": null,
            "grid_template_rows": null,
            "height": null,
            "justify_content": null,
            "justify_items": null,
            "left": null,
            "margin": null,
            "max_height": null,
            "max_width": null,
            "min_height": null,
            "min_width": null,
            "object_fit": null,
            "object_position": null,
            "order": null,
            "overflow": null,
            "overflow_x": null,
            "overflow_y": null,
            "padding": null,
            "right": null,
            "top": null,
            "visibility": null,
            "width": null
          }
        },
        "db225bbd6a524c0bbd3227fc846455d7": {
          "model_module": "@jupyter-widgets/controls",
          "model_name": "ProgressStyleModel",
          "model_module_version": "1.5.0",
          "state": {
            "_model_module": "@jupyter-widgets/controls",
            "_model_module_version": "1.5.0",
            "_model_name": "ProgressStyleModel",
            "_view_count": null,
            "_view_module": "@jupyter-widgets/base",
            "_view_module_version": "1.2.0",
            "_view_name": "StyleView",
            "bar_color": null,
            "description_width": ""
          }
        },
        "ec3544a5508c4b31b57e3634b9cb0939": {
          "model_module": "@jupyter-widgets/base",
          "model_name": "LayoutModel",
          "model_module_version": "1.2.0",
          "state": {
            "_model_module": "@jupyter-widgets/base",
            "_model_module_version": "1.2.0",
            "_model_name": "LayoutModel",
            "_view_count": null,
            "_view_module": "@jupyter-widgets/base",
            "_view_module_version": "1.2.0",
            "_view_name": "LayoutView",
            "align_content": null,
            "align_items": null,
            "align_self": null,
            "border": null,
            "bottom": null,
            "display": null,
            "flex": null,
            "flex_flow": null,
            "grid_area": null,
            "grid_auto_columns": null,
            "grid_auto_flow": null,
            "grid_auto_rows": null,
            "grid_column": null,
            "grid_gap": null,
            "grid_row": null,
            "grid_template_areas": null,
            "grid_template_columns": null,
            "grid_template_rows": null,
            "height": null,
            "justify_content": null,
            "justify_items": null,
            "left": null,
            "margin": null,
            "max_height": null,
            "max_width": null,
            "min_height": null,
            "min_width": null,
            "object_fit": null,
            "object_position": null,
            "order": null,
            "overflow": null,
            "overflow_x": null,
            "overflow_y": null,
            "padding": null,
            "right": null,
            "top": null,
            "visibility": null,
            "width": null
          }
        },
        "cf0ec27fe0f6415785851554dc1d7a43": {
          "model_module": "@jupyter-widgets/controls",
          "model_name": "DescriptionStyleModel",
          "model_module_version": "1.5.0",
          "state": {
            "_model_module": "@jupyter-widgets/controls",
            "_model_module_version": "1.5.0",
            "_model_name": "DescriptionStyleModel",
            "_view_count": null,
            "_view_module": "@jupyter-widgets/base",
            "_view_module_version": "1.2.0",
            "_view_name": "StyleView",
            "description_width": ""
          }
        },
        "26a043e4a61143fbbaa2b736ec2fb1ca": {
          "model_module": "@jupyter-widgets/controls",
          "model_name": "HBoxModel",
          "model_module_version": "1.5.0",
          "state": {
            "_dom_classes": [],
            "_model_module": "@jupyter-widgets/controls",
            "_model_module_version": "1.5.0",
            "_model_name": "HBoxModel",
            "_view_count": null,
            "_view_module": "@jupyter-widgets/controls",
            "_view_module_version": "1.5.0",
            "_view_name": "HBoxView",
            "box_style": "",
            "children": [
              "IPY_MODEL_3bcc949342b641c489b9f9d19c54a341",
              "IPY_MODEL_84af3950a0bc46b98f38bbe6ec227c4c",
              "IPY_MODEL_b61c87f537f54f89914abbdd7a155a12"
            ],
            "layout": "IPY_MODEL_a77abf2bfe7b4d5b8179f0d9f962455e"
          }
        },
        "3bcc949342b641c489b9f9d19c54a341": {
          "model_module": "@jupyter-widgets/controls",
          "model_name": "HTMLModel",
          "model_module_version": "1.5.0",
          "state": {
            "_dom_classes": [],
            "_model_module": "@jupyter-widgets/controls",
            "_model_module_version": "1.5.0",
            "_model_name": "HTMLModel",
            "_view_count": null,
            "_view_module": "@jupyter-widgets/controls",
            "_view_module_version": "1.5.0",
            "_view_name": "HTMLView",
            "description": "",
            "description_tooltip": null,
            "layout": "IPY_MODEL_44e1704e89104410a4dd5d162a49b158",
            "placeholder": "​",
            "style": "IPY_MODEL_07bcc28a076e4b2598bc51e1af992945",
            "value": "pytorch_model.bin: 100%"
          }
        },
        "84af3950a0bc46b98f38bbe6ec227c4c": {
          "model_module": "@jupyter-widgets/controls",
          "model_name": "FloatProgressModel",
          "model_module_version": "1.5.0",
          "state": {
            "_dom_classes": [],
            "_model_module": "@jupyter-widgets/controls",
            "_model_module_version": "1.5.0",
            "_model_name": "FloatProgressModel",
            "_view_count": null,
            "_view_module": "@jupyter-widgets/controls",
            "_view_module_version": "1.5.0",
            "_view_name": "ProgressView",
            "bar_style": "success",
            "description": "",
            "description_tooltip": null,
            "layout": "IPY_MODEL_bad1f811954f4e2798de0d4919ac3093",
            "max": 513302779,
            "min": 0,
            "orientation": "horizontal",
            "style": "IPY_MODEL_f3a0e63098dd402a881af12589e86f70",
            "value": 513302779
          }
        },
        "b61c87f537f54f89914abbdd7a155a12": {
          "model_module": "@jupyter-widgets/controls",
          "model_name": "HTMLModel",
          "model_module_version": "1.5.0",
          "state": {
            "_dom_classes": [],
            "_model_module": "@jupyter-widgets/controls",
            "_model_module_version": "1.5.0",
            "_model_name": "HTMLModel",
            "_view_count": null,
            "_view_module": "@jupyter-widgets/controls",
            "_view_module_version": "1.5.0",
            "_view_name": "HTMLView",
            "description": "",
            "description_tooltip": null,
            "layout": "IPY_MODEL_22b05ec1b75a48449a55ebaaece638aa",
            "placeholder": "​",
            "style": "IPY_MODEL_9debc418be1946328d7196f6b466020e",
            "value": " 513M/513M [00:26&lt;00:00, 20.9MB/s]"
          }
        },
        "a77abf2bfe7b4d5b8179f0d9f962455e": {
          "model_module": "@jupyter-widgets/base",
          "model_name": "LayoutModel",
          "model_module_version": "1.2.0",
          "state": {
            "_model_module": "@jupyter-widgets/base",
            "_model_module_version": "1.2.0",
            "_model_name": "LayoutModel",
            "_view_count": null,
            "_view_module": "@jupyter-widgets/base",
            "_view_module_version": "1.2.0",
            "_view_name": "LayoutView",
            "align_content": null,
            "align_items": null,
            "align_self": null,
            "border": null,
            "bottom": null,
            "display": null,
            "flex": null,
            "flex_flow": null,
            "grid_area": null,
            "grid_auto_columns": null,
            "grid_auto_flow": null,
            "grid_auto_rows": null,
            "grid_column": null,
            "grid_gap": null,
            "grid_row": null,
            "grid_template_areas": null,
            "grid_template_columns": null,
            "grid_template_rows": null,
            "height": null,
            "justify_content": null,
            "justify_items": null,
            "left": null,
            "margin": null,
            "max_height": null,
            "max_width": null,
            "min_height": null,
            "min_width": null,
            "object_fit": null,
            "object_position": null,
            "order": null,
            "overflow": null,
            "overflow_x": null,
            "overflow_y": null,
            "padding": null,
            "right": null,
            "top": null,
            "visibility": null,
            "width": null
          }
        },
        "44e1704e89104410a4dd5d162a49b158": {
          "model_module": "@jupyter-widgets/base",
          "model_name": "LayoutModel",
          "model_module_version": "1.2.0",
          "state": {
            "_model_module": "@jupyter-widgets/base",
            "_model_module_version": "1.2.0",
            "_model_name": "LayoutModel",
            "_view_count": null,
            "_view_module": "@jupyter-widgets/base",
            "_view_module_version": "1.2.0",
            "_view_name": "LayoutView",
            "align_content": null,
            "align_items": null,
            "align_self": null,
            "border": null,
            "bottom": null,
            "display": null,
            "flex": null,
            "flex_flow": null,
            "grid_area": null,
            "grid_auto_columns": null,
            "grid_auto_flow": null,
            "grid_auto_rows": null,
            "grid_column": null,
            "grid_gap": null,
            "grid_row": null,
            "grid_template_areas": null,
            "grid_template_columns": null,
            "grid_template_rows": null,
            "height": null,
            "justify_content": null,
            "justify_items": null,
            "left": null,
            "margin": null,
            "max_height": null,
            "max_width": null,
            "min_height": null,
            "min_width": null,
            "object_fit": null,
            "object_position": null,
            "order": null,
            "overflow": null,
            "overflow_x": null,
            "overflow_y": null,
            "padding": null,
            "right": null,
            "top": null,
            "visibility": null,
            "width": null
          }
        },
        "07bcc28a076e4b2598bc51e1af992945": {
          "model_module": "@jupyter-widgets/controls",
          "model_name": "DescriptionStyleModel",
          "model_module_version": "1.5.0",
          "state": {
            "_model_module": "@jupyter-widgets/controls",
            "_model_module_version": "1.5.0",
            "_model_name": "DescriptionStyleModel",
            "_view_count": null,
            "_view_module": "@jupyter-widgets/base",
            "_view_module_version": "1.2.0",
            "_view_name": "StyleView",
            "description_width": ""
          }
        },
        "bad1f811954f4e2798de0d4919ac3093": {
          "model_module": "@jupyter-widgets/base",
          "model_name": "LayoutModel",
          "model_module_version": "1.2.0",
          "state": {
            "_model_module": "@jupyter-widgets/base",
            "_model_module_version": "1.2.0",
            "_model_name": "LayoutModel",
            "_view_count": null,
            "_view_module": "@jupyter-widgets/base",
            "_view_module_version": "1.2.0",
            "_view_name": "LayoutView",
            "align_content": null,
            "align_items": null,
            "align_self": null,
            "border": null,
            "bottom": null,
            "display": null,
            "flex": null,
            "flex_flow": null,
            "grid_area": null,
            "grid_auto_columns": null,
            "grid_auto_flow": null,
            "grid_auto_rows": null,
            "grid_column": null,
            "grid_gap": null,
            "grid_row": null,
            "grid_template_areas": null,
            "grid_template_columns": null,
            "grid_template_rows": null,
            "height": null,
            "justify_content": null,
            "justify_items": null,
            "left": null,
            "margin": null,
            "max_height": null,
            "max_width": null,
            "min_height": null,
            "min_width": null,
            "object_fit": null,
            "object_position": null,
            "order": null,
            "overflow": null,
            "overflow_x": null,
            "overflow_y": null,
            "padding": null,
            "right": null,
            "top": null,
            "visibility": null,
            "width": null
          }
        },
        "f3a0e63098dd402a881af12589e86f70": {
          "model_module": "@jupyter-widgets/controls",
          "model_name": "ProgressStyleModel",
          "model_module_version": "1.5.0",
          "state": {
            "_model_module": "@jupyter-widgets/controls",
            "_model_module_version": "1.5.0",
            "_model_name": "ProgressStyleModel",
            "_view_count": null,
            "_view_module": "@jupyter-widgets/base",
            "_view_module_version": "1.2.0",
            "_view_name": "StyleView",
            "bar_color": null,
            "description_width": ""
          }
        },
        "22b05ec1b75a48449a55ebaaece638aa": {
          "model_module": "@jupyter-widgets/base",
          "model_name": "LayoutModel",
          "model_module_version": "1.2.0",
          "state": {
            "_model_module": "@jupyter-widgets/base",
            "_model_module_version": "1.2.0",
            "_model_name": "LayoutModel",
            "_view_count": null,
            "_view_module": "@jupyter-widgets/base",
            "_view_module_version": "1.2.0",
            "_view_name": "LayoutView",
            "align_content": null,
            "align_items": null,
            "align_self": null,
            "border": null,
            "bottom": null,
            "display": null,
            "flex": null,
            "flex_flow": null,
            "grid_area": null,
            "grid_auto_columns": null,
            "grid_auto_flow": null,
            "grid_auto_rows": null,
            "grid_column": null,
            "grid_gap": null,
            "grid_row": null,
            "grid_template_areas": null,
            "grid_template_columns": null,
            "grid_template_rows": null,
            "height": null,
            "justify_content": null,
            "justify_items": null,
            "left": null,
            "margin": null,
            "max_height": null,
            "max_width": null,
            "min_height": null,
            "min_width": null,
            "object_fit": null,
            "object_position": null,
            "order": null,
            "overflow": null,
            "overflow_x": null,
            "overflow_y": null,
            "padding": null,
            "right": null,
            "top": null,
            "visibility": null,
            "width": null
          }
        },
        "9debc418be1946328d7196f6b466020e": {
          "model_module": "@jupyter-widgets/controls",
          "model_name": "DescriptionStyleModel",
          "model_module_version": "1.5.0",
          "state": {
            "_model_module": "@jupyter-widgets/controls",
            "_model_module_version": "1.5.0",
            "_model_name": "DescriptionStyleModel",
            "_view_count": null,
            "_view_module": "@jupyter-widgets/base",
            "_view_module_version": "1.2.0",
            "_view_name": "StyleView",
            "description_width": ""
          }
        },
        "cc69f0b2d8ba4d2c8b1cfa8ad8ab364d": {
          "model_module": "@jupyter-widgets/controls",
          "model_name": "HBoxModel",
          "model_module_version": "1.5.0",
          "state": {
            "_dom_classes": [],
            "_model_module": "@jupyter-widgets/controls",
            "_model_module_version": "1.5.0",
            "_model_name": "HBoxModel",
            "_view_count": null,
            "_view_module": "@jupyter-widgets/controls",
            "_view_module_version": "1.5.0",
            "_view_name": "HBoxView",
            "box_style": "",
            "children": [
              "IPY_MODEL_5588849a3df44703b693fd9c3afc5439",
              "IPY_MODEL_a3ac422fb82e419fbe991109d58dfb8d",
              "IPY_MODEL_ca3fe8e7252548409ffb0c7e02056ca0"
            ],
            "layout": "IPY_MODEL_c4e5b4ef954340a28cb6fb457ccf5705"
          }
        },
        "5588849a3df44703b693fd9c3afc5439": {
          "model_module": "@jupyter-widgets/controls",
          "model_name": "HTMLModel",
          "model_module_version": "1.5.0",
          "state": {
            "_dom_classes": [],
            "_model_module": "@jupyter-widgets/controls",
            "_model_module_version": "1.5.0",
            "_model_name": "HTMLModel",
            "_view_count": null,
            "_view_module": "@jupyter-widgets/controls",
            "_view_module_version": "1.5.0",
            "_view_name": "HTMLView",
            "description": "",
            "description_tooltip": null,
            "layout": "IPY_MODEL_62713124ea8541f487091a0ab6465d9c",
            "placeholder": "​",
            "style": "IPY_MODEL_e8822a135e764518bdf22f30b499e789",
            "value": "config.json: 100%"
          }
        },
        "a3ac422fb82e419fbe991109d58dfb8d": {
          "model_module": "@jupyter-widgets/controls",
          "model_name": "FloatProgressModel",
          "model_module_version": "1.5.0",
          "state": {
            "_dom_classes": [],
            "_model_module": "@jupyter-widgets/controls",
            "_model_module_version": "1.5.0",
            "_model_name": "FloatProgressModel",
            "_view_count": null,
            "_view_module": "@jupyter-widgets/controls",
            "_view_module_version": "1.5.0",
            "_view_name": "ProgressView",
            "bar_style": "success",
            "description": "",
            "description_tooltip": null,
            "layout": "IPY_MODEL_1223a80ef8e6444983364374317234e6",
            "max": 725,
            "min": 0,
            "orientation": "horizontal",
            "style": "IPY_MODEL_b823b8677a824ceb8d614127a99ee827",
            "value": 725
          }
        },
        "ca3fe8e7252548409ffb0c7e02056ca0": {
          "model_module": "@jupyter-widgets/controls",
          "model_name": "HTMLModel",
          "model_module_version": "1.5.0",
          "state": {
            "_dom_classes": [],
            "_model_module": "@jupyter-widgets/controls",
            "_model_module_version": "1.5.0",
            "_model_name": "HTMLModel",
            "_view_count": null,
            "_view_module": "@jupyter-widgets/controls",
            "_view_module_version": "1.5.0",
            "_view_name": "HTMLView",
            "description": "",
            "description_tooltip": null,
            "layout": "IPY_MODEL_80cffda37f974060ada63b5d56a0be17",
            "placeholder": "​",
            "style": "IPY_MODEL_867d4316fb684a9fae15b6e76d57e0ce",
            "value": " 725/725 [00:00&lt;00:00, 18.3kB/s]"
          }
        },
        "c4e5b4ef954340a28cb6fb457ccf5705": {
          "model_module": "@jupyter-widgets/base",
          "model_name": "LayoutModel",
          "model_module_version": "1.2.0",
          "state": {
            "_model_module": "@jupyter-widgets/base",
            "_model_module_version": "1.2.0",
            "_model_name": "LayoutModel",
            "_view_count": null,
            "_view_module": "@jupyter-widgets/base",
            "_view_module_version": "1.2.0",
            "_view_name": "LayoutView",
            "align_content": null,
            "align_items": null,
            "align_self": null,
            "border": null,
            "bottom": null,
            "display": null,
            "flex": null,
            "flex_flow": null,
            "grid_area": null,
            "grid_auto_columns": null,
            "grid_auto_flow": null,
            "grid_auto_rows": null,
            "grid_column": null,
            "grid_gap": null,
            "grid_row": null,
            "grid_template_areas": null,
            "grid_template_columns": null,
            "grid_template_rows": null,
            "height": null,
            "justify_content": null,
            "justify_items": null,
            "left": null,
            "margin": null,
            "max_height": null,
            "max_width": null,
            "min_height": null,
            "min_width": null,
            "object_fit": null,
            "object_position": null,
            "order": null,
            "overflow": null,
            "overflow_x": null,
            "overflow_y": null,
            "padding": null,
            "right": null,
            "top": null,
            "visibility": null,
            "width": null
          }
        },
        "62713124ea8541f487091a0ab6465d9c": {
          "model_module": "@jupyter-widgets/base",
          "model_name": "LayoutModel",
          "model_module_version": "1.2.0",
          "state": {
            "_model_module": "@jupyter-widgets/base",
            "_model_module_version": "1.2.0",
            "_model_name": "LayoutModel",
            "_view_count": null,
            "_view_module": "@jupyter-widgets/base",
            "_view_module_version": "1.2.0",
            "_view_name": "LayoutView",
            "align_content": null,
            "align_items": null,
            "align_self": null,
            "border": null,
            "bottom": null,
            "display": null,
            "flex": null,
            "flex_flow": null,
            "grid_area": null,
            "grid_auto_columns": null,
            "grid_auto_flow": null,
            "grid_auto_rows": null,
            "grid_column": null,
            "grid_gap": null,
            "grid_row": null,
            "grid_template_areas": null,
            "grid_template_columns": null,
            "grid_template_rows": null,
            "height": null,
            "justify_content": null,
            "justify_items": null,
            "left": null,
            "margin": null,
            "max_height": null,
            "max_width": null,
            "min_height": null,
            "min_width": null,
            "object_fit": null,
            "object_position": null,
            "order": null,
            "overflow": null,
            "overflow_x": null,
            "overflow_y": null,
            "padding": null,
            "right": null,
            "top": null,
            "visibility": null,
            "width": null
          }
        },
        "e8822a135e764518bdf22f30b499e789": {
          "model_module": "@jupyter-widgets/controls",
          "model_name": "DescriptionStyleModel",
          "model_module_version": "1.5.0",
          "state": {
            "_model_module": "@jupyter-widgets/controls",
            "_model_module_version": "1.5.0",
            "_model_name": "DescriptionStyleModel",
            "_view_count": null,
            "_view_module": "@jupyter-widgets/base",
            "_view_module_version": "1.2.0",
            "_view_name": "StyleView",
            "description_width": ""
          }
        },
        "1223a80ef8e6444983364374317234e6": {
          "model_module": "@jupyter-widgets/base",
          "model_name": "LayoutModel",
          "model_module_version": "1.2.0",
          "state": {
            "_model_module": "@jupyter-widgets/base",
            "_model_module_version": "1.2.0",
            "_model_name": "LayoutModel",
            "_view_count": null,
            "_view_module": "@jupyter-widgets/base",
            "_view_module_version": "1.2.0",
            "_view_name": "LayoutView",
            "align_content": null,
            "align_items": null,
            "align_self": null,
            "border": null,
            "bottom": null,
            "display": null,
            "flex": null,
            "flex_flow": null,
            "grid_area": null,
            "grid_auto_columns": null,
            "grid_auto_flow": null,
            "grid_auto_rows": null,
            "grid_column": null,
            "grid_gap": null,
            "grid_row": null,
            "grid_template_areas": null,
            "grid_template_columns": null,
            "grid_template_rows": null,
            "height": null,
            "justify_content": null,
            "justify_items": null,
            "left": null,
            "margin": null,
            "max_height": null,
            "max_width": null,
            "min_height": null,
            "min_width": null,
            "object_fit": null,
            "object_position": null,
            "order": null,
            "overflow": null,
            "overflow_x": null,
            "overflow_y": null,
            "padding": null,
            "right": null,
            "top": null,
            "visibility": null,
            "width": null
          }
        },
        "b823b8677a824ceb8d614127a99ee827": {
          "model_module": "@jupyter-widgets/controls",
          "model_name": "ProgressStyleModel",
          "model_module_version": "1.5.0",
          "state": {
            "_model_module": "@jupyter-widgets/controls",
            "_model_module_version": "1.5.0",
            "_model_name": "ProgressStyleModel",
            "_view_count": null,
            "_view_module": "@jupyter-widgets/base",
            "_view_module_version": "1.2.0",
            "_view_name": "StyleView",
            "bar_color": null,
            "description_width": ""
          }
        },
        "80cffda37f974060ada63b5d56a0be17": {
          "model_module": "@jupyter-widgets/base",
          "model_name": "LayoutModel",
          "model_module_version": "1.2.0",
          "state": {
            "_model_module": "@jupyter-widgets/base",
            "_model_module_version": "1.2.0",
            "_model_name": "LayoutModel",
            "_view_count": null,
            "_view_module": "@jupyter-widgets/base",
            "_view_module_version": "1.2.0",
            "_view_name": "LayoutView",
            "align_content": null,
            "align_items": null,
            "align_self": null,
            "border": null,
            "bottom": null,
            "display": null,
            "flex": null,
            "flex_flow": null,
            "grid_area": null,
            "grid_auto_columns": null,
            "grid_auto_flow": null,
            "grid_auto_rows": null,
            "grid_column": null,
            "grid_gap": null,
            "grid_row": null,
            "grid_template_areas": null,
            "grid_template_columns": null,
            "grid_template_rows": null,
            "height": null,
            "justify_content": null,
            "justify_items": null,
            "left": null,
            "margin": null,
            "max_height": null,
            "max_width": null,
            "min_height": null,
            "min_width": null,
            "object_fit": null,
            "object_position": null,
            "order": null,
            "overflow": null,
            "overflow_x": null,
            "overflow_y": null,
            "padding": null,
            "right": null,
            "top": null,
            "visibility": null,
            "width": null
          }
        },
        "867d4316fb684a9fae15b6e76d57e0ce": {
          "model_module": "@jupyter-widgets/controls",
          "model_name": "DescriptionStyleModel",
          "model_module_version": "1.5.0",
          "state": {
            "_model_module": "@jupyter-widgets/controls",
            "_model_module_version": "1.5.0",
            "_model_name": "DescriptionStyleModel",
            "_view_count": null,
            "_view_module": "@jupyter-widgets/base",
            "_view_module_version": "1.2.0",
            "_view_name": "StyleView",
            "description_width": ""
          }
        },
        "e5c51f85e0054be193bf7e5f33816036": {
          "model_module": "@jupyter-widgets/controls",
          "model_name": "HBoxModel",
          "model_module_version": "1.5.0",
          "state": {
            "_dom_classes": [],
            "_model_module": "@jupyter-widgets/controls",
            "_model_module_version": "1.5.0",
            "_model_name": "HBoxModel",
            "_view_count": null,
            "_view_module": "@jupyter-widgets/controls",
            "_view_module_version": "1.5.0",
            "_view_name": "HBoxView",
            "box_style": "",
            "children": [
              "IPY_MODEL_1281d9300c35434886e3b66908181e4e",
              "IPY_MODEL_6f8bf918f3eb4ba7934fd0e96fd204b5",
              "IPY_MODEL_25f53e426dd54908913b0447e1d46f0a"
            ],
            "layout": "IPY_MODEL_82c30c4441974c74ae0e71172ede74e4"
          }
        },
        "1281d9300c35434886e3b66908181e4e": {
          "model_module": "@jupyter-widgets/controls",
          "model_name": "HTMLModel",
          "model_module_version": "1.5.0",
          "state": {
            "_dom_classes": [],
            "_model_module": "@jupyter-widgets/controls",
            "_model_module_version": "1.5.0",
            "_model_name": "HTMLModel",
            "_view_count": null,
            "_view_module": "@jupyter-widgets/controls",
            "_view_module_version": "1.5.0",
            "_view_name": "HTMLView",
            "description": "",
            "description_tooltip": null,
            "layout": "IPY_MODEL_7536505337754dca9680774687f65903",
            "placeholder": "​",
            "style": "IPY_MODEL_f9e01aa974244dcaa16206b229146eb9",
            "value": "model.safetensors: 100%"
          }
        },
        "6f8bf918f3eb4ba7934fd0e96fd204b5": {
          "model_module": "@jupyter-widgets/controls",
          "model_name": "FloatProgressModel",
          "model_module_version": "1.5.0",
          "state": {
            "_dom_classes": [],
            "_model_module": "@jupyter-widgets/controls",
            "_model_module_version": "1.5.0",
            "_model_name": "FloatProgressModel",
            "_view_count": null,
            "_view_module": "@jupyter-widgets/controls",
            "_view_module_version": "1.5.0",
            "_view_name": "ProgressView",
            "bar_style": "success",
            "description": "",
            "description_tooltip": null,
            "layout": "IPY_MODEL_5494cc0f6a15471cb1640475b67d8916",
            "max": 2663660480,
            "min": 0,
            "orientation": "horizontal",
            "style": "IPY_MODEL_82a17a9309354dd8809fc65783b01c15",
            "value": 2663660480
          }
        },
        "25f53e426dd54908913b0447e1d46f0a": {
          "model_module": "@jupyter-widgets/controls",
          "model_name": "HTMLModel",
          "model_module_version": "1.5.0",
          "state": {
            "_dom_classes": [],
            "_model_module": "@jupyter-widgets/controls",
            "_model_module_version": "1.5.0",
            "_model_name": "HTMLModel",
            "_view_count": null,
            "_view_module": "@jupyter-widgets/controls",
            "_view_module_version": "1.5.0",
            "_view_name": "HTMLView",
            "description": "",
            "description_tooltip": null,
            "layout": "IPY_MODEL_1af1c804050e48de8f2c11ffca6df1ac",
            "placeholder": "​",
            "style": "IPY_MODEL_94961f627af440fb81204fa4086ab3aa",
            "value": " 2.66G/2.66G [02:16&lt;00:00, 19.6MB/s]"
          }
        },
        "82c30c4441974c74ae0e71172ede74e4": {
          "model_module": "@jupyter-widgets/base",
          "model_name": "LayoutModel",
          "model_module_version": "1.2.0",
          "state": {
            "_model_module": "@jupyter-widgets/base",
            "_model_module_version": "1.2.0",
            "_model_name": "LayoutModel",
            "_view_count": null,
            "_view_module": "@jupyter-widgets/base",
            "_view_module_version": "1.2.0",
            "_view_name": "LayoutView",
            "align_content": null,
            "align_items": null,
            "align_self": null,
            "border": null,
            "bottom": null,
            "display": null,
            "flex": null,
            "flex_flow": null,
            "grid_area": null,
            "grid_auto_columns": null,
            "grid_auto_flow": null,
            "grid_auto_rows": null,
            "grid_column": null,
            "grid_gap": null,
            "grid_row": null,
            "grid_template_areas": null,
            "grid_template_columns": null,
            "grid_template_rows": null,
            "height": null,
            "justify_content": null,
            "justify_items": null,
            "left": null,
            "margin": null,
            "max_height": null,
            "max_width": null,
            "min_height": null,
            "min_width": null,
            "object_fit": null,
            "object_position": null,
            "order": null,
            "overflow": null,
            "overflow_x": null,
            "overflow_y": null,
            "padding": null,
            "right": null,
            "top": null,
            "visibility": null,
            "width": null
          }
        },
        "7536505337754dca9680774687f65903": {
          "model_module": "@jupyter-widgets/base",
          "model_name": "LayoutModel",
          "model_module_version": "1.2.0",
          "state": {
            "_model_module": "@jupyter-widgets/base",
            "_model_module_version": "1.2.0",
            "_model_name": "LayoutModel",
            "_view_count": null,
            "_view_module": "@jupyter-widgets/base",
            "_view_module_version": "1.2.0",
            "_view_name": "LayoutView",
            "align_content": null,
            "align_items": null,
            "align_self": null,
            "border": null,
            "bottom": null,
            "display": null,
            "flex": null,
            "flex_flow": null,
            "grid_area": null,
            "grid_auto_columns": null,
            "grid_auto_flow": null,
            "grid_auto_rows": null,
            "grid_column": null,
            "grid_gap": null,
            "grid_row": null,
            "grid_template_areas": null,
            "grid_template_columns": null,
            "grid_template_rows": null,
            "height": null,
            "justify_content": null,
            "justify_items": null,
            "left": null,
            "margin": null,
            "max_height": null,
            "max_width": null,
            "min_height": null,
            "min_width": null,
            "object_fit": null,
            "object_position": null,
            "order": null,
            "overflow": null,
            "overflow_x": null,
            "overflow_y": null,
            "padding": null,
            "right": null,
            "top": null,
            "visibility": null,
            "width": null
          }
        },
        "f9e01aa974244dcaa16206b229146eb9": {
          "model_module": "@jupyter-widgets/controls",
          "model_name": "DescriptionStyleModel",
          "model_module_version": "1.5.0",
          "state": {
            "_model_module": "@jupyter-widgets/controls",
            "_model_module_version": "1.5.0",
            "_model_name": "DescriptionStyleModel",
            "_view_count": null,
            "_view_module": "@jupyter-widgets/base",
            "_view_module_version": "1.2.0",
            "_view_name": "StyleView",
            "description_width": ""
          }
        },
        "5494cc0f6a15471cb1640475b67d8916": {
          "model_module": "@jupyter-widgets/base",
          "model_name": "LayoutModel",
          "model_module_version": "1.2.0",
          "state": {
            "_model_module": "@jupyter-widgets/base",
            "_model_module_version": "1.2.0",
            "_model_name": "LayoutModel",
            "_view_count": null,
            "_view_module": "@jupyter-widgets/base",
            "_view_module_version": "1.2.0",
            "_view_name": "LayoutView",
            "align_content": null,
            "align_items": null,
            "align_self": null,
            "border": null,
            "bottom": null,
            "display": null,
            "flex": null,
            "flex_flow": null,
            "grid_area": null,
            "grid_auto_columns": null,
            "grid_auto_flow": null,
            "grid_auto_rows": null,
            "grid_column": null,
            "grid_gap": null,
            "grid_row": null,
            "grid_template_areas": null,
            "grid_template_columns": null,
            "grid_template_rows": null,
            "height": null,
            "justify_content": null,
            "justify_items": null,
            "left": null,
            "margin": null,
            "max_height": null,
            "max_width": null,
            "min_height": null,
            "min_width": null,
            "object_fit": null,
            "object_position": null,
            "order": null,
            "overflow": null,
            "overflow_x": null,
            "overflow_y": null,
            "padding": null,
            "right": null,
            "top": null,
            "visibility": null,
            "width": null
          }
        },
        "82a17a9309354dd8809fc65783b01c15": {
          "model_module": "@jupyter-widgets/controls",
          "model_name": "ProgressStyleModel",
          "model_module_version": "1.5.0",
          "state": {
            "_model_module": "@jupyter-widgets/controls",
            "_model_module_version": "1.5.0",
            "_model_name": "ProgressStyleModel",
            "_view_count": null,
            "_view_module": "@jupyter-widgets/base",
            "_view_module_version": "1.2.0",
            "_view_name": "StyleView",
            "bar_color": null,
            "description_width": ""
          }
        },
        "1af1c804050e48de8f2c11ffca6df1ac": {
          "model_module": "@jupyter-widgets/base",
          "model_name": "LayoutModel",
          "model_module_version": "1.2.0",
          "state": {
            "_model_module": "@jupyter-widgets/base",
            "_model_module_version": "1.2.0",
            "_model_name": "LayoutModel",
            "_view_count": null,
            "_view_module": "@jupyter-widgets/base",
            "_view_module_version": "1.2.0",
            "_view_name": "LayoutView",
            "align_content": null,
            "align_items": null,
            "align_self": null,
            "border": null,
            "bottom": null,
            "display": null,
            "flex": null,
            "flex_flow": null,
            "grid_area": null,
            "grid_auto_columns": null,
            "grid_auto_flow": null,
            "grid_auto_rows": null,
            "grid_column": null,
            "grid_gap": null,
            "grid_row": null,
            "grid_template_areas": null,
            "grid_template_columns": null,
            "grid_template_rows": null,
            "height": null,
            "justify_content": null,
            "justify_items": null,
            "left": null,
            "margin": null,
            "max_height": null,
            "max_width": null,
            "min_height": null,
            "min_width": null,
            "object_fit": null,
            "object_position": null,
            "order": null,
            "overflow": null,
            "overflow_x": null,
            "overflow_y": null,
            "padding": null,
            "right": null,
            "top": null,
            "visibility": null,
            "width": null
          }
        },
        "94961f627af440fb81204fa4086ab3aa": {
          "model_module": "@jupyter-widgets/controls",
          "model_name": "DescriptionStyleModel",
          "model_module_version": "1.5.0",
          "state": {
            "_model_module": "@jupyter-widgets/controls",
            "_model_module_version": "1.5.0",
            "_model_name": "DescriptionStyleModel",
            "_view_count": null,
            "_view_module": "@jupyter-widgets/base",
            "_view_module_version": "1.2.0",
            "_view_name": "StyleView",
            "description_width": ""
          }
        },
        "eb9abac3ddae46e19267cc8173470ac2": {
          "model_module": "@jupyter-widgets/controls",
          "model_name": "HBoxModel",
          "model_module_version": "1.5.0",
          "state": {
            "_dom_classes": [],
            "_model_module": "@jupyter-widgets/controls",
            "_model_module_version": "1.5.0",
            "_model_name": "HBoxModel",
            "_view_count": null,
            "_view_module": "@jupyter-widgets/controls",
            "_view_module_version": "1.5.0",
            "_view_name": "HBoxView",
            "box_style": "",
            "children": [
              "IPY_MODEL_75a5b0858f5c4e48813b84e2c48d5433",
              "IPY_MODEL_819e934fa4894d88a20e18b599e65a7e",
              "IPY_MODEL_16156a223e8945c9acd79656d0ccedb3"
            ],
            "layout": "IPY_MODEL_e53a11021ef64207baef1b63603bacd6"
          }
        },
        "75a5b0858f5c4e48813b84e2c48d5433": {
          "model_module": "@jupyter-widgets/controls",
          "model_name": "HTMLModel",
          "model_module_version": "1.5.0",
          "state": {
            "_dom_classes": [],
            "_model_module": "@jupyter-widgets/controls",
            "_model_module_version": "1.5.0",
            "_model_name": "HTMLModel",
            "_view_count": null,
            "_view_module": "@jupyter-widgets/controls",
            "_view_module_version": "1.5.0",
            "_view_name": "HTMLView",
            "description": "",
            "description_tooltip": null,
            "layout": "IPY_MODEL_a974b384a48641ef9b9ff4321da4944f",
            "placeholder": "​",
            "style": "IPY_MODEL_27b95af525634dd7851e8d5746c6afb2",
            "value": "generation_config.json: 100%"
          }
        },
        "819e934fa4894d88a20e18b599e65a7e": {
          "model_module": "@jupyter-widgets/controls",
          "model_name": "FloatProgressModel",
          "model_module_version": "1.5.0",
          "state": {
            "_dom_classes": [],
            "_model_module": "@jupyter-widgets/controls",
            "_model_module_version": "1.5.0",
            "_model_name": "FloatProgressModel",
            "_view_count": null,
            "_view_module": "@jupyter-widgets/controls",
            "_view_module_version": "1.5.0",
            "_view_name": "ProgressView",
            "bar_style": "success",
            "description": "",
            "description_tooltip": null,
            "layout": "IPY_MODEL_f8ae815dc5a941499fc97024c838a747",
            "max": 111,
            "min": 0,
            "orientation": "horizontal",
            "style": "IPY_MODEL_65e02bf3f0694035bbefb48bbc5a0bdc",
            "value": 111
          }
        },
        "16156a223e8945c9acd79656d0ccedb3": {
          "model_module": "@jupyter-widgets/controls",
          "model_name": "HTMLModel",
          "model_module_version": "1.5.0",
          "state": {
            "_dom_classes": [],
            "_model_module": "@jupyter-widgets/controls",
            "_model_module_version": "1.5.0",
            "_model_name": "HTMLModel",
            "_view_count": null,
            "_view_module": "@jupyter-widgets/controls",
            "_view_module_version": "1.5.0",
            "_view_name": "HTMLView",
            "description": "",
            "description_tooltip": null,
            "layout": "IPY_MODEL_9a1d894b0cc342aa86262dc9fb05378f",
            "placeholder": "​",
            "style": "IPY_MODEL_5bf4541f554d4c7f888050374e080de8",
            "value": " 111/111 [00:00&lt;00:00, 7.34kB/s]"
          }
        },
        "e53a11021ef64207baef1b63603bacd6": {
          "model_module": "@jupyter-widgets/base",
          "model_name": "LayoutModel",
          "model_module_version": "1.2.0",
          "state": {
            "_model_module": "@jupyter-widgets/base",
            "_model_module_version": "1.2.0",
            "_model_name": "LayoutModel",
            "_view_count": null,
            "_view_module": "@jupyter-widgets/base",
            "_view_module_version": "1.2.0",
            "_view_name": "LayoutView",
            "align_content": null,
            "align_items": null,
            "align_self": null,
            "border": null,
            "bottom": null,
            "display": null,
            "flex": null,
            "flex_flow": null,
            "grid_area": null,
            "grid_auto_columns": null,
            "grid_auto_flow": null,
            "grid_auto_rows": null,
            "grid_column": null,
            "grid_gap": null,
            "grid_row": null,
            "grid_template_areas": null,
            "grid_template_columns": null,
            "grid_template_rows": null,
            "height": null,
            "justify_content": null,
            "justify_items": null,
            "left": null,
            "margin": null,
            "max_height": null,
            "max_width": null,
            "min_height": null,
            "min_width": null,
            "object_fit": null,
            "object_position": null,
            "order": null,
            "overflow": null,
            "overflow_x": null,
            "overflow_y": null,
            "padding": null,
            "right": null,
            "top": null,
            "visibility": null,
            "width": null
          }
        },
        "a974b384a48641ef9b9ff4321da4944f": {
          "model_module": "@jupyter-widgets/base",
          "model_name": "LayoutModel",
          "model_module_version": "1.2.0",
          "state": {
            "_model_module": "@jupyter-widgets/base",
            "_model_module_version": "1.2.0",
            "_model_name": "LayoutModel",
            "_view_count": null,
            "_view_module": "@jupyter-widgets/base",
            "_view_module_version": "1.2.0",
            "_view_name": "LayoutView",
            "align_content": null,
            "align_items": null,
            "align_self": null,
            "border": null,
            "bottom": null,
            "display": null,
            "flex": null,
            "flex_flow": null,
            "grid_area": null,
            "grid_auto_columns": null,
            "grid_auto_flow": null,
            "grid_auto_rows": null,
            "grid_column": null,
            "grid_gap": null,
            "grid_row": null,
            "grid_template_areas": null,
            "grid_template_columns": null,
            "grid_template_rows": null,
            "height": null,
            "justify_content": null,
            "justify_items": null,
            "left": null,
            "margin": null,
            "max_height": null,
            "max_width": null,
            "min_height": null,
            "min_width": null,
            "object_fit": null,
            "object_position": null,
            "order": null,
            "overflow": null,
            "overflow_x": null,
            "overflow_y": null,
            "padding": null,
            "right": null,
            "top": null,
            "visibility": null,
            "width": null
          }
        },
        "27b95af525634dd7851e8d5746c6afb2": {
          "model_module": "@jupyter-widgets/controls",
          "model_name": "DescriptionStyleModel",
          "model_module_version": "1.5.0",
          "state": {
            "_model_module": "@jupyter-widgets/controls",
            "_model_module_version": "1.5.0",
            "_model_name": "DescriptionStyleModel",
            "_view_count": null,
            "_view_module": "@jupyter-widgets/base",
            "_view_module_version": "1.2.0",
            "_view_name": "StyleView",
            "description_width": ""
          }
        },
        "f8ae815dc5a941499fc97024c838a747": {
          "model_module": "@jupyter-widgets/base",
          "model_name": "LayoutModel",
          "model_module_version": "1.2.0",
          "state": {
            "_model_module": "@jupyter-widgets/base",
            "_model_module_version": "1.2.0",
            "_model_name": "LayoutModel",
            "_view_count": null,
            "_view_module": "@jupyter-widgets/base",
            "_view_module_version": "1.2.0",
            "_view_name": "LayoutView",
            "align_content": null,
            "align_items": null,
            "align_self": null,
            "border": null,
            "bottom": null,
            "display": null,
            "flex": null,
            "flex_flow": null,
            "grid_area": null,
            "grid_auto_columns": null,
            "grid_auto_flow": null,
            "grid_auto_rows": null,
            "grid_column": null,
            "grid_gap": null,
            "grid_row": null,
            "grid_template_areas": null,
            "grid_template_columns": null,
            "grid_template_rows": null,
            "height": null,
            "justify_content": null,
            "justify_items": null,
            "left": null,
            "margin": null,
            "max_height": null,
            "max_width": null,
            "min_height": null,
            "min_width": null,
            "object_fit": null,
            "object_position": null,
            "order": null,
            "overflow": null,
            "overflow_x": null,
            "overflow_y": null,
            "padding": null,
            "right": null,
            "top": null,
            "visibility": null,
            "width": null
          }
        },
        "65e02bf3f0694035bbefb48bbc5a0bdc": {
          "model_module": "@jupyter-widgets/controls",
          "model_name": "ProgressStyleModel",
          "model_module_version": "1.5.0",
          "state": {
            "_model_module": "@jupyter-widgets/controls",
            "_model_module_version": "1.5.0",
            "_model_name": "ProgressStyleModel",
            "_view_count": null,
            "_view_module": "@jupyter-widgets/base",
            "_view_module_version": "1.2.0",
            "_view_name": "StyleView",
            "bar_color": null,
            "description_width": ""
          }
        },
        "9a1d894b0cc342aa86262dc9fb05378f": {
          "model_module": "@jupyter-widgets/base",
          "model_name": "LayoutModel",
          "model_module_version": "1.2.0",
          "state": {
            "_model_module": "@jupyter-widgets/base",
            "_model_module_version": "1.2.0",
            "_model_name": "LayoutModel",
            "_view_count": null,
            "_view_module": "@jupyter-widgets/base",
            "_view_module_version": "1.2.0",
            "_view_name": "LayoutView",
            "align_content": null,
            "align_items": null,
            "align_self": null,
            "border": null,
            "bottom": null,
            "display": null,
            "flex": null,
            "flex_flow": null,
            "grid_area": null,
            "grid_auto_columns": null,
            "grid_auto_flow": null,
            "grid_auto_rows": null,
            "grid_column": null,
            "grid_gap": null,
            "grid_row": null,
            "grid_template_areas": null,
            "grid_template_columns": null,
            "grid_template_rows": null,
            "height": null,
            "justify_content": null,
            "justify_items": null,
            "left": null,
            "margin": null,
            "max_height": null,
            "max_width": null,
            "min_height": null,
            "min_width": null,
            "object_fit": null,
            "object_position": null,
            "order": null,
            "overflow": null,
            "overflow_x": null,
            "overflow_y": null,
            "padding": null,
            "right": null,
            "top": null,
            "visibility": null,
            "width": null
          }
        },
        "5bf4541f554d4c7f888050374e080de8": {
          "model_module": "@jupyter-widgets/controls",
          "model_name": "DescriptionStyleModel",
          "model_module_version": "1.5.0",
          "state": {
            "_model_module": "@jupyter-widgets/controls",
            "_model_module_version": "1.5.0",
            "_model_name": "DescriptionStyleModel",
            "_view_count": null,
            "_view_module": "@jupyter-widgets/base",
            "_view_module_version": "1.2.0",
            "_view_name": "StyleView",
            "description_width": ""
          }
        },
        "d7067a420edd4363a12a646e0c554c30": {
          "model_module": "@jupyter-widgets/controls",
          "model_name": "HBoxModel",
          "model_module_version": "1.5.0",
          "state": {
            "_dom_classes": [],
            "_model_module": "@jupyter-widgets/controls",
            "_model_module_version": "1.5.0",
            "_model_name": "HBoxModel",
            "_view_count": null,
            "_view_module": "@jupyter-widgets/controls",
            "_view_module_version": "1.5.0",
            "_view_name": "HBoxView",
            "box_style": "",
            "children": [
              "IPY_MODEL_f5c8297bd4af4af7b1413c2959e9dbaf",
              "IPY_MODEL_2222846ddc5c442eae54cf37df83393d",
              "IPY_MODEL_436013cf328c4f1f92df2d9e6c35115b"
            ],
            "layout": "IPY_MODEL_59230567876647c1bcb80c176842a966"
          }
        },
        "f5c8297bd4af4af7b1413c2959e9dbaf": {
          "model_module": "@jupyter-widgets/controls",
          "model_name": "HTMLModel",
          "model_module_version": "1.5.0",
          "state": {
            "_dom_classes": [],
            "_model_module": "@jupyter-widgets/controls",
            "_model_module_version": "1.5.0",
            "_model_name": "HTMLModel",
            "_view_count": null,
            "_view_module": "@jupyter-widgets/controls",
            "_view_module_version": "1.5.0",
            "_view_name": "HTMLView",
            "description": "",
            "description_tooltip": null,
            "layout": "IPY_MODEL_c140e48936e44efb83fc9e5fbd6c1aed",
            "placeholder": "​",
            "style": "IPY_MODEL_5b845ee6262248bdb634f99006c7c9b4",
            "value": "tokenizer_config.json: 100%"
          }
        },
        "2222846ddc5c442eae54cf37df83393d": {
          "model_module": "@jupyter-widgets/controls",
          "model_name": "FloatProgressModel",
          "model_module_version": "1.5.0",
          "state": {
            "_dom_classes": [],
            "_model_module": "@jupyter-widgets/controls",
            "_model_module_version": "1.5.0",
            "_model_name": "FloatProgressModel",
            "_view_count": null,
            "_view_module": "@jupyter-widgets/controls",
            "_view_module_version": "1.5.0",
            "_view_name": "ProgressView",
            "bar_style": "success",
            "description": "",
            "description_tooltip": null,
            "layout": "IPY_MODEL_1e8bb6fdc1ec48f9a073a3b5297b11b8",
            "max": 210,
            "min": 0,
            "orientation": "horizontal",
            "style": "IPY_MODEL_3a1d1906b2374bbabaa4588e39286867",
            "value": 210
          }
        },
        "436013cf328c4f1f92df2d9e6c35115b": {
          "model_module": "@jupyter-widgets/controls",
          "model_name": "HTMLModel",
          "model_module_version": "1.5.0",
          "state": {
            "_dom_classes": [],
            "_model_module": "@jupyter-widgets/controls",
            "_model_module_version": "1.5.0",
            "_model_name": "HTMLModel",
            "_view_count": null,
            "_view_module": "@jupyter-widgets/controls",
            "_view_module_version": "1.5.0",
            "_view_name": "HTMLView",
            "description": "",
            "description_tooltip": null,
            "layout": "IPY_MODEL_5bc281963fc3480f806e65d058b585bc",
            "placeholder": "​",
            "style": "IPY_MODEL_434ce56ef2bd4253bd7f443609c951a9",
            "value": " 210/210 [00:00&lt;00:00, 13.2kB/s]"
          }
        },
        "59230567876647c1bcb80c176842a966": {
          "model_module": "@jupyter-widgets/base",
          "model_name": "LayoutModel",
          "model_module_version": "1.2.0",
          "state": {
            "_model_module": "@jupyter-widgets/base",
            "_model_module_version": "1.2.0",
            "_model_name": "LayoutModel",
            "_view_count": null,
            "_view_module": "@jupyter-widgets/base",
            "_view_module_version": "1.2.0",
            "_view_name": "LayoutView",
            "align_content": null,
            "align_items": null,
            "align_self": null,
            "border": null,
            "bottom": null,
            "display": null,
            "flex": null,
            "flex_flow": null,
            "grid_area": null,
            "grid_auto_columns": null,
            "grid_auto_flow": null,
            "grid_auto_rows": null,
            "grid_column": null,
            "grid_gap": null,
            "grid_row": null,
            "grid_template_areas": null,
            "grid_template_columns": null,
            "grid_template_rows": null,
            "height": null,
            "justify_content": null,
            "justify_items": null,
            "left": null,
            "margin": null,
            "max_height": null,
            "max_width": null,
            "min_height": null,
            "min_width": null,
            "object_fit": null,
            "object_position": null,
            "order": null,
            "overflow": null,
            "overflow_x": null,
            "overflow_y": null,
            "padding": null,
            "right": null,
            "top": null,
            "visibility": null,
            "width": null
          }
        },
        "c140e48936e44efb83fc9e5fbd6c1aed": {
          "model_module": "@jupyter-widgets/base",
          "model_name": "LayoutModel",
          "model_module_version": "1.2.0",
          "state": {
            "_model_module": "@jupyter-widgets/base",
            "_model_module_version": "1.2.0",
            "_model_name": "LayoutModel",
            "_view_count": null,
            "_view_module": "@jupyter-widgets/base",
            "_view_module_version": "1.2.0",
            "_view_name": "LayoutView",
            "align_content": null,
            "align_items": null,
            "align_self": null,
            "border": null,
            "bottom": null,
            "display": null,
            "flex": null,
            "flex_flow": null,
            "grid_area": null,
            "grid_auto_columns": null,
            "grid_auto_flow": null,
            "grid_auto_rows": null,
            "grid_column": null,
            "grid_gap": null,
            "grid_row": null,
            "grid_template_areas": null,
            "grid_template_columns": null,
            "grid_template_rows": null,
            "height": null,
            "justify_content": null,
            "justify_items": null,
            "left": null,
            "margin": null,
            "max_height": null,
            "max_width": null,
            "min_height": null,
            "min_width": null,
            "object_fit": null,
            "object_position": null,
            "order": null,
            "overflow": null,
            "overflow_x": null,
            "overflow_y": null,
            "padding": null,
            "right": null,
            "top": null,
            "visibility": null,
            "width": null
          }
        },
        "5b845ee6262248bdb634f99006c7c9b4": {
          "model_module": "@jupyter-widgets/controls",
          "model_name": "DescriptionStyleModel",
          "model_module_version": "1.5.0",
          "state": {
            "_model_module": "@jupyter-widgets/controls",
            "_model_module_version": "1.5.0",
            "_model_name": "DescriptionStyleModel",
            "_view_count": null,
            "_view_module": "@jupyter-widgets/base",
            "_view_module_version": "1.2.0",
            "_view_name": "StyleView",
            "description_width": ""
          }
        },
        "1e8bb6fdc1ec48f9a073a3b5297b11b8": {
          "model_module": "@jupyter-widgets/base",
          "model_name": "LayoutModel",
          "model_module_version": "1.2.0",
          "state": {
            "_model_module": "@jupyter-widgets/base",
            "_model_module_version": "1.2.0",
            "_model_name": "LayoutModel",
            "_view_count": null,
            "_view_module": "@jupyter-widgets/base",
            "_view_module_version": "1.2.0",
            "_view_name": "LayoutView",
            "align_content": null,
            "align_items": null,
            "align_self": null,
            "border": null,
            "bottom": null,
            "display": null,
            "flex": null,
            "flex_flow": null,
            "grid_area": null,
            "grid_auto_columns": null,
            "grid_auto_flow": null,
            "grid_auto_rows": null,
            "grid_column": null,
            "grid_gap": null,
            "grid_row": null,
            "grid_template_areas": null,
            "grid_template_columns": null,
            "grid_template_rows": null,
            "height": null,
            "justify_content": null,
            "justify_items": null,
            "left": null,
            "margin": null,
            "max_height": null,
            "max_width": null,
            "min_height": null,
            "min_width": null,
            "object_fit": null,
            "object_position": null,
            "order": null,
            "overflow": null,
            "overflow_x": null,
            "overflow_y": null,
            "padding": null,
            "right": null,
            "top": null,
            "visibility": null,
            "width": null
          }
        },
        "3a1d1906b2374bbabaa4588e39286867": {
          "model_module": "@jupyter-widgets/controls",
          "model_name": "ProgressStyleModel",
          "model_module_version": "1.5.0",
          "state": {
            "_model_module": "@jupyter-widgets/controls",
            "_model_module_version": "1.5.0",
            "_model_name": "ProgressStyleModel",
            "_view_count": null,
            "_view_module": "@jupyter-widgets/base",
            "_view_module_version": "1.2.0",
            "_view_name": "StyleView",
            "bar_color": null,
            "description_width": ""
          }
        },
        "5bc281963fc3480f806e65d058b585bc": {
          "model_module": "@jupyter-widgets/base",
          "model_name": "LayoutModel",
          "model_module_version": "1.2.0",
          "state": {
            "_model_module": "@jupyter-widgets/base",
            "_model_module_version": "1.2.0",
            "_model_name": "LayoutModel",
            "_view_count": null,
            "_view_module": "@jupyter-widgets/base",
            "_view_module_version": "1.2.0",
            "_view_name": "LayoutView",
            "align_content": null,
            "align_items": null,
            "align_self": null,
            "border": null,
            "bottom": null,
            "display": null,
            "flex": null,
            "flex_flow": null,
            "grid_area": null,
            "grid_auto_columns": null,
            "grid_auto_flow": null,
            "grid_auto_rows": null,
            "grid_column": null,
            "grid_gap": null,
            "grid_row": null,
            "grid_template_areas": null,
            "grid_template_columns": null,
            "grid_template_rows": null,
            "height": null,
            "justify_content": null,
            "justify_items": null,
            "left": null,
            "margin": null,
            "max_height": null,
            "max_width": null,
            "min_height": null,
            "min_width": null,
            "object_fit": null,
            "object_position": null,
            "order": null,
            "overflow": null,
            "overflow_x": null,
            "overflow_y": null,
            "padding": null,
            "right": null,
            "top": null,
            "visibility": null,
            "width": null
          }
        },
        "434ce56ef2bd4253bd7f443609c951a9": {
          "model_module": "@jupyter-widgets/controls",
          "model_name": "DescriptionStyleModel",
          "model_module_version": "1.5.0",
          "state": {
            "_model_module": "@jupyter-widgets/controls",
            "_model_module_version": "1.5.0",
            "_model_name": "DescriptionStyleModel",
            "_view_count": null,
            "_view_module": "@jupyter-widgets/base",
            "_view_module_version": "1.2.0",
            "_view_name": "StyleView",
            "description_width": ""
          }
        },
        "0975492fa5644ee39b0adb9acaef55b5": {
          "model_module": "@jupyter-widgets/controls",
          "model_name": "HBoxModel",
          "model_module_version": "1.5.0",
          "state": {
            "_dom_classes": [],
            "_model_module": "@jupyter-widgets/controls",
            "_model_module_version": "1.5.0",
            "_model_name": "HBoxModel",
            "_view_count": null,
            "_view_module": "@jupyter-widgets/controls",
            "_view_module_version": "1.5.0",
            "_view_name": "HBoxView",
            "box_style": "",
            "children": [
              "IPY_MODEL_875c7624e51d48bd84f0869d124660fd",
              "IPY_MODEL_fea6219c6a9e48968a51c865a91d8ace",
              "IPY_MODEL_61c4ac9562f04d30be7c3c1f35b8ff7d"
            ],
            "layout": "IPY_MODEL_4879cfa82828455da07351a27102ee36"
          }
        },
        "875c7624e51d48bd84f0869d124660fd": {
          "model_module": "@jupyter-widgets/controls",
          "model_name": "HTMLModel",
          "model_module_version": "1.5.0",
          "state": {
            "_dom_classes": [],
            "_model_module": "@jupyter-widgets/controls",
            "_model_module_version": "1.5.0",
            "_model_name": "HTMLModel",
            "_view_count": null,
            "_view_module": "@jupyter-widgets/controls",
            "_view_module_version": "1.5.0",
            "_view_name": "HTMLView",
            "description": "",
            "description_tooltip": null,
            "layout": "IPY_MODEL_fdc60ebdf4124951aa4bf983f1dce99a",
            "placeholder": "​",
            "style": "IPY_MODEL_55f28c8974a5450ea45fdd5f7fd0cc5f",
            "value": "tokenizer.json: 100%"
          }
        },
        "fea6219c6a9e48968a51c865a91d8ace": {
          "model_module": "@jupyter-widgets/controls",
          "model_name": "FloatProgressModel",
          "model_module_version": "1.5.0",
          "state": {
            "_dom_classes": [],
            "_model_module": "@jupyter-widgets/controls",
            "_model_module_version": "1.5.0",
            "_model_name": "FloatProgressModel",
            "_view_count": null,
            "_view_module": "@jupyter-widgets/controls",
            "_view_module_version": "1.5.0",
            "_view_name": "ProgressView",
            "bar_style": "success",
            "description": "",
            "description_tooltip": null,
            "layout": "IPY_MODEL_4d0517504170480ebf90318e61fe85fb",
            "max": 1652185,
            "min": 0,
            "orientation": "horizontal",
            "style": "IPY_MODEL_9bebdc38799a420f96eddd9edfe66aa0",
            "value": 1652185
          }
        },
        "61c4ac9562f04d30be7c3c1f35b8ff7d": {
          "model_module": "@jupyter-widgets/controls",
          "model_name": "HTMLModel",
          "model_module_version": "1.5.0",
          "state": {
            "_dom_classes": [],
            "_model_module": "@jupyter-widgets/controls",
            "_model_module_version": "1.5.0",
            "_model_name": "HTMLModel",
            "_view_count": null,
            "_view_module": "@jupyter-widgets/controls",
            "_view_module_version": "1.5.0",
            "_view_name": "HTMLView",
            "description": "",
            "description_tooltip": null,
            "layout": "IPY_MODEL_4b236fcc154a4c45a439db4eb542cff3",
            "placeholder": "​",
            "style": "IPY_MODEL_85c43d40fb394cafa7869671f946e05d",
            "value": " 1.65M/1.65M [00:00&lt;00:00, 2.11MB/s]"
          }
        },
        "4879cfa82828455da07351a27102ee36": {
          "model_module": "@jupyter-widgets/base",
          "model_name": "LayoutModel",
          "model_module_version": "1.2.0",
          "state": {
            "_model_module": "@jupyter-widgets/base",
            "_model_module_version": "1.2.0",
            "_model_name": "LayoutModel",
            "_view_count": null,
            "_view_module": "@jupyter-widgets/base",
            "_view_module_version": "1.2.0",
            "_view_name": "LayoutView",
            "align_content": null,
            "align_items": null,
            "align_self": null,
            "border": null,
            "bottom": null,
            "display": null,
            "flex": null,
            "flex_flow": null,
            "grid_area": null,
            "grid_auto_columns": null,
            "grid_auto_flow": null,
            "grid_auto_rows": null,
            "grid_column": null,
            "grid_gap": null,
            "grid_row": null,
            "grid_template_areas": null,
            "grid_template_columns": null,
            "grid_template_rows": null,
            "height": null,
            "justify_content": null,
            "justify_items": null,
            "left": null,
            "margin": null,
            "max_height": null,
            "max_width": null,
            "min_height": null,
            "min_width": null,
            "object_fit": null,
            "object_position": null,
            "order": null,
            "overflow": null,
            "overflow_x": null,
            "overflow_y": null,
            "padding": null,
            "right": null,
            "top": null,
            "visibility": null,
            "width": null
          }
        },
        "fdc60ebdf4124951aa4bf983f1dce99a": {
          "model_module": "@jupyter-widgets/base",
          "model_name": "LayoutModel",
          "model_module_version": "1.2.0",
          "state": {
            "_model_module": "@jupyter-widgets/base",
            "_model_module_version": "1.2.0",
            "_model_name": "LayoutModel",
            "_view_count": null,
            "_view_module": "@jupyter-widgets/base",
            "_view_module_version": "1.2.0",
            "_view_name": "LayoutView",
            "align_content": null,
            "align_items": null,
            "align_self": null,
            "border": null,
            "bottom": null,
            "display": null,
            "flex": null,
            "flex_flow": null,
            "grid_area": null,
            "grid_auto_columns": null,
            "grid_auto_flow": null,
            "grid_auto_rows": null,
            "grid_column": null,
            "grid_gap": null,
            "grid_row": null,
            "grid_template_areas": null,
            "grid_template_columns": null,
            "grid_template_rows": null,
            "height": null,
            "justify_content": null,
            "justify_items": null,
            "left": null,
            "margin": null,
            "max_height": null,
            "max_width": null,
            "min_height": null,
            "min_width": null,
            "object_fit": null,
            "object_position": null,
            "order": null,
            "overflow": null,
            "overflow_x": null,
            "overflow_y": null,
            "padding": null,
            "right": null,
            "top": null,
            "visibility": null,
            "width": null
          }
        },
        "55f28c8974a5450ea45fdd5f7fd0cc5f": {
          "model_module": "@jupyter-widgets/controls",
          "model_name": "DescriptionStyleModel",
          "model_module_version": "1.5.0",
          "state": {
            "_model_module": "@jupyter-widgets/controls",
            "_model_module_version": "1.5.0",
            "_model_name": "DescriptionStyleModel",
            "_view_count": null,
            "_view_module": "@jupyter-widgets/base",
            "_view_module_version": "1.2.0",
            "_view_name": "StyleView",
            "description_width": ""
          }
        },
        "4d0517504170480ebf90318e61fe85fb": {
          "model_module": "@jupyter-widgets/base",
          "model_name": "LayoutModel",
          "model_module_version": "1.2.0",
          "state": {
            "_model_module": "@jupyter-widgets/base",
            "_model_module_version": "1.2.0",
            "_model_name": "LayoutModel",
            "_view_count": null,
            "_view_module": "@jupyter-widgets/base",
            "_view_module_version": "1.2.0",
            "_view_name": "LayoutView",
            "align_content": null,
            "align_items": null,
            "align_self": null,
            "border": null,
            "bottom": null,
            "display": null,
            "flex": null,
            "flex_flow": null,
            "grid_area": null,
            "grid_auto_columns": null,
            "grid_auto_flow": null,
            "grid_auto_rows": null,
            "grid_column": null,
            "grid_gap": null,
            "grid_row": null,
            "grid_template_areas": null,
            "grid_template_columns": null,
            "grid_template_rows": null,
            "height": null,
            "justify_content": null,
            "justify_items": null,
            "left": null,
            "margin": null,
            "max_height": null,
            "max_width": null,
            "min_height": null,
            "min_width": null,
            "object_fit": null,
            "object_position": null,
            "order": null,
            "overflow": null,
            "overflow_x": null,
            "overflow_y": null,
            "padding": null,
            "right": null,
            "top": null,
            "visibility": null,
            "width": null
          }
        },
        "9bebdc38799a420f96eddd9edfe66aa0": {
          "model_module": "@jupyter-widgets/controls",
          "model_name": "ProgressStyleModel",
          "model_module_version": "1.5.0",
          "state": {
            "_model_module": "@jupyter-widgets/controls",
            "_model_module_version": "1.5.0",
            "_model_name": "ProgressStyleModel",
            "_view_count": null,
            "_view_module": "@jupyter-widgets/base",
            "_view_module_version": "1.2.0",
            "_view_name": "StyleView",
            "bar_color": null,
            "description_width": ""
          }
        },
        "4b236fcc154a4c45a439db4eb542cff3": {
          "model_module": "@jupyter-widgets/base",
          "model_name": "LayoutModel",
          "model_module_version": "1.2.0",
          "state": {
            "_model_module": "@jupyter-widgets/base",
            "_model_module_version": "1.2.0",
            "_model_name": "LayoutModel",
            "_view_count": null,
            "_view_module": "@jupyter-widgets/base",
            "_view_module_version": "1.2.0",
            "_view_name": "LayoutView",
            "align_content": null,
            "align_items": null,
            "align_self": null,
            "border": null,
            "bottom": null,
            "display": null,
            "flex": null,
            "flex_flow": null,
            "grid_area": null,
            "grid_auto_columns": null,
            "grid_auto_flow": null,
            "grid_auto_rows": null,
            "grid_column": null,
            "grid_gap": null,
            "grid_row": null,
            "grid_template_areas": null,
            "grid_template_columns": null,
            "grid_template_rows": null,
            "height": null,
            "justify_content": null,
            "justify_items": null,
            "left": null,
            "margin": null,
            "max_height": null,
            "max_width": null,
            "min_height": null,
            "min_width": null,
            "object_fit": null,
            "object_position": null,
            "order": null,
            "overflow": null,
            "overflow_x": null,
            "overflow_y": null,
            "padding": null,
            "right": null,
            "top": null,
            "visibility": null,
            "width": null
          }
        },
        "85c43d40fb394cafa7869671f946e05d": {
          "model_module": "@jupyter-widgets/controls",
          "model_name": "DescriptionStyleModel",
          "model_module_version": "1.5.0",
          "state": {
            "_model_module": "@jupyter-widgets/controls",
            "_model_module_version": "1.5.0",
            "_model_name": "DescriptionStyleModel",
            "_view_count": null,
            "_view_module": "@jupyter-widgets/base",
            "_view_module_version": "1.2.0",
            "_view_name": "StyleView",
            "description_width": ""
          }
        },
        "8715b256ecc7461681f9e2981c3b3855": {
          "model_module": "@jupyter-widgets/controls",
          "model_name": "HBoxModel",
          "model_module_version": "1.5.0",
          "state": {
            "_dom_classes": [],
            "_model_module": "@jupyter-widgets/controls",
            "_model_module_version": "1.5.0",
            "_model_name": "HBoxModel",
            "_view_count": null,
            "_view_module": "@jupyter-widgets/controls",
            "_view_module_version": "1.5.0",
            "_view_name": "HBoxView",
            "box_style": "",
            "children": [
              "IPY_MODEL_2c38428634c44c66b49cfb30c8410ff1",
              "IPY_MODEL_0731757287ac4be5b05fa45cae7281e9",
              "IPY_MODEL_2612ca0ea4424256b56c6ee4835e98b2"
            ],
            "layout": "IPY_MODEL_d47a4bae7307492886fec1736a4a839f"
          }
        },
        "2c38428634c44c66b49cfb30c8410ff1": {
          "model_module": "@jupyter-widgets/controls",
          "model_name": "HTMLModel",
          "model_module_version": "1.5.0",
          "state": {
            "_dom_classes": [],
            "_model_module": "@jupyter-widgets/controls",
            "_model_module_version": "1.5.0",
            "_model_name": "HTMLModel",
            "_view_count": null,
            "_view_module": "@jupyter-widgets/controls",
            "_view_module_version": "1.5.0",
            "_view_name": "HTMLView",
            "description": "",
            "description_tooltip": null,
            "layout": "IPY_MODEL_e357a73296b1493b9241b331c96d0ec5",
            "placeholder": "​",
            "style": "IPY_MODEL_4adfacc75acf491f9a65eb1d8aa91e93",
            "value": "special_tokens_map.json: 100%"
          }
        },
        "0731757287ac4be5b05fa45cae7281e9": {
          "model_module": "@jupyter-widgets/controls",
          "model_name": "FloatProgressModel",
          "model_module_version": "1.5.0",
          "state": {
            "_dom_classes": [],
            "_model_module": "@jupyter-widgets/controls",
            "_model_module_version": "1.5.0",
            "_model_name": "FloatProgressModel",
            "_view_count": null,
            "_view_module": "@jupyter-widgets/controls",
            "_view_module_version": "1.5.0",
            "_view_name": "ProgressView",
            "bar_style": "success",
            "description": "",
            "description_tooltip": null,
            "layout": "IPY_MODEL_0f8ab10a72b84400a60fdf74428591cd",
            "max": 185,
            "min": 0,
            "orientation": "horizontal",
            "style": "IPY_MODEL_6c6ac76d19124d26945fb1100248f76d",
            "value": 185
          }
        },
        "2612ca0ea4424256b56c6ee4835e98b2": {
          "model_module": "@jupyter-widgets/controls",
          "model_name": "HTMLModel",
          "model_module_version": "1.5.0",
          "state": {
            "_dom_classes": [],
            "_model_module": "@jupyter-widgets/controls",
            "_model_module_version": "1.5.0",
            "_model_name": "HTMLModel",
            "_view_count": null,
            "_view_module": "@jupyter-widgets/controls",
            "_view_module_version": "1.5.0",
            "_view_name": "HTMLView",
            "description": "",
            "description_tooltip": null,
            "layout": "IPY_MODEL_799308aa46d2461eb2e97549b0c33463",
            "placeholder": "​",
            "style": "IPY_MODEL_62e900cd16484c5eb6bc218baa26510b",
            "value": " 185/185 [00:00&lt;00:00, 13.2kB/s]"
          }
        },
        "d47a4bae7307492886fec1736a4a839f": {
          "model_module": "@jupyter-widgets/base",
          "model_name": "LayoutModel",
          "model_module_version": "1.2.0",
          "state": {
            "_model_module": "@jupyter-widgets/base",
            "_model_module_version": "1.2.0",
            "_model_name": "LayoutModel",
            "_view_count": null,
            "_view_module": "@jupyter-widgets/base",
            "_view_module_version": "1.2.0",
            "_view_name": "LayoutView",
            "align_content": null,
            "align_items": null,
            "align_self": null,
            "border": null,
            "bottom": null,
            "display": null,
            "flex": null,
            "flex_flow": null,
            "grid_area": null,
            "grid_auto_columns": null,
            "grid_auto_flow": null,
            "grid_auto_rows": null,
            "grid_column": null,
            "grid_gap": null,
            "grid_row": null,
            "grid_template_areas": null,
            "grid_template_columns": null,
            "grid_template_rows": null,
            "height": null,
            "justify_content": null,
            "justify_items": null,
            "left": null,
            "margin": null,
            "max_height": null,
            "max_width": null,
            "min_height": null,
            "min_width": null,
            "object_fit": null,
            "object_position": null,
            "order": null,
            "overflow": null,
            "overflow_x": null,
            "overflow_y": null,
            "padding": null,
            "right": null,
            "top": null,
            "visibility": null,
            "width": null
          }
        },
        "e357a73296b1493b9241b331c96d0ec5": {
          "model_module": "@jupyter-widgets/base",
          "model_name": "LayoutModel",
          "model_module_version": "1.2.0",
          "state": {
            "_model_module": "@jupyter-widgets/base",
            "_model_module_version": "1.2.0",
            "_model_name": "LayoutModel",
            "_view_count": null,
            "_view_module": "@jupyter-widgets/base",
            "_view_module_version": "1.2.0",
            "_view_name": "LayoutView",
            "align_content": null,
            "align_items": null,
            "align_self": null,
            "border": null,
            "bottom": null,
            "display": null,
            "flex": null,
            "flex_flow": null,
            "grid_area": null,
            "grid_auto_columns": null,
            "grid_auto_flow": null,
            "grid_auto_rows": null,
            "grid_column": null,
            "grid_gap": null,
            "grid_row": null,
            "grid_template_areas": null,
            "grid_template_columns": null,
            "grid_template_rows": null,
            "height": null,
            "justify_content": null,
            "justify_items": null,
            "left": null,
            "margin": null,
            "max_height": null,
            "max_width": null,
            "min_height": null,
            "min_width": null,
            "object_fit": null,
            "object_position": null,
            "order": null,
            "overflow": null,
            "overflow_x": null,
            "overflow_y": null,
            "padding": null,
            "right": null,
            "top": null,
            "visibility": null,
            "width": null
          }
        },
        "4adfacc75acf491f9a65eb1d8aa91e93": {
          "model_module": "@jupyter-widgets/controls",
          "model_name": "DescriptionStyleModel",
          "model_module_version": "1.5.0",
          "state": {
            "_model_module": "@jupyter-widgets/controls",
            "_model_module_version": "1.5.0",
            "_model_name": "DescriptionStyleModel",
            "_view_count": null,
            "_view_module": "@jupyter-widgets/base",
            "_view_module_version": "1.2.0",
            "_view_name": "StyleView",
            "description_width": ""
          }
        },
        "0f8ab10a72b84400a60fdf74428591cd": {
          "model_module": "@jupyter-widgets/base",
          "model_name": "LayoutModel",
          "model_module_version": "1.2.0",
          "state": {
            "_model_module": "@jupyter-widgets/base",
            "_model_module_version": "1.2.0",
            "_model_name": "LayoutModel",
            "_view_count": null,
            "_view_module": "@jupyter-widgets/base",
            "_view_module_version": "1.2.0",
            "_view_name": "LayoutView",
            "align_content": null,
            "align_items": null,
            "align_self": null,
            "border": null,
            "bottom": null,
            "display": null,
            "flex": null,
            "flex_flow": null,
            "grid_area": null,
            "grid_auto_columns": null,
            "grid_auto_flow": null,
            "grid_auto_rows": null,
            "grid_column": null,
            "grid_gap": null,
            "grid_row": null,
            "grid_template_areas": null,
            "grid_template_columns": null,
            "grid_template_rows": null,
            "height": null,
            "justify_content": null,
            "justify_items": null,
            "left": null,
            "margin": null,
            "max_height": null,
            "max_width": null,
            "min_height": null,
            "min_width": null,
            "object_fit": null,
            "object_position": null,
            "order": null,
            "overflow": null,
            "overflow_x": null,
            "overflow_y": null,
            "padding": null,
            "right": null,
            "top": null,
            "visibility": null,
            "width": null
          }
        },
        "6c6ac76d19124d26945fb1100248f76d": {
          "model_module": "@jupyter-widgets/controls",
          "model_name": "ProgressStyleModel",
          "model_module_version": "1.5.0",
          "state": {
            "_model_module": "@jupyter-widgets/controls",
            "_model_module_version": "1.5.0",
            "_model_name": "ProgressStyleModel",
            "_view_count": null,
            "_view_module": "@jupyter-widgets/base",
            "_view_module_version": "1.2.0",
            "_view_name": "StyleView",
            "bar_color": null,
            "description_width": ""
          }
        },
        "799308aa46d2461eb2e97549b0c33463": {
          "model_module": "@jupyter-widgets/base",
          "model_name": "LayoutModel",
          "model_module_version": "1.2.0",
          "state": {
            "_model_module": "@jupyter-widgets/base",
            "_model_module_version": "1.2.0",
            "_model_name": "LayoutModel",
            "_view_count": null,
            "_view_module": "@jupyter-widgets/base",
            "_view_module_version": "1.2.0",
            "_view_name": "LayoutView",
            "align_content": null,
            "align_items": null,
            "align_self": null,
            "border": null,
            "bottom": null,
            "display": null,
            "flex": null,
            "flex_flow": null,
            "grid_area": null,
            "grid_auto_columns": null,
            "grid_auto_flow": null,
            "grid_auto_rows": null,
            "grid_column": null,
            "grid_gap": null,
            "grid_row": null,
            "grid_template_areas": null,
            "grid_template_columns": null,
            "grid_template_rows": null,
            "height": null,
            "justify_content": null,
            "justify_items": null,
            "left": null,
            "margin": null,
            "max_height": null,
            "max_width": null,
            "min_height": null,
            "min_width": null,
            "object_fit": null,
            "object_position": null,
            "order": null,
            "overflow": null,
            "overflow_x": null,
            "overflow_y": null,
            "padding": null,
            "right": null,
            "top": null,
            "visibility": null,
            "width": null
          }
        },
        "62e900cd16484c5eb6bc218baa26510b": {
          "model_module": "@jupyter-widgets/controls",
          "model_name": "DescriptionStyleModel",
          "model_module_version": "1.5.0",
          "state": {
            "_model_module": "@jupyter-widgets/controls",
            "_model_module_version": "1.5.0",
            "_model_name": "DescriptionStyleModel",
            "_view_count": null,
            "_view_module": "@jupyter-widgets/base",
            "_view_module_version": "1.2.0",
            "_view_name": "StyleView",
            "description_width": ""
          }
        }
      }
    }
  },
  "cells": [
    {
      "cell_type": "markdown",
      "metadata": {
        "id": "view-in-github",
        "colab_type": "text"
      },
      "source": [
        "<a href=\"https://colab.research.google.com/github/SojeongShin/NLP_2023/blob/main/14_1_GPT.ipynb\" target=\"_parent\"><img src=\"https://colab.research.google.com/assets/colab-badge.svg\" alt=\"Open In Colab\"/></a>"
      ]
    },
    {
      "cell_type": "markdown",
      "source": [
        "# [자연어처리]\n",
        "# 14주차(14-1). GPT"
      ],
      "metadata": {
        "id": "EkFDe8fd-i87"
      }
    },
    {
      "cell_type": "markdown",
      "source": [
        "# 202001581 신소정 <- 본인의 학번, 이름으로 변경하여 제출\n",
        "* **모든 셀 실행** 후 제출하시기 바랍니다.\n",
        "* **실습 (14-1)**이 있습니다. (제출 기한: 12/5(화) 23시 59분까지)"
      ],
      "metadata": {
        "id": "Kts--kjE-lbo"
      }
    },
    {
      "cell_type": "markdown",
      "source": [
        "# 이제 Colab 사용에 모든 수강생분들이 어느정도 익숙해 졌을 거라 생각됩니다!\n",
        "> ##### 중간 중간 **'### ... 이 부분을 완성하시오'** 라는 부분의 코드를 완성해야 합니다.\n",
        "\n",
        "\n"
      ],
      "metadata": {
        "id": "rbCwvL4N-nJN"
      }
    },
    {
      "cell_type": "markdown",
      "source": [
        "참고 자료 : https://huggingface.co/blog/how-to-generate"
      ],
      "metadata": {
        "id": "57lSa__Mwv4H"
      }
    },
    {
      "cell_type": "markdown",
      "source": [
        "사전 학습된 한국어 GPT-2를 이용하여 다음 문장 예측을 실습해봅시다. 이번 실습을 위해서만이 아니라 앞으로 사전 학습된 GPT를 사용할 때는 transformers라는 패키지를 자주 사용하게 됩니다. 실습 환경에 transformers 패키지를 설치해둡시다."
      ],
      "metadata": {
        "id": "ZAhqEp-ZZW9-"
      }
    },
    {
      "cell_type": "code",
      "metadata": {
        "id": "qVRPI40E9p60",
        "colab": {
          "base_uri": "https://localhost:8080/"
        },
        "outputId": "7a1ff083-d862-4fb8-cd13-6a3a2cfbe91a"
      },
      "source": [
        "! pip install transformers ### ... 이 부분을 완성하시오"
      ],
      "execution_count": 2,
      "outputs": [
        {
          "output_type": "stream",
          "name": "stdout",
          "text": [
            "Requirement already satisfied: transformers in /usr/local/lib/python3.10/dist-packages (4.35.2)\n",
            "Requirement already satisfied: filelock in /usr/local/lib/python3.10/dist-packages (from transformers) (3.13.1)\n",
            "Requirement already satisfied: huggingface-hub<1.0,>=0.16.4 in /usr/local/lib/python3.10/dist-packages (from transformers) (0.19.4)\n",
            "Requirement already satisfied: numpy>=1.17 in /usr/local/lib/python3.10/dist-packages (from transformers) (1.23.5)\n",
            "Requirement already satisfied: packaging>=20.0 in /usr/local/lib/python3.10/dist-packages (from transformers) (23.2)\n",
            "Requirement already satisfied: pyyaml>=5.1 in /usr/local/lib/python3.10/dist-packages (from transformers) (6.0.1)\n",
            "Requirement already satisfied: regex!=2019.12.17 in /usr/local/lib/python3.10/dist-packages (from transformers) (2023.6.3)\n",
            "Requirement already satisfied: requests in /usr/local/lib/python3.10/dist-packages (from transformers) (2.31.0)\n",
            "Requirement already satisfied: tokenizers<0.19,>=0.14 in /usr/local/lib/python3.10/dist-packages (from transformers) (0.15.0)\n",
            "Requirement already satisfied: safetensors>=0.3.1 in /usr/local/lib/python3.10/dist-packages (from transformers) (0.4.1)\n",
            "Requirement already satisfied: tqdm>=4.27 in /usr/local/lib/python3.10/dist-packages (from transformers) (4.66.1)\n",
            "Requirement already satisfied: fsspec>=2023.5.0 in /usr/local/lib/python3.10/dist-packages (from huggingface-hub<1.0,>=0.16.4->transformers) (2023.6.0)\n",
            "Requirement already satisfied: typing-extensions>=3.7.4.3 in /usr/local/lib/python3.10/dist-packages (from huggingface-hub<1.0,>=0.16.4->transformers) (4.5.0)\n",
            "Requirement already satisfied: charset-normalizer<4,>=2 in /usr/local/lib/python3.10/dist-packages (from requests->transformers) (3.3.2)\n",
            "Requirement already satisfied: idna<4,>=2.5 in /usr/local/lib/python3.10/dist-packages (from requests->transformers) (3.6)\n",
            "Requirement already satisfied: urllib3<3,>=1.21.1 in /usr/local/lib/python3.10/dist-packages (from requests->transformers) (2.0.7)\n",
            "Requirement already satisfied: certifi>=2017.4.17 in /usr/local/lib/python3.10/dist-packages (from requests->transformers) (2023.11.17)\n"
          ]
        }
      ]
    },
    {
      "cell_type": "markdown",
      "source": [
        "# [런타임] - [런타임 유형 변경] - [T4 GPU]"
      ],
      "metadata": {
        "id": "56_Fax_f-je1"
      }
    },
    {
      "cell_type": "markdown",
      "source": [
        "# 1. KoGPT2로 문장 생성하기"
      ],
      "metadata": {
        "id": "jsMlHYSWxgwn"
      }
    },
    {
      "cell_type": "markdown",
      "source": [
        "transformers 패키지를 사용하여 모델과 토크나이저를 로드합니다. BERT와 마찬가지로 GPT는 이미 누군가가 학습해둔 모델을 사용하는 것이므로 우리가 사용하는 모델과 토크나이저는 항상 맵핑 관계여야 합니다."
      ],
      "metadata": {
        "id": "75N_rsmgZbq8"
      }
    },
    {
      "cell_type": "code",
      "metadata": {
        "id": "_v74ax3U92dc"
      },
      "source": [
        "import tensorflow as tf\n",
        "from transformers import AutoTokenizer\n",
        "from transformers import TFGPT2LMHeadModel"
      ],
      "execution_count": 3,
      "outputs": []
    },
    {
      "cell_type": "markdown",
      "source": [
        "TFGPT2LMHeadModel.from_pretrained('GPT 모델 이름')을 넣으면 두 개의 문장이 이어지는 문장 관계인지 여부를 판단하는 GPT 구조를 로드합니다. AutoTokenizer.from_pretrained('모델 이름')을 넣으면 해당 모델이 학습되었을 당시에 사용되었던 토크나이저를 로드합니다."
      ],
      "metadata": {
        "id": "9S5Dv-KPZf6l"
      }
    },
    {
      "cell_type": "code",
      "source": [
        "tokenizer = AutoTokenizer.from_pretrained('skt/kogpt2-base-v2') ### ... 이 부분을 완성하시오"
      ],
      "metadata": {
        "id": "OjQp-aJu1A8Y",
        "colab": {
          "base_uri": "https://localhost:8080/",
          "height": 81,
          "referenced_widgets": [
            "b315206092764f13b606da6b1ae2dfad",
            "077212b6923947a3a7697519b770a1cf",
            "77684bcbba9344cb9933b27d2dc477c5",
            "f30e0faca658426ea13c2a59f72d10b2",
            "5e0b8cb2163d48b78f5a21bc748e2351",
            "469c1d3453e94d3b8f53e8f5b833a461",
            "6929c2d96e8b404b90bde5476058855a",
            "0968346354514f55b44afcdbf882d285",
            "d2434928d6d84cb4ad6ac7686bccc035",
            "2deb267c677f4902a8ca2946a2f464b1",
            "d4898ea6563e428c919b5c2a42ac42fb",
            "76bc2f6a8a904ba3af36e6b664f83024",
            "fa585ae9659d48c9b30526b4bc5105ea",
            "6369d06751624fbd9cecc0a8ad25f44e",
            "ce641c60de9f4c0eb908b6af83dc10d1",
            "b680140b9dd74a1786a281c7f1c844ea",
            "750a320bfd6046ea879713414e7285d1",
            "de126159c84244db8ea93670277fe2b6",
            "3168b311310e408d8ef5565d1fa7d54c",
            "db225bbd6a524c0bbd3227fc846455d7",
            "ec3544a5508c4b31b57e3634b9cb0939",
            "cf0ec27fe0f6415785851554dc1d7a43"
          ]
        },
        "outputId": "60470240-c893-40a4-eac8-d80940461adc"
      },
      "execution_count": 4,
      "outputs": [
        {
          "output_type": "display_data",
          "data": {
            "text/plain": [
              "config.json:   0%|          | 0.00/1.00k [00:00<?, ?B/s]"
            ],
            "application/vnd.jupyter.widget-view+json": {
              "version_major": 2,
              "version_minor": 0,
              "model_id": "b315206092764f13b606da6b1ae2dfad"
            }
          },
          "metadata": {}
        },
        {
          "output_type": "display_data",
          "data": {
            "text/plain": [
              "tokenizer.json:   0%|          | 0.00/2.83M [00:00<?, ?B/s]"
            ],
            "application/vnd.jupyter.widget-view+json": {
              "version_major": 2,
              "version_minor": 0,
              "model_id": "76bc2f6a8a904ba3af36e6b664f83024"
            }
          },
          "metadata": {}
        }
      ]
    },
    {
      "cell_type": "code",
      "source": [
        "model = TFGPT2LMHeadModel.from_pretrained('skt/kogpt2-base-v2', from_pt=True) ### ... 이 부분을 완성하시오"
      ],
      "metadata": {
        "id": "-B_owlsn1D85",
        "colab": {
          "base_uri": "https://localhost:8080/",
          "height": 161,
          "referenced_widgets": [
            "26a043e4a61143fbbaa2b736ec2fb1ca",
            "3bcc949342b641c489b9f9d19c54a341",
            "84af3950a0bc46b98f38bbe6ec227c4c",
            "b61c87f537f54f89914abbdd7a155a12",
            "a77abf2bfe7b4d5b8179f0d9f962455e",
            "44e1704e89104410a4dd5d162a49b158",
            "07bcc28a076e4b2598bc51e1af992945",
            "bad1f811954f4e2798de0d4919ac3093",
            "f3a0e63098dd402a881af12589e86f70",
            "22b05ec1b75a48449a55ebaaece638aa",
            "9debc418be1946328d7196f6b466020e"
          ]
        },
        "outputId": "bfb33680-241c-4c04-e25b-8fc196bbb450"
      },
      "execution_count": 5,
      "outputs": [
        {
          "output_type": "display_data",
          "data": {
            "text/plain": [
              "pytorch_model.bin:   0%|          | 0.00/513M [00:00<?, ?B/s]"
            ],
            "application/vnd.jupyter.widget-view+json": {
              "version_major": 2,
              "version_minor": 0,
              "model_id": "26a043e4a61143fbbaa2b736ec2fb1ca"
            }
          },
          "metadata": {}
        },
        {
          "output_type": "stream",
          "name": "stderr",
          "text": [
            "Some weights of the PyTorch model were not used when initializing the TF 2.0 model TFGPT2LMHeadModel: ['transformer.h.10.attn.masked_bias', 'transformer.h.2.attn.masked_bias', 'transformer.h.0.attn.masked_bias', 'transformer.h.1.attn.masked_bias', 'transformer.h.11.attn.masked_bias', 'transformer.h.4.attn.masked_bias', 'transformer.h.6.attn.masked_bias', 'transformer.h.8.attn.masked_bias', 'transformer.h.9.attn.masked_bias', 'transformer.h.7.attn.masked_bias', 'transformer.h.5.attn.masked_bias', 'transformer.h.3.attn.masked_bias', 'lm_head.weight']\n",
            "- This IS expected if you are initializing TFGPT2LMHeadModel from a PyTorch model trained on another task or with another architecture (e.g. initializing a TFBertForSequenceClassification model from a BertForPreTraining model).\n",
            "- This IS NOT expected if you are initializing TFGPT2LMHeadModel from a PyTorch model that you expect to be exactly identical (e.g. initializing a TFBertForSequenceClassification model from a BertForSequenceClassification model).\n",
            "All the weights of TFGPT2LMHeadModel were initialized from the PyTorch model.\n",
            "If your task is similar to the task the model of the checkpoint was trained on, you can already use TFGPT2LMHeadModel for predictions without further training.\n"
          ]
        }
      ]
    },
    {
      "cell_type": "markdown",
      "source": [
        "일반적으로 PyTorch 모델을 TensorFlow 모델로 변환하는 과정에서 흔히 발생하는 워닝 메시지. 변환 과정에서 모든 가중치가 완벽하게 일치하지 않을 수 있다는 것을 의미. 대부분의 경우 모델은 제대로 작동."
      ],
      "metadata": {
        "id": "0OiVS-c1-pZy"
      }
    },
    {
      "cell_type": "markdown",
      "source": [
        "GPT가 생성할 문장의 방향성을 알려주기 위해서 시작 문자열을 정해줍니다. 여기서는 '건강한 몸을 만들기 위해서는' 이라는 문자열을 주고 GPT에게 이어서 문장을 생성해보라고 해봅시다."
      ],
      "metadata": {
        "id": "5ipfE7TCZh1s"
      }
    },
    {
      "cell_type": "code",
      "source": [
        "sent = '건강한 몸을 만들기 위해서는' ### ... 이 부분을 완성하시오"
      ],
      "metadata": {
        "id": "Uqja8V1N7dRQ"
      },
      "execution_count": 7,
      "outputs": []
    },
    {
      "cell_type": "code",
      "source": [
        "input_ids = tokenizer.tokenize(sent) ### ... 이 부분을 완성하시오\n",
        "print(input_ids) ### ... 이 부분을 완성하시오"
      ],
      "metadata": {
        "id": "LGb3Q3hM7evX",
        "colab": {
          "base_uri": "https://localhost:8080/"
        },
        "outputId": "3c23ce78-6f59-4423-f952-b9bf235d1ca0"
      },
      "execution_count": 8,
      "outputs": [
        {
          "output_type": "stream",
          "name": "stdout",
          "text": [
            "['▁건강한', '▁몸을', '▁만들기', '▁위해서는']\n"
          ]
        }
      ]
    },
    {
      "cell_type": "markdown",
      "source": [
        "GPT의 입력으로는 정수 인코딩 된 결과가 입력되어야 하므로 tokenizer.encode()를 통해서 '건강한 몸을 만들기 위해서는'이라는 문자열을 정수 시퀀스로 변환해줍니다."
      ],
      "metadata": {
        "id": "Y20fEBosZjrV"
      }
    },
    {
      "cell_type": "code",
      "source": [
        "input_ids = tokenizer.encode(sent) ### ... 이 부분을 완성하시오\n",
        "input_ids = tf.convert_to_tensor([input_ids])\n",
        "print(input_ids) ### ... 이 부분을 완성하시오"
      ],
      "metadata": {
        "id": "N8yzQMaQ67dL",
        "colab": {
          "base_uri": "https://localhost:8080/"
        },
        "outputId": "e6bc9ec2-1bd4-4d80-dcbf-ef1aa86a597e"
      },
      "execution_count": 9,
      "outputs": [
        {
          "output_type": "stream",
          "name": "stdout",
          "text": [
            "tf.Tensor([[22159 14226 15381 11357]], shape=(1, 4), dtype=int32)\n"
          ]
        }
      ]
    },
    {
      "cell_type": "markdown",
      "source": [
        "22159 14226 15381 11357라는 4개의 정수 시퀀스를 얻습니다.\n",
        "\n",
        "해당 정수 시퀀스를 GPT의 입력으로 사용하여 GPT가 이어서 문장을 생성하도록 해봅시다. 주어진 문장으로부터 이어서 문장을 생성하도록 하는 것은 model.generate()를 사용합니다."
      ],
      "metadata": {
        "id": "QGGUhQYaZlRU"
      }
    },
    {
      "cell_type": "code",
      "source": [
        "output = model.generate(input_ids,\n",
        "                   max_length=128,\n",
        "                   repetition_penalty=2.0) ### ... 이 부분을 완성하시오\n",
        "output_ids = output.numpy().tolist()[0]\n",
        "print(output_ids) ### ... 이 부분을 완성하시오"
      ],
      "metadata": {
        "id": "KsBMfhQ9Rxu1",
        "colab": {
          "base_uri": "https://localhost:8080/"
        },
        "outputId": "6072725e-d943-44a6-b5d2-9081b252a37f"
      },
      "execution_count": 11,
      "outputs": [
        {
          "output_type": "stream",
          "name": "stdout",
          "text": [
            "[22159, 14226, 15381, 11357, 23879, 39306, 25235, 9376, 33820, 10362, 9430, 15967, 38594, 12443, 8137, 17764, 9033, 9199, 15177, 26421, 387, 15386, 409, 7162, 9346, 7071, 11913, 9091, 9377, 12486, 10108, 24873, 7198, 9391, 37611, 9676, 14458, 9492, 20305, 10090, 10254, 9178, 7335, 8704, 41845, 18418, 9277, 18324, 8643, 7122, 8135, 9351, 16709, 10335, 18380, 16286, 13940, 19671, 9048, 18281, 8648, 44869, 6824, 12923, 13600, 9600, 39137, 8066, 23865, 8470, 10461, 9164, 7609, 8397, 9225, 9029, 45837, 9052, 48276, 15528, 10386, 10988, 8711, 22452, 8765, 27929, 12972, 12364, 23511, 8450, 16803, 21302, 6903, 9410, 13041, 25606, 49019, 7586, 9752, 8143, 10850, 10007, 26006, 27147, 8146, 26523, 9359, 9341, 13219, 35943, 14441, 8000, 13532, 13565, 11634, 12268, 10279, 36122, 9960, 8405, 11545, 13235, 7849, 17304, 14355, 10826, 43075, 7235]\n"
          ]
        }
      ]
    },
    {
      "cell_type": "markdown",
      "source": [
        "기존의 22159 14226 15381 11357 라는 4개의 정수 시퀀스 뒤에도 여러 정수들이 추가로 생성된 것을 볼 수 있습니다. 정수들이 단순히 나열된 것만으로는 GPT가 실제로 어떤 문장을 생성했는지 알기 어려우니 해당 정수 시퀀스를 한국어로 변환해봅시다. 이 과정은 tokenizer.decode()를 사용하여 가능합니다."
      ],
      "metadata": {
        "id": "aQKxYu24ZnQE"
      }
    },
    {
      "cell_type": "code",
      "source": [
        "print(tokenizer.convert_ids_to_tokens(output_ids)) ### ... 이 부분을 완성하시오"
      ],
      "metadata": {
        "id": "7OvAV5lyBpfr",
        "colab": {
          "base_uri": "https://localhost:8080/"
        },
        "outputId": "3ba78b0a-ce2c-45a2-e166-e989179ac417"
      },
      "execution_count": 12,
      "outputs": [
        {
          "output_type": "stream",
          "name": "stdout",
          "text": [
            "['▁건강한', '▁몸을', '▁만들기', '▁위해서는', '▁무엇보다', '▁규칙적인', '▁운동과', '▁식', '이요', '법을', '▁통해', '▁균형', '▁잡힌', '▁영양', '을', '▁섭취', '하는', '▁것이', '▁중요하다.\\n', '특히', ',', '▁비타민', 'C', '는', '▁체', '내', '▁에너지', '▁생', '성을', '▁촉진', '시켜', '▁신진', '대', '사를', '▁원활하게', '▁하고', '▁면역', '력을', '▁높여', '주는', '▁역할을', '▁한다.\\n', '또', '한', '▁항산화', '▁작용을', '▁하는', '▁폴리', '페', '놀', '은', '▁우리', '▁몸의', '▁세포', '막을', '▁구성하는', '▁필수', '▁성분', '이다.\\n', '폴리', '펩', '타이드', '가', '▁풍부한', '▁식품', '으로는', '▁토마토', '와', '▁브로', '콜', '리,', '▁양', '배', '추', '▁등이', '▁있다.\\n', '토마토', '에는', '▁식이', '섬유', '소가', '▁풍부', '해', '▁피로', '회', '복에', '▁도움을', '▁준다.\\n', '브로', '컬', '리에는', '▁칼슘', '과', '▁철', '분이', '▁풍부하다.\\n', '비타', '민', '▁C', '의', '▁흡', '수를', '▁돕는', '▁칼륨', '이', '▁풍부하게', '▁들어', '▁있어', '▁뼈', '▁건강에', '▁좋다.\\n', '양', '파는', '▁섬유', '질이', '▁많아', '▁혈', '압을', '▁낮', '춰', '주고', '▁혈액', '순', '환을', '▁도와', '준다.\\n', '마늘', '도']\n"
          ]
        }
      ]
    },
    {
      "cell_type": "code",
      "source": [
        "tokenizer.decode(output_ids) ### ... 이 부분을 완성하시오"
      ],
      "metadata": {
        "id": "FS02AJQ5R16M",
        "colab": {
          "base_uri": "https://localhost:8080/",
          "height": 109
        },
        "outputId": "79a36a15-7132-42de-ed36-347ad275de86"
      },
      "execution_count": 13,
      "outputs": [
        {
          "output_type": "execute_result",
          "data": {
            "text/plain": [
              "'건강한 몸을 만들기 위해서는 무엇보다 규칙적인 운동과 식이요법을 통해 균형 잡힌 영양을 섭취하는 것이 중요하다.\\n특히, 비타민C는 체내 에너지 생성을 촉진시켜 신진대사를 원활하게 하고 면역력을 높여주는 역할을 한다.\\n또한 항산화 작용을 하는 폴리페놀은 우리 몸의 세포막을 구성하는 필수 성분이다.\\n폴리펩타이드가 풍부한 식품으로는 토마토와 브로콜리, 양배추 등이 있다.\\n토마토에는 식이섬유소가 풍부해 피로회복에 도움을 준다.\\n브로컬리에는 칼슘과 철분이 풍부하다.\\n비타민 C의 흡수를 돕는 칼륨이 풍부하게 들어 있어 뼈 건강에 좋다.\\n양파는 섬유질이 많아 혈압을 낮춰주고 혈액순환을 도와준다.\\n마늘도'"
            ],
            "application/vnd.google.colaboratory.intrinsic+json": {
              "type": "string"
            }
          },
          "metadata": {},
          "execution_count": 13
        }
      ]
    },
    {
      "cell_type": "markdown",
      "source": [
        "'건강한 몸을 만들기 위해서는' 이라는 문자열에 이어서 그 뒤에 건강한 몸을 만들기 위한이라는 문맥에 맞는듯한 글들을 생성합니다.\n",
        "\n",
        "물론 GPT가 생성한 문장들은 문맥상 그럴듯해 보이지만 실제 사실 여부와는 다를 수 있으니 이 점은 늘 주의해야 합니다."
      ],
      "metadata": {
        "id": "VCL19I4OZo5a"
      }
    },
    {
      "cell_type": "markdown",
      "source": [
        "# 2. Numpy로 Top 5 뽑기"
      ],
      "metadata": {
        "id": "iUEV2Y_MxX12"
      }
    },
    {
      "cell_type": "markdown",
      "source": [
        "GPT는 기본적으로 이전 단어들로부터 다음 단어를 예측하는 언어 모델(Language Model)입니다. 위의 실습에서 확인한 바와 같이 '건강한 몸을 만들기 위해서는' 이라는 입력을 넣었을 때 GPT는 다음 단어로 '무엇보다' 라는 단어를 예측했었는데요.\n",
        "\n",
        "\n",
        "실제로는 수많은 후보의 다음 단어들이 있었지만, 그 중 가장 확률이 높은 단어. 즉, Top 1의 단어인 '무엇보다'를 예측한 것입니다. 그렇다면 다음 단어로 또 어떤 후보들이 있었는지 Top 5의 단어들을 뽑아봅시다.\n",
        "\n",
        "\n",
        "model()에다가 '건강한 몸을 만들기 위해서는'의 정수 인코딩 된 결과를 입력으로 넣은 후 가장 확률이 높은 Top 5의 단어들을 뽑아냅니다."
      ],
      "metadata": {
        "id": "ILh4DUaGZuZr"
      }
    },
    {
      "cell_type": "code",
      "source": [
        "import numpy as np"
      ],
      "metadata": {
        "id": "eAmF4-N-Uwl9"
      },
      "execution_count": 14,
      "outputs": []
    },
    {
      "cell_type": "code",
      "source": [
        "output = model(input_ids)"
      ],
      "metadata": {
        "id": "MhjZZyMo8Q6o"
      },
      "execution_count": 15,
      "outputs": []
    },
    {
      "cell_type": "code",
      "source": [
        "output.logits ### ... 이 부분을 완성하시오"
      ],
      "metadata": {
        "id": "siIG0sJd8Vwf",
        "colab": {
          "base_uri": "https://localhost:8080/"
        },
        "outputId": "a59cb43c-8030-46e2-d389-b59678433a7e"
      },
      "execution_count": 20,
      "outputs": [
        {
          "output_type": "execute_result",
          "data": {
            "text/plain": [
              "<tf.Tensor: shape=(1, 4, 51200), dtype=float32, numpy=\n",
              "array([[[-6.1596045, -5.6269374, -5.299072 , ...,  0.1811116,\n",
              "         -4.9666777, -3.0936294],\n",
              "        [-4.6646895, -5.924712 , -4.8221292, ...,  2.4812758,\n",
              "         -3.5151467,  2.3900423],\n",
              "        [-5.0853715, -4.0964794, -6.0712833, ...,  1.1920158,\n",
              "         -2.90183  , -3.3687851],\n",
              "        [-6.2043076, -6.284622 , -6.3270826, ...,  1.8252198,\n",
              "         -3.9164758, -2.7165358]]], dtype=float32)>"
            ]
          },
          "metadata": {},
          "execution_count": 20
        }
      ]
    },
    {
      "cell_type": "code",
      "source": [
        "output.logits.shape ### ... 이 부분을 완성하시오 51200개"
      ],
      "metadata": {
        "id": "XoswPgKP9gtz",
        "colab": {
          "base_uri": "https://localhost:8080/"
        },
        "outputId": "fe30f53a-69a4-41dc-f266-786542077cc7"
      },
      "execution_count": 22,
      "outputs": [
        {
          "output_type": "execute_result",
          "data": {
            "text/plain": [
              "TensorShape([1, 4, 51200])"
            ]
          },
          "metadata": {},
          "execution_count": 22
        }
      ]
    },
    {
      "cell_type": "code",
      "source": [
        "top5 = tf.math.top_k(output.logits[0, -1], k=5)\n",
        "top5"
      ],
      "metadata": {
        "id": "nNKR7l7s9o9v",
        "colab": {
          "base_uri": "https://localhost:8080/"
        },
        "outputId": "07683247-2ae5-449d-ae6a-b16535440dea"
      },
      "execution_count": 23,
      "outputs": [
        {
          "output_type": "execute_result",
          "data": {
            "text/plain": [
              "TopKV2(values=<tf.Tensor: shape=(5,), dtype=float32, numpy=\n",
              "array([10.895334 , 10.395889 ,  9.945646 ,  9.840968 ,  9.8311825],\n",
              "      dtype=float32)>, indices=<tf.Tensor: shape=(5,), dtype=int32, numpy=array([23879, 22159, 20030, 11342, 39306], dtype=int32)>)"
            ]
          },
          "metadata": {},
          "execution_count": 23
        }
      ]
    },
    {
      "cell_type": "markdown",
      "source": [
        "그 후 Top 5의 단어를 한국어로 변환하여 출력해봅시다."
      ],
      "metadata": {
        "id": "5no4yJekZwNr"
      }
    },
    {
      "cell_type": "code",
      "source": [
        "tokenizer.convert_ids_to_tokens(top5.indices.numpy()) ### ... 이 부분을 완성하시오"
      ],
      "metadata": {
        "id": "G_KrDJSf9q9w",
        "colab": {
          "base_uri": "https://localhost:8080/"
        },
        "outputId": "aa4e346c-5bcd-4fc3-a823-ebdbae194faa"
      },
      "execution_count": 24,
      "outputs": [
        {
          "output_type": "execute_result",
          "data": {
            "text/plain": [
              "['▁무엇보다', '▁건강한', '▁무엇보다도', '▁건강', '▁규칙적인']"
            ]
          },
          "metadata": {},
          "execution_count": 24
        }
      ]
    },
    {
      "cell_type": "markdown",
      "source": [
        "'무엇보다' 라는 단어 외에도 '건강한', '무엇보다도', '건강', '규칙적인' 이라는 4개의 단어가 높은 확률로 선택될 수 있었음을 보여줍니다."
      ],
      "metadata": {
        "id": "9catCM-cZxeP"
      }
    },
    {
      "cell_type": "markdown",
      "source": [
        "# 3. Numpy Top 5 중 랜덤 단어로 문장 생성해보기"
      ],
      "metadata": {
        "id": "pLoSP3hkxbdn"
      }
    },
    {
      "cell_type": "markdown",
      "source": [
        "앞서 문장을 생성했을 당시에는 각 시점(time step)마다 가장 확률이 높은 단어를 예측했지만, 이번에는 매 시점마다 Top 5개의 단어들 중에서 랜덤으로 선택하는 방식을 택하여 문장을 생성해봅시다."
      ],
      "metadata": {
        "id": "ihPcx1YbZzMT"
      }
    },
    {
      "cell_type": "code",
      "source": [
        "sent = '건강한 몸을 만들기 위해서는' ### ... 이 부분을 완성하시오\n",
        "input_ids = tokenizer.encode(sent) ### ... 이 부분을 완성하시오"
      ],
      "metadata": {
        "id": "Xz6W5lnYu2Wm"
      },
      "execution_count": 25,
      "outputs": []
    },
    {
      "cell_type": "code",
      "source": [
        "import random\n",
        "\n",
        "while len(input_ids) < 50:\n",
        "    output = model(np.array([input_ids]))\n",
        "    top5 = tf.math.top_k(output.logits[0, -1], k=5)\n",
        "    token_id = random.choice(top5.indices.numpy())\n",
        "    input_ids.append(token_id)"
      ],
      "metadata": {
        "id": "AE3grFQsuuh-"
      },
      "execution_count": 26,
      "outputs": []
    },
    {
      "cell_type": "code",
      "source": [
        "tokenizer.decode(input_ids) ### ... 이 부분을 완성하시오"
      ],
      "metadata": {
        "id": "zuOhhfGQwAUZ",
        "colab": {
          "base_uri": "https://localhost:8080/",
          "height": 72
        },
        "outputId": "c7cf61ab-e0aa-4ef0-853b-88a99cd2cf2a"
      },
      "execution_count": 27,
      "outputs": [
        {
          "output_type": "execute_result",
          "data": {
            "text/plain": [
              "'건강한 몸을 만들기 위해서는 건강하고 아름다운 몸을 가꾸기 위해서는 올바른 생활 습관, 바른 생활 습관, 건강 습관 등을 통해 건강을 지키면서 올바른 생활을 해야 한다고 전문의는 말했다.\\n이어 그는 \"최근의 건강기능식품 시장은 건강과 관련된 다양한 제품들을 통해 다양한 제품군을 통해'"
            ],
            "application/vnd.google.colaboratory.intrinsic+json": {
              "type": "string"
            }
          },
          "metadata": {},
          "execution_count": 27
        }
      ]
    },
    {
      "cell_type": "markdown",
      "source": [
        "# 4. pipeline을 이용해 문장 생성해보기"
      ],
      "metadata": {
        "id": "zVjJCsQ9pniu"
      }
    },
    {
      "cell_type": "code",
      "source": [
        "# Use a pipeline as a high-level helper\n",
        "from transformers import pipeline ### ... 이 부분을 완성하시오\n",
        "pipe = pipeline(\"text-generation\", model=\"skt/kogpt2-base-v2\", device=0) ### ... 이 부분을 완성하시오"
      ],
      "metadata": {
        "id": "Qkrabr5Ehnfl"
      },
      "execution_count": 29,
      "outputs": []
    },
    {
      "cell_type": "code",
      "source": [
        "sent = \"건강한 몸을 만들기 위해서는\"  ### ... 이 부분을 완성하시오\n",
        "generated_text = pipe(sent)"
      ],
      "metadata": {
        "id": "7hCG8skYQRez"
      },
      "execution_count": 30,
      "outputs": []
    },
    {
      "cell_type": "code",
      "source": [
        "sent = \"건강한 몸을 만들기 위해서는\"\n",
        "generated_text = pipe(sent, max_new_tokens=256)  ### ... 이 부분을 완성하시오\n",
        "generated_text"
      ],
      "metadata": {
        "id": "ivDfGPWcpsTu",
        "colab": {
          "base_uri": "https://localhost:8080/"
        },
        "outputId": "e83d3b9a-6e53-4a33-f30a-2754523787a1"
      },
      "execution_count": 31,
      "outputs": [
        {
          "output_type": "execute_result",
          "data": {
            "text/plain": [
              "[{'generated_text': '건강한 몸을 만들기 위해서는 단백질과 비타민이 풍부한 음식을 섭취하는 것부터 해결해야 한다.\\n최근에 식생활을 통해 탄수화물과 단백질, 지방, 지방 같은 영양소 섭취가 급증하면서 칼로리가 급격히 떨어진 음식을 섭취하고 있다.\\n그럼에도 칼로리가 낮은 음식의 섭취량이 늘고 있다.\\n단순한 체중감량 뿐 아니라 체중감량뿐만 아니라 체중관리를 통해 식생활을 개선하는 것도 다이어트의 중요한 요소로 꼽힌다.\\n칼로리 감량에 성공하기 위해서는 식이조절로 체중을 줄이되, 하루 평균 열량은 늘려야 한다.\\n특히 아침식사와 저녁식사 30분 전에 반드시 균형 잡힌 식사를 해야 한다.\\n채식을 통해 섭취하는 단백질의 양은 대개 하루에 최소 16g이 적당하다.\\n비만을 예방하려면 하루에 열량을 10g 이상 섭취하도록 해야 한다.\\n무엇보다 매일 규칙적으로 식사를 하는 것이 중요하다.\\n저녁식사와 저녁식사를 할 경우 탄수화물이 부족하면 균형 있는 식사를 한다.\\n단 음식을 많이 먹으면 몸에 독소가 쌓이기도 한다.\\n따라서 하루 평균 열량은 16g으로 줄이는 대신 식사 시간은 30분 이상 늘려야 한다.\\n영양소를 섭취한 후에 단백질과 비타민, 지방 중 어느 것이 얼마나 좋은지 꼭 확인해야 한다.\\n영양소 섭취의 가장 중요한 원칙은 식습관이 몸에 필요한지를 알아보는 것이다.\\n식이습관을 통해 영양소의 영양소와 에너지 균형을 찾아낼 수 있기 때문이다.\\n다이어트를 결심했다면 식사량을 줄이는 것은'}]"
            ]
          },
          "metadata": {},
          "execution_count": 31
        }
      ]
    },
    {
      "cell_type": "code",
      "source": [
        "print(generated_text[0]['generated_text'])"
      ],
      "metadata": {
        "id": "yyKp-BtOQagd",
        "colab": {
          "base_uri": "https://localhost:8080/"
        },
        "outputId": "549d1fc0-0674-4c2a-81c3-661e2b34bb36"
      },
      "execution_count": 32,
      "outputs": [
        {
          "output_type": "stream",
          "name": "stdout",
          "text": [
            "건강한 몸을 만들기 위해서는 단백질과 비타민이 풍부한 음식을 섭취하는 것부터 해결해야 한다.\n",
            "최근에 식생활을 통해 탄수화물과 단백질, 지방, 지방 같은 영양소 섭취가 급증하면서 칼로리가 급격히 떨어진 음식을 섭취하고 있다.\n",
            "그럼에도 칼로리가 낮은 음식의 섭취량이 늘고 있다.\n",
            "단순한 체중감량 뿐 아니라 체중감량뿐만 아니라 체중관리를 통해 식생활을 개선하는 것도 다이어트의 중요한 요소로 꼽힌다.\n",
            "칼로리 감량에 성공하기 위해서는 식이조절로 체중을 줄이되, 하루 평균 열량은 늘려야 한다.\n",
            "특히 아침식사와 저녁식사 30분 전에 반드시 균형 잡힌 식사를 해야 한다.\n",
            "채식을 통해 섭취하는 단백질의 양은 대개 하루에 최소 16g이 적당하다.\n",
            "비만을 예방하려면 하루에 열량을 10g 이상 섭취하도록 해야 한다.\n",
            "무엇보다 매일 규칙적으로 식사를 하는 것이 중요하다.\n",
            "저녁식사와 저녁식사를 할 경우 탄수화물이 부족하면 균형 있는 식사를 한다.\n",
            "단 음식을 많이 먹으면 몸에 독소가 쌓이기도 한다.\n",
            "따라서 하루 평균 열량은 16g으로 줄이는 대신 식사 시간은 30분 이상 늘려야 한다.\n",
            "영양소를 섭취한 후에 단백질과 비타민, 지방 중 어느 것이 얼마나 좋은지 꼭 확인해야 한다.\n",
            "영양소 섭취의 가장 중요한 원칙은 식습관이 몸에 필요한지를 알아보는 것이다.\n",
            "식이습관을 통해 영양소의 영양소와 에너지 균형을 찾아낼 수 있기 때문이다.\n",
            "다이어트를 결심했다면 식사량을 줄이는 것은\n"
          ]
        }
      ]
    },
    {
      "cell_type": "code",
      "source": [
        "sent = '건강한 몸을 만들기 위해서는 뭘 해야해?'  ### ... 이 부분을 완성하시오\n",
        "generated_text = pipe(sent, max_new_tokens=256)\n",
        "print(generated_text[0]['generated_text'])"
      ],
      "metadata": {
        "id": "BdplkJHojvQ4",
        "colab": {
          "base_uri": "https://localhost:8080/"
        },
        "outputId": "802cca83-2581-452c-fff7-83d9e7298ecd"
      },
      "execution_count": 33,
      "outputs": [
        {
          "output_type": "stream",
          "name": "stdout",
          "text": [
            "건강한 몸을 만들기 위해서는 뭘 해야해?\"\n",
            "\"뭐, 뭘 해야 해. 뭘 어떻게 해야해?\"\n",
            "\"당신은 내가 원하든 원하지 않든 항상 내게 질문을 던지고 있어. 내가 하는 일에 내가 어떤 사람이 되려고 하는지 스스로 알 수 있어야 해.\"\n",
            "\"그런데 이젠 내가 진짜 원하는 건 뭐야?\"\n",
            "\"난 당신 옆에 서서 당신을 좀 더 즐겁게 해보자라고 얘기해봤지. 그래서 더 잘할 수 있도록 도와달라고. 난 당신의 인생을 바꿔줄 사람을 원해.\"\n",
            "\"그래, 난 당신이 원하는 것도 알고 있지. 당신이 나를 더 잘 살게 도울지도 몰라.\"\n",
            "\"그럼, 내 진짜 목적은!\"\n",
            "\"그럼 당신은 당신이 원하는 대로 해.\"\n",
            "\"그래, 나 좀 도와줘.\"\n",
            "\"난 당신이 원하는 대로 해요!\"\n",
            "\"난 앞으로 당신의 일을 잘 해낼 거야!\"\n",
            "\"그러니까 당신이 원하는 게 뭐야?\"\n",
            "난 그제야 이렇게 말했다.\n",
            "\"이제 당신이 원하는 게 뭐야?\"\n",
            "\"당신은 내가 원하는 일을 해낼 것이고, 난 당신이 원하는 일을 할 거야!\"\n",
            "\"그래, 난 당신의 일이 당신이 원하는 것이라 믿고 있어요. 하지만 난 나를 위해 일할 거야!\"\n",
            "내 목표는 정말 내가 원하는 일을 하는 거지.\n",
            "난 내일을 위해\n"
          ]
        }
      ]
    },
    {
      "cell_type": "code",
      "source": [
        "sent = \"안녕하세요\"\n",
        "generated_text = pipe(sent, max_new_tokens=256)\n",
        "print(generated_text[0]['generated_text'])"
      ],
      "metadata": {
        "id": "3i-AgRYvDgPA",
        "colab": {
          "base_uri": "https://localhost:8080/"
        },
        "outputId": "4903f00e-4658-4aa6-f7a5-394023162740"
      },
      "execution_count": 34,
      "outputs": [
        {
          "output_type": "stream",
          "name": "stdout",
          "text": [
            "안녕하세요!\n",
            "오늘은 더위먹으면서,\n",
            "살짝 더운 날씨가 계속되자!\n",
            "미리 준비해둔 텀블러에...\n",
            "#마음밥으로 #가까운 #맛집 #맛스타그램 #인스타친구 #맛집탐방 #gate #일상 #데일리 #소통stagram #먹스타그램 #푸드스타그램 #맛스타그램 #술스타그램 #푸드파이터 #instfood #foodie #foodporn #foodstagram #소통 #좋아요\n",
            "#팔로우 #맞팔 #선팔 #instafood #delicious #instadaily #셀스타그램 #맞팔환영 #선팔하면맞팔 내가 살찌고싶다\n",
            "일단 #슈퍼마리오브라더스\n",
            "#스콜피오 #스콜피오 #슈퍼 마리오브라더스\n",
            "#스콜피오브라더스마리오브랜드 #슈퍼마리오브라더스마리오브랜드 #브라더마리오브라\n"
          ]
        }
      ]
    },
    {
      "cell_type": "code",
      "source": [
        "# Use a pipeline as a high-level helper\n",
        "from transformers import pipeline\n",
        "pipe = pipeline(\"text-generation\", model=\"heegyu/polyglot-ko-1.3b-chat\", device=0) ### ... 이 부분을 완성하시오"
      ],
      "metadata": {
        "id": "Ds7AIcbqkTyS",
        "colab": {
          "base_uri": "https://localhost:8080/",
          "height": 209,
          "referenced_widgets": [
            "cc69f0b2d8ba4d2c8b1cfa8ad8ab364d",
            "5588849a3df44703b693fd9c3afc5439",
            "a3ac422fb82e419fbe991109d58dfb8d",
            "ca3fe8e7252548409ffb0c7e02056ca0",
            "c4e5b4ef954340a28cb6fb457ccf5705",
            "62713124ea8541f487091a0ab6465d9c",
            "e8822a135e764518bdf22f30b499e789",
            "1223a80ef8e6444983364374317234e6",
            "b823b8677a824ceb8d614127a99ee827",
            "80cffda37f974060ada63b5d56a0be17",
            "867d4316fb684a9fae15b6e76d57e0ce",
            "e5c51f85e0054be193bf7e5f33816036",
            "1281d9300c35434886e3b66908181e4e",
            "6f8bf918f3eb4ba7934fd0e96fd204b5",
            "25f53e426dd54908913b0447e1d46f0a",
            "82c30c4441974c74ae0e71172ede74e4",
            "7536505337754dca9680774687f65903",
            "f9e01aa974244dcaa16206b229146eb9",
            "5494cc0f6a15471cb1640475b67d8916",
            "82a17a9309354dd8809fc65783b01c15",
            "1af1c804050e48de8f2c11ffca6df1ac",
            "94961f627af440fb81204fa4086ab3aa",
            "eb9abac3ddae46e19267cc8173470ac2",
            "75a5b0858f5c4e48813b84e2c48d5433",
            "819e934fa4894d88a20e18b599e65a7e",
            "16156a223e8945c9acd79656d0ccedb3",
            "e53a11021ef64207baef1b63603bacd6",
            "a974b384a48641ef9b9ff4321da4944f",
            "27b95af525634dd7851e8d5746c6afb2",
            "f8ae815dc5a941499fc97024c838a747",
            "65e02bf3f0694035bbefb48bbc5a0bdc",
            "9a1d894b0cc342aa86262dc9fb05378f",
            "5bf4541f554d4c7f888050374e080de8",
            "d7067a420edd4363a12a646e0c554c30",
            "f5c8297bd4af4af7b1413c2959e9dbaf",
            "2222846ddc5c442eae54cf37df83393d",
            "436013cf328c4f1f92df2d9e6c35115b",
            "59230567876647c1bcb80c176842a966",
            "c140e48936e44efb83fc9e5fbd6c1aed",
            "5b845ee6262248bdb634f99006c7c9b4",
            "1e8bb6fdc1ec48f9a073a3b5297b11b8",
            "3a1d1906b2374bbabaa4588e39286867",
            "5bc281963fc3480f806e65d058b585bc",
            "434ce56ef2bd4253bd7f443609c951a9",
            "0975492fa5644ee39b0adb9acaef55b5",
            "875c7624e51d48bd84f0869d124660fd",
            "fea6219c6a9e48968a51c865a91d8ace",
            "61c4ac9562f04d30be7c3c1f35b8ff7d",
            "4879cfa82828455da07351a27102ee36",
            "fdc60ebdf4124951aa4bf983f1dce99a",
            "55f28c8974a5450ea45fdd5f7fd0cc5f",
            "4d0517504170480ebf90318e61fe85fb",
            "9bebdc38799a420f96eddd9edfe66aa0",
            "4b236fcc154a4c45a439db4eb542cff3",
            "85c43d40fb394cafa7869671f946e05d",
            "8715b256ecc7461681f9e2981c3b3855",
            "2c38428634c44c66b49cfb30c8410ff1",
            "0731757287ac4be5b05fa45cae7281e9",
            "2612ca0ea4424256b56c6ee4835e98b2",
            "d47a4bae7307492886fec1736a4a839f",
            "e357a73296b1493b9241b331c96d0ec5",
            "4adfacc75acf491f9a65eb1d8aa91e93",
            "0f8ab10a72b84400a60fdf74428591cd",
            "6c6ac76d19124d26945fb1100248f76d",
            "799308aa46d2461eb2e97549b0c33463",
            "62e900cd16484c5eb6bc218baa26510b"
          ]
        },
        "outputId": "20afbd70-809f-4ab4-ef79-28ef9b358ec8"
      },
      "execution_count": 35,
      "outputs": [
        {
          "output_type": "display_data",
          "data": {
            "text/plain": [
              "config.json:   0%|          | 0.00/725 [00:00<?, ?B/s]"
            ],
            "application/vnd.jupyter.widget-view+json": {
              "version_major": 2,
              "version_minor": 0,
              "model_id": "cc69f0b2d8ba4d2c8b1cfa8ad8ab364d"
            }
          },
          "metadata": {}
        },
        {
          "output_type": "display_data",
          "data": {
            "text/plain": [
              "model.safetensors:   0%|          | 0.00/2.66G [00:00<?, ?B/s]"
            ],
            "application/vnd.jupyter.widget-view+json": {
              "version_major": 2,
              "version_minor": 0,
              "model_id": "e5c51f85e0054be193bf7e5f33816036"
            }
          },
          "metadata": {}
        },
        {
          "output_type": "display_data",
          "data": {
            "text/plain": [
              "generation_config.json:   0%|          | 0.00/111 [00:00<?, ?B/s]"
            ],
            "application/vnd.jupyter.widget-view+json": {
              "version_major": 2,
              "version_minor": 0,
              "model_id": "eb9abac3ddae46e19267cc8173470ac2"
            }
          },
          "metadata": {}
        },
        {
          "output_type": "display_data",
          "data": {
            "text/plain": [
              "tokenizer_config.json:   0%|          | 0.00/210 [00:00<?, ?B/s]"
            ],
            "application/vnd.jupyter.widget-view+json": {
              "version_major": 2,
              "version_minor": 0,
              "model_id": "d7067a420edd4363a12a646e0c554c30"
            }
          },
          "metadata": {}
        },
        {
          "output_type": "display_data",
          "data": {
            "text/plain": [
              "tokenizer.json:   0%|          | 0.00/1.65M [00:00<?, ?B/s]"
            ],
            "application/vnd.jupyter.widget-view+json": {
              "version_major": 2,
              "version_minor": 0,
              "model_id": "0975492fa5644ee39b0adb9acaef55b5"
            }
          },
          "metadata": {}
        },
        {
          "output_type": "display_data",
          "data": {
            "text/plain": [
              "special_tokens_map.json:   0%|          | 0.00/185 [00:00<?, ?B/s]"
            ],
            "application/vnd.jupyter.widget-view+json": {
              "version_major": 2,
              "version_minor": 0,
              "model_id": "8715b256ecc7461681f9e2981c3b3855"
            }
          },
          "metadata": {}
        }
      ]
    },
    {
      "cell_type": "code",
      "source": [
        "sent = \"건강한 몸을 만들기 위해서는\"\n",
        "generated_text = pipe(sent, max_new_tokens=256)\n",
        "print(generated_text[0]['generated_text'])"
      ],
      "metadata": {
        "id": "XMqp8YQ7QnLV",
        "colab": {
          "base_uri": "https://localhost:8080/"
        },
        "outputId": "6eb01544-2356-4317-b3d1-df9ca847c942"
      },
      "execution_count": 36,
      "outputs": [
        {
          "output_type": "stream",
          "name": "stderr",
          "text": [
            "Setting `pad_token_id` to `eos_token_id`:2 for open-end generation.\n"
          ]
        },
        {
          "output_type": "stream",
          "name": "stdout",
          "text": [
            "건강한 몸을 만들기 위해서는 적절한 운동과 영양 섭취가 필요합니다.\n",
            "\n",
            "2. 스트레스 관리: 스트레스는 건강에 부정적인 영향을 미치는 요인 중 하나입니다. 스트레스를 관리하기 위해서는 명상, 운동, 취미활동 등을 통해 스트레스를 해소하는 것이 중요합니다.\n",
            "\n",
            "3. 수면: 수면 부족은 건강에 부정적인 영향을 미칩니다. 충분한 수면을 취하지 않으면 면역체계가 약화되고, 심혈관 질환의 위험이 증가할 수 있습니다.\n",
            "\n",
            "4. 영양 섭취: 건강한 식단은 건강한 체중을 유지하는 데 도움이 됩니다. 균형 잡힌 식단은 영양소를 충분히 공급하고, 혈당 조절을 도와줍니다.\n",
            "\n",
            "5. 운동: 운동은 건강한 체중을 유지하는 데 도움이 됩니다. 유산소 운동과 근력 운동을 병행하면 근육량을 증가시키고, 심혈관 질환의 위험을 줄일 수 있습니다.\n",
            "\n",
            "6. 스트레스 관리: 스트레스는 건강에 부정적인 영향을 미칩니다. 스트레스를 관리하기 위해서는 명상, 운동, 취미활동 등을 통해 스트레스를 해소하는 것이 중요합니다.\n",
            "\n",
            "7. 스트레스 관리: 스트레스는 건강에 부정적인 영향을 미치는\n"
          ]
        }
      ]
    },
    {
      "cell_type": "code",
      "source": [
        "sent = \"건강한 몸을 만들기 위해서는\"\n",
        "generated_text = pipe(sent, max_new_tokens=256, eos_token_id=2, pad_token_id=2)\n",
        "print(generated_text[0]['generated_text'])"
      ],
      "metadata": {
        "id": "GUjcznQgQwEA",
        "colab": {
          "base_uri": "https://localhost:8080/"
        },
        "outputId": "1dfc55bc-91d3-43c8-b59b-9f2e079e21f7"
      },
      "execution_count": 37,
      "outputs": [
        {
          "output_type": "stream",
          "name": "stdout",
          "text": [
            "건강한 몸을 만들기 위해서는 적절한 운동과 영양 섭취가 필요합니다.\n",
            "\n",
            "2. 스트레스 관리: 스트레스는 건강에 부정적인 영향을 미치는 요인 중 하나입니다. 스트레스를 관리하기 위해서는 명상, 운동, 취미활동 등을 통해 스트레스를 해소하는 것이 중요합니다.\n",
            "\n",
            "3. 수면: 수면 부족은 건강에 부정적인 영향을 미칩니다. 충분한 수면을 취하지 않으면 면역체계가 약화되고, 심혈관 질환의 위험이 증가할 수 있습니다.\n",
            "\n",
            "4. 영양 섭취: 건강한 식단은 건강한 체중을 유지하는 데 도움이 됩니다. 균형 잡힌 식단은 영양소를 충분히 공급하고, 혈당 조절을 도와줍니다.\n",
            "\n",
            "5. 운동: 운동은 건강한 체중을 유지하는 데 도움이 됩니다. 유산소 운동과 근력 운동을 병행하면 근육량을 증가시키고, 심혈관 질환의 위험을 줄일 수 있습니다.\n",
            "\n",
            "6. 스트레스 관리: 스트레스는 건강에 부정적인 영향을 미칩니다. 스트레스를 관리하기 위해서는 명상, 운동, 취미활동 등을 통해 스트레스를 해소하는 것이 중요합니다.\n",
            "\n",
            "7. 스트레스 관리: 스트레스는 건강에 부정적인 영향을 미치는\n"
          ]
        }
      ]
    },
    {
      "cell_type": "code",
      "source": [
        "chat_sent = '건강한 몸을 만들기 위해서는'\n",
        "generated_text = pipe(f\"chat_sent\", max_new_tokens=256, eos_token_id=2, pad_token_id=2) ### ... 이 부분을 완성하시오\n",
        "print(generated_text[0]['generated_text'])"
      ],
      "metadata": {
        "id": "AJ0vCEmUQtJ4",
        "colab": {
          "base_uri": "https://localhost:8080/"
        },
        "outputId": "24a1c8e4-c2ba-402f-8250-8d0c5cad640d"
      },
      "execution_count": 38,
      "outputs": [
        {
          "output_type": "stream",
          "name": "stdout",
          "text": [
            "chat_sent_message ()\n",
            "         # 메시지를 보내고 응답을 받습니다.\n",
            "         send_message (메시지)\n",
            "         # 응답을 확인하고 메시지를 다시 보내십시오.\n",
            "         send_message (메시지)\n",
            "         # 응답을 확인하고 메시지를 다시 보내십시오.\n",
            "         send_message (메시지)\n",
            "         # 응답을 확인하고 메시지를 다시 보내십시오.\n",
            "         send_message (메시지)\n",
            "         # 응답을 확인하고 메시지를 다시 보내십시오.\n",
            "         send_message (메시지)\n",
            "         # 응답을 확인하고 메시지를 다시 보내십시오.\n",
            "         send_message (메시지)\n",
            "         # 응답을 확인하고 메시지를 다시 보내십시오.\n",
            "  \n"
          ]
        }
      ]
    },
    {
      "cell_type": "code",
      "source": [
        "chat_sent = '건강한 몸을 만들기 위해서는 어떻게 해야 돼?'\n",
        "generated_text = pipe(f\"### 사용자: {chat_sent}\\n\\n### 챗봇:\", max_new_tokens=256, eos_token_id=2, pad_token_id=2)\n",
        "print(generated_text[0]['generated_text'])"
      ],
      "metadata": {
        "id": "SGxyMU2bppe-",
        "colab": {
          "base_uri": "https://localhost:8080/"
        },
        "outputId": "56612c19-49d9-4fa3-eef4-b4a2ed0f0a10"
      },
      "execution_count": 39,
      "outputs": [
        {
          "output_type": "stream",
          "name": "stdout",
          "text": [
            "### 사용자: 건강한 몸을 만들기 위해서는 어떻게 해야 돼?\n",
            "\n",
            "### 챗봇: 건강한 몸을 만들기 위해서는 다음과 같은 방법을 시도해 볼 수 있습니다.\n",
            "\n",
            "1. 규칙적인 운동: 규칙적인 운동은 건강한 몸을 유지하는 데 도움이 됩니다. 하루에 30분 이상의 유산소 운동을 규칙적으로 하는 것이 좋습니다.\n",
            "\n",
            "2. 충분한 수면: 충분한 수면을 취하는 것은 건강한 몸을 유지하는 데 도움이 됩니다. 수면 부족은 스트레스와 피로를 유발할 수 있으므로 충분한 수면을 취하는 것이 중요합니다.\n",
            "\n",
            "3. 균형 잡힌 식단: 건강한 식단은 건강한 몸을 유지하는 데 도움이 됩니다. 균형 잡힌 식단은 영양소를 충분히 섭취할 수 있도록 도와주며, 영양소의 불균형을 예방할 수 있습니다.\n",
            "\n",
            "4. 충분한 휴식: 충분한 휴식은 건강한 몸을 유지하는 데 도움이 됩니다. 충분한 휴식은 스트레스를 줄이고, 면역력을 향상시키는 데 도움이 됩니다.\n",
            "\n",
            "5. 스트레스 관리: 스트레스는 건강에 해로운 영향을 미칠 수 있으므로, 스트레스를 관리하는 것이 중요합니다. 스트레스를 관리하는 방법으로는 명상, 운동, 취미활동 등\n"
          ]
        }
      ]
    },
    {
      "cell_type": "code",
      "source": [
        "chat_sent = '건강한 몸을 만들기 위해서는 어떻게 해야 돼?'\n",
        "prompt = '당신은 AI 챗봇입니다. 사용자에게 도움이 되고 유익한 내용을 제공해야 합니다. 답변은 길고 자세하며 친절한 설명을 덧붙여서 작성하세요.'\n",
        "generated_text = pipe(f\"{prompt}\\n\\n### 사용자: {chat_sent}\\n\\n### 챗봇:\", max_new_tokens=256, eos_token_id=2, pad_token_id=2)\n",
        "print(generated_text[0]['generated_text'])"
      ],
      "metadata": {
        "id": "1AgzXk6DD3Oj",
        "colab": {
          "base_uri": "https://localhost:8080/"
        },
        "outputId": "267dd89d-f65e-4534-cee3-5c6f3abd0642"
      },
      "execution_count": 40,
      "outputs": [
        {
          "output_type": "stream",
          "name": "stdout",
          "text": [
            "당신은 AI 챗봇입니다. 사용자에게 도움이 되고 유익한 내용을 제공해야 합니다. 답변은 길고 자세하며 친절한 설명을 덧붙여서 작성하세요.\n",
            "\n",
            "### 사용자: 건강한 몸을 만들기 위해서는 어떻게 해야 돼?\n",
            "\n",
            "### 챗봇: 건강한 몸을 만들기 위해서는 다음과 같은 방법을 고려해 볼 수 있습니다.\n",
            "\n",
            "1. 규칙적인 운동: 규칙적인 운동은 신체의 건강을 유지하는 데 도움이 됩니다. 하루에 30분 이상의 유산소 운동을 포함하여, 근력 운동과 유산소 운동을 함께 진행하는 것이 좋습니다.\n",
            "\n",
            "2. 충분한 수면: 충분한 수면을 취하는 것은 건강한 몸을 유지하는 데 도움이 됩니다. 수면 부족은 신체의 면역 기능을 저하시키고, 질병에 대한 저항력을 약화시킬 수 있습니다.\n",
            "\n",
            "3. 균형 잡힌 식단: 균형 잡힌 식단은 건강한 몸을 유지하는 데 도움이 됩니다. 과일, 채소, 단백질, 지방 등 다양한 영양소를 균형 있게 섭취하는 것이 중요합니다.\n",
            "\n",
            "4. 스트레스 관리: 스트레스는 신체의 건강을 유지하는 데 방해가 될 수 있습니다. 스트레스를 관리하는 방법으로는 명상, 운동, 취미 활동 등이 있습니다.\n",
            "\n",
            "5. 충분한 휴식: 충분한 휴식은 신체의 건강을 유지하는 데 도움이 됩니다. 충분한 수면, 운동, 휴식 등을 통해 스트레스를 관리하고\n"
          ]
        }
      ]
    },
    {
      "cell_type": "code",
      "source": [
        "print(generated_text[0]['generated_text'].split('### 챗봇:')[1])"
      ],
      "metadata": {
        "id": "88YK_x3NrJAM",
        "colab": {
          "base_uri": "https://localhost:8080/"
        },
        "outputId": "70a553f8-314e-4221-e9c7-2c20d8d91d98"
      },
      "execution_count": 41,
      "outputs": [
        {
          "output_type": "stream",
          "name": "stdout",
          "text": [
            " 건강한 몸을 만들기 위해서는 다음과 같은 방법을 고려해 볼 수 있습니다.\n",
            "\n",
            "1. 규칙적인 운동: 규칙적인 운동은 신체의 건강을 유지하는 데 도움이 됩니다. 하루에 30분 이상의 유산소 운동을 포함하여, 근력 운동과 유산소 운동을 함께 진행하는 것이 좋습니다.\n",
            "\n",
            "2. 충분한 수면: 충분한 수면을 취하는 것은 건강한 몸을 유지하는 데 도움이 됩니다. 수면 부족은 신체의 면역 기능을 저하시키고, 질병에 대한 저항력을 약화시킬 수 있습니다.\n",
            "\n",
            "3. 균형 잡힌 식단: 균형 잡힌 식단은 건강한 몸을 유지하는 데 도움이 됩니다. 과일, 채소, 단백질, 지방 등 다양한 영양소를 균형 있게 섭취하는 것이 중요합니다.\n",
            "\n",
            "4. 스트레스 관리: 스트레스는 신체의 건강을 유지하는 데 방해가 될 수 있습니다. 스트레스를 관리하는 방법으로는 명상, 운동, 취미 활동 등이 있습니다.\n",
            "\n",
            "5. 충분한 휴식: 충분한 휴식은 신체의 건강을 유지하는 데 도움이 됩니다. 충분한 수면, 운동, 휴식 등을 통해 스트레스를 관리하고\n"
          ]
        }
      ]
    },
    {
      "cell_type": "markdown",
      "source": [
        "## [[실습 14-1]] 자연어 생성과 챗봇을 위한 GPT 모델 비교하기\n",
        "\n",
        "자연어 생성을 목적으로 하는 GPT 모델은 다음과 같다.\n",
        "```\n",
        "pipe = pipeline(\"text-generation\", model=\"skt/kogpt2-base-v2\", device=0)\n",
        "```\n",
        "\n",
        "챗봇 용도의 GPT 모델은 다음과 같다.\n",
        "```\n",
        "pipe = pipeline(\"text-generation\", model=\"heegyu/polyglot-ko-1.3b-chat\", device=0)\n",
        "```\n",
        "<br>\n",
        "\n",
        "동일한 문장을 각 pipe의 입력으로 사용해보고, 두 결과를 비교해 보시오.\n",
        "\n"
      ],
      "metadata": {
        "id": "3iXU7xWPDXiC"
      }
    },
    {
      "cell_type": "markdown",
      "source": [
        "[테스트 입력 문장1]\n",
        "- (자연어 생성에 적합할 것으로 기대되는) 입력 문장1: \"인천국제공항에서 바르셀로나 엘프라트 공항까지 가기 위해서는\"\n",
        "\n",
        "- 자연어 생성 출력 결과:\n",
        "\n",
        "인천국제공항에서 바르셀로나 엘프라트 공항까지 가기 위해서는 반드시 출국장 인근 주차장까지 가야하고 비행기로 이동할 때에도 탑승한 후 다시 공항에서 내리는 일이 많았다\"며 아쉬움을 나타냈다.\n",
        "특히 “항공사들의 여객들이 공항에서 많이 내려올수록 출국장 주변 도로에서는 차량이 늘어나게 되는데, 이 때문에 공항에서는 차내에서 발생하는 불법 음주운전으로 인한 사고로 인한 사고가 빈발하고 있다”며 “공항에서도 이러한 안전사고가 되풀이되지 않도록 항공사들도 공항과 주차장 같은 교통안전시설을 재정비할 필요가 있다”고 지적했다. 국내 첫 우주왕복선이 발사 하루 만에 상공을 벗어났습니다.\n",
        "그동안 우리나라는 미확인 물체가 우주선 주변을 스쳐 지나가고 있는 것에 대한 우려가 적지 않았던데요.\n",
        "나로호가 오는 대로 본격적인 활동에 들어갈 수 있을지를 두고 찬반 논란이 예상됩니다.\n",
        "김경아 기자가 취재했습니다.\n",
        "\n",
        "- 챗봇 출력 결과:\n",
        "\n",
        "인천국제공항에서 바르셀로나 엘프라트 공항까지 가는 방법은 다음과 같습니다.\n",
        "\n",
        "1. 인천국제공항에서 출발하기:\n",
        "   - 공항 도착 후, 터미널 1에서 체크인을 합니다.\n",
        "   - 체크인 후, 터미널 2에서 수하물을 부칩니다.\n",
        "   - 수하물을 부칠 때, 수하물의 무게를 확인합니다.\n",
        "   - 수하물을 부칠 때, 수하물의 크기와 무게를 확인합니다.\n",
        "   - 수하물을 부칠 때, 수하물의 무게와 크기를 확인합니다.\n",
        "   - 수하물을 부칠 때, 수하물의 무게와 크기를 확인합니다.\n",
        "   - 수하물을 부칠 때, 수하물의 무게와 크기를 확인합니다.\n",
        "   - 수하물을 부칠 때, 수하물의 무게와 크기를 확인합니다.\n",
        "   - 수하물을 부칠 때, 수하물의 무게와 크기를 확인합니다.\n",
        "   - 수하물을 부칠 때, 수하물의 무게와 크기를 확인합니다.\n",
        "   - 수하물을 부칠 때, 수하물의 무게와 크기를 확인합니다.\n",
        "   - 수하물\n",
        "\n",
        "- 결과 비교: 자연어 생성 결과로 보면 해당 문장이 들어간 기사가 출력됨을 볼 수 있다. 문장을 분석하여 원하는 답변을 내는 모습은 아니다. 반면 챗봇 출력 결과를 보면 사용자의 문장에서 답변으로 원하는 목적은 파악하였으나, 문장이 질문의 형태가 아니기 때문에 답변문장이 길이만큼 반복되어 출력된다.\n",
        "\n",
        "[테스트 입력 문장2]\n",
        "- (챗봇 입력으로 적합할 것으로 기대되는) 입력 문장2: \"한국에서 스페인에 가려면 어떻게 가야하나요?\"\n",
        "\n",
        "- 자연어 생성 출력 결과:\n",
        "\n",
        "한국에서 스페인에 가려면 어떻게 가야하나요? 라며 아쉬워하는 아이들을 보며, 많은 아이들이 ‘스쿨 미식가’ ‘저학년 친구집’이라고 답하고 있다. 지난해 7월 '박근혜 정부에서 가장 문제 많은 부처가 복지부‘라는 우스갯소리가 제기됐다면, 올해 정부 내 복지부는 '가장 문제 많은 부처'로 낙인찍혔을 것이란 분석이다.\n",
        "지난해 9월 박근혜 정부들어 복지부는 '복지예산 대폭 감축' '사회복지 예산 축소' 등 복지분야를 두고 오락가락 기조를 보일 것이라는 전망이 제기됐다.\n",
        "반면 공무원노조는 '정치적이고 편파적인' 정부 부처라고 지적하며 '공무원 성과관리제도'를 도입해야 한다고 주장하고 있다.\n",
        "이와 관련해 청와대 '국민행복위원회'는 내년도 공무원들의 복지수준을 올해 수준으로 끌어올리기 위해 내년부터 복지도둑질을 전면 금지하겠다고 밝혔다.\n",
        "이에 따라 공무원들은 내년부터 복지수당을 월 5만원에서 5만원으로 인상하는 등 성과급 인상을 요구할 것으로 예상된다.\n",
        "복지부의 내년도 예산안은 올해보다 5억원가량 적은 1조4930억원에 그쳤고, 올해 정부 재정규모(4조9377억원)에 비해서도 1.9%나 삭감된 규모다.\n",
        "또 내년도 국·공립 보육시설 종사자 처우 개선사업 예산을 올해보다 253\n",
        "\n",
        "- 챗봇 출력 결과:\n",
        "\n",
        " 사용자: 한국에서 스페인에 가려면 어떻게 가야하나요?\n",
        "\n",
        " 챗봇: 한국에서 스페인으로 가려면, 비행기를 타거나 기차를 타야 합니다. 비행기는 대한항공, 아시아나, 타이항공, 에어프랑스, 에어캐나다 등이 있으며, 기차는 KTX, KTX-산천, 새마을호, 무궁화호 등이 있습니다. 비행기는 인천국제공항에서 출발하며, 기차는 청량리역에서 출발합니다.\n",
        "\n",
        "- 결과 비교: 자연어 생성 결과로 보면 해당 문장이 들어간 기사가 출력됨을 볼 수 있다. 문장을 분석하여 원하는 답변을 내는 모습은 아니다. 반면 챗봇 출력 결과를 보면 사용자가 질문형태로 문장을 사용하였기에 사용자 질문의 목적을 잘 파악하고 답변까지 내는 모습이다."
      ],
      "metadata": {
        "id": "aK8KdestFGfW"
      }
    },
    {
      "cell_type": "code",
      "source": [
        "pipe = pipeline(\"text-generation\", model=\"skt/kogpt2-base-v2\", device=0)\n",
        "\n",
        "sent1 = \"한국에서 스페인에 가려면 어떻게 가야하나요?\"\n",
        "generated_text = pipe(sent1, max_new_tokens=256)\n",
        "print(generated_text[0]['generated_text'])"
      ],
      "metadata": {
        "id": "kbF5-SOuDJ0w",
        "colab": {
          "base_uri": "https://localhost:8080/"
        },
        "outputId": "e8851501-9e4f-43cd-c7b5-570e420845f9"
      },
      "execution_count": 52,
      "outputs": [
        {
          "output_type": "stream",
          "name": "stdout",
          "text": [
            "한국에서 스페인에 가려면 어떻게 가야하나요? 라며 아쉬워하는 아이들을 보며, 많은 아이들이 ‘스쿨 미식가’ ‘저학년 친구집’이라고 답하고 있다. 지난해 7월 '박근혜 정부에서 가장 문제 많은 부처가 복지부‘라는 우스갯소리가 제기됐다면, 올해 정부 내 복지부는 '가장 문제 많은 부처'로 낙인찍혔을 것이란 분석이다.\n",
            "지난해 9월 박근혜 정부들어 복지부는 '복지예산 대폭 감축' '사회복지 예산 축소' 등 복지분야를 두고 오락가락 기조를 보일 것이라는 전망이 제기됐다.\n",
            "반면 공무원노조는 '정치적이고 편파적인' 정부 부처라고 지적하며 '공무원 성과관리제도'를 도입해야 한다고 주장하고 있다.\n",
            "이와 관련해 청와대 '국민행복위원회'는 내년도 공무원들의 복지수준을 올해 수준으로 끌어올리기 위해 내년부터 복지도둑질을 전면 금지하겠다고 밝혔다.\n",
            "이에 따라 공무원들은 내년부터 복지수당을 월 5만원에서 5만원으로 인상하는 등 성과급 인상을 요구할 것으로 예상된다.\n",
            "복지부의 내년도 예산안은 올해보다 5억원가량 적은 1조4930억원에 그쳤고, 올해 정부 재정규모(4조9377억원)에 비해서도 1.9%나 삭감된 규모다.\n",
            "또 내년도 국·공립 보육시설 종사자 처우 개선사업 예산을 올해보다 253\n"
          ]
        }
      ]
    },
    {
      "cell_type": "code",
      "source": [
        "pipe = pipeline(\"text-generation\", model=\"heegyu/polyglot-ko-1.3b-chat\", device=0)\n",
        "\n",
        "sent2 = \"인천국제공항에서 바르셀로나 엘프라트 공항까지 가기 위해서는 어떻게 해야 돼?\"\n",
        "generated_text = pipe(f\"### 사용자: {sent2}\\n\\n### 챗봇:\", max_new_tokens=256, eos_token_id=2, pad_token_id=2)\n",
        "print(generated_text[0]['generated_text'])"
      ],
      "metadata": {
        "id": "sFFpGF0BDLAG",
        "colab": {
          "base_uri": "https://localhost:8080/"
        },
        "outputId": "168a3cc0-7847-4c3d-ccd9-832df9a0f884"
      },
      "execution_count": 50,
      "outputs": [
        {
          "output_type": "stream",
          "name": "stdout",
          "text": [
            "### 사용자: 인천국제공항에서 바르셀로나 엘프라트 공항까지 가기 위해서는 어떻게 해야 돼?\n",
            "\n",
            "### 챗봇: 인천국제공항에서 바르셀로나 엘프라트 공항까지 가는 방법은 다양합니다. 일반적으로는 공항철도를 이용하는 것이 가장 편리합니다. 공항철도는 인천국제공항역에서 출발하여 인천국제공항역에서 환승하여 공항철도를 이용할 수 있습니다. 공항철도는 일반열차와 급행열차로 구분되며, 일반열차는 일반적으로 인천국제공항역에서 출발하여 인천국제공항역에서 환승하여 공항철도를 이용할 수 있습니다. 또한, 급행열차는 일반열차와 달리 인천국제공항역에서 출발하여 인천국제공항역에서 환승하여 공항철도를 이용할 수 있습니다.\n"
          ]
        }
      ]
    },
    {
      "cell_type": "markdown",
      "source": [
        "---"
      ],
      "metadata": {
        "id": "D6uy5dVyDLGM"
      }
    }
  ]
}