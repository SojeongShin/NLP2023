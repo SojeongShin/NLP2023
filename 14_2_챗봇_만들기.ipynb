{
  "nbformat": 4,
  "nbformat_minor": 0,
  "metadata": {
    "colab": {
      "provenance": [],
      "gpuType": "T4",
      "include_colab_link": true
    },
    "kernelspec": {
      "name": "python3",
      "display_name": "Python 3"
    },
    "language_info": {
      "name": "python"
    },
    "accelerator": "GPU"
  },
  "cells": [
    {
      "cell_type": "markdown",
      "metadata": {
        "id": "view-in-github",
        "colab_type": "text"
      },
      "source": [
        "<a href=\"https://colab.research.google.com/github/SojeongShin/NLP_2023/blob/main/14_2_%EC%B1%97%EB%B4%87_%EB%A7%8C%EB%93%A4%EA%B8%B0.ipynb\" target=\"_parent\"><img src=\"https://colab.research.google.com/assets/colab-badge.svg\" alt=\"Open In Colab\"/></a>"
      ]
    },
    {
      "cell_type": "markdown",
      "source": [
        "# [자연어처리]\n",
        "# 14주차(14-2). 챗봇 만들기"
      ],
      "metadata": {
        "id": "EkFDe8fd-i87"
      }
    },
    {
      "cell_type": "markdown",
      "source": [
        "\n",
        "# 202001581 신소정![캡처.PNG](data:image/png;base64,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) <- 본인의 학번, 이름으로 변경하여 제출\n",
        "* **모든 셀 실행** 후 제출하시기 바랍니다.\n",
        "* **실습 (14-2)**이 있습니다. (제출 기한: 12/5(화) 23시 59분까지)"
      ],
      "metadata": {
        "id": "Kts--kjE-lbo"
      }
    },
    {
      "cell_type": "markdown",
      "source": [
        "# 이제 Colab 사용에 모든 수강생분들이 어느정도 익숙해 졌을 거라 생각됩니다!\n",
        "> ##### 중간 중간 **'### ... 이 부분을 완성하시오'** 라는 부분의 코드를 완성해야 합니다.\n",
        "\n",
        "\n"
      ],
      "metadata": {
        "id": "rbCwvL4N-nJN"
      }
    },
    {
      "cell_type": "markdown",
      "source": [
        "# [런타임] - [런타임 유형 변경] - [T4 GPU]"
      ],
      "metadata": {
        "id": "lT2gH-kT-dLY"
      }
    },
    {
      "cell_type": "markdown",
      "source": [
        "# 1. 기본 코드 실행"
      ],
      "metadata": {
        "id": "4Ldx2wO-mtci"
      }
    },
    {
      "cell_type": "code",
      "source": [
        "from flask import Flask ### ... 이 부분을 완성하시오\n",
        "app = Flask(__name__)\n",
        "\n",
        "@app.route(\"/\")\n",
        "def hello():\n",
        "  return \"Hello World !\"\n",
        "\n",
        "if __name__ == \"__main__\":\n",
        "  app.run()"
      ],
      "metadata": {
        "id": "V9J67tNU3dWd",
        "colab": {
          "base_uri": "https://localhost:8080/"
        },
        "outputId": "89c42b5b-ee60-47c3-adc5-a241b8e0c9d8"
      },
      "execution_count": 1,
      "outputs": [
        {
          "output_type": "stream",
          "name": "stdout",
          "text": [
            " * Serving Flask app '__main__'\n",
            " * Debug mode: off\n"
          ]
        },
        {
          "output_type": "stream",
          "name": "stderr",
          "text": [
            "INFO:werkzeug:\u001b[31m\u001b[1mWARNING: This is a development server. Do not use it in a production deployment. Use a production WSGI server instead.\u001b[0m\n",
            " * Running on http://127.0.0.1:5000\n",
            "INFO:werkzeug:\u001b[33mPress CTRL+C to quit\u001b[0m\n"
          ]
        }
      ]
    },
    {
      "cell_type": "code",
      "source": [
        "! pip install pyngrok==4.1.1 ### ... 이 부분을 완성하시오\n",
        "! pip install flask_ngrok ### ... 이 부분을 완성하시오"
      ],
      "metadata": {
        "id": "XBiVFATw3dbC",
        "colab": {
          "base_uri": "https://localhost:8080/"
        },
        "outputId": "f1622408-6306-4b21-9521-ddd0521ef437"
      },
      "execution_count": 2,
      "outputs": [
        {
          "output_type": "stream",
          "name": "stdout",
          "text": [
            "Collecting pyngrok==4.1.1\n",
            "  Downloading pyngrok-4.1.1.tar.gz (18 kB)\n",
            "  Preparing metadata (setup.py) ... \u001b[?25l\u001b[?25hdone\n",
            "Requirement already satisfied: future in /usr/local/lib/python3.10/dist-packages (from pyngrok==4.1.1) (0.18.3)\n",
            "Requirement already satisfied: PyYAML in /usr/local/lib/python3.10/dist-packages (from pyngrok==4.1.1) (6.0.1)\n",
            "Building wheels for collected packages: pyngrok\n",
            "  Building wheel for pyngrok (setup.py) ... \u001b[?25l\u001b[?25hdone\n",
            "  Created wheel for pyngrok: filename=pyngrok-4.1.1-py3-none-any.whl size=15963 sha256=c1959caaa329d641e767371f1a650b26053ff65ae7e8b57b74141de62a13774e\n",
            "  Stored in directory: /root/.cache/pip/wheels/4c/7c/4c/632fba2ea8e88d8890102eb07bc922e1ca8fa14db5902c91a8\n",
            "Successfully built pyngrok\n",
            "Installing collected packages: pyngrok\n",
            "Successfully installed pyngrok-4.1.1\n",
            "Collecting flask_ngrok\n",
            "  Downloading flask_ngrok-0.0.25-py3-none-any.whl (3.1 kB)\n",
            "Requirement already satisfied: Flask>=0.8 in /usr/local/lib/python3.10/dist-packages (from flask_ngrok) (2.2.5)\n",
            "Requirement already satisfied: requests in /usr/local/lib/python3.10/dist-packages (from flask_ngrok) (2.31.0)\n",
            "Requirement already satisfied: Werkzeug>=2.2.2 in /usr/local/lib/python3.10/dist-packages (from Flask>=0.8->flask_ngrok) (3.0.1)\n",
            "Requirement already satisfied: Jinja2>=3.0 in /usr/local/lib/python3.10/dist-packages (from Flask>=0.8->flask_ngrok) (3.1.2)\n",
            "Requirement already satisfied: itsdangerous>=2.0 in /usr/local/lib/python3.10/dist-packages (from Flask>=0.8->flask_ngrok) (2.1.2)\n",
            "Requirement already satisfied: click>=8.0 in /usr/local/lib/python3.10/dist-packages (from Flask>=0.8->flask_ngrok) (8.1.7)\n",
            "Requirement already satisfied: charset-normalizer<4,>=2 in /usr/local/lib/python3.10/dist-packages (from requests->flask_ngrok) (3.3.2)\n",
            "Requirement already satisfied: idna<4,>=2.5 in /usr/local/lib/python3.10/dist-packages (from requests->flask_ngrok) (3.6)\n",
            "Requirement already satisfied: urllib3<3,>=1.21.1 in /usr/local/lib/python3.10/dist-packages (from requests->flask_ngrok) (2.0.7)\n",
            "Requirement already satisfied: certifi>=2017.4.17 in /usr/local/lib/python3.10/dist-packages (from requests->flask_ngrok) (2023.11.17)\n",
            "Requirement already satisfied: MarkupSafe>=2.0 in /usr/local/lib/python3.10/dist-packages (from Jinja2>=3.0->Flask>=0.8->flask_ngrok) (2.1.3)\n",
            "Installing collected packages: flask_ngrok\n",
            "Successfully installed flask_ngrok-0.0.25\n"
          ]
        }
      ]
    },
    {
      "cell_type": "markdown",
      "source": [
        "# 2. Ngrok으로 실행"
      ],
      "metadata": {
        "id": "mS7zD6Uom5x6"
      }
    },
    {
      "cell_type": "code",
      "source": [
        "### ... 이 부분을 완성하시오\n",
        "\n",
        "from flask_ngrok import run_with_ngrok\n",
        "from flask import Flask\n",
        "\n",
        "app = Flask(__name__)\n",
        "run_with_ngrok(app)\n",
        "\n",
        "@app.route(\"/\")\n",
        "def hello():\n",
        "  return \"Hello World !\"\n",
        "\n",
        "if __name__ == \"__main__\":\n",
        "  app.run()"
      ],
      "metadata": {
        "id": "61f-kpCP305m",
        "colab": {
          "base_uri": "https://localhost:8080/"
        },
        "outputId": "52a29c13-ef48-4446-df23-145c25143e15"
      },
      "execution_count": 5,
      "outputs": [
        {
          "output_type": "stream",
          "name": "stdout",
          "text": [
            " * Serving Flask app '__main__'\n",
            " * Debug mode: off\n"
          ]
        },
        {
          "output_type": "stream",
          "name": "stderr",
          "text": [
            "INFO:werkzeug:\u001b[31m\u001b[1mWARNING: This is a development server. Do not use it in a production deployment. Use a production WSGI server instead.\u001b[0m\n",
            " * Running on http://127.0.0.1:5000\n",
            "INFO:werkzeug:\u001b[33mPress CTRL+C to quit\u001b[0m\n"
          ]
        },
        {
          "output_type": "stream",
          "name": "stdout",
          "text": [
            " * Running on http://99fd-35-233-235-0.ngrok-free.app\n",
            " * Traffic stats available on http://127.0.0.1:4040\n"
          ]
        },
        {
          "output_type": "stream",
          "name": "stderr",
          "text": [
            "INFO:werkzeug:127.0.0.1 - - [05/Dec/2023 01:46:37] \"GET / HTTP/1.1\" 200 -\n",
            "INFO:werkzeug:127.0.0.1 - - [05/Dec/2023 01:46:37] \"\u001b[33mGET /favicon.ico HTTP/1.1\u001b[0m\" 404 -\n"
          ]
        }
      ]
    },
    {
      "cell_type": "markdown",
      "source": [
        "## authtoken 추가"
      ],
      "metadata": {
        "id": "JsdGRJpLm_zB"
      }
    },
    {
      "cell_type": "code",
      "source": [
        "! ngrok authtoken 2Z6RlqHL5sLPMTg5RYrbVT9v3jB_J2sMrWQST7j4H8dioBQL ### ... 이 부분을 완성하시오"
      ],
      "metadata": {
        "colab": {
          "base_uri": "https://localhost:8080/"
        },
        "id": "l8u9dPnd3jG8",
        "outputId": "941b4cf7-b4d1-48a4-92d5-18b9669e9fc0"
      },
      "execution_count": 4,
      "outputs": [
        {
          "output_type": "stream",
          "name": "stdout",
          "text": [
            "Authtoken saved to configuration file: /root/.ngrok2/ngrok.yml\n"
          ]
        }
      ]
    },
    {
      "cell_type": "markdown",
      "source": [
        "## Ngrok 코드 재실행"
      ],
      "metadata": {
        "id": "aiMUu460nENB"
      }
    },
    {
      "cell_type": "code",
      "source": [
        "### ... 이 부분을 완성하시오"
      ],
      "metadata": {
        "id": "RU5CW3Md3hEE"
      },
      "execution_count": null,
      "outputs": []
    },
    {
      "cell_type": "markdown",
      "source": [
        "# 3. 템플릿 이용"
      ],
      "metadata": {
        "id": "sRKe8_28nIti"
      }
    },
    {
      "cell_type": "markdown",
      "source": [
        "## index.html"
      ],
      "metadata": {
        "id": "-KC3wqXOnQFl"
      }
    },
    {
      "cell_type": "code",
      "source": [
        "### ... 이 부분을 완성하시오\n",
        "\n",
        "from flask_ngrok import run_with_ngrok\n",
        "from flask import Flask, render_template\n",
        "\n",
        "# Flask 객체 생성\n",
        "app = Flask(__name__)\n",
        "run_with_ngrok(app)\n",
        "\n",
        "@app.route(\"/\") # 접속하는 url\n",
        "def index():\n",
        "  return render_template('index.html')\n",
        "\n",
        "if __name__ == \"__main__\":\n",
        "  app.run()"
      ],
      "metadata": {
        "id": "krjFy1TK4AeI",
        "colab": {
          "base_uri": "https://localhost:8080/"
        },
        "outputId": "b91be9a8-e945-4fd4-ff9e-bfda1739b3a6"
      },
      "execution_count": 6,
      "outputs": [
        {
          "output_type": "stream",
          "name": "stdout",
          "text": [
            " * Serving Flask app '__main__'\n",
            " * Debug mode: off\n"
          ]
        },
        {
          "output_type": "stream",
          "name": "stderr",
          "text": [
            "INFO:werkzeug:\u001b[31m\u001b[1mWARNING: This is a development server. Do not use it in a production deployment. Use a production WSGI server instead.\u001b[0m\n",
            " * Running on http://127.0.0.1:5000\n",
            "INFO:werkzeug:\u001b[33mPress CTRL+C to quit\u001b[0m\n"
          ]
        },
        {
          "output_type": "stream",
          "name": "stdout",
          "text": [
            " * Running on http://8b23-35-233-235-0.ngrok-free.app\n",
            " * Traffic stats available on http://127.0.0.1:4040\n"
          ]
        },
        {
          "output_type": "stream",
          "name": "stderr",
          "text": [
            "INFO:werkzeug:127.0.0.1 - - [05/Dec/2023 01:54:10] \"GET / HTTP/1.1\" 200 -\n",
            "INFO:werkzeug:127.0.0.1 - - [05/Dec/2023 01:54:10] \"\u001b[33mGET /favicon.ico HTTP/1.1\u001b[0m\" 404 -\n"
          ]
        }
      ]
    },
    {
      "cell_type": "markdown",
      "source": [
        "## index2.html"
      ],
      "metadata": {
        "id": "lTgsS8ainRpZ"
      }
    },
    {
      "cell_type": "code",
      "source": [
        "### ... 이 부분을 완성하시오\n",
        "\n",
        "from flask_ngrok import run_with_ngrok\n",
        "from flask import Flask, render_template, request\n",
        "\n",
        "# Flask 객체 생성\n",
        "app = Flask(__name__)\n",
        "run_with_ngrok(app)\n",
        "\n",
        "@app.route(\"/\") # 접속하는 url\n",
        "def index():\n",
        "  return render_template('index2.html')\n",
        "\n",
        "@app.route(\"/chat\", methods=['POST'])\n",
        "def chat():\n",
        "  user_text = request.form['user_text']\n",
        "  return f\"입력 문장: {user_text}\"\n",
        "\n",
        "if __name__ == \"__main__\":\n",
        "  app.run()"
      ],
      "metadata": {
        "id": "3ChiB9d06z_6",
        "colab": {
          "base_uri": "https://localhost:8080/"
        },
        "outputId": "7d8b0f06-4f2e-4252-f49f-8d43942764c5"
      },
      "execution_count": 12,
      "outputs": [
        {
          "output_type": "stream",
          "name": "stdout",
          "text": [
            " * Serving Flask app '__main__'\n",
            " * Debug mode: off\n"
          ]
        },
        {
          "output_type": "stream",
          "name": "stderr",
          "text": [
            "INFO:werkzeug:\u001b[31m\u001b[1mWARNING: This is a development server. Do not use it in a production deployment. Use a production WSGI server instead.\u001b[0m\n",
            " * Running on http://127.0.0.1:5000\n",
            "INFO:werkzeug:\u001b[33mPress CTRL+C to quit\u001b[0m\n"
          ]
        },
        {
          "output_type": "stream",
          "name": "stdout",
          "text": [
            " * Running on http://dbbd-35-233-235-0.ngrok-free.app\n",
            " * Traffic stats available on http://127.0.0.1:4040\n"
          ]
        },
        {
          "output_type": "stream",
          "name": "stderr",
          "text": [
            "INFO:werkzeug:127.0.0.1 - - [05/Dec/2023 02:06:31] \"GET / HTTP/1.1\" 200 -\n",
            "INFO:werkzeug:127.0.0.1 - - [05/Dec/2023 02:06:32] \"\u001b[33mGET /favicon.ico HTTP/1.1\u001b[0m\" 404 -\n",
            "INFO:werkzeug:127.0.0.1 - - [05/Dec/2023 02:06:34] \"POST /chat HTTP/1.1\" 200 -\n"
          ]
        }
      ]
    },
    {
      "cell_type": "markdown",
      "source": [
        "# 4. 챗봇 만들기"
      ],
      "metadata": {
        "id": "eWMxMEX3nYdU"
      }
    },
    {
      "cell_type": "code",
      "source": [
        "! pip install transformers ### ... 이 부분을 완성하시오"
      ],
      "metadata": {
        "id": "5dEufbpe6LsI",
        "colab": {
          "base_uri": "https://localhost:8080/"
        },
        "outputId": "20fbc92b-4b90-451b-a139-8d6aba039120"
      },
      "execution_count": 9,
      "outputs": [
        {
          "output_type": "stream",
          "name": "stdout",
          "text": [
            "Requirement already satisfied: transformers in /usr/local/lib/python3.10/dist-packages (4.35.2)\n",
            "Requirement already satisfied: filelock in /usr/local/lib/python3.10/dist-packages (from transformers) (3.13.1)\n",
            "Requirement already satisfied: huggingface-hub<1.0,>=0.16.4 in /usr/local/lib/python3.10/dist-packages (from transformers) (0.19.4)\n",
            "Requirement already satisfied: numpy>=1.17 in /usr/local/lib/python3.10/dist-packages (from transformers) (1.23.5)\n",
            "Requirement already satisfied: packaging>=20.0 in /usr/local/lib/python3.10/dist-packages (from transformers) (23.2)\n",
            "Requirement already satisfied: pyyaml>=5.1 in /usr/local/lib/python3.10/dist-packages (from transformers) (6.0.1)\n",
            "Requirement already satisfied: regex!=2019.12.17 in /usr/local/lib/python3.10/dist-packages (from transformers) (2023.6.3)\n",
            "Requirement already satisfied: requests in /usr/local/lib/python3.10/dist-packages (from transformers) (2.31.0)\n",
            "Requirement already satisfied: tokenizers<0.19,>=0.14 in /usr/local/lib/python3.10/dist-packages (from transformers) (0.15.0)\n",
            "Requirement already satisfied: safetensors>=0.3.1 in /usr/local/lib/python3.10/dist-packages (from transformers) (0.4.1)\n",
            "Requirement already satisfied: tqdm>=4.27 in /usr/local/lib/python3.10/dist-packages (from transformers) (4.66.1)\n",
            "Requirement already satisfied: fsspec>=2023.5.0 in /usr/local/lib/python3.10/dist-packages (from huggingface-hub<1.0,>=0.16.4->transformers) (2023.6.0)\n",
            "Requirement already satisfied: typing-extensions>=3.7.4.3 in /usr/local/lib/python3.10/dist-packages (from huggingface-hub<1.0,>=0.16.4->transformers) (4.5.0)\n",
            "Requirement already satisfied: charset-normalizer<4,>=2 in /usr/local/lib/python3.10/dist-packages (from requests->transformers) (3.3.2)\n",
            "Requirement already satisfied: idna<4,>=2.5 in /usr/local/lib/python3.10/dist-packages (from requests->transformers) (3.6)\n",
            "Requirement already satisfied: urllib3<3,>=1.21.1 in /usr/local/lib/python3.10/dist-packages (from requests->transformers) (2.0.7)\n",
            "Requirement already satisfied: certifi>=2017.4.17 in /usr/local/lib/python3.10/dist-packages (from requests->transformers) (2023.11.17)\n"
          ]
        }
      ]
    },
    {
      "cell_type": "code",
      "source": [
        "from transformers import pipeline\n",
        "pipe = pipeline(\"text-generation\", model=\"heegyu/polyglot-ko-1.3b-chat\", device=0) ### ... 이 부분을 완성하시오"
      ],
      "metadata": {
        "id": "jubFGZUHCy9z"
      },
      "execution_count": 18,
      "outputs": []
    },
    {
      "cell_type": "markdown",
      "source": [
        "## index2.html으로 테스트 해보기"
      ],
      "metadata": {
        "id": "yxFHAo3Qnxfc"
      }
    },
    {
      "cell_type": "code",
      "source": [
        "### ... 이 부분을 완성하시오\n",
        "from transformers import pipeline\n",
        "pipe = pipeline(\"text-generation\", model=\"heegyu/polyglot-ko-1.3b-chat\", device=0)\n",
        "\n",
        "from flask_ngrok import run_with_ngrok\n",
        "from flask import Flask, render_template, request\n",
        "\n",
        "# Flask 객체 생성\n",
        "app = Flask(__name__)\n",
        "run_with_ngrok(app)\n",
        "\n",
        "@app.route(\"/\") # 접속하는 url\n",
        "def index():\n",
        "  return render_template('index2.html')\n",
        "\n",
        "@app.route(\"/chat\", methods=['POST'])\n",
        "def chat():\n",
        "  user_text = request.form['user_text']\n",
        "  generated_text = pipe(f\"### 사용자: {user_text}\\n\\n### 챗봇:\", max_new_tokens=256, eos_token_id=2, pad_token_id=2)\n",
        "\n",
        "  chatbot_text = generated_text[0]['generated_text'].split('### 챗봇:')[1]\n",
        "\n",
        "  return f\"입력 문장: {user_text}, 출력 문장: {chatbot_text}\"\n",
        "\n",
        "if __name__ == \"__main__\":\n",
        "  app.run()"
      ],
      "metadata": {
        "id": "JLzwdwVW5e9O",
        "colab": {
          "base_uri": "https://localhost:8080/"
        },
        "outputId": "a9a47105-91a5-4b92-df6d-77c6140bd922"
      },
      "execution_count": 22,
      "outputs": [
        {
          "output_type": "stream",
          "name": "stdout",
          "text": [
            " * Serving Flask app '__main__'\n",
            " * Debug mode: off\n"
          ]
        },
        {
          "output_type": "stream",
          "name": "stderr",
          "text": [
            "INFO:werkzeug:\u001b[31m\u001b[1mWARNING: This is a development server. Do not use it in a production deployment. Use a production WSGI server instead.\u001b[0m\n",
            " * Running on http://127.0.0.1:5000\n",
            "INFO:werkzeug:\u001b[33mPress CTRL+C to quit\u001b[0m\n"
          ]
        },
        {
          "output_type": "stream",
          "name": "stdout",
          "text": [
            " * Running on http://6033-35-233-235-0.ngrok-free.app\n",
            " * Traffic stats available on http://127.0.0.1:4040\n"
          ]
        },
        {
          "output_type": "stream",
          "name": "stderr",
          "text": [
            "INFO:werkzeug:127.0.0.1 - - [05/Dec/2023 02:36:27] \"GET / HTTP/1.1\" 200 -\n",
            "INFO:werkzeug:127.0.0.1 - - [05/Dec/2023 02:36:27] \"\u001b[33mGET /favicon.ico HTTP/1.1\u001b[0m\" 404 -\n"
          ]
        },
        {
          "output_type": "stream",
          "name": "stdout",
          "text": [
            "안녕하세요\n"
          ]
        },
        {
          "output_type": "stream",
          "name": "stderr",
          "text": [
            "INFO:werkzeug:127.0.0.1 - - [05/Dec/2023 02:36:29] \"POST /chat HTTP/1.1\" 200 -\n"
          ]
        },
        {
          "output_type": "stream",
          "name": "stdout",
          "text": [
            "[{'generated_text': '### 사용자: 안녕하세요\\n\\n### 챗봇:\\n안녕하세요!\\n 오늘 당신을 어떻게 도와 드릴까요?'}]\n"
          ]
        }
      ]
    },
    {
      "cell_type": "markdown",
      "source": [
        "## index3.html으로 테스트 해보기"
      ],
      "metadata": {
        "id": "nAl7h1aOnzxw"
      }
    },
    {
      "cell_type": "code",
      "source": [
        "from flask_ngrok import run_with_ngrok\n",
        "from flask import Flask, render_template, request\n",
        "\n",
        "# Flask 객체 인스턴스 생성\n",
        "app = Flask(__name__)\n",
        "run_with_ngrok(app)\n",
        "\n",
        "@app.route('/')\n",
        "def index():\n",
        "    return render_template('index3.html') ### ... 이 부분을 완성하시오\n",
        "\n",
        "@app.route('/chat', methods=['POST'])\n",
        "def chat():\n",
        "    user_text = request.get_json()['user_message'] ### ... 이 부분을 완성하시오\n",
        "    generated_text = pipe(f\"### 사용자: {user_text}\\n\\n### 챗봇:\", max_new_tokens=256, eos_token_id=2, pad_token_id=2)\n",
        "    chatbot_text = generated_text[0]['generated_text'].split('### 챗봇:')[1]\n",
        "    return f\"{chatbot_text}\" ### ... 이 부분을 완성하시오\n",
        "\n",
        "if __name__==\"__main__\":\n",
        "  app.run()"
      ],
      "metadata": {
        "id": "PZjTgtMk-GE5",
        "colab": {
          "base_uri": "https://localhost:8080/"
        },
        "outputId": "8191782b-aa13-4de7-cd0d-83ec622a58b9"
      },
      "execution_count": 23,
      "outputs": [
        {
          "output_type": "stream",
          "name": "stdout",
          "text": [
            " * Serving Flask app '__main__'\n",
            " * Debug mode: off\n"
          ]
        },
        {
          "output_type": "stream",
          "name": "stderr",
          "text": [
            "INFO:werkzeug:\u001b[31m\u001b[1mWARNING: This is a development server. Do not use it in a production deployment. Use a production WSGI server instead.\u001b[0m\n",
            " * Running on http://127.0.0.1:5000\n",
            "INFO:werkzeug:\u001b[33mPress CTRL+C to quit\u001b[0m\n"
          ]
        },
        {
          "output_type": "stream",
          "name": "stdout",
          "text": [
            " * Running on http://8404-35-233-235-0.ngrok-free.app\n",
            " * Traffic stats available on http://127.0.0.1:4040\n"
          ]
        },
        {
          "output_type": "stream",
          "name": "stderr",
          "text": [
            "INFO:werkzeug:127.0.0.1 - - [05/Dec/2023 02:37:20] \"GET / HTTP/1.1\" 200 -\n",
            "INFO:werkzeug:127.0.0.1 - - [05/Dec/2023 02:37:21] \"\u001b[33mGET /favicon.ico HTTP/1.1\u001b[0m\" 404 -\n",
            "INFO:werkzeug:127.0.0.1 - - [05/Dec/2023 02:37:29] \"POST /chat HTTP/1.1\" 200 -\n",
            "INFO:werkzeug:127.0.0.1 - - [05/Dec/2023 02:37:58] \"POST /chat HTTP/1.1\" 200 -\n",
            "INFO:werkzeug:127.0.0.1 - - [05/Dec/2023 02:38:36] \"POST /chat HTTP/1.1\" 200 -\n"
          ]
        }
      ]
    },
    {
      "cell_type": "markdown",
      "source": [
        "---"
      ],
      "metadata": {
        "id": "aR8NyLKMmday"
      }
    },
    {
      "cell_type": "markdown",
      "source": [
        "## [[실습 14-2]] 챗봇과 대화한 스크린 샷 추가\n",
        "챗봇과 2번 이상의 대화를 주고받아 보고, 해당 내용을 스크린 샷으로 첨부하시오.\n",
        "* 스크린 샷 -> [+텍스트] -> 스크린 샷 파일 붙여넣기\n",
        "* 잘 안되는 경우, 각각 제출\n",
        "    * .ipynb 파일과 이미지 파일 2개의 파일을 각각 제출\n"
      ],
      "metadata": {
        "id": "dDugEghamKia"
      }
    },
    {
      "cell_type": "markdown",
      "source": [
        "![캡처.txt.PNG](data:image/png;base64,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)"
      ],
      "metadata": {
        "id": "ggFUicFLpxRi"
      }
    },
    {
      "cell_type": "markdown",
      "source": [],
      "metadata": {
        "id": "TlJZKRvW2KoT"
      }
    },
    {
      "cell_type": "markdown",
      "source": [
        "---"
      ],
      "metadata": {
        "id": "7pvtc0DYmQtO"
      }
    }
  ]
}