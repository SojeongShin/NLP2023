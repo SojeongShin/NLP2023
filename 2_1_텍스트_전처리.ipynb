{
  "cells": [
    {
      "cell_type": "markdown",
      "metadata": {
        "id": "view-in-github",
        "colab_type": "text"
      },
      "source": [
        "<a href=\"https://colab.research.google.com/github/SojeongShin/NLP_2023/blob/Notion/2_1_%E1%84%90%E1%85%A6%E1%86%A8%E1%84%89%E1%85%B3%E1%84%90%E1%85%B3_%E1%84%8C%E1%85%A5%E1%86%AB%E1%84%8E%E1%85%A5%E1%84%85%E1%85%B5.ipynb\" target=\"_parent\"><img src=\"https://colab.research.google.com/assets/colab-badge.svg\" alt=\"Open In Colab\"/></a>"
      ]
    },
    {
      "cell_type": "markdown",
      "metadata": {
        "id": "nVkb98IsbxO4"
      },
      "source": [
        "# 2주차(2-1) 텍스트 전처리"
      ]
    },
    {
      "cell_type": "markdown",
      "source": [
        "202001581 신소정 (실행 shift + enter)"
      ],
      "metadata": {
        "id": "bVJThqdV8nBx"
      }
    },
    {
      "cell_type": "markdown",
      "metadata": {
        "id": "hzuS3qB2bxO5"
      },
      "source": [
        "## 1. 토큰화(Tokenization)"
      ]
    },
    {
      "cell_type": "markdown",
      "metadata": {
        "id": "ODkBv5o4bxO6"
      },
      "source": [
        "#### NLTK (https://www.nltk.org/) 설치"
      ]
    },
    {
      "cell_type": "code",
      "execution_count": 1,
      "metadata": {
        "id": "Omu9xo4fbxO6",
        "colab": {
          "base_uri": "https://localhost:8080/"
        },
        "outputId": "1fadc5ac-57c2-4d69-bc8d-7ef98b85f6a9"
      },
      "outputs": [
        {
          "output_type": "stream",
          "name": "stderr",
          "text": [
            "[nltk_data] Downloading package punkt to /root/nltk_data...\n",
            "[nltk_data]   Unzipping tokenizers/punkt.zip.\n",
            "[nltk_data] Downloading package stopwords to /root/nltk_data...\n",
            "[nltk_data]   Unzipping corpora/stopwords.zip.\n",
            "[nltk_data] Downloading package wordnet to /root/nltk_data...\n",
            "[nltk_data] Downloading package averaged_perceptron_tagger to\n",
            "[nltk_data]     /root/nltk_data...\n",
            "[nltk_data]   Unzipping taggers/averaged_perceptron_tagger.zip.\n",
            "[nltk_data] Downloading package tagsets to /root/nltk_data...\n",
            "[nltk_data]   Unzipping help/tagsets.zip.\n"
          ]
        },
        {
          "output_type": "execute_result",
          "data": {
            "text/plain": [
              "True"
            ]
          },
          "metadata": {},
          "execution_count": 1
        }
      ],
      "source": [
        "# 필요한 nltk library download\n",
        "import nltk\n",
        "nltk.download('punkt')\n",
        "nltk.download('stopwords')\n",
        "nltk.download('wordnet')\n",
        "nltk.download('averaged_perceptron_tagger')\n",
        "nltk.download('tagsets')"
      ]
    },
    {
      "cell_type": "markdown",
      "metadata": {
        "id": "Zq4O-Y8ibxO7"
      },
      "source": [
        "### 1.1 문장 토큰화(sentence tokenize)"
      ]
    },
    {
      "cell_type": "code",
      "execution_count": 2,
      "metadata": {
        "id": "Y1aQGOxubxO7"
      },
      "outputs": [],
      "source": [
        "para = \"Hello everyone. It's good to see you. Let's start our NLP class!\""
      ]
    },
    {
      "cell_type": "code",
      "execution_count": 3,
      "metadata": {
        "id": "j2NrUIIDbxO7",
        "colab": {
          "base_uri": "https://localhost:8080/"
        },
        "outputId": "b1937879-7ed2-4bb0-c74c-d8f764e925e5"
      },
      "outputs": [
        {
          "output_type": "stream",
          "name": "stdout",
          "text": [
            "['Hello everyone.', \"It's good to see you.\", \"Let's start our NLP class!\"]\n"
          ]
        }
      ],
      "source": [
        "from nltk.tokenize import sent_tokenize\n",
        "print(sent_tokenize(para)) #주어진 text를 sentence 단위로 tokenize함. 주로 . ! ? 등을 이용"
      ]
    },
    {
      "cell_type": "markdown",
      "metadata": {
        "id": "6zEy-8e1bxO8"
      },
      "source": [
        "### 1.2 단어 토큰화 (word tokenize)"
      ]
    },
    {
      "cell_type": "code",
      "execution_count": 4,
      "metadata": {
        "id": "uBiqXq7QbxO8",
        "colab": {
          "base_uri": "https://localhost:8080/"
        },
        "outputId": "1fc6ac04-3ad2-4341-ae07-8cf21fdb8a61"
      },
      "outputs": [
        {
          "output_type": "stream",
          "name": "stdout",
          "text": [
            "['Hello', 'everyone', '.', 'It', \"'s\", 'good', 'to', 'see', 'you', '.', 'Let', \"'s\", 'start', 'our', 'NLP', 'class', '!']\n"
          ]
        }
      ],
      "source": [
        "from nltk.tokenize import word_tokenize\n",
        "print(word_tokenize(para)) #주어진 text를 word 단위로 tokenize함"
      ]
    },
    {
      "cell_type": "code",
      "execution_count": 5,
      "metadata": {
        "id": "2yb9q8T7bxO8",
        "colab": {
          "base_uri": "https://localhost:8080/"
        },
        "outputId": "906952a6-56ba-4cbf-c1ed-f64b910a7951"
      },
      "outputs": [
        {
          "output_type": "stream",
          "name": "stdout",
          "text": [
            "['Hello', 'everyone', '.', 'It', \"'\", 's', 'good', 'to', 'see', 'you', '.', 'Let', \"'\", 's', 'start', 'our', 'NLP', 'class', '!']\n"
          ]
        }
      ],
      "source": [
        "from nltk.tokenize import WordPunctTokenizer\n",
        "print(WordPunctTokenizer().tokenize(para))"
      ]
    },
    {
      "cell_type": "markdown",
      "source": [
        "# 2. 정제(Cleaning)"
      ],
      "metadata": {
        "id": "MsLfc5OB82vH"
      }
    },
    {
      "cell_type": "markdown",
      "metadata": {
        "id": "Th4UYhgebxO-"
      },
      "source": [
        "### 2.1 노이즈와 불용어 제거"
      ]
    },
    {
      "cell_type": "code",
      "execution_count": 6,
      "metadata": {
        "id": "-Z1MKyfdbxO-"
      },
      "outputs": [],
      "source": [
        "from nltk.corpus import stopwords #일반적으로 분석대상이 아닌 단어들\n",
        "english_stops = set(stopwords.words('english')) #반복이 되지 않도록 set으로 변환"
      ]
    },
    {
      "cell_type": "code",
      "source": [
        "print('불용어 개수 :', len(english_stops))\n",
        "print('불용어 10개 출력 :', stopwords.words('english')[:10])"
      ],
      "metadata": {
        "id": "0vZ_VTV1EQ7i",
        "colab": {
          "base_uri": "https://localhost:8080/"
        },
        "outputId": "c54d0483-c4a6-4115-9b88-2a25eb36fac3"
      },
      "execution_count": 7,
      "outputs": [
        {
          "output_type": "stream",
          "name": "stdout",
          "text": [
            "불용어 개수 : 179\n",
            "불용어 10개 출력 : ['i', 'me', 'my', 'myself', 'we', 'our', 'ours', 'ourselves', 'you', \"you're\"]\n"
          ]
        }
      ]
    },
    {
      "cell_type": "code",
      "source": [
        "print(english_stops) #nltk가 제공하는 영어 stopword를 확인"
      ],
      "metadata": {
        "id": "yrbtckTo7bxT",
        "colab": {
          "base_uri": "https://localhost:8080/"
        },
        "outputId": "1fc93f41-c8f2-41a5-9f1a-51c60ed464b3"
      },
      "execution_count": 8,
      "outputs": [
        {
          "output_type": "stream",
          "name": "stdout",
          "text": [
            "{'were', 'it', 'needn', 'how', 'just', 'and', 'she', 'then', 'hadn', \"mightn't\", 'does', \"shouldn't\", \"you're\", 'itself', 'theirs', 'mustn', 'has', \"couldn't\", 'not', 'your', 'their', \"hadn't\", 'll', 'into', 'over', 'an', \"you'd\", 'on', 'themselves', 'we', 'during', 'a', 'be', \"hasn't\", \"that'll\", 's', 'nor', 'are', \"isn't\", 'o', \"shan't\", 'ourselves', 've', 'its', 'our', \"should've\", 'they', 'yours', 'hers', 'those', 'further', 'can', 'having', 'so', 'been', 'in', 'of', 'when', 'about', 'isn', \"mustn't\", 'above', 'his', 'again', 'or', 'couldn', 'my', 'but', 'doesn', 'whom', \"needn't\", 'against', 'no', 'wouldn', 'am', 'up', 'until', 'him', \"you'll\", 'with', 'same', 'if', 'what', 'herself', 'had', 'at', 'very', 'did', 'shan', 'me', 'below', 'haven', 'to', 'once', 'by', 'before', 'own', 'himself', 'them', 'down', 'here', \"it's\", 'yourselves', 'between', \"doesn't\", 'you', 'is', 'there', 'through', 'because', 'such', 'will', \"don't\", 'where', 'other', 'have', 'too', 'that', 'doing', 't', 'yourself', 'myself', 'don', 'some', 'any', 'weren', 'out', 'under', 'her', 'off', 'each', 'both', 'few', 'more', \"wasn't\", 'mightn', 'ain', 'all', 'ma', \"wouldn't\", 'm', 'hasn', 'these', 'wasn', 'the', 'which', 'was', \"weren't\", 'didn', 'most', 'now', \"won't\", 'being', 'should', 'ours', 'than', 'he', \"she's\", 'for', 'd', 'y', 'as', 'after', \"haven't\", \"didn't\", 'do', 'shouldn', 'aren', 'while', \"aren't\", 'who', 'i', 'this', 'won', 're', \"you've\", 'why', 'only', 'from'}\n"
          ]
        }
      ]
    },
    {
      "cell_type": "code",
      "source": [
        "text1 = \"Sorry, I couldn't go to movie yesterday.\"\n",
        "tokens = word_tokenize(text1.lower()) #word_tokenize로 토큰화\n",
        "print(tokens)"
      ],
      "metadata": {
        "id": "g1TmL1pI7azD",
        "colab": {
          "base_uri": "https://localhost:8080/"
        },
        "outputId": "bc57121f-4219-4ae0-fbe8-3bbba01295f6"
      },
      "execution_count": 9,
      "outputs": [
        {
          "output_type": "stream",
          "name": "stdout",
          "text": [
            "['sorry', ',', 'i', 'could', \"n't\", 'go', 'to', 'movie', 'yesterday', '.']\n"
          ]
        }
      ]
    },
    {
      "cell_type": "code",
      "source": [
        "result = [word for word in tokens if word not in english_stops] #stopwords를 제외한 단어들만으로 list를 생성\n",
        "print(result)"
      ],
      "metadata": {
        "id": "zXB1CFmL7pEI",
        "colab": {
          "base_uri": "https://localhost:8080/"
        },
        "outputId": "6a21780d-b608-4366-e0b0-74aab79d8721"
      },
      "execution_count": 10,
      "outputs": [
        {
          "output_type": "stream",
          "name": "stdout",
          "text": [
            "['sorry', ',', 'could', \"n't\", 'go', 'movie', 'yesterday', '.']\n"
          ]
        }
      ]
    },
    {
      "cell_type": "code",
      "execution_count": 11,
      "metadata": {
        "id": "QXQvZqj8bxO_",
        "colab": {
          "base_uri": "https://localhost:8080/"
        },
        "outputId": "c2622c35-c30e-4881-fcd3-bbc2563c52eb"
      },
      "outputs": [
        {
          "output_type": "stream",
          "name": "stdout",
          "text": [
            "['sorry', ',', 'could', \"n't\", 'movie', 'yesterday', '.']\n"
          ]
        }
      ],
      "source": [
        "#자신만의 stopwords를 만들고 이용\n",
        "#한글처리에서도 유용하게 사용할 수 있음\n",
        "my_stopword = ['i', 'go', 'to'] # 나만의 stopword를 리스트로 정의\n",
        "result = [word for word in tokens if word not in my_stopword]\n",
        "print(result)"
      ]
    },
    {
      "cell_type": "markdown",
      "metadata": {
        "id": "a0Oew1dUbxO_"
      },
      "source": [
        "# 3. 정규화(Normalization)\n",
        "## 3.1 어간 추출(Stemming)"
      ]
    },
    {
      "cell_type": "code",
      "execution_count": 12,
      "metadata": {
        "id": "jlsiN9SvbxO_",
        "colab": {
          "base_uri": "https://localhost:8080/"
        },
        "outputId": "d33b238f-a02b-4e49-cbdc-e777bc0ae082"
      },
      "outputs": [
        {
          "output_type": "stream",
          "name": "stdout",
          "text": [
            "cook cookeri cookbook\n"
          ]
        }
      ],
      "source": [
        "from nltk.stem import PorterStemmer\n",
        "stemmer = PorterStemmer()\n",
        "print(stemmer.stem('cooking'), stemmer.stem('cookery'), stemmer.stem('cookbooks'))"
      ]
    },
    {
      "cell_type": "code",
      "execution_count": 13,
      "metadata": {
        "id": "XxNlGvevbxO_",
        "colab": {
          "base_uri": "https://localhost:8080/"
        },
        "outputId": "3dc43284-501b-4590-dac2-c3d25526fc57"
      },
      "outputs": [
        {
          "output_type": "stream",
          "name": "stdout",
          "text": [
            "['Hello', 'everyone', '.', 'It', \"'s\", 'good', 'to', 'see', 'you', '.', 'Let', \"'s\", 'start', 'our', 'Natural', 'Langage', 'Processing', 'class', '!']\n",
            "['hello', 'everyon', '.', 'it', \"'s\", 'good', 'to', 'see', 'you', '.', 'let', \"'s\", 'start', 'our', 'natur', 'langag', 'process', 'class', '!']\n"
          ]
        }
      ],
      "source": [
        "from nltk.tokenize import word_tokenize\n",
        "\n",
        "para = \"Hello everyone. It's good to see you. Let's start our Natural Langage Processing class!\"\n",
        "tokens = word_tokenize(para) #토큰화 실행\n",
        "print(tokens)\n",
        "result = [stemmer.stem(token) for token in tokens] #모든 토큰에 대해 스테밍 실행\n",
        "print(result)"
      ]
    },
    {
      "cell_type": "code",
      "execution_count": 14,
      "metadata": {
        "id": "c2IEnQl-bxO_",
        "colab": {
          "base_uri": "https://localhost:8080/"
        },
        "outputId": "43a1cba3-ff9a-4cd7-e45a-8e4f7cf9912b"
      },
      "outputs": [
        {
          "output_type": "stream",
          "name": "stdout",
          "text": [
            "cook cookery cookbook\n"
          ]
        }
      ],
      "source": [
        "from nltk.stem import LancasterStemmer\n",
        "stemmer = LancasterStemmer()\n",
        "print(stemmer.stem('cooking'), stemmer.stem('cookery'), stemmer.stem('cookbooks'))"
      ]
    },
    {
      "cell_type": "markdown",
      "metadata": {
        "id": "SEypooArbxO_"
      },
      "source": [
        "## 3.2 표제어 추출(Lemmatization)"
      ]
    },
    {
      "cell_type": "code",
      "execution_count": 15,
      "metadata": {
        "id": "3s7EUjzObxO_"
      },
      "outputs": [],
      "source": [
        "from nltk.stem import WordNetLemmatizer\n",
        "lemmatizer = WordNetLemmatizer()"
      ]
    },
    {
      "cell_type": "code",
      "execution_count": 16,
      "metadata": {
        "scrolled": true,
        "id": "Mus13m24bxO_",
        "colab": {
          "base_uri": "https://localhost:8080/"
        },
        "outputId": "53485cb8-885d-4003-e055-b33da2183766"
      },
      "outputs": [
        {
          "output_type": "stream",
          "name": "stdout",
          "text": [
            "stemming result: believ\n",
            "lemmatizing result: belief\n",
            "lemmatizing result: believe\n"
          ]
        }
      ],
      "source": [
        "#comparison of lemmatizing and stemming\n",
        "from nltk.stem import PorterStemmer\n",
        "stemmer = PorterStemmer()\n",
        "print('stemming result:', stemmer.stem('believes'))\n",
        "print('lemmatizing result:', lemmatizer.lemmatize('believes'))\n",
        "print('lemmatizing result:', lemmatizer.lemmatize('believes', pos='v'))"
      ]
    },
    {
      "cell_type": "code",
      "source": [
        "print(lemmatizer.lemmatize('cooking'))\n",
        "print(lemmatizer.lemmatize('cooking', pos='v')) #품사를 지정\n",
        "print(lemmatizer.lemmatize('cookery'))\n",
        "print(lemmatizer.lemmatize('cookbooks'))"
      ],
      "metadata": {
        "id": "oeaVV8RJKhbw",
        "colab": {
          "base_uri": "https://localhost:8080/"
        },
        "outputId": "2cd965e5-dc8e-429d-e537-10e1d6e31e43"
      },
      "execution_count": 17,
      "outputs": [
        {
          "output_type": "stream",
          "name": "stdout",
          "text": [
            "cooking\n",
            "cook\n",
            "cookery\n",
            "cookbook\n"
          ]
        }
      ]
    },
    {
      "cell_type": "markdown",
      "source": [
        "# [[[실습 2-1-1]]] 어간 추출(Stemming)과 표제어 추출(Lemmatization)의 차이점은?\n",
        "\n",
        "\n",
        "*   어간 추출과 표제어 추출의 차이점을 보일 수 있는 예시를 들고, 둘의 차이점이 무엇인지 분석해 보시오.\n",
        "\n",
        "[참고]\n",
        "```\n",
        "print('stemming result:', stemmer.stem('believes'))\n",
        "print('lemmatizing result:', lemmatizer.lemmatize('believes'))\n",
        "```\n",
        "\n",
        "\n",
        "\n"
      ],
      "metadata": {
        "id": "G-At3_sp7v9-"
      }
    },
    {
      "cell_type": "code",
      "source": [
        "# 실습 코드 작성\n",
        "from nltk.stem import WordNetLemmatizer\n",
        "lemmatizer = WordNetLemmatizer()\n",
        "\n",
        "from nltk.stem import PorterStemmer\n",
        "stemmer = PorterStemmer()\n",
        "print('stemming result:', stemmer.stem('flying'))\n",
        "print('lemmatizing result:', lemmatizer.lemmatize('flying'))\n",
        "print('lemmatizing result:', lemmatizer.lemmatize('flying', pos='v'))"
      ],
      "metadata": {
        "id": "p-px5iWj7wPh",
        "colab": {
          "base_uri": "https://localhost:8080/"
        },
        "outputId": "538d653c-29a9-4811-b700-e9418fc30199"
      },
      "execution_count": 21,
      "outputs": [
        {
          "output_type": "stream",
          "name": "stdout",
          "text": [
            "stemming result: fli\n",
            "lemmatizing result: flying\n",
            "lemmatizing result: fly\n"
          ]
        }
      ]
    },
    {
      "cell_type": "markdown",
      "source": [
        "위와 같이 어간 추출(Stemming)은 주어진 단어의 어간을 파악하기에 사전에 등재 되지 않은 단어가 나올 수 있는 반면에, 표제어 추출(Lemmatization)은 단어의 기본형을 파악하여 사전에 있는 단어만 나온다. 또한 표제어 추출은 옵션 설정을 통해 품사도 정해 출력가능하다."
      ],
      "metadata": {
        "id": "dD7N7YK0Fb4z"
      }
    },
    {
      "cell_type": "markdown",
      "metadata": {
        "id": "YRdSwU_wbxO_"
      },
      "source": [
        "# 4. 품사 태깅(Part-of-Speech Tagging)"
      ]
    },
    {
      "cell_type": "markdown",
      "metadata": {
        "id": "-nyStGz-bxO_"
      },
      "source": [
        "## 4.1 NLTK를 이용한 품사 태깅"
      ]
    },
    {
      "cell_type": "code",
      "execution_count": 22,
      "metadata": {
        "id": "yh5Bbdm2bxO_",
        "colab": {
          "base_uri": "https://localhost:8080/"
        },
        "outputId": "7bfdb4a0-5779-4ae6-93a3-66c7ae00629b"
      },
      "outputs": [
        {
          "output_type": "stream",
          "name": "stdout",
          "text": [
            "[('Hello', 'NNP'), ('everyone', 'NN'), ('.', '.'), ('It', 'PRP'), (\"'s\", 'VBZ'), ('good', 'JJ'), ('to', 'TO'), ('see', 'VB'), ('you', 'PRP'), ('.', '.'), ('Let', 'VB'), (\"'s\", 'POS'), ('start', 'VB'), ('our', 'PRP$'), ('NLP', 'NNP'), ('class', 'NN'), ('!', '.')]\n"
          ]
        }
      ],
      "source": [
        "import nltk\n",
        "from nltk.tokenize import word_tokenize\n",
        "\n",
        "tokens = word_tokenize(\"Hello everyone. It's good to see you. Let's start our NLP class!\")\n",
        "print(nltk.pos_tag(tokens))"
      ]
    },
    {
      "cell_type": "code",
      "execution_count": 23,
      "metadata": {
        "id": "wZr1MC5DbxPA",
        "colab": {
          "base_uri": "https://localhost:8080/"
        },
        "outputId": "bc9c2883-06d3-41ae-c28d-9ff301e5a6d3"
      },
      "outputs": [
        {
          "output_type": "stream",
          "name": "stdout",
          "text": [
            "CC: conjunction, coordinating\n",
            "    & 'n and both but either et for less minus neither nor or plus so\n",
            "    therefore times v. versus vs. whether yet\n"
          ]
        }
      ],
      "source": [
        "nltk.help.upenn_tagset('CC')"
      ]
    },
    {
      "cell_type": "code",
      "execution_count": 24,
      "metadata": {
        "id": "x1jvWurdbxPA",
        "colab": {
          "base_uri": "https://localhost:8080/"
        },
        "outputId": "a3cb163d-372b-4635-ab9c-3d3acb3bdcbe"
      },
      "outputs": [
        {
          "output_type": "stream",
          "name": "stdout",
          "text": [
            "['everyone', 'good', 'see', 'Let', 'start', 'class']\n"
          ]
        }
      ],
      "source": [
        "my_tag_set = ['NN', 'VB', 'JJ']\n",
        "my_words = [word for word, tag in nltk.pos_tag(tokens) if tag in my_tag_set]\n",
        "print(my_words)"
      ]
    },
    {
      "cell_type": "markdown",
      "metadata": {
        "id": "vf9sEbxqbxPB"
      },
      "source": [
        "## 4.2 한글 형태소 분석과 품사 태깅"
      ]
    },
    {
      "cell_type": "code",
      "execution_count": 30,
      "metadata": {
        "id": "fAN_E8PVbxPB"
      },
      "outputs": [],
      "source": [
        "sentence = '''절망의 반대가 희망은 아니다.\n",
        "어두운 밤하늘에 별이 빛나듯\n",
        "희망은 절망 속에 싹트는 거지\n",
        "만약에 우리가 희망함이 적다면\n",
        "그 누가 세상을 비출어줄까.\n",
        "정희성, 희망 공부'''"
      ]
    },
    {
      "cell_type": "code",
      "execution_count": 31,
      "metadata": {
        "id": "uZnXzDzWbxPB",
        "colab": {
          "base_uri": "https://localhost:8080/"
        },
        "outputId": "8cfb6415-645d-464a-c32e-7478fc82722d"
      },
      "outputs": [
        {
          "output_type": "stream",
          "name": "stdout",
          "text": [
            "['절망의', '반대가', '희망은', '아니다', '.', '어두운', '밤하늘에', '별이', '빛나듯', '희망은', '절망', '속에', '싹트는', '거지', '만약에', '우리가', '희망함이', '적다면', '그', '누가', '세상을', '비출어줄까', '.', '정희성', ',', '희망', '공부']\n",
            "[('절망의', 'JJ'), ('반대가', 'NNP'), ('희망은', 'NNP'), ('아니다', 'NNP'), ('.', '.'), ('어두운', 'VB'), ('밤하늘에', 'JJ'), ('별이', 'NNP'), ('빛나듯', 'NNP'), ('희망은', 'NNP'), ('절망', 'NNP'), ('속에', 'NNP'), ('싹트는', 'NNP'), ('거지', 'NNP'), ('만약에', 'NNP'), ('우리가', 'NNP'), ('희망함이', 'NNP'), ('적다면', 'NNP'), ('그', 'NNP'), ('누가', 'NNP'), ('세상을', 'NNP'), ('비출어줄까', 'NNP'), ('.', '.'), ('정희성', 'NN'), (',', ','), ('희망', 'NNP'), ('공부', 'NNP')]\n"
          ]
        }
      ],
      "source": [
        "tokens = word_tokenize(sentence)\n",
        "print(tokens)\n",
        "print(nltk.pos_tag(tokens))"
      ]
    },
    {
      "cell_type": "markdown",
      "metadata": {
        "id": "IgoOhwrmbxPB"
      },
      "source": [
        "### KoNLPy 설치\n",
        "\n",
        "https://konlpy.org/ko/latest/install/"
      ]
    },
    {
      "cell_type": "code",
      "source": [
        "! pip install konlpy"
      ],
      "metadata": {
        "id": "GKulYwD29Zuc",
        "colab": {
          "base_uri": "https://localhost:8080/"
        },
        "outputId": "21af6706-2c2d-4e22-8114-0a8668e25764"
      },
      "execution_count": 26,
      "outputs": [
        {
          "output_type": "stream",
          "name": "stdout",
          "text": [
            "Collecting konlpy\n",
            "  Downloading konlpy-0.6.0-py2.py3-none-any.whl (19.4 MB)\n",
            "\u001b[2K     \u001b[90m━━━━━━━━━━━━━━━━━━━━━━━━━━━━━━━━━━━━━━━━\u001b[0m \u001b[32m19.4/19.4 MB\u001b[0m \u001b[31m42.8 MB/s\u001b[0m eta \u001b[36m0:00:00\u001b[0m\n",
            "\u001b[?25hCollecting JPype1>=0.7.0 (from konlpy)\n",
            "  Downloading JPype1-1.4.1-cp310-cp310-manylinux_2_12_x86_64.manylinux2010_x86_64.whl (465 kB)\n",
            "\u001b[2K     \u001b[90m━━━━━━━━━━━━━━━━━━━━━━━━━━━━━━━━━━━━━━\u001b[0m \u001b[32m465.3/465.3 kB\u001b[0m \u001b[31m34.9 MB/s\u001b[0m eta \u001b[36m0:00:00\u001b[0m\n",
            "\u001b[?25hRequirement already satisfied: lxml>=4.1.0 in /usr/local/lib/python3.10/dist-packages (from konlpy) (4.9.3)\n",
            "Requirement already satisfied: numpy>=1.6 in /usr/local/lib/python3.10/dist-packages (from konlpy) (1.23.5)\n",
            "Requirement already satisfied: packaging in /usr/local/lib/python3.10/dist-packages (from JPype1>=0.7.0->konlpy) (23.1)\n",
            "Installing collected packages: JPype1, konlpy\n",
            "Successfully installed JPype1-1.4.1 konlpy-0.6.0\n"
          ]
        }
      ]
    },
    {
      "cell_type": "code",
      "execution_count": 43,
      "metadata": {
        "id": "lks7-aV5bxPB"
      },
      "outputs": [],
      "source": [
        "from konlpy.tag import Okt\n",
        "t = Okt()"
      ]
    },
    {
      "cell_type": "code",
      "execution_count": 44,
      "metadata": {
        "scrolled": true,
        "id": "OO3R0RPKbxPB",
        "colab": {
          "base_uri": "https://localhost:8080/"
        },
        "outputId": "809ffdf9-264e-454b-d70c-83ebcf2629a2"
      },
      "outputs": [
        {
          "output_type": "stream",
          "name": "stdout",
          "text": [
            "형태소: ['절망', '의', '반대', '가', '희망', '은', '아니다', '.', '\\n', '어', '두운', '밤하늘', '에', '별', '이', '빛나듯', '\\n', '희망', '은', '절망', '속', '에', '싹트는', '거지', '\\n', '만약', '에', '우리', '가', '희망', '함', '이', '적다면', '\\n', '그', '누가', '세상', '을', '비출어줄까', '.', '\\n', '정희성', ',', '희망', '공부']\n",
            "\n",
            "명사: ['절망', '반대', '희망', '어', '두운', '밤하늘', '별', '희망', '절망', '속', '거지', '만약', '우리', '희망', '함', '그', '누가', '세상', '정희성', '희망', '공부']\n",
            "\n",
            "품사 태깅 결과: [('절망', 'Noun'), ('의', 'Josa'), ('반대', 'Noun'), ('가', 'Josa'), ('희망', 'Noun'), ('은', 'Josa'), ('아니다', 'Adjective'), ('.', 'Punctuation'), ('\\n', 'Foreign'), ('어', 'Noun'), ('두운', 'Noun'), ('밤하늘', 'Noun'), ('에', 'Josa'), ('별', 'Noun'), ('이', 'Josa'), ('빛나듯', 'Verb'), ('\\n', 'Foreign'), ('희망', 'Noun'), ('은', 'Josa'), ('절망', 'Noun'), ('속', 'Noun'), ('에', 'Josa'), ('싹트는', 'Verb'), ('거지', 'Noun'), ('\\n', 'Foreign'), ('만약', 'Noun'), ('에', 'Josa'), ('우리', 'Noun'), ('가', 'Josa'), ('희망', 'Noun'), ('함', 'Noun'), ('이', 'Josa'), ('적다면', 'Verb'), ('\\n', 'Foreign'), ('그', 'Noun'), ('누가', 'Noun'), ('세상', 'Noun'), ('을', 'Josa'), ('비출어줄까', 'Verb'), ('.', 'Punctuation'), ('\\n', 'Foreign'), ('정희성', 'Noun'), (',', 'Punctuation'), ('희망', 'Noun'), ('공부', 'Noun')]\n"
          ]
        }
      ],
      "source": [
        "print('형태소:', t.morphs(sentence))\n",
        "print()\n",
        "print('명사:', t.nouns(sentence))\n",
        "print()\n",
        "print('품사 태깅 결과:', t.pos(sentence))"
      ]
    },
    {
      "cell_type": "markdown",
      "source": [
        "# [[[실습2-1-2]]] 형태소 분석기 비교: Okt vs Komoran\n",
        "* Okt 자리에 Komoran을 입력해 보세요.\n",
        "\n",
        "\n",
        "```\n",
        "from konlpy.tag import Komoran\n",
        "t = Komoran()\n",
        "```\n",
        "그리고, Okt와 Komoran의 결과를 비교해 보세요.\n",
        "\n"
      ],
      "metadata": {
        "id": "K-23pLCM8FkI"
      }
    },
    {
      "cell_type": "code",
      "execution_count": 45,
      "metadata": {
        "id": "owd88VSobxPB",
        "colab": {
          "base_uri": "https://localhost:8080/"
        },
        "outputId": "4f14728e-556d-4d9c-9abf-dcb727d66d58"
      },
      "outputs": [
        {
          "output_type": "stream",
          "name": "stdout",
          "text": [
            "형태소: ['절망', '의', '반대', '가', '희망', '은', '아니', '다', '.', '어둡', 'ㄴ', '밤하늘', '에', '별', '이', '빛나', '듯', '희망', '은', '절망', '속', '에', '싹트', '는', '거지', '만약', '에', '우리', '가', '희망', '하', 'ㅁ', '이', '적', '다면', '그', '누구', '가', '세상', '을', '비추', 'ㄹ', '어', '주', 'ㄹ까', '.', '정희성', ',', '희망', '공부']\n",
            "\n",
            "명사: ['절망', '반대', '희망', '밤하늘', '별', '희망', '절망', '속', '거지', '만약', '희망', '세상', '정희성', '희망', '공부']\n",
            "\n",
            "품사 태깅 결과: [('절망', 'NNG'), ('의', 'JKG'), ('반대', 'NNG'), ('가', 'JKS'), ('희망', 'NNG'), ('은', 'JX'), ('아니', 'VCN'), ('다', 'EF'), ('.', 'SF'), ('어둡', 'VA'), ('ㄴ', 'ETM'), ('밤하늘', 'NNP'), ('에', 'JKB'), ('별', 'NNG'), ('이', 'JKS'), ('빛나', 'VV'), ('듯', 'EC'), ('희망', 'NNG'), ('은', 'JX'), ('절망', 'NNG'), ('속', 'NNG'), ('에', 'JKB'), ('싹트', 'VV'), ('는', 'ETM'), ('거지', 'NNG'), ('만약', 'NNG'), ('에', 'JKB'), ('우리', 'NP'), ('가', 'JKS'), ('희망', 'NNG'), ('하', 'XSV'), ('ㅁ', 'ETN'), ('이', 'JKS'), ('적', 'VA'), ('다면', 'EC'), ('그', 'MM'), ('누구', 'NP'), ('가', 'JKS'), ('세상', 'NNG'), ('을', 'JKO'), ('비추', 'VV'), ('ㄹ', 'ETM'), ('어', 'EC'), ('주', 'VX'), ('ㄹ까', 'EF'), ('.', 'SF'), ('정희성', 'NNP'), (',', 'SP'), ('희망', 'NNG'), ('공부', 'NNG')]\n"
          ]
        }
      ],
      "source": [
        "# 실습 코드 작성\n",
        "\n",
        "from konlpy.tag import Komoran\n",
        "t = Komoran()\n",
        "\n",
        "print('형태소:', t.morphs(sentence))\n",
        "print()\n",
        "print('명사:', t.nouns(sentence))\n",
        "print()\n",
        "print('품사 태깅 결과:', t.pos(sentence))"
      ]
    },
    {
      "cell_type": "markdown",
      "source": [
        "두 형태소 분석기 모두 올바른 띄어쓰기와 맞춤법이 지켜졌을 때 좋은 성능을 보인다. 하지만 Komoran은 Okt에 비해 형태소를 더 자세하고 정확하게 분석한다. '어두운'이 주어졌을 때, Komoran은 '어둡'(어둡다의 어근) + 'ㄴ'으로 분류하지만 Okt는 '어'+'두운'으로 분석한다. 또한 Komoran이 Okt보다 처리속도가 조금 더 빠르다."
      ],
      "metadata": {
        "id": "xr8WdTo2ZT33"
      }
    },
    {
      "cell_type": "code",
      "source": [],
      "metadata": {
        "id": "E6eAeXBvfE0p"
      },
      "execution_count": null,
      "outputs": []
    }
  ],
  "metadata": {
    "kernelspec": {
      "display_name": "Python 3 (ipykernel)",
      "language": "python",
      "name": "python3"
    },
    "language_info": {
      "codemirror_mode": {
        "name": "ipython",
        "version": 3
      },
      "file_extension": ".py",
      "mimetype": "text/x-python",
      "name": "python",
      "nbconvert_exporter": "python",
      "pygments_lexer": "ipython3",
      "version": "3.8.0"
    },
    "toc": {
      "base_numbering": 1,
      "nav_menu": {},
      "number_sections": true,
      "sideBar": true,
      "skip_h1_title": false,
      "title_cell": "Table of Contents",
      "title_sidebar": "Contents",
      "toc_cell": true,
      "toc_position": {},
      "toc_section_display": true,
      "toc_window_display": true
    },
    "varInspector": {
      "cols": {
        "lenName": 16,
        "lenType": 16,
        "lenVar": 40
      },
      "kernels_config": {
        "python": {
          "delete_cmd_postfix": "",
          "delete_cmd_prefix": "del ",
          "library": "var_list.py",
          "varRefreshCmd": "print(var_dic_list())"
        },
        "r": {
          "delete_cmd_postfix": ") ",
          "delete_cmd_prefix": "rm(",
          "library": "var_list.r",
          "varRefreshCmd": "cat(var_dic_list()) "
        }
      },
      "types_to_exclude": [
        "module",
        "function",
        "builtin_function_or_method",
        "instance",
        "_Feature"
      ],
      "window_display": false
    },
    "colab": {
      "provenance": [],
      "include_colab_link": true
    }
  },
  "nbformat": 4,
  "nbformat_minor": 0
}