{
  "cells": [
    {
      "cell_type": "markdown",
      "metadata": {
        "id": "view-in-github",
        "colab_type": "text"
      },
      "source": [
        "<a href=\"https://colab.research.google.com/github/SojeongShin/NLP_2023/blob/Notion/3_1_%E1%84%8F%E1%85%A1%E1%84%8B%E1%85%AE%E1%86%AB%E1%84%90%E1%85%B3_%E1%84%80%E1%85%B5%E1%84%87%E1%85%A1%E1%86%AB%E1%84%8B%E1%85%B4_%E1%84%86%E1%85%AE%E1%86%AB%E1%84%89%E1%85%A5%E1%84%91%E1%85%AD%E1%84%92%E1%85%A7%E1%86%AB(2).ipynb\" target=\"_parent\"><img src=\"https://colab.research.google.com/assets/colab-badge.svg\" alt=\"Open In Colab\"/></a>"
      ]
    },
    {
      "cell_type": "markdown",
      "metadata": {
        "id": "txlzhHeG7iRL"
      },
      "source": [
        "# [자연어처리]\n",
        "# 3주차(3-1). 카운트 기반의 문서표현(2)\n",
        "\n"
      ]
    },
    {
      "cell_type": "markdown",
      "source": [
        "*이탤릭체 텍스트*# 202001581 신소정 <- 본인의 학번, 이름으로 변경하여 제출\n",
        "* 모든 셀 실행 후 제출하시기 바랍니다.\n",
        "* 실습 (3-1-1)이 있습니다.\n"
      ],
      "metadata": {
        "id": "UWIf2s-f8jr1"
      }
    },
    {
      "cell_type": "markdown",
      "metadata": {
        "id": "9HionF0G7iRR"
      },
      "source": [
        "# 한국어 텍스트의 카운트 벡터 변환\n"
      ]
    },
    {
      "cell_type": "markdown",
      "source": [
        "# 1. 데이터 살펴보기"
      ],
      "metadata": {
        "id": "2w7jfwvKbYfU"
      }
    },
    {
      "cell_type": "code",
      "execution_count": 4,
      "metadata": {
        "id": "8jBDVu5E7iRR",
        "colab": {
          "base_uri": "https://localhost:8080/",
          "height": 363
        },
        "outputId": "ec647160-49d1-47b3-c0ef-80526b78bfa1"
      },
      "outputs": [
        {
          "output_type": "execute_result",
          "data": {
            "text/plain": [
              "                                              review  rating        date  \\\n",
              "0                             돈 들인건 티가 나지만 보는 내내 하품만       1  2018.10.29   \n",
              "1       몰입할수밖에 없다. 어렵게 생각할 필요없다. 내가 전투에 참여한듯 손에 땀이남.      10  2018.10.26   \n",
              "2  이전 작품에 비해 더 화려하고 스케일도 커졌지만.... 전국 맛집의 음식들을 한데 ...       8  2018.10.24   \n",
              "3                                이 정도면 볼만하다고 할 수 있음!       8  2018.10.22   \n",
              "4                                               재미있다      10  2018.10.20   \n",
              "5                                           나는 재밌게 봄      10  2018.10.14   \n",
              "6                                      0.5점은 줄 수 없냐?       0  2018.10.10   \n",
              "7                     헐..다 죽었어....나중에 앤트맨 보다가도 깜놀...      10  2018.10.08   \n",
              "8                                              충격 결말       9  2018.10.06   \n",
              "9                                                응집력       8  2018.10.05   \n",
              "\n",
              "    title  \n",
              "0  인피니티 워  \n",
              "1  인피니티 워  \n",
              "2  인피니티 워  \n",
              "3  인피니티 워  \n",
              "4  인피니티 워  \n",
              "5  인피니티 워  \n",
              "6  인피니티 워  \n",
              "7  인피니티 워  \n",
              "8  인피니티 워  \n",
              "9  인피니티 워  "
            ],
            "text/html": [
              "\n",
              "  <div id=\"df-5c36bb7a-3422-4b6f-a288-38bd21b7bd14\" class=\"colab-df-container\">\n",
              "    <div>\n",
              "<style scoped>\n",
              "    .dataframe tbody tr th:only-of-type {\n",
              "        vertical-align: middle;\n",
              "    }\n",
              "\n",
              "    .dataframe tbody tr th {\n",
              "        vertical-align: top;\n",
              "    }\n",
              "\n",
              "    .dataframe thead th {\n",
              "        text-align: right;\n",
              "    }\n",
              "</style>\n",
              "<table border=\"1\" class=\"dataframe\">\n",
              "  <thead>\n",
              "    <tr style=\"text-align: right;\">\n",
              "      <th></th>\n",
              "      <th>review</th>\n",
              "      <th>rating</th>\n",
              "      <th>date</th>\n",
              "      <th>title</th>\n",
              "    </tr>\n",
              "  </thead>\n",
              "  <tbody>\n",
              "    <tr>\n",
              "      <th>0</th>\n",
              "      <td>돈 들인건 티가 나지만 보는 내내 하품만</td>\n",
              "      <td>1</td>\n",
              "      <td>2018.10.29</td>\n",
              "      <td>인피니티 워</td>\n",
              "    </tr>\n",
              "    <tr>\n",
              "      <th>1</th>\n",
              "      <td>몰입할수밖에 없다. 어렵게 생각할 필요없다. 내가 전투에 참여한듯 손에 땀이남.</td>\n",
              "      <td>10</td>\n",
              "      <td>2018.10.26</td>\n",
              "      <td>인피니티 워</td>\n",
              "    </tr>\n",
              "    <tr>\n",
              "      <th>2</th>\n",
              "      <td>이전 작품에 비해 더 화려하고 스케일도 커졌지만.... 전국 맛집의 음식들을 한데 ...</td>\n",
              "      <td>8</td>\n",
              "      <td>2018.10.24</td>\n",
              "      <td>인피니티 워</td>\n",
              "    </tr>\n",
              "    <tr>\n",
              "      <th>3</th>\n",
              "      <td>이 정도면 볼만하다고 할 수 있음!</td>\n",
              "      <td>8</td>\n",
              "      <td>2018.10.22</td>\n",
              "      <td>인피니티 워</td>\n",
              "    </tr>\n",
              "    <tr>\n",
              "      <th>4</th>\n",
              "      <td>재미있다</td>\n",
              "      <td>10</td>\n",
              "      <td>2018.10.20</td>\n",
              "      <td>인피니티 워</td>\n",
              "    </tr>\n",
              "    <tr>\n",
              "      <th>5</th>\n",
              "      <td>나는 재밌게 봄</td>\n",
              "      <td>10</td>\n",
              "      <td>2018.10.14</td>\n",
              "      <td>인피니티 워</td>\n",
              "    </tr>\n",
              "    <tr>\n",
              "      <th>6</th>\n",
              "      <td>0.5점은 줄 수 없냐?</td>\n",
              "      <td>0</td>\n",
              "      <td>2018.10.10</td>\n",
              "      <td>인피니티 워</td>\n",
              "    </tr>\n",
              "    <tr>\n",
              "      <th>7</th>\n",
              "      <td>헐..다 죽었어....나중에 앤트맨 보다가도 깜놀...</td>\n",
              "      <td>10</td>\n",
              "      <td>2018.10.08</td>\n",
              "      <td>인피니티 워</td>\n",
              "    </tr>\n",
              "    <tr>\n",
              "      <th>8</th>\n",
              "      <td>충격 결말</td>\n",
              "      <td>9</td>\n",
              "      <td>2018.10.06</td>\n",
              "      <td>인피니티 워</td>\n",
              "    </tr>\n",
              "    <tr>\n",
              "      <th>9</th>\n",
              "      <td>응집력</td>\n",
              "      <td>8</td>\n",
              "      <td>2018.10.05</td>\n",
              "      <td>인피니티 워</td>\n",
              "    </tr>\n",
              "  </tbody>\n",
              "</table>\n",
              "</div>\n",
              "    <div class=\"colab-df-buttons\">\n",
              "\n",
              "  <div class=\"colab-df-container\">\n",
              "    <button class=\"colab-df-convert\" onclick=\"convertToInteractive('df-5c36bb7a-3422-4b6f-a288-38bd21b7bd14')\"\n",
              "            title=\"Convert this dataframe to an interactive table.\"\n",
              "            style=\"display:none;\">\n",
              "\n",
              "  <svg xmlns=\"http://www.w3.org/2000/svg\" height=\"24px\" viewBox=\"0 -960 960 960\">\n",
              "    <path d=\"M120-120v-720h720v720H120Zm60-500h600v-160H180v160Zm220 220h160v-160H400v160Zm0 220h160v-160H400v160ZM180-400h160v-160H180v160Zm440 0h160v-160H620v160ZM180-180h160v-160H180v160Zm440 0h160v-160H620v160Z\"/>\n",
              "  </svg>\n",
              "    </button>\n",
              "\n",
              "  <style>\n",
              "    .colab-df-container {\n",
              "      display:flex;\n",
              "      gap: 12px;\n",
              "    }\n",
              "\n",
              "    .colab-df-convert {\n",
              "      background-color: #E8F0FE;\n",
              "      border: none;\n",
              "      border-radius: 50%;\n",
              "      cursor: pointer;\n",
              "      display: none;\n",
              "      fill: #1967D2;\n",
              "      height: 32px;\n",
              "      padding: 0 0 0 0;\n",
              "      width: 32px;\n",
              "    }\n",
              "\n",
              "    .colab-df-convert:hover {\n",
              "      background-color: #E2EBFA;\n",
              "      box-shadow: 0px 1px 2px rgba(60, 64, 67, 0.3), 0px 1px 3px 1px rgba(60, 64, 67, 0.15);\n",
              "      fill: #174EA6;\n",
              "    }\n",
              "\n",
              "    .colab-df-buttons div {\n",
              "      margin-bottom: 4px;\n",
              "    }\n",
              "\n",
              "    [theme=dark] .colab-df-convert {\n",
              "      background-color: #3B4455;\n",
              "      fill: #D2E3FC;\n",
              "    }\n",
              "\n",
              "    [theme=dark] .colab-df-convert:hover {\n",
              "      background-color: #434B5C;\n",
              "      box-shadow: 0px 1px 3px 1px rgba(0, 0, 0, 0.15);\n",
              "      filter: drop-shadow(0px 1px 2px rgba(0, 0, 0, 0.3));\n",
              "      fill: #FFFFFF;\n",
              "    }\n",
              "  </style>\n",
              "\n",
              "    <script>\n",
              "      const buttonEl =\n",
              "        document.querySelector('#df-5c36bb7a-3422-4b6f-a288-38bd21b7bd14 button.colab-df-convert');\n",
              "      buttonEl.style.display =\n",
              "        google.colab.kernel.accessAllowed ? 'block' : 'none';\n",
              "\n",
              "      async function convertToInteractive(key) {\n",
              "        const element = document.querySelector('#df-5c36bb7a-3422-4b6f-a288-38bd21b7bd14');\n",
              "        const dataTable =\n",
              "          await google.colab.kernel.invokeFunction('convertToInteractive',\n",
              "                                                    [key], {});\n",
              "        if (!dataTable) return;\n",
              "\n",
              "        const docLinkHtml = 'Like what you see? Visit the ' +\n",
              "          '<a target=\"_blank\" href=https://colab.research.google.com/notebooks/data_table.ipynb>data table notebook</a>'\n",
              "          + ' to learn more about interactive tables.';\n",
              "        element.innerHTML = '';\n",
              "        dataTable['output_type'] = 'display_data';\n",
              "        await google.colab.output.renderOutput(dataTable, element);\n",
              "        const docLink = document.createElement('div');\n",
              "        docLink.innerHTML = docLinkHtml;\n",
              "        element.appendChild(docLink);\n",
              "      }\n",
              "    </script>\n",
              "  </div>\n",
              "\n",
              "\n",
              "<div id=\"df-6f2502cd-666f-47de-ba19-9ecb3524382e\">\n",
              "  <button class=\"colab-df-quickchart\" onclick=\"quickchart('df-6f2502cd-666f-47de-ba19-9ecb3524382e')\"\n",
              "            title=\"Suggest charts.\"\n",
              "            style=\"display:none;\">\n",
              "\n",
              "<svg xmlns=\"http://www.w3.org/2000/svg\" height=\"24px\"viewBox=\"0 0 24 24\"\n",
              "     width=\"24px\">\n",
              "    <g>\n",
              "        <path d=\"M19 3H5c-1.1 0-2 .9-2 2v14c0 1.1.9 2 2 2h14c1.1 0 2-.9 2-2V5c0-1.1-.9-2-2-2zM9 17H7v-7h2v7zm4 0h-2V7h2v10zm4 0h-2v-4h2v4z\"/>\n",
              "    </g>\n",
              "</svg>\n",
              "  </button>\n",
              "\n",
              "<style>\n",
              "  .colab-df-quickchart {\n",
              "      --bg-color: #E8F0FE;\n",
              "      --fill-color: #1967D2;\n",
              "      --hover-bg-color: #E2EBFA;\n",
              "      --hover-fill-color: #174EA6;\n",
              "      --disabled-fill-color: #AAA;\n",
              "      --disabled-bg-color: #DDD;\n",
              "  }\n",
              "\n",
              "  [theme=dark] .colab-df-quickchart {\n",
              "      --bg-color: #3B4455;\n",
              "      --fill-color: #D2E3FC;\n",
              "      --hover-bg-color: #434B5C;\n",
              "      --hover-fill-color: #FFFFFF;\n",
              "      --disabled-bg-color: #3B4455;\n",
              "      --disabled-fill-color: #666;\n",
              "  }\n",
              "\n",
              "  .colab-df-quickchart {\n",
              "    background-color: var(--bg-color);\n",
              "    border: none;\n",
              "    border-radius: 50%;\n",
              "    cursor: pointer;\n",
              "    display: none;\n",
              "    fill: var(--fill-color);\n",
              "    height: 32px;\n",
              "    padding: 0;\n",
              "    width: 32px;\n",
              "  }\n",
              "\n",
              "  .colab-df-quickchart:hover {\n",
              "    background-color: var(--hover-bg-color);\n",
              "    box-shadow: 0 1px 2px rgba(60, 64, 67, 0.3), 0 1px 3px 1px rgba(60, 64, 67, 0.15);\n",
              "    fill: var(--button-hover-fill-color);\n",
              "  }\n",
              "\n",
              "  .colab-df-quickchart-complete:disabled,\n",
              "  .colab-df-quickchart-complete:disabled:hover {\n",
              "    background-color: var(--disabled-bg-color);\n",
              "    fill: var(--disabled-fill-color);\n",
              "    box-shadow: none;\n",
              "  }\n",
              "\n",
              "  .colab-df-spinner {\n",
              "    border: 2px solid var(--fill-color);\n",
              "    border-color: transparent;\n",
              "    border-bottom-color: var(--fill-color);\n",
              "    animation:\n",
              "      spin 1s steps(1) infinite;\n",
              "  }\n",
              "\n",
              "  @keyframes spin {\n",
              "    0% {\n",
              "      border-color: transparent;\n",
              "      border-bottom-color: var(--fill-color);\n",
              "      border-left-color: var(--fill-color);\n",
              "    }\n",
              "    20% {\n",
              "      border-color: transparent;\n",
              "      border-left-color: var(--fill-color);\n",
              "      border-top-color: var(--fill-color);\n",
              "    }\n",
              "    30% {\n",
              "      border-color: transparent;\n",
              "      border-left-color: var(--fill-color);\n",
              "      border-top-color: var(--fill-color);\n",
              "      border-right-color: var(--fill-color);\n",
              "    }\n",
              "    40% {\n",
              "      border-color: transparent;\n",
              "      border-right-color: var(--fill-color);\n",
              "      border-top-color: var(--fill-color);\n",
              "    }\n",
              "    60% {\n",
              "      border-color: transparent;\n",
              "      border-right-color: var(--fill-color);\n",
              "    }\n",
              "    80% {\n",
              "      border-color: transparent;\n",
              "      border-right-color: var(--fill-color);\n",
              "      border-bottom-color: var(--fill-color);\n",
              "    }\n",
              "    90% {\n",
              "      border-color: transparent;\n",
              "      border-bottom-color: var(--fill-color);\n",
              "    }\n",
              "  }\n",
              "</style>\n",
              "\n",
              "  <script>\n",
              "    async function quickchart(key) {\n",
              "      const quickchartButtonEl =\n",
              "        document.querySelector('#' + key + ' button');\n",
              "      quickchartButtonEl.disabled = true;  // To prevent multiple clicks.\n",
              "      quickchartButtonEl.classList.add('colab-df-spinner');\n",
              "      try {\n",
              "        const charts = await google.colab.kernel.invokeFunction(\n",
              "            'suggestCharts', [key], {});\n",
              "      } catch (error) {\n",
              "        console.error('Error during call to suggestCharts:', error);\n",
              "      }\n",
              "      quickchartButtonEl.classList.remove('colab-df-spinner');\n",
              "      quickchartButtonEl.classList.add('colab-df-quickchart-complete');\n",
              "    }\n",
              "    (() => {\n",
              "      let quickchartButtonEl =\n",
              "        document.querySelector('#df-6f2502cd-666f-47de-ba19-9ecb3524382e button');\n",
              "      quickchartButtonEl.style.display =\n",
              "        google.colab.kernel.accessAllowed ? 'block' : 'none';\n",
              "    })();\n",
              "  </script>\n",
              "</div>\n",
              "    </div>\n",
              "  </div>\n"
            ]
          },
          "metadata": {},
          "execution_count": 4
        }
      ],
      "source": [
        "import pandas as pd\n",
        "df = pd.read_csv('./daum_movie_review.csv')\n",
        "df.head(10)"
      ]
    },
    {
      "cell_type": "code",
      "source": [
        "df.shape"
      ],
      "metadata": {
        "id": "kLeSsMqxcB-K",
        "colab": {
          "base_uri": "https://localhost:8080/"
        },
        "outputId": "bb148c60-07e6-4982-ccec-2209e7fba2ce"
      },
      "execution_count": 5,
      "outputs": [
        {
          "output_type": "execute_result",
          "data": {
            "text/plain": [
              "(14725, 4)"
            ]
          },
          "metadata": {},
          "execution_count": 5
        }
      ]
    },
    {
      "cell_type": "markdown",
      "source": [
        "# 2. 카운트 벡터 생성하기"
      ],
      "metadata": {
        "id": "3CJNY-lsbbGf"
      }
    },
    {
      "cell_type": "code",
      "execution_count": 6,
      "metadata": {
        "id": "SlHI_DpN7iRR",
        "colab": {
          "base_uri": "https://localhost:8080/"
        },
        "outputId": "531ad796-1295-463e-c320-4100e620e8cc"
      },
      "outputs": [
        {
          "output_type": "stream",
          "name": "stdout",
          "text": [
            "['10점' '18' '1987' '1도' '1점' '1점도' '2시간' '2시간이' '2편' '5점' '6점' '7점' '8점'\n",
            " 'cg' 'cg가' 'cg는' 'cg도' 'cg만' 'good' 'of' 'ㅋㅋ' 'ㅋㅋㅋ' 'ㅋㅋㅋㅋ' 'ㅎㅎ' 'ㅎㅎㅎ'\n",
            " 'ㅜㅜ' 'ㅠㅠ' 'ㅠㅠㅠ' 'ㅡㅡ' '가는' '가는줄' '가면' '가서' '가슴' '가슴아픈' '가슴이' '가장' '가족'\n",
            " '가족과' '가족들과' '가족의' '가족이' '가지고' '간만에' '갈수록' '감독' '감독님' '감독은' '감독의' '감독이'\n",
            " '감동' '감동과' '감동도' '감동은' '감동을' '감동이' '감동입니다' '감동적' '감동적이고' '감동적인' '감사드립니다'\n",
            " '감사합니다' '감정이' '갑자기' '갔는데' '갔다가' '강철비' '강추' '강추합니다' '같고' '같네요' '같다' '같습니다'\n",
            " '같아' '같아요' '같은' '같은데' '같음' '같이' '개연성' '개연성이' '개인적으로' '거의' '겁나' '것도' '것은'\n",
            " '것을' '것이' '것이다' '겨울왕국' '결국' '결말' '결말이' '계속' '고맙습니다' '곤지암' '공포' '공포를'\n",
            " '공포영화' '관객']\n"
          ]
        }
      ],
      "source": [
        "from sklearn.feature_extraction.text import CountVectorizer\n",
        "daum_cv = CountVectorizer(max_features=1000)\n",
        "\n",
        "daum_DTM = daum_cv.fit_transform(df.review) # review를 이용하여 count vector를 학습하고, 변환\n",
        "print(daum_cv.get_feature_names_out()[:100]) # count vector에 사용된 feature 이름을 반환"
      ]
    },
    {
      "cell_type": "code",
      "source": [
        "! pip install konlpy"
      ],
      "metadata": {
        "id": "uGhCZ4qLAr6W",
        "colab": {
          "base_uri": "https://localhost:8080/"
        },
        "outputId": "b4083481-1ecd-46dd-aa7c-d64f2a9ccd10"
      },
      "execution_count": 7,
      "outputs": [
        {
          "output_type": "stream",
          "name": "stdout",
          "text": [
            "Collecting konlpy\n",
            "  Downloading konlpy-0.6.0-py2.py3-none-any.whl (19.4 MB)\n",
            "\u001b[2K     \u001b[90m━━━━━━━━━━━━━━━━━━━━━━━━━━━━━━━━━━━━━━━━\u001b[0m \u001b[32m19.4/19.4 MB\u001b[0m \u001b[31m99.2 MB/s\u001b[0m eta \u001b[36m0:00:00\u001b[0m\n",
            "\u001b[?25hCollecting JPype1>=0.7.0 (from konlpy)\n",
            "  Downloading JPype1-1.4.1-cp310-cp310-manylinux_2_12_x86_64.manylinux2010_x86_64.whl (465 kB)\n",
            "\u001b[2K     \u001b[90m━━━━━━━━━━━━━━━━━━━━━━━━━━━━━━━━━━━━━━\u001b[0m \u001b[32m465.3/465.3 kB\u001b[0m \u001b[31m48.2 MB/s\u001b[0m eta \u001b[36m0:00:00\u001b[0m\n",
            "\u001b[?25hRequirement already satisfied: lxml>=4.1.0 in /usr/local/lib/python3.10/dist-packages (from konlpy) (4.9.3)\n",
            "Requirement already satisfied: numpy>=1.6 in /usr/local/lib/python3.10/dist-packages (from konlpy) (1.23.5)\n",
            "Requirement already satisfied: packaging in /usr/local/lib/python3.10/dist-packages (from JPype1>=0.7.0->konlpy) (23.1)\n",
            "Installing collected packages: JPype1, konlpy\n",
            "Successfully installed JPype1-1.4.1 konlpy-0.6.0\n"
          ]
        }
      ]
    },
    {
      "cell_type": "code",
      "execution_count": 8,
      "metadata": {
        "id": "4-O3rxEu7iRR",
        "colab": {
          "base_uri": "https://localhost:8080/"
        },
        "outputId": "4d035ca3-6f6a-4c0e-97db-4d82cca44ab5"
      },
      "outputs": [
        {
          "output_type": "stream",
          "name": "stdout",
          "text": [
            "#전체 형태소 결과: ['몰입', '할수밖에', '없다', '.', '어렵게', '생각', '할', '필요없다', '.', '내', '가', '전투', '에', '참여', '한', '듯', '손', '에', '땀', '이남', '.']\n",
            "#명사만 추출: ['몰입', '생각', '내', '전투', '참여', '듯', '손', '땀', '이남']\n",
            "#품사 태깅 결과 [('몰입', 'Noun'), ('할수밖에', 'Verb'), ('없다', 'Adjective'), ('.', 'Punctuation'), ('어렵게', 'Adjective'), ('생각', 'Noun'), ('할', 'Verb'), ('필요없다', 'Adjective'), ('.', 'Punctuation'), ('내', 'Noun'), ('가', 'Josa'), ('전투', 'Noun'), ('에', 'Josa'), ('참여', 'Noun'), ('한', 'Determiner'), ('듯', 'Noun'), ('손', 'Noun'), ('에', 'Josa'), ('땀', 'Noun'), ('이남', 'Noun'), ('.', 'Punctuation')]\n"
          ]
        }
      ],
      "source": [
        "from konlpy.tag import Okt # konlpy에서 Twitter 형태소 분석기를 import\n",
        "okt = Okt()\n",
        "\n",
        "print('#전체 형태소 결과:', okt.morphs(df.review[1]))\n",
        "print('#명사만 추출:', okt.nouns(df.review[1]))\n",
        "print('#품사 태깅 결과', okt.pos(df.review[1]))"
      ]
    },
    {
      "cell_type": "code",
      "execution_count": 9,
      "metadata": {
        "id": "zl4f7v257iRR",
        "colab": {
          "base_uri": "https://localhost:8080/"
        },
        "outputId": "db135658-8850-421f-8d16-b5f0f57ac4ed"
      },
      "outputs": [
        {
          "output_type": "stream",
          "name": "stdout",
          "text": [
            "나만의 토크나이저 결과: ['몰입', '할수밖에', '없다', '어렵게', '생각', '할', '필요없다', '내', '전투', '참여', '듯', '손', '땀', '이남']\n"
          ]
        }
      ],
      "source": [
        "def my_tokenizer(doc):\n",
        "    return [token for token, pos in okt.pos(doc) if pos in ['Noun', 'Verb', 'Adjective']]\n",
        "\n",
        "print(\"나만의 토크나이저 결과:\", my_tokenizer(df.review[1]))"
      ]
    },
    {
      "cell_type": "code",
      "execution_count": 10,
      "metadata": {
        "id": "nyvGa1cr7iRR",
        "colab": {
          "base_uri": "https://localhost:8080/"
        },
        "outputId": "2f6049f6-6990-4ab4-ac88-0a806e50d9e3"
      },
      "outputs": [
        {
          "output_type": "stream",
          "name": "stderr",
          "text": [
            "/usr/local/lib/python3.10/dist-packages/sklearn/feature_extraction/text.py:528: UserWarning: The parameter 'token_pattern' will not be used since 'tokenizer' is not None'\n",
            "  warnings.warn(\n"
          ]
        },
        {
          "output_type": "stream",
          "name": "stdout",
          "text": [
            "['가' '가는' '가는줄' '가면' '가서' '가슴' '가장' '가족' '가족영화' '가지' '가치' '각색' '간' '간다'\n",
            " '간만' '갈' '갈수록' '감' '감독' '감동' '감사' '감사합니다' '감상' '감성' '감정' '감탄' '갑자기' '갔는데'\n",
            " '갔다' '갔다가' '강' '강철' '강추' '같고' '같네요' '같다' '같습니다' '같아' '같아요' '같은' '같은데'\n",
            " '같음' '개' '개그' '개봉' '개연' '개인' '거' '거기' '거리' '거의' '걱정' '건' '건가' '건지' '걸'\n",
            " '겁니다' '것' '게' '겨울왕국' '결론' '결말' '경찰' '경험' '계속' '고' '고맙습니다' '고민' '고생' '곤지암'\n",
            " '곳' '공감' '공포' '공포영화' '과' '과거' '관' '관객' '관객수' '관람' '광주' '괜찮은' '교훈' '구성'\n",
            " '국내' '국민' '군인' '군함도' '굿' '권선' '귀신' '그' '그것' '그게' '그날' '그냥' '그닥' '그대로'\n",
            " '그때' '그래픽']\n"
          ]
        }
      ],
      "source": [
        "# 약간의 시간이 소요됩니다! (약 2분 내외)\n",
        "from sklearn.feature_extraction.text import CountVectorizer\n",
        "\n",
        "# 토크나이저와 특성의 최대개수를 지정\n",
        "daum_cv = CountVectorizer(max_features=1000, tokenizer=my_tokenizer)\n",
        "# 명사만 추출하고 싶은 경우에는 tokenizer에 'twitter_tag.nouns'를 바로 지정해도 됨\n",
        "\n",
        "daum_DTM = daum_cv.fit_transform(df.review) # review를 이용하여 count vector를 학습하고, 변환\n",
        "print(daum_cv.get_feature_names_out()[:100]) # count vector에 사용된 feature 이름을 반환"
      ]
    },
    {
      "cell_type": "code",
      "execution_count": 11,
      "metadata": {
        "id": "nuYgVaUQ7iRR",
        "colab": {
          "base_uri": "https://localhost:8080/"
        },
        "outputId": "9e07371b-d3cc-4e0a-ff85-8506b02d4913"
      },
      "outputs": [
        {
          "output_type": "stream",
          "name": "stdout",
          "text": [
            "<14725x1000 sparse matrix of type '<class 'numpy.int64'>'\n",
            "\twith 110800 stored elements in Compressed Sparse Row format>\n",
            "0.007524617996604414\n"
          ]
        }
      ],
      "source": [
        "print(repr(daum_DTM))\n",
        "print(110800/(14725*1000))"
      ]
    },
    {
      "cell_type": "code",
      "execution_count": 12,
      "metadata": {
        "id": "6UZ0EMXJ7iRR",
        "colab": {
          "base_uri": "https://localhost:8080/"
        },
        "outputId": "b1548a0d-92e4-4f63-8e24-a8e953460680"
      },
      "outputs": [
        {
          "output_type": "stream",
          "name": "stdout",
          "text": [
            "내 : 1, 듯 : 1, 몰입 : 1, 생각 : 1, 손 : 1, 없다 : 1, 할 : 1, "
          ]
        }
      ],
      "source": [
        "for word, count in zip(daum_cv.get_feature_names_out(), daum_DTM[1].toarray()[0]):\n",
        "    if count > 0:\n",
        "        print(word, ':', count, end=', ')"
      ]
    },
    {
      "cell_type": "markdown",
      "metadata": {
        "id": "CcWkfaV37iRR"
      },
      "source": [
        "## 2. 카운트 벡터의 활용\n",
        "\n",
        "### 코사인 유사도(Cosine similarity)"
      ]
    },
    {
      "cell_type": "code",
      "execution_count": 13,
      "metadata": {
        "id": "KKXdMI7T7iRS",
        "colab": {
          "base_uri": "https://localhost:8080/"
        },
        "outputId": "e2592b59-2b79-456b-d6da-78a289ae93e3"
      },
      "outputs": [
        {
          "output_type": "stream",
          "name": "stdout",
          "text": [
            "#두 번째 리뷰: 몰입할수밖에 없다. 어렵게 생각할 필요없다. 내가 전투에 참여한듯 손에 땀이남.\n",
            "# 중심점 이후의 리뷰: 다. 내가 전투에 참여한듯 손에 땀이남.\n"
          ]
        }
      ],
      "source": [
        "from sklearn.metrics.pairwise import cosine_similarity\n",
        "\n",
        "print(\"#두 번째 리뷰:\", df.review[1])\n",
        "start = len(df.review[1]) // 2 # 두 번째 리뷰의 문자수를 확인하고 뒤 절반을 가져오기 위해 중심점을 찾음\n",
        "source = str(df.review[1][-start:]) # 중심점으로부터 뒤 절반을 가져와서 비교할 문서를 생성\n",
        "print('# 중심점 이후의 리뷰:', source)"
      ]
    },
    {
      "cell_type": "code",
      "source": [
        "source_cv = daum_cv.transform([source]) # 코사인 유사도는 카운트 벡터에 대해 계산하므로 벡터로 변환\n",
        "# transform은 반드시 리스트나 행렬 형태의 입력을 요구하므로 리스트로 만들어서 입력\n",
        "print(\"#변환 값 확인:\")\n",
        "print(source_cv)\n",
        "print(\"#대상 특성 행렬의 크기:\", source_cv.shape) # 행렬의 크기를 확인, 문서가 하나이므로 (1, 1000)"
      ],
      "metadata": {
        "id": "lPbCBSbSf6Zu",
        "colab": {
          "base_uri": "https://localhost:8080/"
        },
        "outputId": "9478665f-2145-4449-e4bf-b4aeea5780fc"
      },
      "execution_count": 14,
      "outputs": [
        {
          "output_type": "stream",
          "name": "stdout",
          "text": [
            "#변환 값 확인:\n",
            "  (0, 160)\t1\n",
            "  (0, 233)\t1\n",
            "  (0, 455)\t1\n",
            "#대상 특성 행렬의 크기: (1, 1000)\n"
          ]
        }
      ]
    },
    {
      "cell_type": "code",
      "source": [
        "sim_result = cosine_similarity(source_cv, daum_DTM) # 변환된 count vector와 기존 값들과의 similarity 계산\n",
        "\n",
        "print(\"#유사도 계산 행렬의 크기:\", sim_result.shape)\n",
        "print(\"#유사도 계산결과를 역순으로 정렬:\", sorted(sim_result[0], reverse=True)[:10])"
      ],
      "metadata": {
        "id": "VybOmK-Of9qd",
        "colab": {
          "base_uri": "https://localhost:8080/"
        },
        "outputId": "fd600ee1-07a1-4f47-f075-ed3e1f4c3ad6"
      },
      "execution_count": 15,
      "outputs": [
        {
          "output_type": "stream",
          "name": "stdout",
          "text": [
            "#유사도 계산 행렬의 크기: (1, 14725)\n",
            "#유사도 계산결과를 역순으로 정렬: [0.6546536707079772, 0.5773502691896258, 0.5773502691896258, 0.5773502691896258, 0.5773502691896258, 0.5773502691896258, 0.5773502691896258, 0.5773502691896258, 0.4629100498862758, 0.4364357804719848]\n"
          ]
        }
      ]
    },
    {
      "cell_type": "code",
      "execution_count": 16,
      "metadata": {
        "id": "uKcgN2LH7iRS",
        "colab": {
          "base_uri": "https://localhost:8080/"
        },
        "outputId": "aa57a79b-8bcd-42ee-fd00-850282e0dfc9"
      },
      "outputs": [
        {
          "output_type": "stream",
          "name": "stdout",
          "text": [
            "#가장 유사한 리뷰의 인덱스: 1\n"
          ]
        }
      ],
      "source": [
        "import numpy as np\n",
        "print('#가장 유사한 리뷰의 인덱스:', np.argmax(sim_result[0]))"
      ]
    },
    {
      "cell_type": "code",
      "execution_count": 17,
      "metadata": {
        "id": "mN_6OoyG7iRS",
        "colab": {
          "base_uri": "https://localhost:8080/"
        },
        "outputId": "9e7816a2-988b-4685-b308-99fab717857a"
      },
      "outputs": [
        {
          "output_type": "stream",
          "name": "stdout",
          "text": [
            "#가장 유사한 리뷰부터 정렬한 인덱스: [    1 13318  7414  5840  3866  2523  4406    11  2091  8534]\n"
          ]
        }
      ],
      "source": [
        "print('#가장 유사한 리뷰부터 정렬한 인덱스:', (-sim_result[0]).argsort()[:10])"
      ]
    },
    {
      "cell_type": "markdown",
      "metadata": {
        "id": "KfFRTp1H7iRS"
      },
      "source": [
        "## 3. TF-IDF로 성능을 높여보자"
      ]
    },
    {
      "cell_type": "code",
      "execution_count": 18,
      "metadata": {
        "id": "2FOSOYUW7iRS",
        "colab": {
          "base_uri": "https://localhost:8080/"
        },
        "outputId": "811fb3ac-513b-4233-f291-586995b6c629"
      },
      "outputs": [
        {
          "output_type": "stream",
          "name": "stdout",
          "text": [
            "#가장 유사한 리뷰의 인덱스: 1\n"
          ]
        }
      ],
      "source": [
        "# 약간의 시간 소요 (약 2분 내외)\n",
        "from sklearn.feature_extraction.text import TfidfVectorizer\n",
        "\n",
        "tf = TfidfVectorizer(max_features=1000, tokenizer=my_tokenizer) # TfidfVectorizer(vocabulary=word_features)\n",
        "reviews_tf = tf.fit_transform(df.review)\n",
        "\n",
        "source_tf = tf.transform([source]) # 코사인 유사도는 카운트 벡터에 대해 계산하므로 벡터로 변환\n",
        "# transform은 반드시 리스트나 행렬 형태의 입력을 요구하므로 리스트로 만들어서 입력\n",
        "\n",
        "sim_result_tf = cosine_similarity(source_tf, reviews_tf) #변환된 count vector와 기존 값들과의 similarity 계산\n",
        "\n",
        "print('#가장 유사한 리뷰의 인덱스:', np.argmax(sim_result_tf[0]))"
      ]
    },
    {
      "cell_type": "code",
      "source": [
        "print(source_tf)"
      ],
      "metadata": {
        "id": "SJRmIa_XSMH1",
        "colab": {
          "base_uri": "https://localhost:8080/"
        },
        "outputId": "8ee0655f-4c57-4da2-b39a-890d5ed5e554"
      },
      "execution_count": 19,
      "outputs": [
        {
          "output_type": "stream",
          "name": "stdout",
          "text": [
            "  (0, 455)\t0.7148965827761523\n",
            "  (0, 233)\t0.49966630559377534\n",
            "  (0, 160)\t0.4891384865140424\n"
          ]
        }
      ]
    },
    {
      "cell_type": "code",
      "source": [
        "# 455, 233, 160번 단어 확인\n",
        "index_to_word = {v: k for k, v in tf.vocabulary_.items()}\n",
        "print(index_to_word[455])\n",
        "print(index_to_word[233])\n",
        "print(index_to_word[160])"
      ],
      "metadata": {
        "id": "uGPpLCtTTpWa",
        "colab": {
          "base_uri": "https://localhost:8080/"
        },
        "outputId": "cf469d87-0499-4934-d342-7a39e45cb88e"
      },
      "execution_count": 20,
      "outputs": [
        {
          "output_type": "stream",
          "name": "stdout",
          "text": [
            "손\n",
            "듯\n",
            "내\n"
          ]
        }
      ]
    },
    {
      "cell_type": "code",
      "execution_count": 21,
      "metadata": {
        "id": "RmVDlR917iRS",
        "colab": {
          "base_uri": "https://localhost:8080/"
        },
        "outputId": "26945fe8-1695-4153-a646-9eb8e10bcffd"
      },
      "outputs": [
        {
          "output_type": "stream",
          "name": "stdout",
          "text": [
            "#카운트 벡터에 대해 가장 유사한 리뷰부터 정렬한 인덱스: [    1 13318  7414  5840  3866  2523  4406    11  2091  8534]\n"
          ]
        }
      ],
      "source": [
        "print('#카운트 벡터에 대해 가장 유사한 리뷰부터 정렬한 인덱스:', (-sim_result[0]).argsort()[:10])"
      ]
    },
    {
      "cell_type": "code",
      "source": [
        "for i in (-sim_result[0]).argsort()[:10]:\n",
        "    print(df.review[i])"
      ],
      "metadata": {
        "id": "0nBdEqJxNVpy",
        "colab": {
          "base_uri": "https://localhost:8080/"
        },
        "outputId": "aca89f3c-821a-4eb0-e470-7fec5e2cb588"
      },
      "execution_count": 22,
      "outputs": [
        {
          "output_type": "stream",
          "name": "stdout",
          "text": [
            "몰입할수밖에 없다. 어렵게 생각할 필요없다. 내가 전투에 참여한듯 손에 땀이남.\n",
            "탈출인 듯\n",
            "개취인듯...\n",
            "개취인듯 ㅠ\n",
            "옛날 플래쉬 게임 부기맨과 아웃라스트 휠체어 합쳐 놓은 듯 쩝...........\n",
            "익숙한 듯 아련한.\n",
            "진짜 무서웠음..ㄷㄷ 얘들이랑 보는데 내 옆에 친구는 무서워서 내 손 잡고 힘을 엄청 쥐는데..손에 피가 안통했음..\n",
            "내가졸라이상하네\n",
            "현실적인듯 비현실적이고 비현실적인듯 현실적인  다채로운듯 단순하고 단순한듯 다채로운 영화\n",
            "내가본 최악의 영화... 좋은뎃글 알바인듯... 같이본 사람든반응...뭐야 이거\n"
          ]
        }
      ]
    },
    {
      "cell_type": "code",
      "source": [
        "print('#TF-IDF 벡터에 대해 가장 유사한 리뷰부터 정렬한 인덱스:', (-sim_result_tf[0]).argsort()[:10])"
      ],
      "metadata": {
        "id": "ZzvzONaJYsYO",
        "colab": {
          "base_uri": "https://localhost:8080/"
        },
        "outputId": "76d641c3-9e79-46be-e58d-ead7b343bcda"
      },
      "execution_count": 23,
      "outputs": [
        {
          "output_type": "stream",
          "name": "stdout",
          "text": [
            "#TF-IDF 벡터에 대해 가장 유사한 리뷰부터 정렬한 인덱스: [    1 13339  4406  9270 11546  2523 13318  7414  5840  3866]\n"
          ]
        }
      ]
    },
    {
      "cell_type": "code",
      "source": [
        "for i in (-sim_result_tf[0]).argsort()[:10]:\n",
        "    print(df.review[i])"
      ],
      "metadata": {
        "id": "ZHdHl6uPNfmD",
        "colab": {
          "base_uri": "https://localhost:8080/"
        },
        "outputId": "a2b30865-202d-4d10-fb3c-8a9ec2ea08a0"
      },
      "execution_count": 24,
      "outputs": [
        {
          "output_type": "stream",
          "name": "stdout",
          "text": [
            "몰입할수밖에 없다. 어렵게 생각할 필요없다. 내가 전투에 참여한듯 손에 땀이남.\n",
            "정말 손에 땀을쥐고 보았네요~~\n",
            "진짜 무서웠음..ㄷㄷ 얘들이랑 보는데 내 옆에 친구는 무서워서 내 손 잡고 힘을 엄청 쥐는데..손에 피가 안통했음..\n",
            "손수건 필히지참하세요 안그러면  손으로닦아야  합니다\n",
            "이 영화.. 흥행 100만 이상에 내 손모가지 건다.\n",
            "익숙한 듯 아련한.\n",
            "탈출인 듯\n",
            "개취인듯...\n",
            "개취인듯 ㅠ\n",
            "옛날 플래쉬 게임 부기맨과 아웃라스트 휠체어 합쳐 놓은 듯 쩝...........\n"
          ]
        }
      ]
    },
    {
      "cell_type": "markdown",
      "source": [
        "---"
      ],
      "metadata": {
        "id": "mjdbZsw_bmKI"
      }
    },
    {
      "cell_type": "markdown",
      "source": [
        "# [[실습 3-1-1]] 지난 시간에 배운 NLTK의 movie review 데이터 셋에 대해서 실습해보기\n",
        "* **movie review dataset의 다섯 번째 리뷰**에 대해, 아래의 결과를 출력하는 코드를 작성해보시오. (그 외는 모두 자유)\n",
        "```\n",
        "print('#카운트 벡터에 대해 가장 유사한 리뷰부터 정렬한 인덱스:', (-sim_result[0]).argsort()[:10])\n",
        "for i in (-sim_result[0]).argsort()[:10]:\n",
        "    print(df.review[i])\n",
        "print('#TF-IDF 벡터에 대해 가장 유사한 리뷰부터 정렬한 인덱스:', (-sim_result_tf[0]).argsort()[:10])\n",
        "for i in (-sim_result_tf[0]).argsort()[:10]:\n",
        "    print(df.review[i])\n",
        "```\n",
        "\n",
        "* 마크다운을 적절히 사용하여 코드 및 실행 결과에 대해 설명하시오\n",
        "* 참고: 2-2. 카운트 기반의 문서표현 중 2. 사이킷런을 이용한 카운트 벡터 생성 부분을 실행\n",
        "* 제출 기한: 9/19(화) 23시 59분 (기존: 9/18(월) -> 변경: 9/19(화))\n",
        "    * 내일도 수업이 있기도 하고, 난이도가 있다고 생각되어 하루 더 연장합니다. 시간이 더 필요한 경우 하루 정도 더 생각해보고 제출하시기 바랍니다."
      ],
      "metadata": {
        "id": "lTDh_T-YSfOR"
      }
    },
    {
      "cell_type": "code",
      "source": [
        "import nltk\n",
        "nltk.download('movie_reviews')\n",
        "nltk.download('punkt')\n",
        "nltk.download('stopwords')"
      ],
      "metadata": {
        "id": "zrWw1SUVS2M6",
        "colab": {
          "base_uri": "https://localhost:8080/"
        },
        "outputId": "30ff90b4-fa98-4149-c7dc-a7c29773b030"
      },
      "execution_count": 101,
      "outputs": [
        {
          "output_type": "stream",
          "name": "stderr",
          "text": [
            "[nltk_data] Downloading package movie_reviews to /root/nltk_data...\n",
            "[nltk_data]   Package movie_reviews is already up-to-date!\n",
            "[nltk_data] Downloading package punkt to /root/nltk_data...\n",
            "[nltk_data]   Package punkt is already up-to-date!\n",
            "[nltk_data] Downloading package stopwords to /root/nltk_data...\n",
            "[nltk_data]   Package stopwords is already up-to-date!\n"
          ]
        },
        {
          "output_type": "execute_result",
          "data": {
            "text/plain": [
              "True"
            ]
          },
          "metadata": {},
          "execution_count": 101
        }
      ]
    },
    {
      "cell_type": "code",
      "source": [
        "from nltk.corpus import movie_reviews\n",
        "from nltk.tokenize import sent_tokenize, word_tokenize\n",
        "\n",
        "print('#review count:', len(movie_reviews.fileids())) #영화 리뷰 문서의 id를 반환\n",
        "print('#samples of file ids:', movie_reviews.fileids()[:10]) #id를 10개까지만 출력\n",
        "print('#categories of reviews:', movie_reviews.categories()) # label, 즉 긍정인지 부정인지에 대한 분류\n",
        "print('#num of \"neg\" reviews:', len(movie_reviews.fileids(categories='neg'))) #label이 부정인 문서들의 id를 반환\n",
        "print('#num of \"pos\" reviews:', len(movie_reviews.fileids(categories='pos'))) #label이 긍정인 문서들의 id를 반환\n",
        "fileid = movie_reviews.fileids()[0] #첫번째 문서의 id를 반환\n",
        "print('#id of the first review:', fileid)\n",
        "print('#first review content:\\n', movie_reviews.raw(fileid)[:200]) #첫번째 문서의 내용을 200자까지만 출력\n",
        "print()\n",
        "print('#sentence tokenization result:', sent_tokenize(movie_reviews.raw(fileid))[:2]) #첫번째 문서를 sentence tokenize한 결과 중 앞 두 문장\n",
        "print('#word tokenization result:', word_tokenize(movie_reviews.raw(fileid))[:20]) #첫번째 문서를 word tokenize한 결과 중 앞 스무 단어"
      ],
      "metadata": {
        "colab": {
          "base_uri": "https://localhost:8080/"
        },
        "id": "GDta6euSLboL",
        "outputId": "5d0295fc-b471-4795-869c-17e86cff853f"
      },
      "execution_count": 102,
      "outputs": [
        {
          "output_type": "stream",
          "name": "stdout",
          "text": [
            "#review count: 2000\n",
            "#samples of file ids: ['neg/cv000_29416.txt', 'neg/cv001_19502.txt', 'neg/cv002_17424.txt', 'neg/cv003_12683.txt', 'neg/cv004_12641.txt', 'neg/cv005_29357.txt', 'neg/cv006_17022.txt', 'neg/cv007_4992.txt', 'neg/cv008_29326.txt', 'neg/cv009_29417.txt']\n",
            "#categories of reviews: ['neg', 'pos']\n",
            "#num of \"neg\" reviews: 1000\n",
            "#num of \"pos\" reviews: 1000\n",
            "#id of the first review: neg/cv000_29416.txt\n",
            "#first review content:\n",
            " plot : two teen couples go to a church party , drink and then drive . \n",
            "they get into an accident . \n",
            "one of the guys dies , but his girlfriend continues to see him in her life , and has nightmares . \n",
            "w\n",
            "\n",
            "#sentence tokenization result: ['plot : two teen couples go to a church party , drink and then drive .', 'they get into an accident .']\n",
            "#word tokenization result: ['plot', ':', 'two', 'teen', 'couples', 'go', 'to', 'a', 'church', 'party', ',', 'drink', 'and', 'then', 'drive', '.', 'they', 'get', 'into', 'an']\n"
          ]
        }
      ]
    },
    {
      "cell_type": "code",
      "source": [
        "from nltk.corpus import stopwords #일반적으로 분석대상이 아닌 단어들\n",
        "\n",
        "english_stops = set(stopwords.words('english')) #영어 불용어를 가져옴\n",
        "\n",
        "#words() 대신 raw()를 이용해 원문을 가져옴\n",
        "documents = [movie_reviews.raw(fileid) for fileid in movie_reviews.fileids()]\n",
        "\n",
        "# stopwords의 적용과 토큰화를 동시에 수행.\n",
        "tokens = [[token for token in word_tokenize(doc) if token not in english_stops and len(token) > 2] for doc in documents]\n",
        "\n",
        "word_count = {}\n",
        "for text in tokens:\n",
        "    for word in text:\n",
        "        word_count[word] = word_count.get(word, 0) + 1\n",
        "\n",
        "sorted_features = sorted(word_count, key=word_count.get, reverse=True)\n",
        "\n",
        "print('num of features:', len(sorted_features))\n",
        "for word in sorted_features[:10]:\n",
        "    print(f\"count of '{word}': {word_count[word]}\", end=', ')"
      ],
      "metadata": {
        "colab": {
          "base_uri": "https://localhost:8080/"
        },
        "id": "Np1Np5i-XW5j",
        "outputId": "d9b56167-1e16-47fd-d593-6bcd216596e7"
      },
      "execution_count": 103,
      "outputs": [
        {
          "output_type": "stream",
          "name": "stdout",
          "text": [
            "num of features: 45953\n",
            "count of 'film': 9443, count of 'n't': 6217, count of 'movie': 5671, count of 'one': 5582, count of 'like': 3547, count of 'even': 2556, count of 'good': 2316, count of 'time': 2282, count of 'would': 2264, count of 'story': 2146, "
          ]
        }
      ]
    },
    {
      "cell_type": "code",
      "source": [
        "# data 준비, movie_reviews.raw()를 사용하여 raw text를 추출\n",
        "reviews = [movie_reviews.raw(fileid) for fileid in movie_reviews.fileids()]"
      ],
      "metadata": {
        "id": "uOFXuCGeQc8r"
      },
      "execution_count": 104,
      "outputs": []
    },
    {
      "cell_type": "code",
      "source": [
        "from sklearn.feature_extraction.text import CountVectorizer\n",
        "\n",
        "cv = CountVectorizer(max_features=1000) #특성 집합을 지정하지 않고 최대 특성의 수를 지정하는 경우\n",
        "\n",
        "#앞에서 생성한 word_features를 이용하여 특성 집합을 지정하는 경우\n",
        "#cv = CountVectorizer(vocabulary=word_features)\n",
        "\n",
        "print(cv) #객체에 사용된 인수들을 확인"
      ],
      "metadata": {
        "colab": {
          "base_uri": "https://localhost:8080/"
        },
        "id": "KWSF_ZMoQg9L",
        "outputId": "efdc15db-9702-4782-ab59-9268cacbb91b"
      },
      "execution_count": 105,
      "outputs": [
        {
          "output_type": "stream",
          "name": "stdout",
          "text": [
            "CountVectorizer(max_features=1000)\n"
          ]
        }
      ]
    },
    {
      "cell_type": "code",
      "source": [
        "reviews_cv = cv.fit_transform(reviews) #reviews를 이용하여 count vector를 학습하고, 변환"
      ],
      "metadata": {
        "id": "jy8tUs9RUd_K"
      },
      "execution_count": 106,
      "outputs": []
    },
    {
      "cell_type": "code",
      "source": [
        "from sklearn.metrics.pairwise import cosine_similarity\n",
        "\n",
        "print(\"#다섯 번째 리뷰:\", reviews[4])\n",
        "start = len(reviews[4]) #// 2 # 두 번째 리뷰의 문자수를 확인하고 뒤 절반을 가져오기 위해 중심점을 찾음\n",
        "source = str(reviews[4][-start:]) # 중심점으로부터 뒤 절반을 가져와서 비교할 문서를 생성\n",
        "print('# 중심점 이후의 리뷰:', source)"
      ],
      "metadata": {
        "colab": {
          "base_uri": "https://localhost:8080/"
        },
        "id": "nmTpYQMNTzGH",
        "outputId": "9949b91d-c0de-42ec-dd26-460269f0812b"
      },
      "execution_count": 107,
      "outputs": [
        {
          "output_type": "stream",
          "name": "stdout",
          "text": [
            "#다섯 번째 리뷰: synopsis : a mentally unstable man undergoing psychotherapy saves a boy from a potentially fatal accident and then falls in love with the boy's mother , a fledgling restauranteur . \n",
            "unsuccessfully attempting to gain the woman's favor , he takes pictures of her and kills a number of people in his way . \n",
            "comments : stalked is yet another in a seemingly endless string of spurned-psychos-getting-their-revenge type movies which are a stable category in the 1990s film industry , both theatrical and direct-to-video . \n",
            "their proliferation may be due in part to the fact that they're typically inexpensive to produce ( no special effects , no big name stars ) and serve as vehicles to flash nudity ( allowing them to frequent late-night cable television ) . \n",
            "stalked wavers slightly from the norm in one respect : the psycho never actually has an affair ; on the contrary , he's rejected rather quickly ( the psycho typically is an ex-lover , ex-wife , or ex-husband ) . \n",
            "other than that , stalked is just another redundant entry doomed to collect dust on video shelves and viewed after midnight on cable . \n",
            "stalked does not provide much suspense , though that is what it sets out to do . \n",
            "interspersed throughout the opening credits , for instance , a serious-sounding narrator spouts statistics about stalkers and ponders what may cause a man to stalk ( it's implicitly implied that all stalkers are men ) while pictures of a boy are shown on the screen . \n",
            "after these credits , a snapshot of actor jay underwood appears . \n",
            "the narrator states that \" this is the story of daryl gleason \" and tells the audience that he is the stalker . \n",
            "of course , really , this is the story of restauranteur brooke daniels . \n",
            "if the movie was meant to be about daryl , then it should have been called stalker not stalked . \n",
            "okay . so we know who the stalker is even before the movie starts ; no guesswork required . \n",
            "stalked proceeds , then , as it begins : obvious , obvious , obvious . \n",
            "the opening sequence , contrived quite a bit , brings daryl and brooke ( the victim ) together . \n",
            "daryl obsesses over brooke , follows her around , and tries to woo her . \n",
            "ultimately rejected by her , his plans become more and more desperate and elaborate . \n",
            "these plans include the all-time , psycho-in-love , cliche : the murdered pet . \n",
            "for some reason , this genre's films require a dead pet to be found by the victim stalked . \n",
            "stalked is no exception ( it's a cat this time -- found in the shower ) . \n",
            "events like these lead to the inevitable showdown between stalker and stalked , where only one survives ( guess who it invariably always is and you'll guess the conclusion to this turkey ) . \n",
            "stalked's cast is uniformly adequate : not anything to write home about but also not all that bad either . \n",
            "jay underwood , as the stalker , turns toward melodrama a bit too much . \n",
            "he overdoes it , in other words , but he still manages to be creepy enough to pass as the type of stalker the story demands . \n",
            "maryam d'abo , about the only actor close to being a star here ( she played the bond chick in the living daylights ) , is equally adequate as the \" stalked \" of the title , even though she seems too ditzy at times to be a strong , independent business-owner . \n",
            "brooke ( d'abo ) needs to be ditzy , however , for the plot to proceed . \n",
            "toward the end , for example , brooke has her suspicions about daryl . \n",
            "to ensure he won't use it as another excuse to see her , brooke decides to return a toolbox he had left at her place to his house . \n",
            "does she just leave the toolbox at the door when no one answers ? \n",
            "of course not . \n",
            "she tries the door , opens it , and wanders around the house . \n",
            "when daryl returns , he enters the house , of course , so our heroine is in danger . \n",
            "somehow , even though her car is parked at the front of the house , right by the front door , daryl is oblivious to her presence inside . \n",
            "the whole episode places an incredible strain on the audience's suspension of disbelief and questions the validity of either character's intelligence . \n",
            "stalked receives two stars because , even though it is highly derivative and somewhat boring , it is not so bad that it cannot be watched . \n",
            "rated r mostly for several murder scenes and brief nudity in a strip bar , it is not as offensive as many other thrillers in this genre are . \n",
            "if you're in the mood for a good suspense film , though , stake out something else . \n",
            "\n",
            "# 중심점 이후의 리뷰: synopsis : a mentally unstable man undergoing psychotherapy saves a boy from a potentially fatal accident and then falls in love with the boy's mother , a fledgling restauranteur . \n",
            "unsuccessfully attempting to gain the woman's favor , he takes pictures of her and kills a number of people in his way . \n",
            "comments : stalked is yet another in a seemingly endless string of spurned-psychos-getting-their-revenge type movies which are a stable category in the 1990s film industry , both theatrical and direct-to-video . \n",
            "their proliferation may be due in part to the fact that they're typically inexpensive to produce ( no special effects , no big name stars ) and serve as vehicles to flash nudity ( allowing them to frequent late-night cable television ) . \n",
            "stalked wavers slightly from the norm in one respect : the psycho never actually has an affair ; on the contrary , he's rejected rather quickly ( the psycho typically is an ex-lover , ex-wife , or ex-husband ) . \n",
            "other than that , stalked is just another redundant entry doomed to collect dust on video shelves and viewed after midnight on cable . \n",
            "stalked does not provide much suspense , though that is what it sets out to do . \n",
            "interspersed throughout the opening credits , for instance , a serious-sounding narrator spouts statistics about stalkers and ponders what may cause a man to stalk ( it's implicitly implied that all stalkers are men ) while pictures of a boy are shown on the screen . \n",
            "after these credits , a snapshot of actor jay underwood appears . \n",
            "the narrator states that \" this is the story of daryl gleason \" and tells the audience that he is the stalker . \n",
            "of course , really , this is the story of restauranteur brooke daniels . \n",
            "if the movie was meant to be about daryl , then it should have been called stalker not stalked . \n",
            "okay . so we know who the stalker is even before the movie starts ; no guesswork required . \n",
            "stalked proceeds , then , as it begins : obvious , obvious , obvious . \n",
            "the opening sequence , contrived quite a bit , brings daryl and brooke ( the victim ) together . \n",
            "daryl obsesses over brooke , follows her around , and tries to woo her . \n",
            "ultimately rejected by her , his plans become more and more desperate and elaborate . \n",
            "these plans include the all-time , psycho-in-love , cliche : the murdered pet . \n",
            "for some reason , this genre's films require a dead pet to be found by the victim stalked . \n",
            "stalked is no exception ( it's a cat this time -- found in the shower ) . \n",
            "events like these lead to the inevitable showdown between stalker and stalked , where only one survives ( guess who it invariably always is and you'll guess the conclusion to this turkey ) . \n",
            "stalked's cast is uniformly adequate : not anything to write home about but also not all that bad either . \n",
            "jay underwood , as the stalker , turns toward melodrama a bit too much . \n",
            "he overdoes it , in other words , but he still manages to be creepy enough to pass as the type of stalker the story demands . \n",
            "maryam d'abo , about the only actor close to being a star here ( she played the bond chick in the living daylights ) , is equally adequate as the \" stalked \" of the title , even though she seems too ditzy at times to be a strong , independent business-owner . \n",
            "brooke ( d'abo ) needs to be ditzy , however , for the plot to proceed . \n",
            "toward the end , for example , brooke has her suspicions about daryl . \n",
            "to ensure he won't use it as another excuse to see her , brooke decides to return a toolbox he had left at her place to his house . \n",
            "does she just leave the toolbox at the door when no one answers ? \n",
            "of course not . \n",
            "she tries the door , opens it , and wanders around the house . \n",
            "when daryl returns , he enters the house , of course , so our heroine is in danger . \n",
            "somehow , even though her car is parked at the front of the house , right by the front door , daryl is oblivious to her presence inside . \n",
            "the whole episode places an incredible strain on the audience's suspension of disbelief and questions the validity of either character's intelligence . \n",
            "stalked receives two stars because , even though it is highly derivative and somewhat boring , it is not so bad that it cannot be watched . \n",
            "rated r mostly for several murder scenes and brief nudity in a strip bar , it is not as offensive as many other thrillers in this genre are . \n",
            "if you're in the mood for a good suspense film , though , stake out something else . \n",
            "\n"
          ]
        }
      ]
    },
    {
      "cell_type": "code",
      "source": [
        "source_cv = cv.transform([source]) # 코사인 유사도는 카운트 벡터에 대해 계산하므로 벡터로 변환\n",
        "# transform은 반드시 리스트나 행렬 형태의 입력을 요구하므로 리스트로 만들어서 입력\n",
        "\n",
        "sim_result_cv = cosine_similarity(source_cv, reviews_cv) #변환된 count vector와 기존 값들과의 similarity 계산\n",
        "\n",
        "print('#가장 유사한 리뷰의 인덱스:', np.argmax(sim_result_cv[0]))"
      ],
      "metadata": {
        "colab": {
          "base_uri": "https://localhost:8080/"
        },
        "id": "UCj8V6_cQiGZ",
        "outputId": "4eaa26da-9d91-4dfe-c88a-43c5f51148a2"
      },
      "execution_count": 108,
      "outputs": [
        {
          "output_type": "stream",
          "name": "stdout",
          "text": [
            "#가장 유사한 리뷰의 인덱스: 4\n"
          ]
        }
      ]
    },
    {
      "cell_type": "markdown",
      "source": [
        "tf 로 성능 높이기"
      ],
      "metadata": {
        "id": "R1z1l4QY36Wu"
      }
    },
    {
      "cell_type": "code",
      "source": [
        "# 약간의 시간 소요 (약 2분 내외)\n",
        "from sklearn.feature_extraction.text import TfidfVectorizer\n",
        "\n",
        "tf = TfidfVectorizer(max_features=1000)\n",
        "reviews_tf = tf.fit_transform(reviews)\n",
        "\n",
        "source_tf = tf.transform([source]) # 코사인 유사도는 카운트 벡터에 대해 계산하므로 벡터로 변환\n",
        "# transform은 반드시 리스트나 행렬 형태의 입력을 요구하므로 리스트로 만들어서 입력\n",
        "\n",
        "sim_result_tf = cosine_similarity(source_tf, reviews_tf) #변환된 count vector와 기존 값들과의 similarity 계산\n",
        "\n",
        "print('#가장 유사한 리뷰의 인덱스:', np.argmax(sim_result_tf[0]))"
      ],
      "metadata": {
        "colab": {
          "base_uri": "https://localhost:8080/"
        },
        "id": "LtT4C0vruMBl",
        "outputId": "9badbe9d-4822-4a6a-e305-3f33e2588318"
      },
      "execution_count": 109,
      "outputs": [
        {
          "output_type": "stream",
          "name": "stdout",
          "text": [
            "#가장 유사한 리뷰의 인덱스: 4\n"
          ]
        }
      ]
    },
    {
      "cell_type": "markdown",
      "source": [
        "5번 인덱스의 리뷰에 대하여 유사도가 높은 순으로 나열"
      ],
      "metadata": {
        "id": "b1AB4MayyAtf"
      }
    },
    {
      "cell_type": "code",
      "source": [
        "print('#카운트 벡터에 대해 가장 유사한 리뷰부터 정렬한 인덱스:', (-sim_result_cv[0]).argsort()[:10])\n",
        "#for i in (-sim_result_cv[0]).argsort()[:10]:\n",
        "  #print(reviews[i])\n",
        "print('#TF-IDF 벡터에 대해 가장 유사한 리뷰부터 정렬한 인덱스:', (-sim_result_tf[0]).argsort()[:10])\n",
        "#for i in (-sim_result_tf[0]).argsort()[:10]:\n",
        "  #print(reviews[i])"
      ],
      "metadata": {
        "colab": {
          "base_uri": "https://localhost:8080/"
        },
        "id": "DSv2pDHqYBLj",
        "outputId": "925fada9-e1b8-46d9-95cf-4c72797f1bc4"
      },
      "execution_count": 111,
      "outputs": [
        {
          "output_type": "stream",
          "name": "stdout",
          "text": [
            "#카운트 벡터에 대해 가장 유사한 리뷰부터 정렬한 인덱스: [   4 1269  107 1250   27 1601 1368 1935  574 1453]\n",
            "#TF-IDF 벡터에 대해 가장 유사한 리뷰부터 정렬한 인덱스: [   4  107  893 1269  100 1060 1837 1862 1250  992]\n"
          ]
        }
      ]
    },
    {
      "cell_type": "markdown",
      "source": [
        "# [파일] -> [다운로드] -> [.ipynb 다운로드]\n",
        "# 제출 후 **구글 계정 로그아웃** 잘 하시기 바랍니다."
      ],
      "metadata": {
        "id": "mVybNOeI8mtf"
      }
    }
  ],
  "metadata": {
    "kernelspec": {
      "display_name": "Python 3 (ipykernel)",
      "language": "python",
      "name": "python3"
    },
    "language_info": {
      "codemirror_mode": {
        "name": "ipython",
        "version": 3
      },
      "file_extension": ".py",
      "mimetype": "text/x-python",
      "name": "python",
      "nbconvert_exporter": "python",
      "pygments_lexer": "ipython3",
      "version": "3.8.12"
    },
    "toc": {
      "base_numbering": 1,
      "nav_menu": {},
      "number_sections": true,
      "sideBar": true,
      "skip_h1_title": false,
      "title_cell": "Table of Contents",
      "title_sidebar": "Contents",
      "toc_cell": true,
      "toc_position": {},
      "toc_section_display": true,
      "toc_window_display": true
    },
    "varInspector": {
      "cols": {
        "lenName": 16,
        "lenType": 16,
        "lenVar": 40
      },
      "kernels_config": {
        "python": {
          "delete_cmd_postfix": "",
          "delete_cmd_prefix": "del ",
          "library": "var_list.py",
          "varRefreshCmd": "print(var_dic_list())"
        },
        "r": {
          "delete_cmd_postfix": ") ",
          "delete_cmd_prefix": "rm(",
          "library": "var_list.r",
          "varRefreshCmd": "cat(var_dic_list()) "
        }
      },
      "types_to_exclude": [
        "module",
        "function",
        "builtin_function_or_method",
        "instance",
        "_Feature"
      ],
      "window_display": false
    },
    "colab": {
      "provenance": [],
      "include_colab_link": true
    }
  },
  "nbformat": 4,
  "nbformat_minor": 0
}