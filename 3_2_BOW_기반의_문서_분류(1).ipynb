{
  "cells": [
    {
      "cell_type": "markdown",
      "metadata": {
        "id": "view-in-github",
        "colab_type": "text"
      },
      "source": [
        "<a href=\"https://colab.research.google.com/github/SojeongShin/NLP_2023/blob/Notion/3_2_BOW_%E1%84%80%E1%85%B5%E1%84%87%E1%85%A1%E1%86%AB%E1%84%8B%E1%85%B4_%E1%84%86%E1%85%AE%E1%86%AB%E1%84%89%E1%85%A5_%E1%84%87%E1%85%AE%E1%86%AB%E1%84%85%E1%85%B2(1).ipynb\" target=\"_parent\"><img src=\"https://colab.research.google.com/assets/colab-badge.svg\" alt=\"Open In Colab\"/></a>"
      ]
    },
    {
      "cell_type": "markdown",
      "metadata": {
        "id": "Cg-urNQ547xj"
      },
      "source": [
        "# [자연어처리]\n",
        "# 3주차(3-2). BOW 기반의 문서 분류(1)\n"
      ]
    },
    {
      "cell_type": "markdown",
      "source": [
        "# 202001581 신소정  <- 본인의 학번, 이름으로 변경하여 제출\n",
        "* 모든 셀 실행 후 제출하시기 바랍니다.\n",
        "* 실습 (3-2-1)이 있습니다."
      ],
      "metadata": {
        "id": "P8szlFyi8iVB"
      }
    },
    {
      "cell_type": "markdown",
      "metadata": {
        "id": "cQ7sU0ZH47xk"
      },
      "source": [
        "## 1. 20 뉴스그룹 데이터 준비 및 특성 추출\n",
        "\n",
        " http://scikit-learn.org/0.19/datasets/twenty_newsgroups.html"
      ]
    },
    {
      "cell_type": "code",
      "execution_count": 1,
      "metadata": {
        "id": "mJ-gjqb747xk"
      },
      "outputs": [],
      "source": [
        "from sklearn.datasets import fetch_20newsgroups\n",
        "\n",
        "# 20개의 토픽 중 선택하고자 하는 토픽을 리스트로 생성\n",
        "categories = ['alt.atheism', 'talk.religion.misc', 'comp.graphics', 'sci.space']"
      ]
    },
    {
      "cell_type": "code",
      "source": [
        "# 학습 데이터셋을 가져옴\n",
        "newsgroups_train = fetch_20newsgroups(subset='train',\n",
        "# 메일 내용에서 hint가 되는 부분을 삭제 - 순수하게 내용만으로 분류\n",
        "                                      remove=('headers', 'footers', 'quotes'),\n",
        "                                      categories=categories)\n",
        "# 검증 데이터셋을 가져옴\n",
        "newsgroups_test = fetch_20newsgroups(subset='test',\n",
        "                                     remove=('headers', 'footers', 'quotes'),\n",
        "                                     categories=categories)\n",
        "\n",
        "print('#Train set size:', len(newsgroups_train.data))\n",
        "print('#Test set size:', len(newsgroups_test.data))\n",
        "print('#Selected categories:', newsgroups_train.target_names)\n",
        "print('#Train labels:', set(newsgroups_train.target))"
      ],
      "metadata": {
        "id": "W_NUBogOF_YB",
        "colab": {
          "base_uri": "https://localhost:8080/"
        },
        "outputId": "3557b707-0b82-40f7-da29-a545a2df4700"
      },
      "execution_count": 2,
      "outputs": [
        {
          "output_type": "stream",
          "name": "stdout",
          "text": [
            "#Train set size: 2034\n",
            "#Test set size: 1353\n",
            "#Selected categories: ['alt.atheism', 'comp.graphics', 'sci.space', 'talk.religion.misc']\n",
            "#Train labels: {0, 1, 2, 3}\n"
          ]
        }
      ]
    },
    {
      "cell_type": "code",
      "execution_count": 3,
      "metadata": {
        "id": "_LbP3VWV47xm",
        "colab": {
          "base_uri": "https://localhost:8080/"
        },
        "outputId": "98221b8a-7e24-4fc9-bc4b-649f44b53955"
      },
      "outputs": [
        {
          "output_type": "stream",
          "name": "stdout",
          "text": [
            "#Train set text samples: Hi,\n",
            "\n",
            "I've noticed that if you only save a model (with all your mapping planes\n",
            "positioned carefully) to a .3DS file that when you reload it after restarting\n",
            "3DS, they are given a default position and orientation.  But if you save\n",
            "to a .PRJ file their positions/orientation are preserved.  Does anyone\n",
            "know why this information is not stored in the .3DS file?  Nothing is\n",
            "explicitly said in the manual about saving texture rules in the .PRJ file. \n",
            "I'd like to be able to read the texture rule information, does anyone have \n",
            "the format for the .PRJ file?\n",
            "\n",
            "Is the .CEL file format available from somewhere?\n",
            "\n",
            "Rych\n",
            "#Train set label smaples: 1\n",
            "#Test set text samples: TRry the SKywatch project in  Arizona.\n",
            "#Test set label smaples: 2\n"
          ]
        }
      ],
      "source": [
        "print('#Train set text samples:', newsgroups_train.data[0])\n",
        "print('#Train set label smaples:', newsgroups_train.target[0])\n",
        "print('#Test set text samples:', newsgroups_test.data[0])\n",
        "print('#Test set label smaples:', newsgroups_test.target[0])"
      ]
    },
    {
      "cell_type": "code",
      "execution_count": 4,
      "metadata": {
        "id": "PbHmTSoc47xm",
        "colab": {
          "base_uri": "https://localhost:8080/"
        },
        "outputId": "157c8c46-c74f-4252-c552-4bd7587fa1bd"
      },
      "outputs": [
        {
          "output_type": "stream",
          "name": "stdout",
          "text": [
            "Train set dimension: (2034, 2000)\n",
            "Test set dimension: (1353, 2000)\n"
          ]
        }
      ],
      "source": [
        "X_train = newsgroups_train.data   # 학습 데이터셋 문서\n",
        "y_train = newsgroups_train.target # 학습 데이터셋 레이블\n",
        "\n",
        "X_test = newsgroups_test.data     # 검증 데이터셋 문서\n",
        "y_test = newsgroups_test.target   # 검증 데이터셋 레이블\n",
        "\n",
        "from sklearn.feature_extraction.text import CountVectorizer\n",
        "\n",
        "cv = CountVectorizer(max_features=2000, min_df=5, max_df=0.5)\n",
        "\n",
        "X_train_cv = cv.fit_transform(X_train) # train set을 변환\n",
        "print('Train set dimension:', X_train_cv.shape)\n",
        "X_test_cv = cv.transform(X_test) # test set을 변환\n",
        "print('Test set dimension:', X_test_cv.shape)"
      ]
    },
    {
      "cell_type": "code",
      "execution_count": 5,
      "metadata": {
        "id": "ZAkb-RN047xm",
        "colab": {
          "base_uri": "https://localhost:8080/"
        },
        "outputId": "7c521d1e-10bf-40dd-b6aa-f659e303adf3"
      },
      "outputs": [
        {
          "output_type": "stream",
          "name": "stdout",
          "text": [
            "00 : 0, 000 : 0, 01 : 0, 04 : 0, 05 : 0, 10 : 0, 100 : 0, 1000 : 0, 11 : 0, 12 : 0, 128 : 0, 129 : 0, 13 : 0, 130 : 0, 14 : 0, 15 : 0, 16 : 0, 17 : 0, 18 : 0, 19 : 0, 1987 : 0, 1988 : 0, 1989 : 0, 1990 : 0, 1991 : 0, 1992 : 0, 1993 : 0, 20 : 0, 200 : 0, 202 : 0, 21 : 0, 22 : 0, 23 : 0, 24 : 0, 25 : 0, 256 : 0, 26 : 0, 27 : 0, 28 : 0, 2d : 0, 30 : 0, 300 : 0, 31 : 0, 32 : 0, 33 : 0, 34 : 0, 35 : 0, 39 : 0, 3d : 0, 40 : 0, 400 : 0, 42 : 0, 45 : 0, 50 : 0, 500 : 0, 60 : 0, 600 : 0, 65 : 0, 70 : 0, 75 : 0, 80 : 0, 800 : 0, 90 : 0, 900 : 0, 91 : 0, 92 : 0, 93 : 0, 95 : 0, _the : 0, ability : 0, able : 1, abortion : 0, about : 1, above : 0, absolute : 0, absolutely : 0, ac : 0, accept : 0, acceptable : 0, accepted : 0, access : 0, according : 0, account : 0, accurate : 0, across : 0, act : 0, action : 0, actions : 0, active : 0, activities : 0, activity : 0, acts : 0, actual : 0, actually : 0, ad : 0, add : 0, added : 0, addition : 0, additional : 0, address : 0, "
          ]
        }
      ],
      "source": [
        "for word, count in zip(cv.get_feature_names_out()[:100], X_train_cv[0].toarray()[0, :100]):\n",
        "    print(word, ':', count, end=', ')"
      ]
    },
    {
      "cell_type": "markdown",
      "metadata": {
        "id": "wU6RXir447xm"
      },
      "source": [
        "## 2. 머신러닝과 문서 분류 과정에 대한 이해\n"
      ]
    },
    {
      "cell_type": "markdown",
      "metadata": {
        "id": "jebCclf847xm"
      },
      "source": [
        "## 3. 나이브 베이즈 분류기(Naive Bayse Classifier)를 이용한 문서 분류\n",
        "\n",
        "1. http://scikit-learn.org/stable/modules/generated/sklearn.naive_bayes.MultinomialNB.html"
      ]
    },
    {
      "cell_type": "code",
      "execution_count": 6,
      "metadata": {
        "id": "GOyO9ySX47xn",
        "colab": {
          "base_uri": "https://localhost:8080/"
        },
        "outputId": "e8b019ed-dbd3-47ff-e1f2-b869f69f7705"
      },
      "outputs": [
        {
          "output_type": "stream",
          "name": "stdout",
          "text": [
            "Train set score: 0.824\n",
            "Test set score: 0.732\n"
          ]
        }
      ],
      "source": [
        "from sklearn.naive_bayes import MultinomialNB # sklearn이 제공하는 MultinomialNB 를 사용\n",
        "NB_clf = MultinomialNB() # 분류기 선언\n",
        "\n",
        "NB_clf.fit(X_train_cv, y_train) # train set을 이용하여 분류기(classifier)를 학습\n",
        "\n",
        "print('Train set score: {:.3f}'.format(NB_clf.score(X_train_cv, y_train))) # train set에 대한 예측정확도를 확인\n",
        "print('Test set score: {:.3f}'.format(NB_clf.score(X_test_cv, y_test))) # test set에 대한 예측정확도를 확인"
      ]
    },
    {
      "cell_type": "code",
      "execution_count": 7,
      "metadata": {
        "id": "5eA-dAaA47xn",
        "colab": {
          "base_uri": "https://localhost:8080/"
        },
        "outputId": "0a66d553-1a82-48ba-b55e-89b5fa5a0b68"
      },
      "outputs": [
        {
          "output_type": "stream",
          "name": "stdout",
          "text": [
            "#First document and label in test data: TRry the SKywatch project in  Arizona. 2\n",
            "#Second document and label in test data: The Vatican library recently made a tour of the US.\n",
            " Can anyone help me in finding a FTP site where this collection is \n",
            " available. 1\n",
            "#Predicted labels: [2 1]\n",
            "#Predicted categories: sci.space comp.graphics\n"
          ]
        }
      ],
      "source": [
        "print('#First document and label in test data:', X_test[0], y_test[0])\n",
        "print('#Second document and label in test data:', X_test[1], y_test[1])\n",
        "\n",
        "pred = NB_clf.predict(X_test_cv[:2])\n",
        "\n",
        "print('#Predicted labels:', pred)\n",
        "print('#Predicted categories:', newsgroups_train.target_names[pred[0]], newsgroups_train.target_names[pred[1]])"
      ]
    },
    {
      "cell_type": "code",
      "source": [
        "print('# 예측하려는 문장:', X_test[0])\n",
        "print('# 예측하려는 분류:', newsgroups_train.target_names)\n",
        "probas = NB_clf.predict_proba(X_test_cv[0])\n",
        "print('# 분류별 예측 확률:', probas[0])\n",
        "print('# 예측 분류:', pred[0], newsgroups_train.target_names[pred[0]])\n",
        "print('# 정답 분류:', y_test[0], newsgroups_train.target_names[y_test[0]])"
      ],
      "metadata": {
        "id": "nRNGz2Xll8BW",
        "colab": {
          "base_uri": "https://localhost:8080/"
        },
        "outputId": "dc8d4910-5088-41f8-f861-340e937e3caa"
      },
      "execution_count": 8,
      "outputs": [
        {
          "output_type": "stream",
          "name": "stdout",
          "text": [
            "# 예측하려는 문장: TRry the SKywatch project in  Arizona.\n",
            "# 예측하려는 분류: ['alt.atheism', 'comp.graphics', 'sci.space', 'talk.religion.misc']\n",
            "# 분류별 예측 확률: [0.01641288 0.34948537 0.6046574  0.02944436]\n",
            "# 예측 분류: 2 sci.space\n",
            "# 정답 분류: 2 sci.space\n"
          ]
        }
      ]
    },
    {
      "cell_type": "markdown",
      "source": [
        "# [[실습 3-2-1]] TF-IDF로 성능을 향상시키기\n",
        "\n",
        "### 현재의 코드\n",
        "```\n",
        "Train set score: 0.824\n",
        "Test set score: 0.732\n",
        "```\n",
        "\n",
        "### 향상된 코드\n",
        "```\n",
        "Train set score: 0.862\n",
        "Test set score: 0.741\n",
        "```"
      ],
      "metadata": {
        "id": "kTNC6TGvj17e"
      }
    },
    {
      "cell_type": "code",
      "source": [
        "from sklearn.naive_bayes import MultinomialNB # sklearn이 제공하는 MultinomialNB 를 사용\n",
        "NB_clf = MultinomialNB() # 분류기 선언\n",
        "\n",
        "NB_clf.fit(X_train_cv, y_train) # train set을 이용하여 분류기(classifier)를 학습\n",
        "\n",
        "print('Train set score: {:.3f}'.format(NB_clf.score(X_train_cv, y_train))) # train set에 대한 예측정확도를 확인\n",
        "print('Test set score: {:.3f}'.format(NB_clf.score(X_test_cv, y_test))) # test set에 대한 예측정확도를 확인"
      ],
      "metadata": {
        "id": "vkVNaATfn5yU",
        "colab": {
          "base_uri": "https://localhost:8080/"
        },
        "outputId": "16a39a78-3d0a-4054-d67f-1ab38ea199d0"
      },
      "execution_count": 9,
      "outputs": [
        {
          "output_type": "stream",
          "name": "stdout",
          "text": [
            "Train set score: 0.824\n",
            "Test set score: 0.732\n"
          ]
        }
      ]
    },
    {
      "cell_type": "code",
      "source": [
        "from sklearn.feature_extraction.text import TfidfVectorizer\n",
        "\n",
        "tf = TfidfVectorizer(max_features=2000, min_df=5, max_df=0.5) # TfidfVectorizer(vocabulary=word_features)\n",
        "X_train_tf = tf.fit_transform(X_train)\n",
        "X_test_tf = tf.transform(X_test)\n",
        "\n",
        "NB_clf = MultinomialNB() # 분류기 선언\n",
        "\n",
        "NB_clf.fit(X_train_tf, y_train) # train set을 이용하여 분류기(classifier)를 학습\n",
        "\n",
        "print('Train set score: {:.3f}'.format(NB_clf.score(X_train_tf, y_train))) # train set에 대한 예측정확도를 확인\n",
        "print('Test set score: {:.3f}'.format(NB_clf.score(X_test_tf, y_test))) # test set에 대한 예측정확도를 확인"
      ],
      "metadata": {
        "colab": {
          "base_uri": "https://localhost:8080/"
        },
        "id": "KWwZNF2qP_eX",
        "outputId": "93367ee0-208a-4f2b-c722-74dcee0e5bc3"
      },
      "execution_count": 16,
      "outputs": [
        {
          "output_type": "stream",
          "name": "stdout",
          "text": [
            "Train set score: 0.862\n",
            "Test set score: 0.741\n"
          ]
        }
      ]
    },
    {
      "cell_type": "markdown",
      "source": [
        "# [파일] -> [다운로드] -> [.ipynb 다운로드]\n",
        "# 제출 후 **구글 계정 로그아웃** 잘 하시기 바랍니다."
      ],
      "metadata": {
        "id": "hN33F77P8lGg"
      }
    }
  ],
  "metadata": {
    "kernelspec": {
      "display_name": "Python 3 (ipykernel)",
      "language": "python",
      "name": "python3"
    },
    "language_info": {
      "codemirror_mode": {
        "name": "ipython",
        "version": 3
      },
      "file_extension": ".py",
      "mimetype": "text/x-python",
      "name": "python",
      "nbconvert_exporter": "python",
      "pygments_lexer": "ipython3",
      "version": "3.8.0"
    },
    "toc": {
      "base_numbering": 1,
      "nav_menu": {},
      "number_sections": true,
      "sideBar": true,
      "skip_h1_title": false,
      "title_cell": "Table of Contents",
      "title_sidebar": "Contents",
      "toc_cell": true,
      "toc_position": {
        "height": "calc(100% - 180px)",
        "left": "10px",
        "top": "150px",
        "width": "165px"
      },
      "toc_section_display": true,
      "toc_window_display": true
    },
    "varInspector": {
      "cols": {
        "lenName": 16,
        "lenType": 16,
        "lenVar": 40
      },
      "kernels_config": {
        "python": {
          "delete_cmd_postfix": "",
          "delete_cmd_prefix": "del ",
          "library": "var_list.py",
          "varRefreshCmd": "print(var_dic_list())"
        },
        "r": {
          "delete_cmd_postfix": ") ",
          "delete_cmd_prefix": "rm(",
          "library": "var_list.r",
          "varRefreshCmd": "cat(var_dic_list()) "
        }
      },
      "types_to_exclude": [
        "module",
        "function",
        "builtin_function_or_method",
        "instance",
        "_Feature"
      ],
      "window_display": false
    },
    "colab": {
      "provenance": [],
      "include_colab_link": true
    }
  },
  "nbformat": 4,
  "nbformat_minor": 0
}