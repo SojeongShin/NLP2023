{
  "cells": [
    {
      "cell_type": "markdown",
      "metadata": {
        "id": "view-in-github",
        "colab_type": "text"
      },
      "source": [
        "<a href=\"https://colab.research.google.com/github/SojeongShin/NLP_2023/blob/Notion/4_2_BOW_%EA%B8%B0%EB%B0%98%EC%9D%98_%EB%AC%B8%EC%84%9C%EB%B6%84%EB%A5%98_(3).ipynb\" target=\"_parent\"><img src=\"https://colab.research.google.com/assets/colab-badge.svg\" alt=\"Open In Colab\"/></a>"
      ]
    },
    {
      "cell_type": "markdown",
      "metadata": {
        "id": "nHfGVfbWNjeP"
      },
      "source": [
        "# [자연어처리]\n",
        "# 4주차(4-2). BOW 기반의 문서 분류(3)\n"
      ]
    },
    {
      "cell_type": "markdown",
      "source": [
        "# 202001581 신소정 <- 본인의 학번, 이름으로 변경하여 제출\n",
        "* **모든 셀 실행** 후 제출하시기 바랍니다.\n",
        "* **실습 (4-2-1, 4-2-2)**이 있습니다."
      ],
      "metadata": {
        "id": "PIFXgbQbODsk"
      }
    },
    {
      "cell_type": "markdown",
      "source": [
        "# 이제 Colab 사용에 모든 수강생분들이 어느정도 익숙해 졌을 거라 생각됩니다!\n",
        "* (벌써 4주차 입니다. 시간 빠르죠?)\n",
        "* **키보드**(+마우스)를 조금 더 사용해보도록 하겠습니다.\n",
        "> ##### 1. **주석을 해제**하거나\n",
        "> ##### 2. 다시 **따라 쳐보면서** 실습을 진행해 봅시다. (V)\n",
        "> ##### 중간 중간 **'# ... 이 부분을 완성하시오'** 라는 부분의 코드를 완성해야 합니다.\n",
        "\n",
        "\n",
        "\n"
      ],
      "metadata": {
        "id": "YRzfXnBSOF-1"
      }
    },
    {
      "cell_type": "markdown",
      "metadata": {
        "id": "CBbDC3bnNjeR"
      },
      "source": [
        "## 3-2 & 4-1. 수업 내용 리뷰 시작\n",
        "## 20 뉴스그룹 데이터 준비 및 특성 추출\n",
        "\n",
        " http://scikit-learn.org/0.19/datasets/twenty_newsgroups.html"
      ]
    },
    {
      "cell_type": "code",
      "execution_count": 1,
      "metadata": {
        "id": "gv5QjuQINjeR",
        "colab": {
          "base_uri": "https://localhost:8080/"
        },
        "outputId": "2bc0d7a8-56d6-41ec-b344-0ae2acf288ba"
      },
      "outputs": [
        {
          "output_type": "stream",
          "name": "stdout",
          "text": [
            "#Train set size: 2034\n",
            "#Test set size: 1353\n",
            "#Selected categories: ['alt.atheism', 'comp.graphics', 'sci.space', 'talk.religion.misc']\n",
            "#Train labels: {0, 1, 2, 3}\n"
          ]
        }
      ],
      "source": [
        "from sklearn.datasets import fetch_20newsgroups\n",
        "\n",
        "# 20개의 토픽 중 선택하고자 하는 토픽을 리스트로 생성\n",
        "categories = ['alt.atheism', 'talk.religion.misc', 'comp.graphics', 'sci.space']\n",
        "\n",
        "# 학습 데이터셋을 가져옴\n",
        "# 메일 내용에서 hint가 되는 부분을 삭제 - 순수하게 내용만으로 분류\n",
        "newsgroups_train = fetch_20newsgroups(subset='train', # ... 이 부분을 완성하시오\n",
        "                                      remove=('headers', 'footers', 'quotes'),\n",
        "                                      categories=categories)\n",
        "\n",
        "# 테스트 데이터셋을 가져옴\n",
        "newsgroups_test = fetch_20newsgroups(subset='test', # ... 이 부분을 완성하시오\n",
        "                                     remove=('headers', 'footers', 'quotes'),\n",
        "                                     categories=categories)\n",
        "\n",
        "print('#Train set size:', len(newsgroups_train.data))\n",
        "print('#Test set size:', len(newsgroups_test.data))\n",
        "print('#Selected categories:', newsgroups_train.target_names)\n",
        "print('#Train labels:', set(newsgroups_train.target))"
      ]
    },
    {
      "cell_type": "code",
      "execution_count": 2,
      "metadata": {
        "id": "EzgV07RRNjeT"
      },
      "outputs": [],
      "source": [
        "# 학습 데이터셋 문서\n",
        "X_train = newsgroups_train.data\n",
        "# 학습 데이터셋 레이블\n",
        "y_train = newsgroups_train.target\n",
        "\n",
        "# 테스트 데이터셋 문서\n",
        "X_test = newsgroups_test.data\n",
        "# 테스트 데이터셋 레이블\n",
        "y_test = newsgroups_test.target"
      ]
    },
    {
      "cell_type": "code",
      "execution_count": 3,
      "metadata": {
        "id": "9XAX4K7dNjeV"
      },
      "outputs": [],
      "source": [
        "from sklearn.feature_extraction.text import TfidfVectorizer\n",
        "\n",
        "# TF-IDF 방식 / feature의 개수는 2000개를 사용\n",
        "tfidf = TfidfVectorizer(max_features=2000, min_df=5, max_df=0.5) # ... 이 부분을 완성하시오\n",
        "\n",
        "# train set을 변환\n",
        "X_train_tfidf = tfidf.fit_transform(X_train)  # ... 이 부분을 완성하시오\n",
        "# test set을 변환\n",
        "X_test_tfidf = tfidf.transform(X_test)  # ... 이 부분을 완성하시오"
      ]
    },
    {
      "cell_type": "code",
      "execution_count": 4,
      "metadata": {
        "id": "bThLkVqgNjeV"
      },
      "outputs": [],
      "source": [
        "import numpy as np\n",
        "\n",
        "def top10_features(classifier, vectorizer, categories):\n",
        "    feature_names = np.asarray(vectorizer.get_feature_names_out())\n",
        "    for i, category in enumerate(categories):\n",
        "        # 역순으로 정렬하기 위해 계수에 음수를 취해서 정렬 후 앞에서부터 10개의 값을 반환\n",
        "        top10 = np.argsort(-classifier.coef_[i])[:10]\n",
        "        # 카테고리와 영향이 큰 특성 10개를 출력\n",
        "        print(\"%s: %s\" % (category, \", \".join(feature_names[top10])))"
      ]
    },
    {
      "cell_type": "markdown",
      "source": [
        "## 3-2 & 4-1. 수업 내용 리뷰 끝\n",
        "---"
      ],
      "metadata": {
        "id": "lcWkqPaxRiYV"
      }
    },
    {
      "cell_type": "markdown",
      "source": [
        "## 4-2. 수업 내용 시작"
      ],
      "metadata": {
        "id": "QV72UjI0RjvC"
      }
    },
    {
      "cell_type": "markdown",
      "source": [
        "## 4. 로지스틱 회귀분석을 이용한 문서 분류"
      ],
      "metadata": {
        "id": "MuLEbfSKXSdm"
      }
    },
    {
      "cell_type": "markdown",
      "metadata": {
        "id": "KWON6CHQNjeV"
      },
      "source": [
        "### 릿지 회귀(ridge regression)\n"
      ]
    },
    {
      "cell_type": "code",
      "execution_count": 5,
      "metadata": {
        "id": "SLWgyuRqNjeV",
        "colab": {
          "base_uri": "https://localhost:8080/"
        },
        "outputId": "87548117-ebf7-4082-c412-fb6e2fd9d76a"
      },
      "outputs": [
        {
          "output_type": "stream",
          "name": "stdout",
          "text": [
            "Train set score: 0.960\n",
            "Test set score: 0.735\n"
          ]
        }
      ],
      "source": [
        "# 사이킷런의 RidgeClassifier 이용\n",
        "from sklearn.linear_model import RidgeClassifier\n",
        "\n",
        "# 릿지 분류기 선언\n",
        "ridge_clf =RidgeClassifier() # ... 이 부분을 완성하시오\n",
        "# 학습\n",
        "ridge_clf.fit(X_train_tfidf, y_train) # ... 이 부분을 완성하시오\n",
        "\n",
        "print('Train set score: {:.3f}'.format(ridge_clf.score(X_train_tfidf, y_train)))\n",
        "print('Test set score: {:.3f}'.format(ridge_clf.score(X_test_tfidf, y_test)))"
      ]
    },
    {
      "cell_type": "code",
      "source": [
        "# def top10_features(classifier, vectorizer, categories): 를 이용하여 top10 feature를 확인하시오\n",
        "top10_features(ridge_clf, tfidf, newsgroups_train.target_names) # ... 이 부분을 완성하시오"
      ],
      "metadata": {
        "id": "rHl6xdgmQAgu",
        "colab": {
          "base_uri": "https://localhost:8080/"
        },
        "outputId": "b8391af8-27ed-4951-a7b4-119848c0320f"
      },
      "execution_count": 6,
      "outputs": [
        {
          "output_type": "stream",
          "name": "stdout",
          "text": [
            "alt.atheism: bobby, religion, atheists, atheism, motto, punishment, satan, deletion, islamic, liar\n",
            "comp.graphics: graphics, computer, 3d, file, 42, hi, image, using, screen, looking\n",
            "sci.space: space, orbit, spacecraft, sci, moon, funding, nasa, 23, engineering, nick\n",
            "talk.religion.misc: christian, blood, christians, fbi, order, objective, hudson, children, abortion, dead\n"
          ]
        }
      ]
    },
    {
      "cell_type": "code",
      "source": [
        "# alpha 값을 0.1로 할 경우 -> 과적합 심화, 성능 다운\n",
        "ridge_clf = RidgeClassifier(alpha=0.1) # 릿지 분류기 선언\n",
        "ridge_clf.fit(X_train_tfidf, y_train) # 학습\n",
        "\n",
        "print('Train set score: {:.3f}'.format(ridge_clf.score(X_train_tfidf, y_train)))\n",
        "print('Test set score: {:.3f}'.format(ridge_clf.score(X_test_tfidf, y_test)))"
      ],
      "metadata": {
        "id": "WAv-96cS0rll",
        "colab": {
          "base_uri": "https://localhost:8080/"
        },
        "outputId": "86de4721-a8ed-437b-8507-81696321b730"
      },
      "execution_count": 10,
      "outputs": [
        {
          "output_type": "stream",
          "name": "stdout",
          "text": [
            "Train set score: 0.977\n",
            "Test set score: 0.673\n"
          ]
        }
      ]
    },
    {
      "cell_type": "code",
      "source": [
        "top10_features(ridge_clf, tfidf, newsgroups_train.target_names)"
      ],
      "metadata": {
        "id": "acg8mNWORB7U",
        "colab": {
          "base_uri": "https://localhost:8080/"
        },
        "outputId": "5b187029-d645-4db2-df35-37ab2a6af1e8"
      },
      "execution_count": 11,
      "outputs": [
        {
          "output_type": "stream",
          "name": "stdout",
          "text": [
            "alt.atheism: policy, risk, species, iii, liar, middle, sea, motto, contradictory, everything\n",
            "comp.graphics: 42, split, site, 01, graphics, six, requires, edges, computer, main\n",
            "sci.space: 500, tool, george, longer, wall, star, 23, expected, funding, allen\n",
            "talk.religion.misc: blood, muhammad, moment, dead, decenso, deity, creation, clearly, 26, brought\n"
          ]
        }
      ]
    },
    {
      "cell_type": "code",
      "execution_count": 12,
      "metadata": {
        "id": "UJKVUo4hNjeW"
      },
      "outputs": [],
      "source": [
        "from sklearn.model_selection import train_test_split\n",
        "\n",
        "# 8:2의 비율로 나누기\n",
        "X_train_ridge, X_val_ridge, y_train_ridge, y_val_ridge = train_test_split(X_train_tfidf, y_train, test_size=0.2, random_state=42) # ... 이 부분을 완성하시오"
      ]
    },
    {
      "cell_type": "code",
      "source": [
        "# ... 이 부분을 완성하시오 (전체 코드 작성)\n",
        "# 설명: train에 대해 학습하고, validation에 대한 score를 재는 코드를 작성하시오.\n",
        "\n",
        "# 1. alpha=0.1인 분류기 선언\n",
        "ridge_clf = RidgeClassifier(alpha=0.1)\n",
        "# 2. X_train_ridge에 대해 학습\n",
        "ridge_clf.fit(X_train_ridge, y_train_ridge)\n",
        "# 3. X_val_ridge에 대해 score 확인\n",
        "ridge_clf.score(X_val_ridge, y_val_ridge)"
      ],
      "metadata": {
        "id": "32wLgyhf06G4",
        "colab": {
          "base_uri": "https://localhost:8080/"
        },
        "outputId": "58d674c9-7cbc-4831-a09c-04e7db616e47"
      },
      "execution_count": 13,
      "outputs": [
        {
          "output_type": "execute_result",
          "data": {
            "text/plain": [
              "0.7248157248157249"
            ]
          },
          "metadata": {},
          "execution_count": 13
        }
      ]
    },
    {
      "cell_type": "code",
      "source": [
        "# ... 이 부분을 완성하시오 (전체 코드 작성)\n",
        "# 설명: alpha를 0.1부터 10까지 0.1씩 증가시켜 학습시키고, score를 확인하는 코드를 작성하시오. range는 int단위\n",
        " # (hint: np.arange(start, stop, step))\n",
        "# 위의 코드에서 alpha=0.1을 변경시켜가면서 score 값을 확인\n",
        "import numpy as np\n",
        "# 1. for 문 작성\n",
        "for alpha in np.arange(0.1, 10, 0.1):\n",
        "    # 2. 위의 코드 3줄 복사\n",
        "\n",
        "    # 1. alpha 증가하는 분류기 선언\n",
        "    ridge_clf = RidgeClassifier(alpha)\n",
        "    # 2. X_train_ridge에 대해 학습\n",
        "    ridge_clf.fit(X_train_ridge, y_train_ridge)\n",
        "    # 3. X_val_ridge에 대해 score 확인\n",
        "    score = ridge_clf.score(X_val_ridge, y_val_ridge)\n",
        "    print(score)"
      ],
      "metadata": {
        "id": "8yHWabYg1CX2",
        "colab": {
          "base_uri": "https://localhost:8080/"
        },
        "outputId": "524ecf5a-8a65-46ac-d003-0ea8dd30f618"
      },
      "execution_count": 16,
      "outputs": [
        {
          "output_type": "stream",
          "name": "stdout",
          "text": [
            "0.7248157248157249\n",
            "0.7714987714987716\n",
            "0.7862407862407862\n",
            "0.800982800982801\n",
            "0.8034398034398035\n",
            "0.800982800982801\n",
            "0.8034398034398035\n",
            "0.8083538083538083\n",
            "0.8083538083538083\n",
            "0.8132678132678133\n",
            "0.8157248157248157\n",
            "0.8206388206388207\n",
            "0.8230958230958231\n",
            "0.8230958230958231\n",
            "0.8230958230958231\n",
            "0.8255528255528255\n",
            "0.8255528255528255\n",
            "0.8230958230958231\n",
            "0.8230958230958231\n",
            "0.8230958230958231\n",
            "0.8206388206388207\n",
            "0.8230958230958231\n",
            "0.8230958230958231\n",
            "0.8230958230958231\n",
            "0.8230958230958231\n",
            "0.8157248157248157\n",
            "0.8157248157248157\n",
            "0.8157248157248157\n",
            "0.8157248157248157\n",
            "0.8108108108108109\n",
            "0.8108108108108109\n",
            "0.8108108108108109\n",
            "0.8108108108108109\n",
            "0.8108108108108109\n",
            "0.8083538083538083\n",
            "0.8083538083538083\n",
            "0.8034398034398035\n",
            "0.800982800982801\n",
            "0.800982800982801\n",
            "0.7985257985257985\n",
            "0.7985257985257985\n",
            "0.7985257985257985\n",
            "0.7985257985257985\n",
            "0.800982800982801\n",
            "0.800982800982801\n",
            "0.800982800982801\n",
            "0.800982800982801\n",
            "0.800982800982801\n",
            "0.800982800982801\n",
            "0.800982800982801\n",
            "0.800982800982801\n",
            "0.8034398034398035\n",
            "0.8034398034398035\n",
            "0.800982800982801\n",
            "0.800982800982801\n",
            "0.800982800982801\n",
            "0.7985257985257985\n",
            "0.7985257985257985\n",
            "0.7960687960687961\n",
            "0.7960687960687961\n",
            "0.7960687960687961\n",
            "0.7960687960687961\n",
            "0.7936117936117936\n",
            "0.7936117936117936\n",
            "0.7936117936117936\n",
            "0.7936117936117936\n",
            "0.7886977886977887\n",
            "0.7886977886977887\n",
            "0.7862407862407862\n",
            "0.7862407862407862\n",
            "0.7862407862407862\n",
            "0.7862407862407862\n",
            "0.7837837837837838\n",
            "0.7813267813267813\n",
            "0.7813267813267813\n",
            "0.7788697788697788\n",
            "0.7788697788697788\n",
            "0.7788697788697788\n",
            "0.7788697788697788\n",
            "0.7813267813267813\n",
            "0.7813267813267813\n",
            "0.7813267813267813\n",
            "0.7813267813267813\n",
            "0.7813267813267813\n",
            "0.7788697788697788\n",
            "0.7788697788697788\n",
            "0.7788697788697788\n",
            "0.7788697788697788\n",
            "0.7788697788697788\n",
            "0.773955773955774\n",
            "0.773955773955774\n",
            "0.7714987714987716\n",
            "0.7714987714987716\n",
            "0.773955773955774\n",
            "0.7714987714987716\n",
            "0.769041769041769\n",
            "0.769041769041769\n",
            "0.7665847665847666\n",
            "0.7665847665847666\n"
          ]
        }
      ]
    },
    {
      "cell_type": "code",
      "source": [
        "# ... 이 부분을 완성하시오 (전체 코드 작성)\n",
        "# alpha를 0.1부터 10까지 0.1씩 증가시키면서, score 값을 최대로 만드는 alpha 값을 max_alpha에 저장하시오\n",
        "# 위의 코드에서 score 값을 비교하여 저장하는 코드 추가\n",
        "\n",
        "# 1. max_alpha 초기값 선언\n",
        "max_alpha = 0\n",
        "max_score = 0\n",
        "\n",
        "# 2. for 문 작성\n",
        "for alpha in np.arange(0.1, 10, 0.1):\n",
        "    # 1. alpha 증가 분류기 선언\n",
        "    ridge_clf = RidgeClassifier(alpha=alpha)\n",
        "    # 2. X_train_ridge에 대해 학습\n",
        "    ridge_clf.fit(X_train_ridge, y_train_ridge)\n",
        "    # 3. X_val_ridge에 대해 score 확인\n",
        "    score = ridge_clf.score(X_val_ridge, y_val_ridge)\n",
        "\n",
        "    # 4. if 문을 통한 비교\n",
        "    if score > max_score:\n",
        "      max_score = score\n",
        "      max_alpha = alpha\n",
        "        # 5. max_alpha 저장\n",
        "\n",
        "print('Max alpha {:.3f} at max validation score {:.3f}'.format(max_alpha, max_score))"
      ],
      "metadata": {
        "id": "kPLwP9AB0OvO",
        "colab": {
          "base_uri": "https://localhost:8080/"
        },
        "outputId": "cc48fa65-7b44-4404-e5ce-380acb526671"
      },
      "execution_count": 17,
      "outputs": [
        {
          "output_type": "stream",
          "name": "stdout",
          "text": [
            "Max alpha 1.600 at max validation score 0.826\n"
          ]
        }
      ]
    },
    {
      "cell_type": "code",
      "execution_count": 19,
      "metadata": {
        "id": "DxGtcCjZNjeW",
        "colab": {
          "base_uri": "https://localhost:8080/"
        },
        "outputId": "38168eaf-8da8-49ae-f8ab-ab0c5b56d93b"
      },
      "outputs": [
        {
          "output_type": "stream",
          "name": "stdout",
          "text": [
            "Train set score: 0.947\n",
            "Test set score: 0.739\n"
          ]
        }
      ],
      "source": [
        "# 릿지 분류기 선언\n",
        "# 위의 셀에서 얻은 최대 alpha 값을 이용하시오\n",
        "ridge_clf = RidgeClassifier(alpha=1.6)\n",
        "# ridge_clf = RidgeClassifier(alpha=???) # ... 이 부분을 완성하시오\n",
        "ridge_clf.fit(X_train_tfidf, y_train) # 학습\n",
        "\n",
        "print('Train set score: {:.3f}'.format(ridge_clf.score(X_train_tfidf, y_train)))\n",
        "print('Test set score: {:.3f}'.format(ridge_clf.score(X_test_tfidf, y_test)))"
      ]
    },
    {
      "cell_type": "markdown",
      "source": [
        "0.977 -> 0.947\n",
        "\n",
        "\n",
        "0.673 -> 0.739"
      ],
      "metadata": {
        "id": "uTR5tzD-Ci66"
      }
    },
    {
      "cell_type": "code",
      "execution_count": 20,
      "metadata": {
        "id": "TEtc3MAqNjeW",
        "colab": {
          "base_uri": "https://localhost:8080/"
        },
        "outputId": "b0536464-1047-44ef-d090-512838822809"
      },
      "outputs": [
        {
          "output_type": "stream",
          "name": "stdout",
          "text": [
            "alt.atheism: bobby, religion, atheism, atheists, motto, punishment, islam, deletion, islamic, satan\n",
            "comp.graphics: graphics, computer, 3d, file, image, hi, 42, using, screen, looking\n",
            "sci.space: space, orbit, nasa, spacecraft, moon, sci, launch, flight, funding, idea\n",
            "talk.religion.misc: christian, christians, fbi, blood, order, jesus, objective, children, christ, hudson\n"
          ]
        }
      ],
      "source": [
        "top10_features(ridge_clf, tfidf, newsgroups_train.target_names)"
      ]
    },
    {
      "cell_type": "markdown",
      "metadata": {
        "id": "rBbZEcGqNjeW"
      },
      "source": [
        "## 5. 결정트리 등을 이용한 기타 문서 분류 방법\n",
        "\n",
        "1. https://scikit-learn.org/stable/modules/generated/sklearn.tree.DecisionTreeClassifier.html\n",
        "2. https://scikit-learn.org/stable/modules/generated/sklearn.ensemble.RandomForestClassifier.html\n",
        "3. https://scikit-learn.org/stable/modules/generated/sklearn.ensemble.GradientBoostingClassifier.html"
      ]
    },
    {
      "cell_type": "code",
      "source": [
        "# DecisionTreeClassifier\n",
        "from sklearn.tree import DecisionTreeClassifier\n",
        "\n",
        "tree = DecisionTreeClassifier(random_state=7)\n",
        "tree.fit(X_train_tfidf, y_train)\n",
        "\n",
        "print('#Decision Tree train set score: {:.3f}'.format(tree.score(X_train_tfidf, y_train)))\n",
        "print('#Decision Tree test set score: {:.3f}'.format(tree.score(X_test_tfidf, y_test)))"
      ],
      "metadata": {
        "id": "l0PPLd-33IOH",
        "colab": {
          "base_uri": "https://localhost:8080/"
        },
        "outputId": "02292cc4-072c-4343-cee0-b48298b5db71"
      },
      "execution_count": 21,
      "outputs": [
        {
          "output_type": "stream",
          "name": "stdout",
          "text": [
            "#Decision Tree train set score: 0.977\n",
            "#Decision Tree test set score: 0.536\n"
          ]
        }
      ]
    },
    {
      "cell_type": "code",
      "source": [
        "# RandomForestClassifier\n",
        "from sklearn.ensemble import RandomForestClassifier\n",
        "\n",
        "forest = RandomForestClassifier(random_state=7)\n",
        "forest.fit(X_train_tfidf, y_train)\n",
        "\n",
        "print('#Random Forest train set score: {:.3f}'.format(forest.score(X_train_tfidf, y_train)))\n",
        "print('#Random Forest test set score: {:.3f}'.format(forest.score(X_test_tfidf, y_test)))"
      ],
      "metadata": {
        "id": "soR3r5oO3IXz",
        "colab": {
          "base_uri": "https://localhost:8080/"
        },
        "outputId": "3abddbcb-517c-473f-831a-1eab00c2db6b"
      },
      "execution_count": 22,
      "outputs": [
        {
          "output_type": "stream",
          "name": "stdout",
          "text": [
            "#Random Forest train set score: 0.977\n",
            "#Random Forest test set score: 0.685\n"
          ]
        }
      ]
    },
    {
      "cell_type": "code",
      "source": [
        "# GradientBoostingClassifier\n",
        "from sklearn.ensemble import GradientBoostingClassifier\n",
        "\n",
        "gb = GradientBoostingClassifier(random_state=7)\n",
        "gb.fit(X_train_tfidf, y_train)\n",
        "\n",
        "print('#Gradient Boosting train set score: {:.3f}'.format(gb.score(X_train_tfidf, y_train)))\n",
        "print('#Gradient Boosting test set score: {:.3f}'.format(gb.score(X_test_tfidf, y_test)))"
      ],
      "metadata": {
        "id": "pHjmesE33IgA",
        "colab": {
          "base_uri": "https://localhost:8080/"
        },
        "outputId": "cc314fe8-df2b-43d1-c837-95743995869a"
      },
      "execution_count": 23,
      "outputs": [
        {
          "output_type": "stream",
          "name": "stdout",
          "text": [
            "#Gradient Boosting train set score: 0.933\n",
            "#Gradient Boosting test set score: 0.696\n"
          ]
        }
      ]
    },
    {
      "cell_type": "code",
      "source": [
        "gb.feature_importances_"
      ],
      "metadata": {
        "id": "1Ova1v4b4h4G",
        "colab": {
          "base_uri": "https://localhost:8080/"
        },
        "outputId": "fb7ade51-0225-4d8d-bbaf-83b00e9d1804"
      },
      "execution_count": 24,
      "outputs": [
        {
          "output_type": "execute_result",
          "data": {
            "text/plain": [
              "array([0.        , 0.        , 0.00018793, ..., 0.00321606, 0.        ,\n",
              "       0.        ])"
            ]
          },
          "metadata": {},
          "execution_count": 24
        }
      ]
    },
    {
      "cell_type": "code",
      "source": [
        "sorted(gb.feature_importances_, reverse=True)[:40]"
      ],
      "metadata": {
        "id": "csxbwzuu42Xk",
        "colab": {
          "base_uri": "https://localhost:8080/"
        },
        "outputId": "1504ef12-dac7-4838-efd2-3cddf216e696"
      },
      "execution_count": 25,
      "outputs": [
        {
          "output_type": "execute_result",
          "data": {
            "text/plain": [
              "[0.12606815556503398,\n",
              " 0.07955738535484687,\n",
              " 0.02354325879146636,\n",
              " 0.023046507462732756,\n",
              " 0.0205558124023883,\n",
              " 0.020063273938036065,\n",
              " 0.01814149212443511,\n",
              " 0.01770949154089045,\n",
              " 0.016857094927865725,\n",
              " 0.015308260768876465,\n",
              " 0.015023452519852164,\n",
              " 0.013797145686816017,\n",
              " 0.010426583770790022,\n",
              " 0.010376173054679735,\n",
              " 0.010225361352506715,\n",
              " 0.010061136447910934,\n",
              " 0.009663039306452306,\n",
              " 0.009660082651339493,\n",
              " 0.00940203835982551,\n",
              " 0.008981046753380314,\n",
              " 0.008827368636033589,\n",
              " 0.007819020701620829,\n",
              " 0.007751440501423645,\n",
              " 0.007515358150120413,\n",
              " 0.007255118998822582,\n",
              " 0.007182617149762632,\n",
              " 0.007074189152295397,\n",
              " 0.0068990602775437955,\n",
              " 0.006698870635101267,\n",
              " 0.006529364772733122,\n",
              " 0.006245749237205102,\n",
              " 0.005513872126424359,\n",
              " 0.004918770389689076,\n",
              " 0.004805134811116731,\n",
              " 0.004767940213268277,\n",
              " 0.004624503816321026,\n",
              " 0.004608372640219624,\n",
              " 0.004571604182502272,\n",
              " 0.004415620817426219,\n",
              " 0.004334578233902469]"
            ]
          },
          "metadata": {},
          "execution_count": 25
        }
      ]
    },
    {
      "cell_type": "code",
      "execution_count": 26,
      "metadata": {
        "id": "YDsqOmRMNjeW",
        "colab": {
          "base_uri": "https://localhost:8080/"
        },
        "outputId": "f787a98c-1c8e-4b34-dee0-8cb0273bbb3c"
      },
      "outputs": [
        {
          "output_type": "stream",
          "name": "stdout",
          "text": [
            "space: 0.126, graphics: 0.080, atheism: 0.024, thanks: 0.023, file: 0.021, orbit: 0.020, jesus: 0.018, god: 0.018, hi: 0.017, nasa: 0.015, image: 0.015, files: 0.014, christ: 0.010, moon: 0.010, bobby: 0.010, launch: 0.010, christian: 0.010, looking: 0.010, atheists: 0.009, christians: 0.009, fbi: 0.009, 3d: 0.008, you: 0.008, not: 0.008, islamic: 0.007, religion: 0.007, spacecraft: 0.007, flight: 0.007, computer: 0.007, islam: 0.007, ftp: 0.006, color: 0.006, software: 0.005, atheist: 0.005, card: 0.005, people: 0.005, koresh: 0.005, his: 0.005, kent: 0.004, sphere: 0.004, "
          ]
        }
      ],
      "source": [
        "sorted_feature_importances = sorted(zip(tfidf.get_feature_names_out(), gb.feature_importances_), key=lambda x: x[1], reverse=True)\n",
        "for feature, value in sorted_feature_importances[:40]:\n",
        "    print('%s: %.3f' % (feature, value), end=', ')"
      ]
    },
    {
      "cell_type": "markdown",
      "source": [
        "# [[실습 4-2-1]]\n",
        "# coef_의 결과와 feature_importances_ 결과 비교를 통해, 회귀분석 방법과 트리 기반의 분류 방식의 차이점 알아보기\n",
        "* coef_의 결과(여러 분류기 중 1개 이상)와 feature_importances_ 결과(여러 분류기 중 1개 이상) 복사/붙여넣기\n",
        "* 비교를 통해 어떤 차이점이 있는 것 같은지 분석해보시오."
      ],
      "metadata": {
        "id": "cKjT2ubs8sm8"
      }
    },
    {
      "cell_type": "markdown",
      "source": [
        "- coef_ Result\n",
        "\n",
        "alt.atheism: bobby, religion, atheists, atheism, motto, punishment, satan, deletion, islamic, liar\n",
        "comp.graphics: graphics, computer, 3d, file, 42, hi, image, using, screen, looking\n",
        "sci.space: space, orbit, spacecraft, sci, moon, funding, nasa, 23, engineering, nick\n",
        "talk.religion.misc: christian, blood, christians, fbi, order, objective, hudson, children, abortion, dead\n",
        "\n",
        "- feature_importances_ Result\n",
        "\n",
        "space: 0.126, graphics: 0.080, atheism: 0.024, thanks: 0.023, file: 0.021, orbit: 0.020, jesus: 0.018, god: 0.018, hi: 0.017, nasa: 0.015, image: 0.015, files: 0.014, christ: 0.010, moon: 0.010, bobby: 0.010, launch: 0.010, christian: 0.010, looking: 0.010, atheists: 0.009, christians: 0.009, fbi: 0.009, 3d: 0.008, you: 0.008, not: 0.008, islamic: 0.007, religion: 0.007, spacecraft: 0.007, flight: 0.007, computer: 0.007, islam: 0.007, ftp: 0.006, color: 0.006, software: 0.005, atheist: 0.005, card: 0.005, people: 0.005, koresh: 0.005, his: 0.005, kent: 0.004, sphere: 0.004,"
      ],
      "metadata": {
        "id": "zZJ8TZ68WpXc"
      }
    },
    {
      "cell_type": "markdown",
      "source": [
        "###위와 같이 coef_ 결과는 각 카테고리별 빈도수가 높은 feature들 순으로 나열되어 있어 카테고리 별 영향력이 큰 단어 순으로 나누어 보기 편하다.\n",
        "\n",
        "###feature_importances의 결과는 카테고리 전체의 feature들 각각이 모집단이 되므로 카테고리별 빈도수가 높은 단어들을 나누어 보기가 어렵다."
      ],
      "metadata": {
        "id": "T1wdiwNUEBT1"
      }
    },
    {
      "cell_type": "markdown",
      "source": [
        "---"
      ],
      "metadata": {
        "id": "G-mggbGvaMcl"
      }
    },
    {
      "cell_type": "markdown",
      "source": [
        "## 8. 한글 문서의 분류\n",
        "### 입력 값으로 리뷰가 들어오면, 어떤 영화에 대한 리뷰인지 예측하는 알고리즘을 만들어 보자!\n",
        "* '신과함께, 택시운전사, 인피니티 워, 범죄도시, 곤지암, 라라랜드, 코코' 중 하나로 분류\n",
        "* **입력**: 몰입할수밖에 없다. 어렵게 생각할 필요없다. 내가 전투에 참여한듯 손에 땀이남.\n",
        "* **출력**: 인피니티 워"
      ],
      "metadata": {
        "id": "BwDV1pUkYIhZ"
      }
    },
    {
      "cell_type": "code",
      "source": [
        "import pandas as pd\n",
        "df = pd.read_csv('./daum_movie_review.csv')\n",
        "df.head(5) # 처음부터 다섯개까디지 출력"
      ],
      "metadata": {
        "id": "DBlI7lpgYgDr",
        "colab": {
          "base_uri": "https://localhost:8080/",
          "height": 206
        },
        "outputId": "5a15fd3a-000c-4330-881e-1e4874ff13ba"
      },
      "execution_count": 27,
      "outputs": [
        {
          "output_type": "execute_result",
          "data": {
            "text/plain": [
              "                                              review  rating        date  \\\n",
              "0                             돈 들인건 티가 나지만 보는 내내 하품만       1  2018.10.29   \n",
              "1       몰입할수밖에 없다. 어렵게 생각할 필요없다. 내가 전투에 참여한듯 손에 땀이남.      10  2018.10.26   \n",
              "2  이전 작품에 비해 더 화려하고 스케일도 커졌지만.... 전국 맛집의 음식들을 한데 ...       8  2018.10.24   \n",
              "3                                이 정도면 볼만하다고 할 수 있음!       8  2018.10.22   \n",
              "4                                               재미있다      10  2018.10.20   \n",
              "\n",
              "    title  \n",
              "0  인피니티 워  \n",
              "1  인피니티 워  \n",
              "2  인피니티 워  \n",
              "3  인피니티 워  \n",
              "4  인피니티 워  "
            ],
            "text/html": [
              "\n",
              "  <div id=\"df-3d334b90-393a-4218-833d-579494a884a3\" class=\"colab-df-container\">\n",
              "    <div>\n",
              "<style scoped>\n",
              "    .dataframe tbody tr th:only-of-type {\n",
              "        vertical-align: middle;\n",
              "    }\n",
              "\n",
              "    .dataframe tbody tr th {\n",
              "        vertical-align: top;\n",
              "    }\n",
              "\n",
              "    .dataframe thead th {\n",
              "        text-align: right;\n",
              "    }\n",
              "</style>\n",
              "<table border=\"1\" class=\"dataframe\">\n",
              "  <thead>\n",
              "    <tr style=\"text-align: right;\">\n",
              "      <th></th>\n",
              "      <th>review</th>\n",
              "      <th>rating</th>\n",
              "      <th>date</th>\n",
              "      <th>title</th>\n",
              "    </tr>\n",
              "  </thead>\n",
              "  <tbody>\n",
              "    <tr>\n",
              "      <th>0</th>\n",
              "      <td>돈 들인건 티가 나지만 보는 내내 하품만</td>\n",
              "      <td>1</td>\n",
              "      <td>2018.10.29</td>\n",
              "      <td>인피니티 워</td>\n",
              "    </tr>\n",
              "    <tr>\n",
              "      <th>1</th>\n",
              "      <td>몰입할수밖에 없다. 어렵게 생각할 필요없다. 내가 전투에 참여한듯 손에 땀이남.</td>\n",
              "      <td>10</td>\n",
              "      <td>2018.10.26</td>\n",
              "      <td>인피니티 워</td>\n",
              "    </tr>\n",
              "    <tr>\n",
              "      <th>2</th>\n",
              "      <td>이전 작품에 비해 더 화려하고 스케일도 커졌지만.... 전국 맛집의 음식들을 한데 ...</td>\n",
              "      <td>8</td>\n",
              "      <td>2018.10.24</td>\n",
              "      <td>인피니티 워</td>\n",
              "    </tr>\n",
              "    <tr>\n",
              "      <th>3</th>\n",
              "      <td>이 정도면 볼만하다고 할 수 있음!</td>\n",
              "      <td>8</td>\n",
              "      <td>2018.10.22</td>\n",
              "      <td>인피니티 워</td>\n",
              "    </tr>\n",
              "    <tr>\n",
              "      <th>4</th>\n",
              "      <td>재미있다</td>\n",
              "      <td>10</td>\n",
              "      <td>2018.10.20</td>\n",
              "      <td>인피니티 워</td>\n",
              "    </tr>\n",
              "  </tbody>\n",
              "</table>\n",
              "</div>\n",
              "    <div class=\"colab-df-buttons\">\n",
              "\n",
              "  <div class=\"colab-df-container\">\n",
              "    <button class=\"colab-df-convert\" onclick=\"convertToInteractive('df-3d334b90-393a-4218-833d-579494a884a3')\"\n",
              "            title=\"Convert this dataframe to an interactive table.\"\n",
              "            style=\"display:none;\">\n",
              "\n",
              "  <svg xmlns=\"http://www.w3.org/2000/svg\" height=\"24px\" viewBox=\"0 -960 960 960\">\n",
              "    <path d=\"M120-120v-720h720v720H120Zm60-500h600v-160H180v160Zm220 220h160v-160H400v160Zm0 220h160v-160H400v160ZM180-400h160v-160H180v160Zm440 0h160v-160H620v160ZM180-180h160v-160H180v160Zm440 0h160v-160H620v160Z\"/>\n",
              "  </svg>\n",
              "    </button>\n",
              "\n",
              "  <style>\n",
              "    .colab-df-container {\n",
              "      display:flex;\n",
              "      gap: 12px;\n",
              "    }\n",
              "\n",
              "    .colab-df-convert {\n",
              "      background-color: #E8F0FE;\n",
              "      border: none;\n",
              "      border-radius: 50%;\n",
              "      cursor: pointer;\n",
              "      display: none;\n",
              "      fill: #1967D2;\n",
              "      height: 32px;\n",
              "      padding: 0 0 0 0;\n",
              "      width: 32px;\n",
              "    }\n",
              "\n",
              "    .colab-df-convert:hover {\n",
              "      background-color: #E2EBFA;\n",
              "      box-shadow: 0px 1px 2px rgba(60, 64, 67, 0.3), 0px 1px 3px 1px rgba(60, 64, 67, 0.15);\n",
              "      fill: #174EA6;\n",
              "    }\n",
              "\n",
              "    .colab-df-buttons div {\n",
              "      margin-bottom: 4px;\n",
              "    }\n",
              "\n",
              "    [theme=dark] .colab-df-convert {\n",
              "      background-color: #3B4455;\n",
              "      fill: #D2E3FC;\n",
              "    }\n",
              "\n",
              "    [theme=dark] .colab-df-convert:hover {\n",
              "      background-color: #434B5C;\n",
              "      box-shadow: 0px 1px 3px 1px rgba(0, 0, 0, 0.15);\n",
              "      filter: drop-shadow(0px 1px 2px rgba(0, 0, 0, 0.3));\n",
              "      fill: #FFFFFF;\n",
              "    }\n",
              "  </style>\n",
              "\n",
              "    <script>\n",
              "      const buttonEl =\n",
              "        document.querySelector('#df-3d334b90-393a-4218-833d-579494a884a3 button.colab-df-convert');\n",
              "      buttonEl.style.display =\n",
              "        google.colab.kernel.accessAllowed ? 'block' : 'none';\n",
              "\n",
              "      async function convertToInteractive(key) {\n",
              "        const element = document.querySelector('#df-3d334b90-393a-4218-833d-579494a884a3');\n",
              "        const dataTable =\n",
              "          await google.colab.kernel.invokeFunction('convertToInteractive',\n",
              "                                                    [key], {});\n",
              "        if (!dataTable) return;\n",
              "\n",
              "        const docLinkHtml = 'Like what you see? Visit the ' +\n",
              "          '<a target=\"_blank\" href=https://colab.research.google.com/notebooks/data_table.ipynb>data table notebook</a>'\n",
              "          + ' to learn more about interactive tables.';\n",
              "        element.innerHTML = '';\n",
              "        dataTable['output_type'] = 'display_data';\n",
              "        await google.colab.output.renderOutput(dataTable, element);\n",
              "        const docLink = document.createElement('div');\n",
              "        docLink.innerHTML = docLinkHtml;\n",
              "        element.appendChild(docLink);\n",
              "      }\n",
              "    </script>\n",
              "  </div>\n",
              "\n",
              "\n",
              "<div id=\"df-a5a1e19c-7bad-45b1-84ac-041289bd6f94\">\n",
              "  <button class=\"colab-df-quickchart\" onclick=\"quickchart('df-a5a1e19c-7bad-45b1-84ac-041289bd6f94')\"\n",
              "            title=\"Suggest charts.\"\n",
              "            style=\"display:none;\">\n",
              "\n",
              "<svg xmlns=\"http://www.w3.org/2000/svg\" height=\"24px\"viewBox=\"0 0 24 24\"\n",
              "     width=\"24px\">\n",
              "    <g>\n",
              "        <path d=\"M19 3H5c-1.1 0-2 .9-2 2v14c0 1.1.9 2 2 2h14c1.1 0 2-.9 2-2V5c0-1.1-.9-2-2-2zM9 17H7v-7h2v7zm4 0h-2V7h2v10zm4 0h-2v-4h2v4z\"/>\n",
              "    </g>\n",
              "</svg>\n",
              "  </button>\n",
              "\n",
              "<style>\n",
              "  .colab-df-quickchart {\n",
              "      --bg-color: #E8F0FE;\n",
              "      --fill-color: #1967D2;\n",
              "      --hover-bg-color: #E2EBFA;\n",
              "      --hover-fill-color: #174EA6;\n",
              "      --disabled-fill-color: #AAA;\n",
              "      --disabled-bg-color: #DDD;\n",
              "  }\n",
              "\n",
              "  [theme=dark] .colab-df-quickchart {\n",
              "      --bg-color: #3B4455;\n",
              "      --fill-color: #D2E3FC;\n",
              "      --hover-bg-color: #434B5C;\n",
              "      --hover-fill-color: #FFFFFF;\n",
              "      --disabled-bg-color: #3B4455;\n",
              "      --disabled-fill-color: #666;\n",
              "  }\n",
              "\n",
              "  .colab-df-quickchart {\n",
              "    background-color: var(--bg-color);\n",
              "    border: none;\n",
              "    border-radius: 50%;\n",
              "    cursor: pointer;\n",
              "    display: none;\n",
              "    fill: var(--fill-color);\n",
              "    height: 32px;\n",
              "    padding: 0;\n",
              "    width: 32px;\n",
              "  }\n",
              "\n",
              "  .colab-df-quickchart:hover {\n",
              "    background-color: var(--hover-bg-color);\n",
              "    box-shadow: 0 1px 2px rgba(60, 64, 67, 0.3), 0 1px 3px 1px rgba(60, 64, 67, 0.15);\n",
              "    fill: var(--button-hover-fill-color);\n",
              "  }\n",
              "\n",
              "  .colab-df-quickchart-complete:disabled,\n",
              "  .colab-df-quickchart-complete:disabled:hover {\n",
              "    background-color: var(--disabled-bg-color);\n",
              "    fill: var(--disabled-fill-color);\n",
              "    box-shadow: none;\n",
              "  }\n",
              "\n",
              "  .colab-df-spinner {\n",
              "    border: 2px solid var(--fill-color);\n",
              "    border-color: transparent;\n",
              "    border-bottom-color: var(--fill-color);\n",
              "    animation:\n",
              "      spin 1s steps(1) infinite;\n",
              "  }\n",
              "\n",
              "  @keyframes spin {\n",
              "    0% {\n",
              "      border-color: transparent;\n",
              "      border-bottom-color: var(--fill-color);\n",
              "      border-left-color: var(--fill-color);\n",
              "    }\n",
              "    20% {\n",
              "      border-color: transparent;\n",
              "      border-left-color: var(--fill-color);\n",
              "      border-top-color: var(--fill-color);\n",
              "    }\n",
              "    30% {\n",
              "      border-color: transparent;\n",
              "      border-left-color: var(--fill-color);\n",
              "      border-top-color: var(--fill-color);\n",
              "      border-right-color: var(--fill-color);\n",
              "    }\n",
              "    40% {\n",
              "      border-color: transparent;\n",
              "      border-right-color: var(--fill-color);\n",
              "      border-top-color: var(--fill-color);\n",
              "    }\n",
              "    60% {\n",
              "      border-color: transparent;\n",
              "      border-right-color: var(--fill-color);\n",
              "    }\n",
              "    80% {\n",
              "      border-color: transparent;\n",
              "      border-right-color: var(--fill-color);\n",
              "      border-bottom-color: var(--fill-color);\n",
              "    }\n",
              "    90% {\n",
              "      border-color: transparent;\n",
              "      border-bottom-color: var(--fill-color);\n",
              "    }\n",
              "  }\n",
              "</style>\n",
              "\n",
              "  <script>\n",
              "    async function quickchart(key) {\n",
              "      const quickchartButtonEl =\n",
              "        document.querySelector('#' + key + ' button');\n",
              "      quickchartButtonEl.disabled = true;  // To prevent multiple clicks.\n",
              "      quickchartButtonEl.classList.add('colab-df-spinner');\n",
              "      try {\n",
              "        const charts = await google.colab.kernel.invokeFunction(\n",
              "            'suggestCharts', [key], {});\n",
              "      } catch (error) {\n",
              "        console.error('Error during call to suggestCharts:', error);\n",
              "      }\n",
              "      quickchartButtonEl.classList.remove('colab-df-spinner');\n",
              "      quickchartButtonEl.classList.add('colab-df-quickchart-complete');\n",
              "    }\n",
              "    (() => {\n",
              "      let quickchartButtonEl =\n",
              "        document.querySelector('#df-a5a1e19c-7bad-45b1-84ac-041289bd6f94 button');\n",
              "      quickchartButtonEl.style.display =\n",
              "        google.colab.kernel.accessAllowed ? 'block' : 'none';\n",
              "    })();\n",
              "  </script>\n",
              "</div>\n",
              "    </div>\n",
              "  </div>\n"
            ]
          },
          "metadata": {},
          "execution_count": 27
        }
      ]
    },
    {
      "cell_type": "code",
      "source": [
        "df.tail(5)"
      ],
      "metadata": {
        "id": "yVfBzTLkZfEi",
        "colab": {
          "base_uri": "https://localhost:8080/",
          "height": 206
        },
        "outputId": "6fce8745-c547-46bc-adf1-7eed73efae23"
      },
      "execution_count": 28,
      "outputs": [
        {
          "output_type": "execute_result",
          "data": {
            "text/plain": [
              "                                                  review  rating        date  \\\n",
              "14720  어른들을 위한 동화    정말 오랜만에  좋은 애니를 보았습니다     가족의 소중...      10  2018.01.12   \n",
              "14721                                   디즈니는 못해도 본전은 한다.       7  2018.01.12   \n",
              "14722                            가족을 위한 영화... 괜찮은 영화.~~~       8  2018.01.12   \n",
              "14723      간만에 제대로 잘짜여진 각본의 영화를 봤네 여운이 아직도 남아~어른을 위한 애니~      10  2018.01.12   \n",
              "14724                   한국개봉을 눈빠지게 기다린 보람이있다 깨우치는게 많은 영화      10  2018.01.12   \n",
              "\n",
              "      title  \n",
              "14720    코코  \n",
              "14721    코코  \n",
              "14722    코코  \n",
              "14723    코코  \n",
              "14724    코코  "
            ],
            "text/html": [
              "\n",
              "  <div id=\"df-6c7ca61a-631e-4bf1-8fc1-700b544e4232\" class=\"colab-df-container\">\n",
              "    <div>\n",
              "<style scoped>\n",
              "    .dataframe tbody tr th:only-of-type {\n",
              "        vertical-align: middle;\n",
              "    }\n",
              "\n",
              "    .dataframe tbody tr th {\n",
              "        vertical-align: top;\n",
              "    }\n",
              "\n",
              "    .dataframe thead th {\n",
              "        text-align: right;\n",
              "    }\n",
              "</style>\n",
              "<table border=\"1\" class=\"dataframe\">\n",
              "  <thead>\n",
              "    <tr style=\"text-align: right;\">\n",
              "      <th></th>\n",
              "      <th>review</th>\n",
              "      <th>rating</th>\n",
              "      <th>date</th>\n",
              "      <th>title</th>\n",
              "    </tr>\n",
              "  </thead>\n",
              "  <tbody>\n",
              "    <tr>\n",
              "      <th>14720</th>\n",
              "      <td>어른들을 위한 동화    정말 오랜만에  좋은 애니를 보았습니다     가족의 소중...</td>\n",
              "      <td>10</td>\n",
              "      <td>2018.01.12</td>\n",
              "      <td>코코</td>\n",
              "    </tr>\n",
              "    <tr>\n",
              "      <th>14721</th>\n",
              "      <td>디즈니는 못해도 본전은 한다.</td>\n",
              "      <td>7</td>\n",
              "      <td>2018.01.12</td>\n",
              "      <td>코코</td>\n",
              "    </tr>\n",
              "    <tr>\n",
              "      <th>14722</th>\n",
              "      <td>가족을 위한 영화... 괜찮은 영화.~~~</td>\n",
              "      <td>8</td>\n",
              "      <td>2018.01.12</td>\n",
              "      <td>코코</td>\n",
              "    </tr>\n",
              "    <tr>\n",
              "      <th>14723</th>\n",
              "      <td>간만에 제대로 잘짜여진 각본의 영화를 봤네 여운이 아직도 남아~어른을 위한 애니~</td>\n",
              "      <td>10</td>\n",
              "      <td>2018.01.12</td>\n",
              "      <td>코코</td>\n",
              "    </tr>\n",
              "    <tr>\n",
              "      <th>14724</th>\n",
              "      <td>한국개봉을 눈빠지게 기다린 보람이있다 깨우치는게 많은 영화</td>\n",
              "      <td>10</td>\n",
              "      <td>2018.01.12</td>\n",
              "      <td>코코</td>\n",
              "    </tr>\n",
              "  </tbody>\n",
              "</table>\n",
              "</div>\n",
              "    <div class=\"colab-df-buttons\">\n",
              "\n",
              "  <div class=\"colab-df-container\">\n",
              "    <button class=\"colab-df-convert\" onclick=\"convertToInteractive('df-6c7ca61a-631e-4bf1-8fc1-700b544e4232')\"\n",
              "            title=\"Convert this dataframe to an interactive table.\"\n",
              "            style=\"display:none;\">\n",
              "\n",
              "  <svg xmlns=\"http://www.w3.org/2000/svg\" height=\"24px\" viewBox=\"0 -960 960 960\">\n",
              "    <path d=\"M120-120v-720h720v720H120Zm60-500h600v-160H180v160Zm220 220h160v-160H400v160Zm0 220h160v-160H400v160ZM180-400h160v-160H180v160Zm440 0h160v-160H620v160ZM180-180h160v-160H180v160Zm440 0h160v-160H620v160Z\"/>\n",
              "  </svg>\n",
              "    </button>\n",
              "\n",
              "  <style>\n",
              "    .colab-df-container {\n",
              "      display:flex;\n",
              "      gap: 12px;\n",
              "    }\n",
              "\n",
              "    .colab-df-convert {\n",
              "      background-color: #E8F0FE;\n",
              "      border: none;\n",
              "      border-radius: 50%;\n",
              "      cursor: pointer;\n",
              "      display: none;\n",
              "      fill: #1967D2;\n",
              "      height: 32px;\n",
              "      padding: 0 0 0 0;\n",
              "      width: 32px;\n",
              "    }\n",
              "\n",
              "    .colab-df-convert:hover {\n",
              "      background-color: #E2EBFA;\n",
              "      box-shadow: 0px 1px 2px rgba(60, 64, 67, 0.3), 0px 1px 3px 1px rgba(60, 64, 67, 0.15);\n",
              "      fill: #174EA6;\n",
              "    }\n",
              "\n",
              "    .colab-df-buttons div {\n",
              "      margin-bottom: 4px;\n",
              "    }\n",
              "\n",
              "    [theme=dark] .colab-df-convert {\n",
              "      background-color: #3B4455;\n",
              "      fill: #D2E3FC;\n",
              "    }\n",
              "\n",
              "    [theme=dark] .colab-df-convert:hover {\n",
              "      background-color: #434B5C;\n",
              "      box-shadow: 0px 1px 3px 1px rgba(0, 0, 0, 0.15);\n",
              "      filter: drop-shadow(0px 1px 2px rgba(0, 0, 0, 0.3));\n",
              "      fill: #FFFFFF;\n",
              "    }\n",
              "  </style>\n",
              "\n",
              "    <script>\n",
              "      const buttonEl =\n",
              "        document.querySelector('#df-6c7ca61a-631e-4bf1-8fc1-700b544e4232 button.colab-df-convert');\n",
              "      buttonEl.style.display =\n",
              "        google.colab.kernel.accessAllowed ? 'block' : 'none';\n",
              "\n",
              "      async function convertToInteractive(key) {\n",
              "        const element = document.querySelector('#df-6c7ca61a-631e-4bf1-8fc1-700b544e4232');\n",
              "        const dataTable =\n",
              "          await google.colab.kernel.invokeFunction('convertToInteractive',\n",
              "                                                    [key], {});\n",
              "        if (!dataTable) return;\n",
              "\n",
              "        const docLinkHtml = 'Like what you see? Visit the ' +\n",
              "          '<a target=\"_blank\" href=https://colab.research.google.com/notebooks/data_table.ipynb>data table notebook</a>'\n",
              "          + ' to learn more about interactive tables.';\n",
              "        element.innerHTML = '';\n",
              "        dataTable['output_type'] = 'display_data';\n",
              "        await google.colab.output.renderOutput(dataTable, element);\n",
              "        const docLink = document.createElement('div');\n",
              "        docLink.innerHTML = docLinkHtml;\n",
              "        element.appendChild(docLink);\n",
              "      }\n",
              "    </script>\n",
              "  </div>\n",
              "\n",
              "\n",
              "<div id=\"df-b1e429ee-70e5-4755-96a4-d039e65ac17d\">\n",
              "  <button class=\"colab-df-quickchart\" onclick=\"quickchart('df-b1e429ee-70e5-4755-96a4-d039e65ac17d')\"\n",
              "            title=\"Suggest charts.\"\n",
              "            style=\"display:none;\">\n",
              "\n",
              "<svg xmlns=\"http://www.w3.org/2000/svg\" height=\"24px\"viewBox=\"0 0 24 24\"\n",
              "     width=\"24px\">\n",
              "    <g>\n",
              "        <path d=\"M19 3H5c-1.1 0-2 .9-2 2v14c0 1.1.9 2 2 2h14c1.1 0 2-.9 2-2V5c0-1.1-.9-2-2-2zM9 17H7v-7h2v7zm4 0h-2V7h2v10zm4 0h-2v-4h2v4z\"/>\n",
              "    </g>\n",
              "</svg>\n",
              "  </button>\n",
              "\n",
              "<style>\n",
              "  .colab-df-quickchart {\n",
              "      --bg-color: #E8F0FE;\n",
              "      --fill-color: #1967D2;\n",
              "      --hover-bg-color: #E2EBFA;\n",
              "      --hover-fill-color: #174EA6;\n",
              "      --disabled-fill-color: #AAA;\n",
              "      --disabled-bg-color: #DDD;\n",
              "  }\n",
              "\n",
              "  [theme=dark] .colab-df-quickchart {\n",
              "      --bg-color: #3B4455;\n",
              "      --fill-color: #D2E3FC;\n",
              "      --hover-bg-color: #434B5C;\n",
              "      --hover-fill-color: #FFFFFF;\n",
              "      --disabled-bg-color: #3B4455;\n",
              "      --disabled-fill-color: #666;\n",
              "  }\n",
              "\n",
              "  .colab-df-quickchart {\n",
              "    background-color: var(--bg-color);\n",
              "    border: none;\n",
              "    border-radius: 50%;\n",
              "    cursor: pointer;\n",
              "    display: none;\n",
              "    fill: var(--fill-color);\n",
              "    height: 32px;\n",
              "    padding: 0;\n",
              "    width: 32px;\n",
              "  }\n",
              "\n",
              "  .colab-df-quickchart:hover {\n",
              "    background-color: var(--hover-bg-color);\n",
              "    box-shadow: 0 1px 2px rgba(60, 64, 67, 0.3), 0 1px 3px 1px rgba(60, 64, 67, 0.15);\n",
              "    fill: var(--button-hover-fill-color);\n",
              "  }\n",
              "\n",
              "  .colab-df-quickchart-complete:disabled,\n",
              "  .colab-df-quickchart-complete:disabled:hover {\n",
              "    background-color: var(--disabled-bg-color);\n",
              "    fill: var(--disabled-fill-color);\n",
              "    box-shadow: none;\n",
              "  }\n",
              "\n",
              "  .colab-df-spinner {\n",
              "    border: 2px solid var(--fill-color);\n",
              "    border-color: transparent;\n",
              "    border-bottom-color: var(--fill-color);\n",
              "    animation:\n",
              "      spin 1s steps(1) infinite;\n",
              "  }\n",
              "\n",
              "  @keyframes spin {\n",
              "    0% {\n",
              "      border-color: transparent;\n",
              "      border-bottom-color: var(--fill-color);\n",
              "      border-left-color: var(--fill-color);\n",
              "    }\n",
              "    20% {\n",
              "      border-color: transparent;\n",
              "      border-left-color: var(--fill-color);\n",
              "      border-top-color: var(--fill-color);\n",
              "    }\n",
              "    30% {\n",
              "      border-color: transparent;\n",
              "      border-left-color: var(--fill-color);\n",
              "      border-top-color: var(--fill-color);\n",
              "      border-right-color: var(--fill-color);\n",
              "    }\n",
              "    40% {\n",
              "      border-color: transparent;\n",
              "      border-right-color: var(--fill-color);\n",
              "      border-top-color: var(--fill-color);\n",
              "    }\n",
              "    60% {\n",
              "      border-color: transparent;\n",
              "      border-right-color: var(--fill-color);\n",
              "    }\n",
              "    80% {\n",
              "      border-color: transparent;\n",
              "      border-right-color: var(--fill-color);\n",
              "      border-bottom-color: var(--fill-color);\n",
              "    }\n",
              "    90% {\n",
              "      border-color: transparent;\n",
              "      border-bottom-color: var(--fill-color);\n",
              "    }\n",
              "  }\n",
              "</style>\n",
              "\n",
              "  <script>\n",
              "    async function quickchart(key) {\n",
              "      const quickchartButtonEl =\n",
              "        document.querySelector('#' + key + ' button');\n",
              "      quickchartButtonEl.disabled = true;  // To prevent multiple clicks.\n",
              "      quickchartButtonEl.classList.add('colab-df-spinner');\n",
              "      try {\n",
              "        const charts = await google.colab.kernel.invokeFunction(\n",
              "            'suggestCharts', [key], {});\n",
              "      } catch (error) {\n",
              "        console.error('Error during call to suggestCharts:', error);\n",
              "      }\n",
              "      quickchartButtonEl.classList.remove('colab-df-spinner');\n",
              "      quickchartButtonEl.classList.add('colab-df-quickchart-complete');\n",
              "    }\n",
              "    (() => {\n",
              "      let quickchartButtonEl =\n",
              "        document.querySelector('#df-b1e429ee-70e5-4755-96a4-d039e65ac17d button');\n",
              "      quickchartButtonEl.style.display =\n",
              "        google.colab.kernel.accessAllowed ? 'block' : 'none';\n",
              "    })();\n",
              "  </script>\n",
              "</div>\n",
              "    </div>\n",
              "  </div>\n"
            ]
          },
          "metadata": {},
          "execution_count": 28
        }
      ]
    },
    {
      "cell_type": "code",
      "source": [
        "# review -> x, title-> y\n",
        "df.title.value_counts()"
      ],
      "metadata": {
        "id": "KHEM48PMYvBC",
        "colab": {
          "base_uri": "https://localhost:8080/"
        },
        "outputId": "c85d2dc5-ecc1-4cc7-afcb-45feaabd12ca"
      },
      "execution_count": 29,
      "outputs": [
        {
          "output_type": "execute_result",
          "data": {
            "text/plain": [
              "신과함께      4947\n",
              "택시운전사     2322\n",
              "인피니티 워    2042\n",
              "범죄도시      1939\n",
              "곤지암       1547\n",
              "라라랜드      1150\n",
              "코코         778\n",
              "Name: title, dtype: int64"
            ]
          },
          "metadata": {},
          "execution_count": 29
        }
      ]
    },
    {
      "cell_type": "code",
      "source": [
        "df.shape"
      ],
      "metadata": {
        "id": "aIdLiMQOaCgl",
        "colab": {
          "base_uri": "https://localhost:8080/"
        },
        "outputId": "b406a298-5e28-45c1-aae5-983bc13c13af"
      },
      "execution_count": 30,
      "outputs": [
        {
          "output_type": "execute_result",
          "data": {
            "text/plain": [
              "(14725, 4)"
            ]
          },
          "metadata": {},
          "execution_count": 30
        }
      ]
    },
    {
      "cell_type": "code",
      "source": [
        "from sklearn.model_selection import train_test_split\n",
        "\n",
        "# split data and labels into a training and a test set\n",
        "# 비율을 지정하지 않으면 75:25로 분할됨\n",
        "# train_test_split(X_train_tfidf, y_train, test_size=0.2, random_state=42)를 참고\n",
        "X_train, X_test, y_train, y_test = train_test_split(df.review, df.title, random_state=0) # ... 이 부분을 완성하시오\n",
        "\n",
        "print('#Train set size:', len(X_train)) # 실제로 몇개의 특성이 사용되었는지 확인\n",
        "print('#Test set size:', len(X_test))"
      ],
      "metadata": {
        "id": "6eLDRo6iZIel",
        "colab": {
          "base_uri": "https://localhost:8080/"
        },
        "outputId": "d5343d8b-fece-4d82-cac7-076dabbd8039"
      },
      "execution_count": 31,
      "outputs": [
        {
          "output_type": "stream",
          "name": "stdout",
          "text": [
            "#Train set size: 11043\n",
            "#Test set size: 3682\n"
          ]
        }
      ]
    },
    {
      "cell_type": "code",
      "source": [
        "! pip install konlpy  # 한글 처리"
      ],
      "metadata": {
        "id": "nIOTLW2IaH5k",
        "colab": {
          "base_uri": "https://localhost:8080/"
        },
        "outputId": "ed803985-8220-489c-f001-e82c8096f87c"
      },
      "execution_count": 32,
      "outputs": [
        {
          "output_type": "stream",
          "name": "stdout",
          "text": [
            "Collecting konlpy\n",
            "  Downloading konlpy-0.6.0-py2.py3-none-any.whl (19.4 MB)\n",
            "\u001b[2K     \u001b[90m━━━━━━━━━━━━━━━━━━━━━━━━━━━━━━━━━━━━━━━━\u001b[0m \u001b[32m19.4/19.4 MB\u001b[0m \u001b[31m73.2 MB/s\u001b[0m eta \u001b[36m0:00:00\u001b[0m\n",
            "\u001b[?25hCollecting JPype1>=0.7.0 (from konlpy)\n",
            "  Downloading JPype1-1.4.1-cp310-cp310-manylinux_2_12_x86_64.manylinux2010_x86_64.whl (465 kB)\n",
            "\u001b[2K     \u001b[90m━━━━━━━━━━━━━━━━━━━━━━━━━━━━━━━━━━━━━━\u001b[0m \u001b[32m465.3/465.3 kB\u001b[0m \u001b[31m48.0 MB/s\u001b[0m eta \u001b[36m0:00:00\u001b[0m\n",
            "\u001b[?25hRequirement already satisfied: lxml>=4.1.0 in /usr/local/lib/python3.10/dist-packages (from konlpy) (4.9.3)\n",
            "Requirement already satisfied: numpy>=1.6 in /usr/local/lib/python3.10/dist-packages (from konlpy) (1.23.5)\n",
            "Requirement already satisfied: packaging in /usr/local/lib/python3.10/dist-packages (from JPype1>=0.7.0->konlpy) (23.1)\n",
            "Installing collected packages: JPype1, konlpy\n",
            "Successfully installed JPype1-1.4.1 konlpy-0.6.0\n"
          ]
        }
      ]
    },
    {
      "cell_type": "code",
      "source": [
        "from konlpy.tag import Okt # konlpy에서 Twitter 형태소 분석기를 import\n",
        "\n",
        "okt = Okt()\n",
        "\n",
        "print(okt.morphs(X_train[1])) # 둘째 리뷰에 대해 형태소 단위로 tokenize\n",
        "print(okt.nouns(X_train[1])) # 둘째 리뷰에서 명사만 추출"
      ],
      "metadata": {
        "id": "UHtUSlxGZKDP",
        "colab": {
          "base_uri": "https://localhost:8080/"
        },
        "outputId": "0e80f30a-208b-42d9-b5b4-7b8d09c2a28c"
      },
      "execution_count": 33,
      "outputs": [
        {
          "output_type": "stream",
          "name": "stdout",
          "text": [
            "['몰입', '할수밖에', '없다', '.', '어렵게', '생각', '할', '필요없다', '.', '내', '가', '전투', '에', '참여', '한', '듯', '손', '에', '땀', '이남', '.']\n",
            "['몰입', '생각', '내', '전투', '참여', '듯', '손', '땀', '이남']\n"
          ]
        }
      ]
    },
    {
      "cell_type": "code",
      "source": [
        "# 약간의 시간이 소요됩니다! (약 1분 30초)\n",
        "from sklearn.feature_extraction.text import TfidfVectorizer\n",
        "from sklearn.linear_model import LogisticRegression\n",
        "\n",
        "# Okt 형태소분석기에서 명사만 추출하는 함수를 tokenizer로 이용\n",
        "tfidf = TfidfVectorizer(tokenizer=okt.nouns, max_features=2000, min_df=5, max_df=0.5)  # mytokenizer 사용 -> 시간 오래걸림\n",
        "\n",
        "X_train_tfidf = tfidf.fit_transform(X_train) # train data 변환 -> tfidf vector\n",
        "X_test_tfidf = tfidf.transform(X_test) # test data 변환 -> tfidf vector"
      ],
      "metadata": {
        "id": "olu6kqqDZLxm",
        "colab": {
          "base_uri": "https://localhost:8080/"
        },
        "outputId": "dc39683f-de1b-458d-edb6-6c697b581ac1"
      },
      "execution_count": 34,
      "outputs": [
        {
          "output_type": "stream",
          "name": "stderr",
          "text": [
            "/usr/local/lib/python3.10/dist-packages/sklearn/feature_extraction/text.py:528: UserWarning: The parameter 'token_pattern' will not be used since 'tokenizer' is not None'\n",
            "  warnings.warn(\n"
          ]
        }
      ]
    },
    {
      "cell_type": "code",
      "source": [
        "# logistic regression 분류기 선언\n",
        "LR_clf = LogisticRegression(max_iter=1000)\n",
        "# 분류기 학습\n",
        "LR_clf.fit(X_train_tfidf, y_train)\n",
        "\n",
        "print('#Train set score: {:.3f}'.format(LR_clf.score(X_train_tfidf, y_train))) # train data 예측정확도\n",
        "print('#Test set score: {:.3f}'.format(LR_clf.score(X_test_tfidf, y_test))) # test data 예측정확도"
      ],
      "metadata": {
        "id": "FZDaqKmMau4t",
        "colab": {
          "base_uri": "https://localhost:8080/"
        },
        "outputId": "96464c40-6248-4db9-9673-3b50d8c3f44c"
      },
      "execution_count": 35,
      "outputs": [
        {
          "output_type": "stream",
          "name": "stdout",
          "text": [
            "#Train set score: 0.756\n",
            "#Test set score: 0.694\n"
          ]
        }
      ]
    },
    {
      "cell_type": "code",
      "source": [
        "top10_features(LR_clf, tfidf, sorted(df.title.unique()))"
      ],
      "metadata": {
        "id": "g8O9JvqOgbdu",
        "colab": {
          "base_uri": "https://localhost:8080/"
        },
        "outputId": "75c640a4-1e05-4c56-ca40-905a12b59fab"
      },
      "execution_count": 38,
      "outputs": [
        {
          "output_type": "stream",
          "name": "stdout",
          "text": [
            "곤지암: 공포영화, 공포, 귀신, 곤지암, 무서움, 소리, 기담, 개, 공포물, 장난\n",
            "라라랜드: 음악, 뮤지컬, 꿈, 사랑, 노래, 엔딩, 여운, 인생, 재즈, 환상\n",
            "범죄도시: 마동석, 윤계상, 조선족, 액션, 조연, 조폭, 범죄, 마블리, 형사, 폭력\n",
            "신과함께: 원작, 차태현, 웹툰, 신파, 김동욱, 판타지, 신, 천만, 지옥, 하정우\n",
            "인피니티 워: 마블, 노스, 어벤져스, 히어로, 번역, 토르, 편, 결말, 다음, 영웅\n",
            "코코: 디즈니, 애니, 겨울왕국, 감동, 코코, 픽사, 애니메이션, 가족, 어른, 노래\n",
            "택시운전사: 광주, 송강호, 역사, 전두환, 택시, 가슴, 진실, 민주주의, 감동, 추격\n"
          ]
        }
      ]
    },
    {
      "cell_type": "code",
      "source": [
        "# 첫 번째 리뷰에 대한 예측 값 살펴보기\n",
        "print('첫 번째 리뷰 텍스트: ', X_test.iloc[0])\n",
        "print('특성으로 추출된 토큰: ', okt.nouns(X_test.iloc[0]))\n",
        "predict = LR_clf.predict(X_test_tfidf[0])\n",
        "print('예측된 영화 제목: ', predict[0])\n",
        "print('실제 영화 제목: ', y_test.iloc[0])"
      ],
      "metadata": {
        "id": "hvJnLty7a9pt",
        "colab": {
          "base_uri": "https://localhost:8080/"
        },
        "outputId": "c93ab1bd-1acd-40ea-c091-f44f01a0db3b"
      },
      "execution_count": 39,
      "outputs": [
        {
          "output_type": "stream",
          "name": "stdout",
          "text": [
            "첫 번째 리뷰 텍스트:  오랜만에 잼나는 영화 봤습니다.  다음에 더 재미있는 영화 기대하겠습니다.\n",
            "특성으로 추출된 토큰:  ['만', '영화', '다음', '더', '영화']\n",
            "예측된 영화 제목:  신과함께\n",
            "실제 영화 제목:  범죄도시\n"
          ]
        }
      ]
    },
    {
      "cell_type": "code",
      "source": [
        "for i in range(10):\n",
        "    print(i, '번째 리뷰 텍스트: ', X_test.iloc[i])\n",
        "    print('특성으로 추출된 토큰: ', okt.nouns(X_test.iloc[i]))\n",
        "    predict = LR_clf.predict(X_test_tfidf[i])\n",
        "    print('예측된 영화 제목: ', predict[0])\n",
        "    print('실제 영화 제목: ', y_test.iloc[i])\n",
        "    print()"
      ],
      "metadata": {
        "id": "4igArRBKeI_Q",
        "colab": {
          "base_uri": "https://localhost:8080/"
        },
        "outputId": "de4bf9e7-63ed-4a10-ff31-820f1160912a"
      },
      "execution_count": 40,
      "outputs": [
        {
          "output_type": "stream",
          "name": "stdout",
          "text": [
            "0 번째 리뷰 텍스트:  오랜만에 잼나는 영화 봤습니다.  다음에 더 재미있는 영화 기대하겠습니다.\n",
            "특성으로 추출된 토큰:  ['만', '영화', '다음', '더', '영화']\n",
            "예측된 영화 제목:  신과함께\n",
            "실제 영화 제목:  범죄도시\n",
            "\n",
            "1 번째 리뷰 텍스트:  조연들이 눈에 박힌다. 간만에 집중 ㅎ\n",
            "특성으로 추출된 토큰:  ['조연', '눈', '간만', '집중']\n",
            "예측된 영화 제목:  범죄도시\n",
            "실제 영화 제목:  범죄도시\n",
            "\n",
            "2 번째 리뷰 텍스트:  대감동을 선사. 인사이드 아웃을 잇는 픽사의 감동스토리. 신과함께의 멕시코판이라고나할까요??\n",
            "특성으로 추출된 토큰:  ['감동', '선사', '인사', '이드', '아웃', '픽사', '감동', '스토리', '신', '의', '멕시코', '판이', '나', '요']\n",
            "예측된 영화 제목:  코코\n",
            "실제 영화 제목:  코코\n",
            "\n",
            "3 번째 리뷰 텍스트:  돈이 안아까웠던 영화ᆞᆞ  정말 좋았다\n",
            "특성으로 추출된 토큰:  ['돈', '영화', '정말']\n",
            "예측된 영화 제목:  신과함께\n",
            "실제 영화 제목:  신과함께\n",
            "\n",
            "4 번째 리뷰 텍스트:  역시 김용화감독이 영화는 잘 만들어요. 이제 VFX 제작 부문도 헐리우드 수준 이상입니다.\n",
            "특성으로 추출된 토큰:  ['역시', '김용화', '감독', '영화', '이제', '제작', '부문', '헐리우드', '수준', '이상']\n",
            "예측된 영화 제목:  신과함께\n",
            "실제 영화 제목:  신과함께\n",
            "\n",
            "5 번째 리뷰 텍스트:  민주화를 위해 힘써주신 분들께 감사하는 마음으로 살아야겠다.\n",
            "특성으로 추출된 토큰:  ['민주화', '위해', '분', '마음']\n",
            "예측된 영화 제목:  택시운전사\n",
            "실제 영화 제목:  택시운전사\n",
            "\n",
            "6 번째 리뷰 텍스트:  잠만 자다 왔음\n",
            "특성으로 추출된 토큰:  ['잠']\n",
            "예측된 영화 제목:  신과함께\n",
            "실제 영화 제목:  신과함께\n",
            "\n",
            "7 번째 리뷰 텍스트:  오랜만에 잼있고 좋은 영화를 봤다\n",
            "특성으로 추출된 토큰:  ['만', '영화']\n",
            "예측된 영화 제목:  신과함께\n",
            "실제 영화 제목:  신과함께\n",
            "\n",
            "8 번째 리뷰 텍스트:  잼남\n",
            "특성으로 추출된 토큰:  ['잼남']\n",
            "예측된 영화 제목:  신과함께\n",
            "실제 영화 제목:  범죄도시\n",
            "\n",
            "9 번째 리뷰 텍스트:  대박~~\n",
            "특성으로 추출된 토큰:  ['대박']\n",
            "예측된 영화 제목:  인피니티 워\n",
            "실제 영화 제목:  범죄도시\n",
            "\n"
          ]
        }
      ]
    },
    {
      "cell_type": "markdown",
      "source": [
        "# [[실습 4-2-2]]\n",
        "* RidgeClassifier (alpha=0.1)를 이용하여 분류할 경우, Train set score와 Test set score는 얼마인가?\n",
        "* (가능한 경우에만 시도) 이 데이터 셋에서는 valdation에 대한 최적의 alpha는 몇인가? 0.1과 10 사이에서 0.1씩 증가시키며 찾아보시오.\n"
      ],
      "metadata": {
        "id": "O7RObcALe0Gl"
      }
    },
    {
      "cell_type": "code",
      "source": [
        "# RidgeClassifier (alpha=0.1)를 이용하여 분류\n",
        "import pandas as pd\n",
        "from sklearn.model_selection import train_test_split\n",
        "from sklearn.linear_model import RidgeClassifier\n",
        "from sklearn.feature_extraction.text import TfidfVectorizer\n",
        "from sklearn.linear_model import LogisticRegression\n",
        "\n",
        "\n",
        "# 릿지 분류기 선언\n",
        "ridge_clf =RidgeClassifier(alpha=0.1)\n",
        "# 영화리뷰 파일 읽어오기\n",
        "df = pd.read_csv('./daum_movie_review.csv')\n",
        "\n",
        "# split data and labels into a training and a test set\n",
        "# 비율을 지정하지 않으면 75:25로 분할됨\n",
        "# train_test_split(X_train_tfidf, y_train, test_size=0.2, random_state=42)를 참고\n",
        "X_train, X_test, y_train, y_test = train_test_split(df.review, df.title, random_state=0)\n",
        "\n",
        "# Okt 형태소분석기에서 명사만 추출하는 함수를 tokenizer로 이용\n",
        "tfidf = TfidfVectorizer(tokenizer=okt.nouns, max_features=2000, min_df=5, max_df=0.5)\n",
        "\n",
        "X_train_tfidf = tfidf.fit_transform(X_train) # train data 변환 -> tfidf vector\n",
        "X_test_tfidf = tfidf.transform(X_test) # test data 변환 -> tfidf vector\n",
        "\n",
        "\n",
        "# 학습\n",
        "ridge_clf.fit(X_train_tfidf, y_train)\n",
        "\n",
        "print('Train set score: {:.3f}'.format(ridge_clf.score(X_train_tfidf, y_train)))\n",
        "print('Test set score: {:.3f}'.format(ridge_clf.score(X_test_tfidf, y_test)))"
      ],
      "metadata": {
        "id": "K8PMoNgiiI5e",
        "colab": {
          "base_uri": "https://localhost:8080/"
        },
        "outputId": "d20aa291-3cf3-4201-89eb-152d61868854"
      },
      "execution_count": 64,
      "outputs": [
        {
          "output_type": "stream",
          "name": "stderr",
          "text": [
            "/usr/local/lib/python3.10/dist-packages/sklearn/feature_extraction/text.py:528: UserWarning: The parameter 'token_pattern' will not be used since 'tokenizer' is not None'\n",
            "  warnings.warn(\n"
          ]
        },
        {
          "output_type": "stream",
          "name": "stdout",
          "text": [
            "Train set score: 0.788\n",
            "Test set score: 0.679\n"
          ]
        }
      ]
    },
    {
      "cell_type": "code",
      "source": [
        "# alpha를 0.1부터 10까지 0.1씩 증가시키면서, score 값을 최대로 만드는 alpha 값을 max_alpha에 저장\n",
        "# 위의 코드에서 score 값을 비교하여 저장하는 코드 추가\n",
        "\n",
        "# 1. max_alpha 초기값 선언\n",
        "max_alpha = 0\n",
        "max_score = 0\n",
        "\n",
        "# 2. for 문 작성\n",
        "for alpha in np.arange(0.1, 10, 0.1):\n",
        "    # 1. alpha 증가 분류기 선언\n",
        "    ridge_clf = RidgeClassifier(alpha=alpha)\n",
        "    # 2. X_train_ridge에 대해 학습\n",
        "    ridge_clf.fit(X_train_tfidf, y_train)\n",
        "    # 3. X_val_ridge에 대해 score 확인\n",
        "    score = ridge_clf.score(X_test_tfidf, y_test)\n",
        "\n",
        "    # 4. if 문을 통한 비교\n",
        "    if score > max_score:\n",
        "      max_score = score\n",
        "      max_alpha = alpha\n",
        "        # 5. max_alpha 저장\n",
        "\n",
        "print('Max alpha {:.3f} at max validation score {:.3f}'.format(max_alpha, max_score))"
      ],
      "metadata": {
        "colab": {
          "base_uri": "https://localhost:8080/"
        },
        "id": "TnRYRdzvIhjQ",
        "outputId": "d1ba425e-15b3-44be-8a8f-00dfc844cb86"
      },
      "execution_count": 65,
      "outputs": [
        {
          "output_type": "stream",
          "name": "stdout",
          "text": [
            "Max alpha 3.400 at max validation score 0.699\n"
          ]
        }
      ]
    },
    {
      "cell_type": "code",
      "source": [
        "ridge_clf =RidgeClassifier(alpha=3.4)\n",
        "\n",
        "# 학습\n",
        "ridge_clf.fit(X_train_tfidf, y_train)\n",
        "\n",
        "print('Train set score: {:.3f}'.format(ridge_clf.score(X_train_tfidf, y_train)))\n",
        "print('Test set score: {:.3f}'.format(ridge_clf.score(X_test_tfidf, y_test)))"
      ],
      "metadata": {
        "colab": {
          "base_uri": "https://localhost:8080/"
        },
        "id": "5lkcttcvOFpa",
        "outputId": "5f774295-9fd2-428c-87fb-1a5d6646204d"
      },
      "execution_count": 66,
      "outputs": [
        {
          "output_type": "stream",
          "name": "stdout",
          "text": [
            "Train set score: 0.757\n",
            "Test set score: 0.699\n"
          ]
        }
      ]
    },
    {
      "cell_type": "markdown",
      "source": [
        "(0.1과 10사이에서) 최적의 alpha 값과 해당 alpha 값을 이용하여 학습했을 때, Train set score와 Test set score는?"
      ],
      "metadata": {
        "id": "hBD0YWbCiJA0"
      }
    },
    {
      "cell_type": "markdown",
      "source": [
        "alpha = 0.1 ->\n",
        "Train set score: 0.788\n",
        "Test set score: 0.679\n",
        "\n",
        "alpha = 3.4 ->\n",
        "Train set score: 0.757\n",
        "Test set score: 0.699"
      ],
      "metadata": {
        "id": "J4EP65P_P8Nl"
      }
    },
    {
      "cell_type": "markdown",
      "source": [
        "# [파일] -> [다운로드] -> [.ipynb 다운로드]\n",
        "# 제출 후 **구글 계정 로그아웃** 잘 하시기 바랍니다.\n",
        "# 4-2. 수업 내용 끝"
      ],
      "metadata": {
        "id": "4qITHUlV166U"
      }
    },
    {
      "cell_type": "code",
      "source": [],
      "metadata": {
        "id": "vIELyXMw5vkG"
      },
      "execution_count": null,
      "outputs": []
    }
  ],
  "metadata": {
    "kernelspec": {
      "display_name": "Python 3 (ipykernel)",
      "language": "python",
      "name": "python3"
    },
    "language_info": {
      "codemirror_mode": {
        "name": "ipython",
        "version": 3
      },
      "file_extension": ".py",
      "mimetype": "text/x-python",
      "name": "python",
      "nbconvert_exporter": "python",
      "pygments_lexer": "ipython3",
      "version": "3.8.0"
    },
    "toc": {
      "base_numbering": 1,
      "nav_menu": {},
      "number_sections": true,
      "sideBar": true,
      "skip_h1_title": false,
      "title_cell": "Table of Contents",
      "title_sidebar": "Contents",
      "toc_cell": true,
      "toc_position": {
        "height": "calc(100% - 180px)",
        "left": "10px",
        "top": "150px",
        "width": "165px"
      },
      "toc_section_display": true,
      "toc_window_display": true
    },
    "varInspector": {
      "cols": {
        "lenName": 16,
        "lenType": 16,
        "lenVar": 40
      },
      "kernels_config": {
        "python": {
          "delete_cmd_postfix": "",
          "delete_cmd_prefix": "del ",
          "library": "var_list.py",
          "varRefreshCmd": "print(var_dic_list())"
        },
        "r": {
          "delete_cmd_postfix": ") ",
          "delete_cmd_prefix": "rm(",
          "library": "var_list.r",
          "varRefreshCmd": "cat(var_dic_list()) "
        }
      },
      "types_to_exclude": [
        "module",
        "function",
        "builtin_function_or_method",
        "instance",
        "_Feature"
      ],
      "window_display": false
    },
    "colab": {
      "provenance": [],
      "include_colab_link": true
    }
  },
  "nbformat": 4,
  "nbformat_minor": 0
}