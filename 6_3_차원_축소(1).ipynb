{
  "cells": [
    {
      "cell_type": "markdown",
      "metadata": {
        "id": "view-in-github",
        "colab_type": "text"
      },
      "source": [
        "<a href=\"https://colab.research.google.com/github/SojeongShin/NLP_2023/blob/Notion/6_3_%E1%84%8E%E1%85%A1%E1%84%8B%E1%85%AF%E1%86%AB_%E1%84%8E%E1%85%AE%E1%86%A8%E1%84%89%E1%85%A9(1).ipynb\" target=\"_parent\"><img src=\"https://colab.research.google.com/assets/colab-badge.svg\" alt=\"Open In Colab\"/></a>"
      ]
    },
    {
      "cell_type": "markdown",
      "metadata": {
        "id": "BmABW6vCzWcJ"
      },
      "source": [
        "# [자연어처리]\n",
        "# 6주차(6-2). 차원 축소(1)\n",
        "\n",
        "\n",
        "\n"
      ]
    },
    {
      "cell_type": "markdown",
      "metadata": {
        "id": "5we6SKl61jX1"
      },
      "source": [
        "# 202001581 신소정  <- 본인의 학번, 이름으로 변경하여 제출\n",
        "* **모든 셀 실행** 후 제출하시기 바랍니다.\n",
        "* **실습 (6-2-1, 6-2-2)**이 있습니다. (제출 기한: 10/11(수) 23시 59분까지)"
      ]
    },
    {
      "cell_type": "markdown",
      "metadata": {
        "id": "oLw4XETF1mbE"
      },
      "source": [
        "# 이제 Colab 사용에 모든 수강생분들이 어느정도 익숙해 졌을 거라 생각됩니다!\n",
        "> ##### 중간 중간 **'### ... 이 부분을 완성하시오'** 라는 부분의 코드를 완성해야 합니다.\n",
        "\n",
        "\n",
        "\n"
      ]
    },
    {
      "cell_type": "markdown",
      "metadata": {
        "id": "ukmO4Ra21cnf"
      },
      "source": [
        "## 5주차 수업 내용 리뷰 & 정규 표현식 마무리 -시작-"
      ]
    },
    {
      "cell_type": "code",
      "execution_count": 2,
      "metadata": {
        "colab": {
          "base_uri": "https://localhost:8080/"
        },
        "id": "4BTuxc4W4hvP",
        "outputId": "b347176e-b83e-4a43-a3e4-530b08d87056"
      },
      "outputs": [
        {
          "output_type": "stream",
          "name": "stdout",
          "text": [
            "python\n"
          ]
        }
      ],
      "source": [
        "import re\n",
        "\n",
        "m = re.match('[a-z]+', \"python\")\n",
        "print(m.group())"
      ]
    },
    {
      "cell_type": "code",
      "execution_count": 3,
      "metadata": {
        "colab": {
          "base_uri": "https://localhost:8080/"
        },
        "id": "bAJ_CiVb4rmn",
        "outputId": "e0bd2bc5-d202-4e95-d439-ee7ff200cff3"
      },
      "outputs": [
        {
          "output_type": "stream",
          "name": "stdout",
          "text": [
            "python\n"
          ]
        }
      ],
      "source": [
        "# re.compile() 이용하여 작성해보기\n",
        "# import re는 다시 선언해주지 않아도 되나, 이해를 돕기 위해 매 셀에서 작성되어 있음\n",
        "import re\n",
        "\n",
        "pattern = re.compile('[a-z]+')\n",
        "m = pattern.match(\"python\")\n",
        "print(m.group())"
      ]
    },
    {
      "cell_type": "code",
      "execution_count": 4,
      "metadata": {
        "colab": {
          "base_uri": "https://localhost:8080/"
        },
        "id": "oJIRLsl6T1bY",
        "outputId": "1a06f96e-0427-4180-a662-873e75e1b675"
      },
      "outputs": [
        {
          "output_type": "stream",
          "name": "stdout",
          "text": [
            "***\n"
          ]
        }
      ],
      "source": [
        "s = pattern.sub(\"***\", \"python\")\n",
        "print(s)"
      ]
    },
    {
      "cell_type": "code",
      "execution_count": 5,
      "metadata": {
        "id": "74ZvTEs87Lab"
      },
      "outputs": [],
      "source": [
        "text = '''오늘의 날씨는 전국적으로 맑을 예정입니다. 시원한 가을의 날씨를 느껴보세요.\n",
        "\n",
        "홍길동 빠른뉴스 기자(gildong@fastnews.com)'''"
      ]
    },
    {
      "cell_type": "code",
      "execution_count": 6,
      "metadata": {
        "colab": {
          "base_uri": "https://localhost:8080/",
          "height": 54
        },
        "id": "LDBGQtae8-9O",
        "outputId": "0d8f2a29-f089-4054-dbf7-63350833064f"
      },
      "outputs": [
        {
          "output_type": "execute_result",
          "data": {
            "text/plain": [
              "'오늘의 날씨는 전국적으로 맑을 예정입니다. 시원한 가을의 날씨를 느껴보세요.\\n\\n홍길동 빠른뉴스 기자'"
            ],
            "application/vnd.google.colaboratory.intrinsic+json": {
              "type": "string"
            }
          },
          "metadata": {},
          "execution_count": 6
        }
      ],
      "source": [
        "# 괄호로 둘러싸인 이메일 주소 패턴을 정규 표현식으로 찾아내어 삭제하기\n",
        "import re\n",
        "\n",
        "pattern = '\\([A-Za-z0-9_\\.]+@[A-Za-z\\.]+\\.[A-Za-z]+\\)'\n",
        "re.sub(pattern, \"\", text)"
      ]
    },
    {
      "cell_type": "code",
      "execution_count": 7,
      "metadata": {
        "colab": {
          "base_uri": "https://localhost:8080/"
        },
        "id": "e2vzqKFK_Xk7",
        "outputId": "21975123-dd59-4d9b-cd64-ced2d0553ac0"
      },
      "outputs": [
        {
          "output_type": "stream",
          "name": "stdout",
          "text": [
            "(gildong@fastnews.com)\n"
          ]
        }
      ],
      "source": [
        "# 이메일 주소의 마지막은 com, org, edu, net, co.kr 중 하나라고 가정한다면\n",
        "import re\n",
        "\n",
        "pattern = '\\([A-Za-z0-9_\\.]+@[A-Za-z]+\\.(com|org|edu|net|co.kr)\\)'\n",
        "# re.sub(pattern, \"\", text)\n",
        "s = re.search(pattern, text)\n",
        "print(s.group())"
      ]
    },
    {
      "cell_type": "code",
      "execution_count": 8,
      "metadata": {
        "id": "11ytpKD4_1Kp",
        "colab": {
          "base_uri": "https://localhost:8080/",
          "height": 54
        },
        "outputId": "cdf39c2e-05bb-4fe0-e507-ff5029a569c0"
      },
      "outputs": [
        {
          "output_type": "execute_result",
          "data": {
            "text/plain": [
              "'오늘의 날씨는 전국적으로 맑을 예정입니다. 시원한 가을의 날씨를 느껴보세요.\\n\\n홍길동 빠른뉴스 기자'"
            ],
            "application/vnd.google.colaboratory.intrinsic+json": {
              "type": "string"
            }
          },
          "metadata": {},
          "execution_count": 8
        }
      ],
      "source": [
        "# re.compile() 이용하여 작성해보기\n",
        "import re\n",
        "\n",
        "# 위의 코드를 re.compile() 이용하여 작성해보시오\n",
        "\n",
        "pattern = re.compile('\\([A-Za-z0-9_\\.]+@[A-Za-z]+\\.(com|org|edu|net|co.kr)\\)')\n",
        "pattern.sub(\"\", text)\n",
        "### ... 이 부분을 완성하시오\n",
        "### ... 이 부분을 완성하시오"
      ]
    },
    {
      "cell_type": "code",
      "execution_count": 9,
      "metadata": {
        "colab": {
          "base_uri": "https://localhost:8080/"
        },
        "id": "tOLpEXTx134V",
        "outputId": "ebb7b396-755e-4797-d235-2115aa3dd5c2"
      },
      "outputs": [
        {
          "output_type": "stream",
          "name": "stdout",
          "text": [
            "['1234', '5678']\n"
          ]
        }
      ],
      "source": [
        "import re\n",
        "\n",
        "text = \"안녕하세요, 1234는 숫자이고 5678도 숫자입니다.\"\n",
        "pattern = r'\\d+'  # 하나 이상의 연속된 숫자에 대한 패턴\n",
        "numbers = re.findall(pattern, text)\n",
        "print(numbers)  # ['1234', '5678']"
      ]
    },
    {
      "cell_type": "code",
      "execution_count": 10,
      "metadata": {
        "colab": {
          "base_uri": "https://localhost:8080/"
        },
        "id": "a--U9noS3mbz",
        "outputId": "df6c6bca-0e64-479d-81be-cca961452419"
      },
      "outputs": [
        {
          "output_type": "stream",
          "name": "stdout",
          "text": [
            "['1234', '5678']\n"
          ]
        }
      ],
      "source": [
        "import re\n",
        "\n",
        "# 정규 표현식을 컴파일하여 pattern 객체 생성\n",
        "text = \"안녕하세요, 1234는 숫자이고 5678도 숫자입니다.\"\n",
        "pattern = re.compile(r'\\d+')\n",
        "numbers = pattern.findall(text)\n",
        "print(numbers)  # ['1234', '5678']"
      ]
    },
    {
      "cell_type": "code",
      "execution_count": 11,
      "metadata": {
        "colab": {
          "base_uri": "https://localhost:8080/"
        },
        "id": "zvdMxSdeA7kX",
        "outputId": "b46dd7fc-a705-49f1-f1d3-3757b113a6eb"
      },
      "outputs": [
        {
          "output_type": "stream",
          "name": "stdout",
          "text": [
            "['sorry', \"can't\", 'there']\n"
          ]
        }
      ],
      "source": [
        "# 정규 표현식을 이용한 토크나이저\n",
        "# A RegexpTokenizer splits a string into substrings using a regular expression.\n",
        "from nltk.tokenize import RegexpTokenizer\n",
        "\n",
        "text1 = \"Sorry, I can't go there.\"\n",
        "# 문자, 숫자, 언더바(_), 아포스트로피(＇)로 이루어진 3자 이상의 단어로 토크나이즈\n",
        "tokenizer = RegexpTokenizer(\"[\\w']{3,}\") ### ... 이 부분을 완성하시오 # ???는 tokenizer 이름\n",
        "print(tokenizer.tokenize(text1.lower())) # 소문자로 바꾸고 정규식 적용"
      ]
    },
    {
      "cell_type": "markdown",
      "metadata": {
        "id": "Dxt1PUGd2FTe"
      },
      "source": [
        "# [[실습 6-2-1]] 이메일 주소를 찾는 정규 표현식\n",
        "* 정규 표현식의 패턴은 다양하게 작성될 수 있습니다. 이번에는 이메일 주소를 분류하는 정규표현식을 **\\w**를 사용하여 작성해 보시오. (\\w를 포함하기만 하면 되고, 그 외에는 자유)\n",
        "1. 여러분이 생각하는 이메일 주소의 **규칙**을 적고, 그에 대한 정규 표현식을 만들어 보세요.\n",
        "> 예시) 이메일 주소는 id@domain와 같이 이루어져 있음 <br>\n",
        "> * 규칙1. id는 길이가 10이하여야 하고, 문자(대문자, 소문자), 숫자, _로만 이루어져야 함 <br>\n",
        "> * 규칙2. domin은 naver.com, inu.ac.kr, cse.inu.ac.kr과 같이 .을 단위로 2개~4개까지 이루어질 수 있음 <br>\n",
        "#### **[유의사항] 여러분만의 이메일 주소 '규칙1~규칙N'을 작성하여 제출 바랍니다. (위에 작성된 것은 참고용 예시임)**\n",
        "2. 규칙을 만족하는/만족하지 않는 테스트 **예시 문장**을 만들고, **예상 결과**와 같이 잘 동작하는지 확인해 보세요.\n",
        "> 예시) <br>\n",
        "> 예시 문장) text = '홍길동(gildong2da@inu.ac.kr), 나학생(i_am_a_student@naver.com)' <br>\n",
        "> 예상 결과) ['gildong2da@inu.ac.kr', 'i_am_a_student@naver.com']\n",
        "#### **[유의사항] 여러분만의 '예시 문장'과 '예상 결과'를 작성하여 제출 바랍니다. (위에 작성된 것은 참고용 예시임)**\n",
        "3. 위의 1, 2를 이용하여 코드를 작성하세요.\n",
        "> 위의 숫자를 찾는 코드를 참고하여 작성하면 도움이 될 겁니다.\n",
        "```\n",
        "import re\n",
        "text = \"안녕하세요, 1234는 숫자이고 5678도 숫자입니다.\"\n",
        "pattern = re.compile(r'\\d+')\n",
        "numbers = pattern.findall(text)\n",
        "print(numbers)  # ['1234', '5678']\n",
        "```\n",
        "\n",
        "\n",
        "\n",
        "\n"
      ]
    },
    {
      "cell_type": "markdown",
      "metadata": {
        "id": "k5tOVw7i6E2q"
      },
      "source": []
    },
    {
      "cell_type": "markdown",
      "source": [
        "- 규칙1: id의 길이는 10자리 이상이어야 하고, 영문자(대, 소문자)와 숫자로 이루어져야 한다.\n",
        "- 규칙2: domain은 naver.com, inu.ac.kr과 같이 .을 단위로 2개~3개까지 이루어질 수 있다.\n",
        "- 규칙3: domain은 영문자(대, 소문자)로만 구성되어야 한다.\n",
        "\n",
        "> 예시) <br>\n",
        "> 예시 문장) test = '신소정(shinsojeong5712@gmail.com), 안몽키(anmonk2@inu.ac.kr), 이사람(leesaram123@cs.inu.co.kr), 신콩순(kongsuny28@naver.com)'\n",
        " <br><br>\n",
        "> 예상 결과) ['shinsojeong5712@gmail.com', 'kongsuny28@naver.com']"
      ],
      "metadata": {
        "id": "PNGxgbpudXYR"
      }
    },
    {
      "cell_type": "code",
      "execution_count": 12,
      "metadata": {
        "id": "o93JKgxs7yMv",
        "colab": {
          "base_uri": "https://localhost:8080/"
        },
        "outputId": "d367e48c-76f3-4366-8baa-8d9be0f939fb"
      },
      "outputs": [
        {
          "output_type": "stream",
          "name": "stdout",
          "text": [
            "gmail.com\n",
            "naver.com\n"
          ]
        }
      ],
      "source": [
        "import re\n",
        "\n",
        "test = '신소정(shinsojeong5712@gmail.com), 안몽키(anmonk2@inu.ac.kr), 이사람(leesaram123@cs.inu.co.kr), 신콩순(kongsuny28@naver.com)'\n",
        "\n",
        "# '신소정(shinsojeong5712@gmail.com)' # id 길이와 구성, domain 규칙을 만족한다.\n",
        "# '안몽키(anmonk2@inu.ac.kr)'         # id 길이가 올바르지 않다.\n",
        "# '이사람(leesaram123@cs.inu.co.kr)'  # domain 구성이 올바르지 않다.\n",
        "# '신콩순(kongsuny28@naver.com)'      # id 길이와 구성, domain 규칙을 만족한다.\n",
        "\n",
        "pattern = re.compile('\\([A-Za-z0-9_\\.]{10,}@([A-Za-z]+\\.(com|org|edu|net|co.kr|ac.kr))\\)')\n",
        "valid_emails = pattern.findall(test)\n",
        "\n",
        "for email in valid_emails:\n",
        "    print(email[0])"
      ]
    },
    {
      "cell_type": "markdown",
      "metadata": {
        "id": "jzMl_Afb1vJ9"
      },
      "source": [
        "## 5주차 수업 내용 리뷰 & 정규 표현식 마무리 -끝-"
      ]
    },
    {
      "cell_type": "markdown",
      "metadata": {
        "id": "eAyiNA3YB9VO"
      },
      "source": [
        "---"
      ]
    },
    {
      "cell_type": "markdown",
      "metadata": {
        "id": "jNgIfKg8zWcL"
      },
      "source": [
        "## 6.2 PCA를 이용한 차원 축소\n",
        "\n"
      ]
    },
    {
      "cell_type": "markdown",
      "metadata": {
        "id": "gCb5DPXUGaak"
      },
      "source": [
        "데이터 셋 준비 (우리에게 익숙한 20newsgroups)"
      ]
    },
    {
      "cell_type": "code",
      "execution_count": 13,
      "metadata": {
        "id": "SWco5iOPzWcM"
      },
      "outputs": [],
      "source": [
        "from sklearn.datasets import fetch_20newsgroups\n",
        "\n",
        "#20개의 토픽 중 선택하고자 하는 토픽을 리스트로 생성\n",
        "categories = ['alt.atheism', 'talk.religion.misc', 'comp.graphics', 'sci.space']\n",
        "\n",
        "#학습 데이터셋을 가져옴\n",
        "#메일 내용에서 hint가 되는 부분을 삭제 - 순수하게 내용만으로 분류\n",
        "newsgroups_train = fetch_20newsgroups(subset='train',\n",
        "                                      remove=('headers', 'footers', 'quotes'),\n",
        "                                      categories=categories)\n",
        "#검증 데이터셋을 가져옴\n",
        "newsgroups_test = fetch_20newsgroups(subset='test',\n",
        "                                     remove=('headers', 'footers', 'quotes'),\n",
        "                                     categories=categories)\n",
        "\n",
        "X_train = newsgroups_train.data   #학습 데이터셋\n",
        "y_train = newsgroups_train.target #학습 데이터셋\n",
        "\n",
        "X_test = newsgroups_test.data     #검증 데이터셋\n",
        "y_test = newsgroups_test.target   #검증 데이터셋"
      ]
    },
    {
      "cell_type": "markdown",
      "metadata": {
        "id": "d03KqvJwGe_k"
      },
      "source": [
        "전처리\n",
        "* 토큰화, 불용어처리, 스테밍\n"
      ]
    },
    {
      "cell_type": "code",
      "execution_count": 14,
      "metadata": {
        "colab": {
          "base_uri": "https://localhost:8080/"
        },
        "id": "RJKk1hCjGYwT",
        "outputId": "f9571dde-4b6e-4340-9be2-25686bb7cfd6"
      },
      "outputs": [
        {
          "output_type": "stream",
          "name": "stderr",
          "text": [
            "[nltk_data] Downloading package stopwords to /root/nltk_data...\n",
            "[nltk_data]   Unzipping corpora/stopwords.zip.\n"
          ]
        },
        {
          "output_type": "execute_result",
          "data": {
            "text/plain": [
              "True"
            ]
          },
          "metadata": {},
          "execution_count": 14
        }
      ],
      "source": [
        "import nltk\n",
        "\n",
        "nltk.download('stopwords')"
      ]
    },
    {
      "cell_type": "code",
      "execution_count": 15,
      "metadata": {
        "id": "SmkiLmtOGUEj"
      },
      "outputs": [],
      "source": [
        "from nltk.tokenize import RegexpTokenizer\n",
        "from nltk.corpus import stopwords\n",
        "from nltk.stem.porter import PorterStemmer\n",
        "\n",
        "RegTok = RegexpTokenizer(\"[\\w']{3,}\") # 정규표현식으로 토크나이저를 정의\n",
        "english_stops = set(stopwords.words('english')) #영어 불용어를 가져옴\n",
        "stemmer = PorterStemmer() # 스테머로 포터스테머 사용\n",
        "\n",
        "def my_tokenizer(text):\n",
        "    tokens = RegTok.tokenize(text)\n",
        "    # stopwords 제외\n",
        "    words = [word for word in tokens if word not in english_stops]\n",
        "    # portr stemmer 적용\n",
        "    features = [stemmer.stem(token) for token in words]\n",
        "    return features"
      ]
    },
    {
      "cell_type": "code",
      "execution_count": 16,
      "metadata": {
        "colab": {
          "base_uri": "https://localhost:8080/"
        },
        "id": "vwcetq65SOa6",
        "outputId": "6e7d8c4c-25bb-4a49-fb17-9729aa5ef4df"
      },
      "outputs": [
        {
          "output_type": "stream",
          "name": "stderr",
          "text": [
            "/usr/local/lib/python3.10/dist-packages/sklearn/feature_extraction/text.py:528: UserWarning: The parameter 'token_pattern' will not be used since 'tokenizer' is not None'\n",
            "  warnings.warn(\n"
          ]
        }
      ],
      "source": [
        "# 약간의 시간(약 30초)이 소요됩니다.\n",
        "from sklearn.feature_extraction.text import TfidfVectorizer\n",
        "\n",
        "#tfidf = TfidfVectorizer(tokenizer=my_tokenizer, max_features=2000, min_df=5, max_df=0.5)\n",
        "# 토큰화 외에 아무것도 적용하지 않은 채로 확인\n",
        "tfidf = TfidfVectorizer(tokenizer=my_tokenizer) ### ... 이 부분을 완성하시오\n",
        "X_train_tfidf = tfidf.fit_transform(X_train) # train set을 변환\n",
        "X_test_tfidf = tfidf.transform(X_test) # test set을 변환"
      ]
    },
    {
      "cell_type": "code",
      "execution_count": 17,
      "metadata": {
        "id": "62cFIpxfIwO0",
        "colab": {
          "base_uri": "https://localhost:8080/"
        },
        "outputId": "2685394f-ffe2-4e83-9909-5e79fd7f48b1"
      },
      "outputs": [
        {
          "output_type": "stream",
          "name": "stdout",
          "text": [
            "Original tfidf matrix shape: (2034, 20085)\n"
          ]
        }
      ],
      "source": [
        "print('Original tfidf matrix shape:', X_train_tfidf.shape) ### ... 이 부분을 완성하시오"
      ]
    },
    {
      "cell_type": "markdown",
      "metadata": {
        "id": "9Zv8i3kEH9Lb"
      },
      "source": [
        "(방법 1) 차원 축소 방법을 적용하기 전의 Logistic Regression을 이용한 분류 성능 확인"
      ]
    },
    {
      "cell_type": "code",
      "execution_count": 18,
      "metadata": {
        "colab": {
          "base_uri": "https://localhost:8080/"
        },
        "id": "ofJSNPVozWcN",
        "outputId": "12e8ebf2-5be3-439d-e627-76fe735f76b0"
      },
      "outputs": [
        {
          "output_type": "stream",
          "name": "stdout",
          "text": [
            "#Train set score: 0.962\n",
            "#Test set score: 0.761\n"
          ]
        }
      ],
      "source": [
        "from sklearn.linear_model import LogisticRegression\n",
        "\n",
        "LR_clf = LogisticRegression() #분류기 선언\n",
        "LR_clf.fit(X_train_tfidf, y_train) # train data를 이용하여 분류기를 학습\n",
        "print('#Train set score: {:.3f}'.format(LR_clf.score(X_train_tfidf, y_train)))\n",
        "print('#Test set score: {:.3f}'.format(LR_clf.score(X_test_tfidf, y_test)))"
      ]
    },
    {
      "cell_type": "markdown",
      "metadata": {
        "id": "Gfif_glrNKfd"
      },
      "source": [
        "(방법 2) 차원 축소 방법을 적용한 후의 Logistic Regression을 이용한 분류 성능 확인\n",
        "* 차원 축소 방법인 PCA를 적용\n",
        "* 2000차원으로 축소한 뒤 Logistic Regression을 이용한 분류 성능 확인"
      ]
    },
    {
      "cell_type": "markdown",
      "metadata": {
        "id": "i8h8xrw9zWcN"
      },
      "source": [
        "https://scikit-learn.org/stable/modules/generated/sklearn.decomposition.PCA.html"
      ]
    },
    {
      "cell_type": "markdown",
      "metadata": {
        "id": "-m5dR3cbI04Z"
      },
      "source": [
        "explained_variance_ratio_\n",
        "- Percentage of variance explained by each of the selected components.\n",
        "- If n_components is not set then all components are stored and the sum of the ratios is equal to 1.0.\n",
        "- 각각의 새로운 축에 대해, 축소 전 분산에 대한 비율\n",
        "- 만일 새로운 축들이 원래의 분산을 모두 설명해준다면 explained_variance_ratio_의 합은 1이 될 것임"
      ]
    },
    {
      "cell_type": "code",
      "execution_count": 19,
      "metadata": {
        "id": "3C-uLYPbzWcO",
        "colab": {
          "base_uri": "https://localhost:8080/"
        },
        "outputId": "78d0de46-9a5a-43a7-b85d-edf95b36dadd"
      },
      "outputs": [
        {
          "output_type": "stream",
          "name": "stdout",
          "text": [
            "Original tfidf matrix shape: (2034, 20085)\n",
            "PCA Converted matrix shape: (2034, 2000)\n",
            "Sum of explained variance ratio: 1.000\n"
          ]
        }
      ],
      "source": [
        "# 약간의 시간(약 30초)이 소요됩니다.\n",
        "from sklearn.decomposition import PCA\n",
        "\n",
        "#  20,085 차원을 2,000 차원으로 축소\n",
        "pca = PCA(n_components=2000, random_state=7) ### ... 이 부분을 완성하시오\n",
        "X_train_pca = pca.fit_transform(X_train_tfidf.toarray())\n",
        "X_test_pca = pca.transform(X_test_tfidf.toarray())\n",
        "\n",
        "print('Original tfidf matrix shape:', X_train_tfidf.shape)\n",
        "print('PCA Converted matrix shape:', X_train_pca.shape)\n",
        "print('Sum of explained variance ratio: {:.3f}'.format(pca.explained_variance_ratio_.sum())) ### ... 이 부분을 완성하시오"
      ]
    },
    {
      "cell_type": "code",
      "execution_count": 20,
      "metadata": {
        "id": "5oW4iq1IzWcO",
        "colab": {
          "base_uri": "https://localhost:8080/"
        },
        "outputId": "48a8305c-959c-40b3-ae8c-1b1d853f1e84"
      },
      "outputs": [
        {
          "output_type": "stream",
          "name": "stdout",
          "text": [
            "#Train set score: 0.962\n",
            "#Test set score: 0.761\n"
          ]
        }
      ],
      "source": [
        "# PCA로 차원 축소된 X 데이터 이용\n",
        "LR_clf.fit(X_train_pca, y_train) ### ... 이 부분을 완성하시오\n",
        "print('#Train set score: {:.3f}'.format(LR_clf.score(X_train_pca, y_train))) ### ... 이 부분을 완성하시오\n",
        "print('#Test set score: {:.3f}'.format(LR_clf.score(X_test_pca, y_test))) ### ... 이 부분을 완성하시오"
      ]
    },
    {
      "cell_type": "markdown",
      "metadata": {
        "id": "_EpP6b_BLEcF"
      },
      "source": [
        "(방법 3) 특성 선택 방식인 라쏘 회귀를 이용\n",
        "* lasso_clf = LogisticRegression(penalty='l1', solver='liblinear', C=1)\n",
        "* 차원을 축소"
      ]
    },
    {
      "cell_type": "code",
      "execution_count": 21,
      "metadata": {
        "id": "2NLdjV-ZzWcO",
        "colab": {
          "base_uri": "https://localhost:8080/"
        },
        "outputId": "dd044aab-faa0-4235-e750-33aab96a15e3"
      },
      "outputs": [
        {
          "output_type": "stream",
          "name": "stdout",
          "text": [
            "#Train set score: 0.790\n",
            "#Test set score: 0.718\n",
            "#Used features count: 321 out of 20085\n"
          ]
        }
      ],
      "source": [
        "lasso_clf = LogisticRegression(penalty='l1', solver='liblinear', C=1)\n",
        "lasso_clf.fit(X_train_tfidf, y_train)\n",
        "\n",
        "print('#Train set score: {:.3f}'.format(lasso_clf.score(X_train_tfidf, y_train)))\n",
        "print('#Test set score: {:.3f}'.format(lasso_clf.score(X_test_tfidf, y_test)))\n",
        "\n",
        "import numpy as np\n",
        "# 계수(coefficient) 중에서 0이 아닌 것들의 개수를 출력\n",
        "print('#Used features count: {}'.format(np.sum(lasso_clf.coef_ != 0)), 'out of', X_train_tfidf.shape[1])"
      ]
    },
    {
      "cell_type": "markdown",
      "metadata": {
        "id": "QECbJup6MxJL"
      },
      "source": [
        "(방법 4) 특성 추출 추출 방식인 PCA를 이용\n",
        "- 차원의 수를 322개로 축소\n",
        "- pca = PCA(n_components=322, random_state=7)\n"
      ]
    },
    {
      "cell_type": "code",
      "execution_count": 22,
      "metadata": {
        "id": "B28LMdm2zWcO",
        "colab": {
          "base_uri": "https://localhost:8080/"
        },
        "outputId": "449763bd-5fc4-4601-8c66-80801635585b"
      },
      "outputs": [
        {
          "output_type": "stream",
          "name": "stdout",
          "text": [
            "PCA Converted X shape: (2034, 322)\n",
            "Sum of explained variance ratio: 0.438\n",
            "#Train set score: 0.870\n",
            "#Test set score: 0.747\n"
          ]
        }
      ],
      "source": [
        "# 약간의 시간(약 30초)이 소요됩니다.\n",
        "pca = PCA(n_components=322, random_state=7) ### ... 이 부분을 완성하시오\n",
        "\n",
        "X_train_pca = pca.fit_transform(X_train_tfidf.toarray()) ### ... 이 부분을 완성하시오\n",
        "X_test_pca = pca.transform(X_test_tfidf.toarray()) ### ... 이 부분을 완성하시오\n",
        "\n",
        "# 322차원으로 줄어든 것을 확인\n",
        "print('PCA Converted X shape:', X_train_pca.shape) ### ... 이 부분을 완성하시오\n",
        "print('Sum of explained variance ratio: {:.3f}'.format(pca.explained_variance_ratio_.sum()))  ### ... 이 부분을 완성하시오\n",
        "# 2,000개에 비해 정보량이 절반 이하로 줄어들었음\n",
        "\n",
        "LR_clf.fit(X_train_pca, y_train)  # 322차원으로 줄어든 것을 확인\n",
        "print('#Train set score: {:.3f}'.format(LR_clf.score(X_train_pca, y_train)))  ### ... 이 부분을 완성하시오\n",
        "print('#Test set score: {:.3f}'.format(LR_clf.score(X_test_pca, y_test))) ### ... 이 부분을 완성하시오\n",
        "# 라쏘 회귀분석(0.718)을 이용한 특성 선택보다 더 좋은 성능을 보임"
      ]
    },
    {
      "cell_type": "markdown",
      "metadata": {
        "id": "OnYKkRBHMl6Q"
      },
      "source": [
        "(방법 5) 그러면 322개보다 더 줄여서 100개만 이용해보자.\n",
        "- 여전히 라쏘 회귀분석보다 좋은지 확인\n"
      ]
    },
    {
      "cell_type": "code",
      "execution_count": 23,
      "metadata": {
        "id": "xBXkNpbCzWcP",
        "colab": {
          "base_uri": "https://localhost:8080/"
        },
        "outputId": "0bed8651-b2a1-423d-963f-2ba2e85a15e6"
      },
      "outputs": [
        {
          "output_type": "stream",
          "name": "stdout",
          "text": [
            "PCA Converted X shape: (2034, 100)\n",
            "Sum of explained variance ratio: 0.211\n",
            "#Train set score: 0.807\n",
            "#Test set score: 0.738\n"
          ]
        }
      ],
      "source": [
        "# 약간의 시간(약 30초)이 소요됩니다.\n",
        "pca = PCA(n_components=100, random_state=7)\n",
        "\n",
        "X_train_pca = pca.fit_transform(X_train_tfidf.toarray())\n",
        "X_test_pca = pca.transform(X_test_tfidf.toarray())\n",
        "print('PCA Converted X shape:', X_train_pca.shape)\n",
        "print('Sum of explained variance ratio: {:.3f}'.format(pca.explained_variance_ratio_.sum()))\n",
        "\n",
        "LR_clf.fit(X_train_pca, y_train)\n",
        "print('#Train set score: {:.3f}'.format(LR_clf.score(X_train_pca, y_train)))\n",
        "print('#Test set score: {:.3f}'.format(LR_clf.score(X_test_pca, y_test)))\n",
        "# 라쏘 회귀분석(0.718)을 이용한 특성 선택보다 더 좋은 성능을 보임"
      ]
    },
    {
      "cell_type": "markdown",
      "metadata": {
        "id": "TctTtgF52BxA"
      },
      "source": [
        "# [[실습 6-2-2]] 방법 1 ~ 방법 5의 Test set score를 비교하고, 어떤 방법이 가장 좋은지 결론을 내리시오.\n",
        "> (가능한 경우에만 작성) 수업 중 설명된 내용을 종합하여 방법 1 ~ 방법 5를 비교 설명해보시오.\n",
        "\n",
        "- 방법 1(차원 축소 전)의 <br>\n",
        "Train set score: 0.962\n",
        "Test set score: 0.761\n",
        "\n",
        "- 방법 2(PCA 이용 20,085 -> 2,000차원으로 줄임)의 <br>\n",
        "Train set score: 0.962\n",
        "Test set score: 0.761\n",
        "\n",
        "- 방법 3(라쏘 회귀분석)의 <br>\n",
        "Train set score: 0.790\n",
        "Test set score: 0.718\n",
        "\n",
        "- 방법 4(PCA 이용\n",
        "차원 수를 322개로 축소)의 <br>\n",
        "Train set score: 0.870\n",
        "Test set score: 0.747\n",
        "\n",
        "- 방법 5(PCA 이용 차원 수를 100개로 축소)의 <br>\n",
        "Train set score: 0.807\n",
        "Test set score: 0.738\n",
        "\n",
        ">비교 결과 작성 : Test score 순이 아닌 효율적인 성능 순의 나열이다.\n",
        "\n",
        "> 0.747 (방법 4) > 0.738 (방법 5) > 0.761 (방법 2) > 0.761 (방법 1) > 0.718 (방법 3)<br>\n",
        "따라서 방법 4, PCA를 이용하여 차원을 322개로 축소한 방법이 가장 좋다."
      ]
    },
    {
      "cell_type": "markdown",
      "metadata": {
        "id": "vpyBCTOlOJjJ"
      },
      "source": []
    },
    {
      "cell_type": "markdown",
      "metadata": {
        "id": "iWmyIF9717_u"
      },
      "source": [
        "# [파일] -> [다운로드] -> [.ipynb 다운로드]\n",
        "# 제출 후 **구글 계정 로그아웃** 잘 하시기 바랍니다."
      ]
    }
  ],
  "metadata": {
    "colab": {
      "provenance": [],
      "include_colab_link": true
    },
    "kernelspec": {
      "display_name": "Python 3 (ipykernel)",
      "language": "python",
      "name": "python3"
    },
    "language_info": {
      "codemirror_mode": {
        "name": "ipython",
        "version": 3
      },
      "file_extension": ".py",
      "mimetype": "text/x-python",
      "name": "python",
      "nbconvert_exporter": "python",
      "pygments_lexer": "ipython3",
      "version": "3.8.0"
    },
    "toc": {
      "base_numbering": 1,
      "nav_menu": {},
      "number_sections": true,
      "sideBar": true,
      "skip_h1_title": false,
      "title_cell": "Table of Contents",
      "title_sidebar": "Contents",
      "toc_cell": true,
      "toc_position": {
        "height": "calc(100% - 180px)",
        "left": "10px",
        "top": "150px",
        "width": "165px"
      },
      "toc_section_display": true,
      "toc_window_display": false
    },
    "varInspector": {
      "cols": {
        "lenName": 16,
        "lenType": 16,
        "lenVar": 40
      },
      "kernels_config": {
        "python": {
          "delete_cmd_postfix": "",
          "delete_cmd_prefix": "del ",
          "library": "var_list.py",
          "varRefreshCmd": "print(var_dic_list())"
        },
        "r": {
          "delete_cmd_postfix": ") ",
          "delete_cmd_prefix": "rm(",
          "library": "var_list.r",
          "varRefreshCmd": "cat(var_dic_list()) "
        }
      },
      "types_to_exclude": [
        "module",
        "function",
        "builtin_function_or_method",
        "instance",
        "_Feature"
      ],
      "window_display": false
    }
  },
  "nbformat": 4,
  "nbformat_minor": 0
}